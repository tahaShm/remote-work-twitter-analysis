{
 "cells": [
  {
   "cell_type": "code",
   "execution_count": null,
   "id": "5df97874",
   "metadata": {},
   "outputs": [],
   "source": [
    "from bertopic import BERTopic\n",
    "import pandas as pd\n",
    "from translate import Translator\n",
    "from tqdm import tqdm"
   ]
  },
  {
   "cell_type": "code",
   "execution_count": null,
   "id": "ff251494",
   "metadata": {},
   "outputs": [],
   "source": [
    "tqdm.pandas()"
   ]
  },
  {
   "cell_type": "code",
   "execution_count": null,
   "id": "a2b69a2c",
   "metadata": {},
   "outputs": [],
   "source": [
    "df = pd.read_csv(\"../data/preprocessed.csv\", low_memory=False)"
   ]
  },
  {
   "cell_type": "code",
   "execution_count": null,
   "id": "d476b1af",
   "metadata": {},
   "outputs": [],
   "source": [
    "df.head(20)"
   ]
  },
  {
   "cell_type": "code",
   "execution_count": null,
   "id": "bd7f1d6a",
   "metadata": {},
   "outputs": [],
   "source": [
    "words_to_omit = [\"9dojplyjpl\", \"1995\", \"1986\", \"1989\", \"1980\", \"1981\", \"1987\", \"93\", \"۹۳\", \"می\", \"سلام\", \"ها\", \"های\", \"آها\"] \n",
    "from hazm import word_tokenize\n",
    "tqdm.pandas()\n",
    "def remove_stopwords(text) :\n",
    "    tokens = word_tokenize(text)\n",
    "    tokens_without_sw = [word for word in tokens if not word in words_to_omit]\n",
    "    text = \" \".join([word for word in tokens_without_sw])\n",
    "    return text\n",
    "\n",
    "def clean_data(data_df, col_name) :\n",
    "    data_df[col_name] = data_df[col_name].progress_apply(lambda t: omit_specific_words(t))\n",
    "\n",
    "clean_data(df, 'tweet')"
   ]
  },
  {
   "cell_type": "code",
   "execution_count": null,
   "id": "6c6e9b05",
   "metadata": {},
   "outputs": [],
   "source": [
    "df.head(20)"
   ]
  },
  {
   "cell_type": "code",
   "execution_count": null,
   "id": "fe7351a2",
   "metadata": {},
   "outputs": [],
   "source": [
    "tweets = df[\"tweet\"].to_list()"
   ]
  },
  {
   "cell_type": "markdown",
   "id": "65e9623e",
   "metadata": {},
   "source": [
    "## language=\"multilingual\", nr_topics=10"
   ]
  },
  {
   "cell_type": "code",
   "execution_count": null,
   "id": "583ecebc",
   "metadata": {},
   "outputs": [],
   "source": [
    "topic_model = BERTopic(language=\"multilingual\", nr_topics=10)\n",
    "topics, probs = topic_model.fit_transform(tweets)"
   ]
  },
  {
   "cell_type": "code",
   "execution_count": null,
   "id": "c4c40e03",
   "metadata": {},
   "outputs": [],
   "source": [
    "res_df = topic_model.get_topic_info()\n",
    "res_df"
   ]
  },
  {
   "cell_type": "code",
   "execution_count": null,
   "id": "2ac72ff9",
   "metadata": {
    "scrolled": false
   },
   "outputs": [],
   "source": [
    "topic_model.visualize_topics()"
   ]
  },
  {
   "cell_type": "code",
   "execution_count": null,
   "id": "6f58d59f",
   "metadata": {},
   "outputs": [],
   "source": [
    "topic_model.visualize_barchart()"
   ]
  },
  {
   "cell_type": "markdown",
   "id": "5724388f",
   "metadata": {},
   "source": [
    "#### English"
   ]
  },
  {
   "cell_type": "code",
   "execution_count": null,
   "id": "42574ff1",
   "metadata": {},
   "outputs": [],
   "source": [
    "manual_dict = {\n",
    "    \"دورکاری\": \"Remote Work\",\n",
    "    \"خونه\": \"Home\",\n",
    "    \"کرونا\": \"Coronavirus\",\n",
    "    \"کارا\": \"Things\",\n",
    "    \"سیستم\": \"System\",\n",
    "    \"مجبور\": \"Have to\",\n",
    "    \"یاد\": \"Learn\",\n",
    "    \"خوبه\": \"Good\",\n",
    "    \"سرکار\": \"At Work\",\n",
    "    \"زن\": \"Woman\",\n",
    "    \"قرنطینه\": \"Quarantine\",\n",
    "    \"کارمند\": \"Employee\",\n",
    "    \"کارفرما\": \"Employer\",\n",
    "    \"کار منزل\": \"Work from home\",\n",
    "    \"صورت دورکاری\": \"\",\n",
    "    \"وقت\": \"Time\",\n",
    "    \"تجربه\": \"Experience\",\n",
    "    \"خانم\": \"Femail\",\n",
    "    \"حقوق\": \"Salary\",\n",
    "    \"دورکاری دورکاری\": \"\",\n",
    "    \"ریموت\": \"Remote\",\n",
    "    \"منزل\": \"Home\",\n",
    "    \"بابا\": \"\",\n",
    "    \"مدیریت\": \"management\",\n",
    "    \"تموم\": \"finish\",\n",
    "    \"خانگی\": \"homemade\",\n",
    "    \"بخوابم\": \"sleep\",\n",
    "    \"پیشنهاد\": \"suggestion\",\n",
    "    \"قطعی\": \"outage\",\n",
    "    \"شبکه\": \"network\",\n",
    "    \"قطع\": \"went\",\n",
    "    \"iranestekhdam \": \"recruitment\",\n",
    "    \"برون\": \"Outsourcing\",\n",
    "    \"سپاری\": \"Outsourcing\",\n",
    "    \"حضوری\": \"in person\",\n",
    "    \"کاری\": \"job-related\",\n",
    "    \"پیشنهاد\": \"suggest\",\n",
    "    \"بازارکار\": \"job market\",\n",
    "    \"پردرآمد\": \"high income\",\n",
    "    \"دورکار\": \"remote\",\n",
    "    \"برنامه\": \"program\"\n",
    "}\n",
    "\n",
    "translator = Translator(to_lang=\"en\", from_lang=\"fa\")\n",
    "translated_dict = {}\n",
    "for key, value in topic_model.get_topics().items():\n",
    "    new_value = []\n",
    "    for l in value:\n",
    "        if l[0] in manual_dict:\n",
    "            new_value.append((manual_dict[l[0]], l[1]))\n",
    "        else:\n",
    "            tmp = translator.translate(l[0])\n",
    "            new_value.append((tmp, l[1]))\n",
    "            print(l[0] + \" -> \" + tmp)\n",
    "    translated_dict[key] = new_value"
   ]
  },
  {
   "cell_type": "code",
   "execution_count": null,
   "id": "58a441b6",
   "metadata": {},
   "outputs": [],
   "source": [
    "topic_model.get_topics()"
   ]
  },
  {
   "cell_type": "code",
   "execution_count": null,
   "id": "ea5f7483",
   "metadata": {},
   "outputs": [],
   "source": [
    "translated_dict"
   ]
  },
  {
   "cell_type": "code",
   "execution_count": null,
   "id": "de9534a8",
   "metadata": {},
   "outputs": [],
   "source": [
    "temp_topic_model = BERTopic(language=\"english\", calculate_probabilities=False)\n",
    "temp_topic_model.topics = translated_dict\n",
    "temp_topic_model.topic_sizes = topic_model.topic_sizes.copy()\n",
    "temp_topic_model.probs = probs\n",
    "temp_topic_model.get_topics()"
   ]
  },
  {
   "cell_type": "code",
   "execution_count": null,
   "id": "d15184ad",
   "metadata": {},
   "outputs": [],
   "source": [
    "temp_topic_model.visualize_barchart()"
   ]
  },
  {
   "cell_type": "code",
   "execution_count": null,
   "id": "cc0b19ff",
   "metadata": {},
   "outputs": [],
   "source": [
    "import matplotlib.pyplot as plt\n",
    "\n",
    "# Extract the topics and their probabilities from the dictionary\n",
    "topics = []\n",
    "probs = []\n",
    "for topic, tuples in translated_dict.items():\n",
    "    topics.append(topic)\n",
    "    topic_probs = [(word, prob) for word, prob in tuples]\n",
    "    probs.append(topic_probs)\n",
    "\n",
    "# Plot the barchart for each topic\n",
    "plt.figure(figsize=(10, 6))\n",
    "for topic, topic_probs in zip(topics, probs):\n",
    "    words, probabilities = zip(*topic_probs)\n",
    "    plt.bar(words, probabilities, label=f\"Topic {topic}\")\n",
    "\n",
    "plt.xlabel('Words')\n",
    "plt.ylabel('Probabilities')\n",
    "plt.title('Topic Model - Barchart')\n",
    "plt.legend()\n",
    "plt.xticks(rotation=90)\n",
    "plt.tight_layout()\n",
    "plt.show()"
   ]
  },
  {
   "cell_type": "code",
   "execution_count": 10,
   "id": "eb263bf7",
   "metadata": {},
   "outputs": [
    {
     "data": {
      "application/vnd.plotly.v1+json": {
       "config": {
        "plotlyServerURL": "https://plot.ly"
       },
       "data": [
        {
         "coloraxis": "coloraxis",
         "hovertemplate": "x: %{x}<br>y: %{y}<br>Similarity Score: %{z}<extra></extra>",
         "name": "0",
         "type": "heatmap",
         "x": [
          "0_چاپ_خانگی_سیلک",
          "1_دورکاری_سپاری_برون",
          "2_ریموت_کار_مهاجرت",
          "3_پروژه_بازارکار_ارسال",
          "4_اینترنت_برق_قطع",
          "5_دورکار_دورکاری_حضوری",
          "6_قرنطینه_دورکاری_خونه",
          "7_منزل_کار_93",
          "8_ایران_ایرانی_کار",
          "9_زن_زنان_خانه"
         ],
         "xaxis": "x",
         "y": [
          "0_چاپ_خانگی_سیلک",
          "1_دورکاری_سپاری_برون",
          "2_ریموت_کار_مهاجرت",
          "3_پروژه_بازارکار_ارسال",
          "4_اینترنت_برق_قطع",
          "5_دورکار_دورکاری_حضوری",
          "6_قرنطینه_دورکاری_خونه",
          "7_منزل_کار_93",
          "8_ایران_ایرانی_کار",
          "9_زن_زنان_خانه"
         ],
         "yaxis": "y",
         "z": [
          [
           0.9999999999999998,
           0.9170295177755612,
           0.9549280850079038,
           0.7758303185766923,
           0.8932200824164502,
           0.7287591820066823,
           0.8881904951040999,
           0.8042982642654825,
           0.8968002459840156,
           0.68455090323699
          ],
          [
           0.9170295177755612,
           1,
           0.9148858736042492,
           0.7519607428236328,
           0.8898001521947323,
           0.7648755983670529,
           0.7774370861300157,
           0.744472599798383,
           0.870794040882834,
           0.6480849848300986
          ],
          [
           0.9549280850079038,
           0.9148858736042492,
           0.9999999999999994,
           0.7781489289646482,
           0.9127770252973562,
           0.7434174092899215,
           0.8111628993952216,
           0.8134463322891688,
           0.8860388444517409,
           0.7083106258889229
          ],
          [
           0.7758303185766923,
           0.7519607428236328,
           0.7781489289646482,
           1.0000000000000002,
           0.7775655144922181,
           0.6137839453753398,
           0.6636367936041287,
           0.6561144799452735,
           0.682574829763166,
           0.6396133442536931
          ],
          [
           0.8932200824164502,
           0.8898001521947323,
           0.9127770252973562,
           0.7775655144922181,
           0.9999999999999996,
           0.7709540693421885,
           0.7420590739785824,
           0.7414133686772435,
           0.8177958575203731,
           0.6407628333082391
          ],
          [
           0.7287591820066823,
           0.7648755983670529,
           0.7434174092899215,
           0.6137839453753398,
           0.7709540693421885,
           0.9999999999999996,
           0.5942445428187806,
           0.6032979775760451,
           0.6919319905537819,
           0.5606927761014522
          ],
          [
           0.8881904951040999,
           0.7774370861300157,
           0.8111628993952216,
           0.6636367936041287,
           0.7420590739785824,
           0.5942445428187806,
           1.0000000000000002,
           0.7596247297805719,
           0.7135156548241997,
           0.5467177413878527
          ],
          [
           0.8042982642654825,
           0.744472599798383,
           0.8134463322891688,
           0.6561144799452735,
           0.7414133686772435,
           0.6032979775760451,
           0.7596247297805719,
           1,
           0.7566492072130501,
           0.6097297289942822
          ],
          [
           0.8968002459840156,
           0.870794040882834,
           0.8860388444517409,
           0.682574829763166,
           0.8177958575203731,
           0.6919319905537819,
           0.7135156548241997,
           0.7566492072130501,
           1.0000000000000004,
           0.6133390523563056
          ],
          [
           0.68455090323699,
           0.6480849848300986,
           0.7083106258889229,
           0.6396133442536931,
           0.6407628333082391,
           0.5606927761014522,
           0.5467177413878527,
           0.6097297289942822,
           0.6133390523563056,
           1.0000000000000009
          ]
         ]
        }
       ],
       "layout": {
        "coloraxis": {
         "colorbar": {
          "title": {
           "text": "Similarity Score"
          }
         },
         "colorscale": [
          [
           0,
           "rgb(247,252,240)"
          ],
          [
           0.125,
           "rgb(224,243,219)"
          ],
          [
           0.25,
           "rgb(204,235,197)"
          ],
          [
           0.375,
           "rgb(168,221,181)"
          ],
          [
           0.5,
           "rgb(123,204,196)"
          ],
          [
           0.625,
           "rgb(78,179,211)"
          ],
          [
           0.75,
           "rgb(43,140,190)"
          ],
          [
           0.875,
           "rgb(8,104,172)"
          ],
          [
           1,
           "rgb(8,64,129)"
          ]
         ]
        },
        "height": 800,
        "hoverlabel": {
         "bgcolor": "white",
         "font": {
          "family": "Rockwell",
          "size": 16
         }
        },
        "legend": {
         "title": {
          "text": "Trend"
         }
        },
        "margin": {
         "t": 60
        },
        "showlegend": true,
        "template": {
         "data": {
          "bar": [
           {
            "error_x": {
             "color": "#2a3f5f"
            },
            "error_y": {
             "color": "#2a3f5f"
            },
            "marker": {
             "line": {
              "color": "#E5ECF6",
              "width": 0.5
             },
             "pattern": {
              "fillmode": "overlay",
              "size": 10,
              "solidity": 0.2
             }
            },
            "type": "bar"
           }
          ],
          "barpolar": [
           {
            "marker": {
             "line": {
              "color": "#E5ECF6",
              "width": 0.5
             },
             "pattern": {
              "fillmode": "overlay",
              "size": 10,
              "solidity": 0.2
             }
            },
            "type": "barpolar"
           }
          ],
          "carpet": [
           {
            "aaxis": {
             "endlinecolor": "#2a3f5f",
             "gridcolor": "white",
             "linecolor": "white",
             "minorgridcolor": "white",
             "startlinecolor": "#2a3f5f"
            },
            "baxis": {
             "endlinecolor": "#2a3f5f",
             "gridcolor": "white",
             "linecolor": "white",
             "minorgridcolor": "white",
             "startlinecolor": "#2a3f5f"
            },
            "type": "carpet"
           }
          ],
          "choropleth": [
           {
            "colorbar": {
             "outlinewidth": 0,
             "ticks": ""
            },
            "type": "choropleth"
           }
          ],
          "contour": [
           {
            "colorbar": {
             "outlinewidth": 0,
             "ticks": ""
            },
            "colorscale": [
             [
              0,
              "#0d0887"
             ],
             [
              0.1111111111111111,
              "#46039f"
             ],
             [
              0.2222222222222222,
              "#7201a8"
             ],
             [
              0.3333333333333333,
              "#9c179e"
             ],
             [
              0.4444444444444444,
              "#bd3786"
             ],
             [
              0.5555555555555556,
              "#d8576b"
             ],
             [
              0.6666666666666666,
              "#ed7953"
             ],
             [
              0.7777777777777778,
              "#fb9f3a"
             ],
             [
              0.8888888888888888,
              "#fdca26"
             ],
             [
              1,
              "#f0f921"
             ]
            ],
            "type": "contour"
           }
          ],
          "contourcarpet": [
           {
            "colorbar": {
             "outlinewidth": 0,
             "ticks": ""
            },
            "type": "contourcarpet"
           }
          ],
          "heatmap": [
           {
            "colorbar": {
             "outlinewidth": 0,
             "ticks": ""
            },
            "colorscale": [
             [
              0,
              "#0d0887"
             ],
             [
              0.1111111111111111,
              "#46039f"
             ],
             [
              0.2222222222222222,
              "#7201a8"
             ],
             [
              0.3333333333333333,
              "#9c179e"
             ],
             [
              0.4444444444444444,
              "#bd3786"
             ],
             [
              0.5555555555555556,
              "#d8576b"
             ],
             [
              0.6666666666666666,
              "#ed7953"
             ],
             [
              0.7777777777777778,
              "#fb9f3a"
             ],
             [
              0.8888888888888888,
              "#fdca26"
             ],
             [
              1,
              "#f0f921"
             ]
            ],
            "type": "heatmap"
           }
          ],
          "heatmapgl": [
           {
            "colorbar": {
             "outlinewidth": 0,
             "ticks": ""
            },
            "colorscale": [
             [
              0,
              "#0d0887"
             ],
             [
              0.1111111111111111,
              "#46039f"
             ],
             [
              0.2222222222222222,
              "#7201a8"
             ],
             [
              0.3333333333333333,
              "#9c179e"
             ],
             [
              0.4444444444444444,
              "#bd3786"
             ],
             [
              0.5555555555555556,
              "#d8576b"
             ],
             [
              0.6666666666666666,
              "#ed7953"
             ],
             [
              0.7777777777777778,
              "#fb9f3a"
             ],
             [
              0.8888888888888888,
              "#fdca26"
             ],
             [
              1,
              "#f0f921"
             ]
            ],
            "type": "heatmapgl"
           }
          ],
          "histogram": [
           {
            "marker": {
             "pattern": {
              "fillmode": "overlay",
              "size": 10,
              "solidity": 0.2
             }
            },
            "type": "histogram"
           }
          ],
          "histogram2d": [
           {
            "colorbar": {
             "outlinewidth": 0,
             "ticks": ""
            },
            "colorscale": [
             [
              0,
              "#0d0887"
             ],
             [
              0.1111111111111111,
              "#46039f"
             ],
             [
              0.2222222222222222,
              "#7201a8"
             ],
             [
              0.3333333333333333,
              "#9c179e"
             ],
             [
              0.4444444444444444,
              "#bd3786"
             ],
             [
              0.5555555555555556,
              "#d8576b"
             ],
             [
              0.6666666666666666,
              "#ed7953"
             ],
             [
              0.7777777777777778,
              "#fb9f3a"
             ],
             [
              0.8888888888888888,
              "#fdca26"
             ],
             [
              1,
              "#f0f921"
             ]
            ],
            "type": "histogram2d"
           }
          ],
          "histogram2dcontour": [
           {
            "colorbar": {
             "outlinewidth": 0,
             "ticks": ""
            },
            "colorscale": [
             [
              0,
              "#0d0887"
             ],
             [
              0.1111111111111111,
              "#46039f"
             ],
             [
              0.2222222222222222,
              "#7201a8"
             ],
             [
              0.3333333333333333,
              "#9c179e"
             ],
             [
              0.4444444444444444,
              "#bd3786"
             ],
             [
              0.5555555555555556,
              "#d8576b"
             ],
             [
              0.6666666666666666,
              "#ed7953"
             ],
             [
              0.7777777777777778,
              "#fb9f3a"
             ],
             [
              0.8888888888888888,
              "#fdca26"
             ],
             [
              1,
              "#f0f921"
             ]
            ],
            "type": "histogram2dcontour"
           }
          ],
          "mesh3d": [
           {
            "colorbar": {
             "outlinewidth": 0,
             "ticks": ""
            },
            "type": "mesh3d"
           }
          ],
          "parcoords": [
           {
            "line": {
             "colorbar": {
              "outlinewidth": 0,
              "ticks": ""
             }
            },
            "type": "parcoords"
           }
          ],
          "pie": [
           {
            "automargin": true,
            "type": "pie"
           }
          ],
          "scatter": [
           {
            "fillpattern": {
             "fillmode": "overlay",
             "size": 10,
             "solidity": 0.2
            },
            "type": "scatter"
           }
          ],
          "scatter3d": [
           {
            "line": {
             "colorbar": {
              "outlinewidth": 0,
              "ticks": ""
             }
            },
            "marker": {
             "colorbar": {
              "outlinewidth": 0,
              "ticks": ""
             }
            },
            "type": "scatter3d"
           }
          ],
          "scattercarpet": [
           {
            "marker": {
             "colorbar": {
              "outlinewidth": 0,
              "ticks": ""
             }
            },
            "type": "scattercarpet"
           }
          ],
          "scattergeo": [
           {
            "marker": {
             "colorbar": {
              "outlinewidth": 0,
              "ticks": ""
             }
            },
            "type": "scattergeo"
           }
          ],
          "scattergl": [
           {
            "marker": {
             "colorbar": {
              "outlinewidth": 0,
              "ticks": ""
             }
            },
            "type": "scattergl"
           }
          ],
          "scattermapbox": [
           {
            "marker": {
             "colorbar": {
              "outlinewidth": 0,
              "ticks": ""
             }
            },
            "type": "scattermapbox"
           }
          ],
          "scatterpolar": [
           {
            "marker": {
             "colorbar": {
              "outlinewidth": 0,
              "ticks": ""
             }
            },
            "type": "scatterpolar"
           }
          ],
          "scatterpolargl": [
           {
            "marker": {
             "colorbar": {
              "outlinewidth": 0,
              "ticks": ""
             }
            },
            "type": "scatterpolargl"
           }
          ],
          "scatterternary": [
           {
            "marker": {
             "colorbar": {
              "outlinewidth": 0,
              "ticks": ""
             }
            },
            "type": "scatterternary"
           }
          ],
          "surface": [
           {
            "colorbar": {
             "outlinewidth": 0,
             "ticks": ""
            },
            "colorscale": [
             [
              0,
              "#0d0887"
             ],
             [
              0.1111111111111111,
              "#46039f"
             ],
             [
              0.2222222222222222,
              "#7201a8"
             ],
             [
              0.3333333333333333,
              "#9c179e"
             ],
             [
              0.4444444444444444,
              "#bd3786"
             ],
             [
              0.5555555555555556,
              "#d8576b"
             ],
             [
              0.6666666666666666,
              "#ed7953"
             ],
             [
              0.7777777777777778,
              "#fb9f3a"
             ],
             [
              0.8888888888888888,
              "#fdca26"
             ],
             [
              1,
              "#f0f921"
             ]
            ],
            "type": "surface"
           }
          ],
          "table": [
           {
            "cells": {
             "fill": {
              "color": "#EBF0F8"
             },
             "line": {
              "color": "white"
             }
            },
            "header": {
             "fill": {
              "color": "#C8D4E3"
             },
             "line": {
              "color": "white"
             }
            },
            "type": "table"
           }
          ]
         },
         "layout": {
          "annotationdefaults": {
           "arrowcolor": "#2a3f5f",
           "arrowhead": 0,
           "arrowwidth": 1
          },
          "autotypenumbers": "strict",
          "coloraxis": {
           "colorbar": {
            "outlinewidth": 0,
            "ticks": ""
           }
          },
          "colorscale": {
           "diverging": [
            [
             0,
             "#8e0152"
            ],
            [
             0.1,
             "#c51b7d"
            ],
            [
             0.2,
             "#de77ae"
            ],
            [
             0.3,
             "#f1b6da"
            ],
            [
             0.4,
             "#fde0ef"
            ],
            [
             0.5,
             "#f7f7f7"
            ],
            [
             0.6,
             "#e6f5d0"
            ],
            [
             0.7,
             "#b8e186"
            ],
            [
             0.8,
             "#7fbc41"
            ],
            [
             0.9,
             "#4d9221"
            ],
            [
             1,
             "#276419"
            ]
           ],
           "sequential": [
            [
             0,
             "#0d0887"
            ],
            [
             0.1111111111111111,
             "#46039f"
            ],
            [
             0.2222222222222222,
             "#7201a8"
            ],
            [
             0.3333333333333333,
             "#9c179e"
            ],
            [
             0.4444444444444444,
             "#bd3786"
            ],
            [
             0.5555555555555556,
             "#d8576b"
            ],
            [
             0.6666666666666666,
             "#ed7953"
            ],
            [
             0.7777777777777778,
             "#fb9f3a"
            ],
            [
             0.8888888888888888,
             "#fdca26"
            ],
            [
             1,
             "#f0f921"
            ]
           ],
           "sequentialminus": [
            [
             0,
             "#0d0887"
            ],
            [
             0.1111111111111111,
             "#46039f"
            ],
            [
             0.2222222222222222,
             "#7201a8"
            ],
            [
             0.3333333333333333,
             "#9c179e"
            ],
            [
             0.4444444444444444,
             "#bd3786"
            ],
            [
             0.5555555555555556,
             "#d8576b"
            ],
            [
             0.6666666666666666,
             "#ed7953"
            ],
            [
             0.7777777777777778,
             "#fb9f3a"
            ],
            [
             0.8888888888888888,
             "#fdca26"
            ],
            [
             1,
             "#f0f921"
            ]
           ]
          },
          "colorway": [
           "#636efa",
           "#EF553B",
           "#00cc96",
           "#ab63fa",
           "#FFA15A",
           "#19d3f3",
           "#FF6692",
           "#B6E880",
           "#FF97FF",
           "#FECB52"
          ],
          "font": {
           "color": "#2a3f5f"
          },
          "geo": {
           "bgcolor": "white",
           "lakecolor": "white",
           "landcolor": "#E5ECF6",
           "showlakes": true,
           "showland": true,
           "subunitcolor": "white"
          },
          "hoverlabel": {
           "align": "left"
          },
          "hovermode": "closest",
          "mapbox": {
           "style": "light"
          },
          "paper_bgcolor": "white",
          "plot_bgcolor": "#E5ECF6",
          "polar": {
           "angularaxis": {
            "gridcolor": "white",
            "linecolor": "white",
            "ticks": ""
           },
           "bgcolor": "#E5ECF6",
           "radialaxis": {
            "gridcolor": "white",
            "linecolor": "white",
            "ticks": ""
           }
          },
          "scene": {
           "xaxis": {
            "backgroundcolor": "#E5ECF6",
            "gridcolor": "white",
            "gridwidth": 2,
            "linecolor": "white",
            "showbackground": true,
            "ticks": "",
            "zerolinecolor": "white"
           },
           "yaxis": {
            "backgroundcolor": "#E5ECF6",
            "gridcolor": "white",
            "gridwidth": 2,
            "linecolor": "white",
            "showbackground": true,
            "ticks": "",
            "zerolinecolor": "white"
           },
           "zaxis": {
            "backgroundcolor": "#E5ECF6",
            "gridcolor": "white",
            "gridwidth": 2,
            "linecolor": "white",
            "showbackground": true,
            "ticks": "",
            "zerolinecolor": "white"
           }
          },
          "shapedefaults": {
           "line": {
            "color": "#2a3f5f"
           }
          },
          "ternary": {
           "aaxis": {
            "gridcolor": "white",
            "linecolor": "white",
            "ticks": ""
           },
           "baxis": {
            "gridcolor": "white",
            "linecolor": "white",
            "ticks": ""
           },
           "bgcolor": "#E5ECF6",
           "caxis": {
            "gridcolor": "white",
            "linecolor": "white",
            "ticks": ""
           }
          },
          "title": {
           "x": 0.05
          },
          "xaxis": {
           "automargin": true,
           "gridcolor": "white",
           "linecolor": "white",
           "ticks": "",
           "title": {
            "standoff": 15
           },
           "zerolinecolor": "white",
           "zerolinewidth": 2
          },
          "yaxis": {
           "automargin": true,
           "gridcolor": "white",
           "linecolor": "white",
           "ticks": "",
           "title": {
            "standoff": 15
           },
           "zerolinecolor": "white",
           "zerolinewidth": 2
          }
         }
        },
        "title": {
         "font": {
          "color": "Black",
          "size": 22
         },
         "text": "<b>Similarity Matrix",
         "x": 0.55,
         "xanchor": "center",
         "y": 0.95,
         "yanchor": "top"
        },
        "width": 800,
        "xaxis": {
         "anchor": "y",
         "constrain": "domain",
         "domain": [
          0,
          1
         ],
         "scaleanchor": "y"
        },
        "yaxis": {
         "anchor": "x",
         "autorange": "reversed",
         "constrain": "domain",
         "domain": [
          0,
          1
         ]
        }
       }
      },
      "text/html": [
       "<div>                            <div id=\"9cab4b8c-d797-4326-abf2-b4d2fb67bd7d\" class=\"plotly-graph-div\" style=\"height:800px; width:800px;\"></div>            <script type=\"text/javascript\">                require([\"plotly\"], function(Plotly) {                    window.PLOTLYENV=window.PLOTLYENV || {};                                    if (document.getElementById(\"9cab4b8c-d797-4326-abf2-b4d2fb67bd7d\")) {                    Plotly.newPlot(                        \"9cab4b8c-d797-4326-abf2-b4d2fb67bd7d\",                        [{\"coloraxis\":\"coloraxis\",\"name\":\"0\",\"x\":[\"0_\\u0686\\u0627\\u067e_\\u062e\\u0627\\u0646\\u06af\\u06cc_\\u0633\\u06cc\\u0644\\u06a9\",\"1_\\u062f\\u0648\\u0631\\u06a9\\u0627\\u0631\\u06cc_\\u0633\\u067e\\u0627\\u0631\\u06cc_\\u0628\\u0631\\u0648\\u0646\",\"2_\\u0631\\u06cc\\u0645\\u0648\\u062a_\\u06a9\\u0627\\u0631_\\u0645\\u0647\\u0627\\u062c\\u0631\\u062a\",\"3_\\u067e\\u0631\\u0648\\u0698\\u0647_\\u0628\\u0627\\u0632\\u0627\\u0631\\u06a9\\u0627\\u0631_\\u0627\\u0631\\u0633\\u0627\\u0644\",\"4_\\u0627\\u06cc\\u0646\\u062a\\u0631\\u0646\\u062a_\\u0628\\u0631\\u0642_\\u0642\\u0637\\u0639\",\"5_\\u062f\\u0648\\u0631\\u06a9\\u0627\\u0631_\\u062f\\u0648\\u0631\\u06a9\\u0627\\u0631\\u06cc_\\u062d\\u0636\\u0648\\u0631\\u06cc\",\"6_\\u0642\\u0631\\u0646\\u0637\\u06cc\\u0646\\u0647_\\u062f\\u0648\\u0631\\u06a9\\u0627\\u0631\\u06cc_\\u062e\\u0648\\u0646\\u0647\",\"7_\\u0645\\u0646\\u0632\\u0644_\\u06a9\\u0627\\u0631_93\",\"8_\\u0627\\u06cc\\u0631\\u0627\\u0646_\\u0627\\u06cc\\u0631\\u0627\\u0646\\u06cc_\\u06a9\\u0627\\u0631\",\"9_\\u0632\\u0646_\\u0632\\u0646\\u0627\\u0646_\\u062e\\u0627\\u0646\\u0647\"],\"y\":[\"0_\\u0686\\u0627\\u067e_\\u062e\\u0627\\u0646\\u06af\\u06cc_\\u0633\\u06cc\\u0644\\u06a9\",\"1_\\u062f\\u0648\\u0631\\u06a9\\u0627\\u0631\\u06cc_\\u0633\\u067e\\u0627\\u0631\\u06cc_\\u0628\\u0631\\u0648\\u0646\",\"2_\\u0631\\u06cc\\u0645\\u0648\\u062a_\\u06a9\\u0627\\u0631_\\u0645\\u0647\\u0627\\u062c\\u0631\\u062a\",\"3_\\u067e\\u0631\\u0648\\u0698\\u0647_\\u0628\\u0627\\u0632\\u0627\\u0631\\u06a9\\u0627\\u0631_\\u0627\\u0631\\u0633\\u0627\\u0644\",\"4_\\u0627\\u06cc\\u0646\\u062a\\u0631\\u0646\\u062a_\\u0628\\u0631\\u0642_\\u0642\\u0637\\u0639\",\"5_\\u062f\\u0648\\u0631\\u06a9\\u0627\\u0631_\\u062f\\u0648\\u0631\\u06a9\\u0627\\u0631\\u06cc_\\u062d\\u0636\\u0648\\u0631\\u06cc\",\"6_\\u0642\\u0631\\u0646\\u0637\\u06cc\\u0646\\u0647_\\u062f\\u0648\\u0631\\u06a9\\u0627\\u0631\\u06cc_\\u062e\\u0648\\u0646\\u0647\",\"7_\\u0645\\u0646\\u0632\\u0644_\\u06a9\\u0627\\u0631_93\",\"8_\\u0627\\u06cc\\u0631\\u0627\\u0646_\\u0627\\u06cc\\u0631\\u0627\\u0646\\u06cc_\\u06a9\\u0627\\u0631\",\"9_\\u0632\\u0646_\\u0632\\u0646\\u0627\\u0646_\\u062e\\u0627\\u0646\\u0647\"],\"z\":[[0.9999999999999998,0.9170295177755612,0.9549280850079038,0.7758303185766923,0.8932200824164502,0.7287591820066823,0.8881904951040999,0.8042982642654825,0.8968002459840156,0.68455090323699],[0.9170295177755612,1.0,0.9148858736042492,0.7519607428236328,0.8898001521947323,0.7648755983670529,0.7774370861300157,0.744472599798383,0.870794040882834,0.6480849848300986],[0.9549280850079038,0.9148858736042492,0.9999999999999994,0.7781489289646482,0.9127770252973562,0.7434174092899215,0.8111628993952216,0.8134463322891688,0.8860388444517409,0.7083106258889229],[0.7758303185766923,0.7519607428236328,0.7781489289646482,1.0000000000000002,0.7775655144922181,0.6137839453753398,0.6636367936041287,0.6561144799452735,0.682574829763166,0.6396133442536931],[0.8932200824164502,0.8898001521947323,0.9127770252973562,0.7775655144922181,0.9999999999999996,0.7709540693421885,0.7420590739785824,0.7414133686772435,0.8177958575203731,0.6407628333082391],[0.7287591820066823,0.7648755983670529,0.7434174092899215,0.6137839453753398,0.7709540693421885,0.9999999999999996,0.5942445428187806,0.6032979775760451,0.6919319905537819,0.5606927761014522],[0.8881904951040999,0.7774370861300157,0.8111628993952216,0.6636367936041287,0.7420590739785824,0.5942445428187806,1.0000000000000002,0.7596247297805719,0.7135156548241997,0.5467177413878527],[0.8042982642654825,0.744472599798383,0.8134463322891688,0.6561144799452735,0.7414133686772435,0.6032979775760451,0.7596247297805719,1.0,0.7566492072130501,0.6097297289942822],[0.8968002459840156,0.870794040882834,0.8860388444517409,0.682574829763166,0.8177958575203731,0.6919319905537819,0.7135156548241997,0.7566492072130501,1.0000000000000004,0.6133390523563056],[0.68455090323699,0.6480849848300986,0.7083106258889229,0.6396133442536931,0.6407628333082391,0.5606927761014522,0.5467177413878527,0.6097297289942822,0.6133390523563056,1.0000000000000009]],\"type\":\"heatmap\",\"xaxis\":\"x\",\"yaxis\":\"y\",\"hovertemplate\":\"x: %{x}<br>y: %{y}<br>Similarity Score: %{z}<extra></extra>\"}],                        {\"template\":{\"data\":{\"histogram2dcontour\":[{\"type\":\"histogram2dcontour\",\"colorbar\":{\"outlinewidth\":0,\"ticks\":\"\"},\"colorscale\":[[0.0,\"#0d0887\"],[0.1111111111111111,\"#46039f\"],[0.2222222222222222,\"#7201a8\"],[0.3333333333333333,\"#9c179e\"],[0.4444444444444444,\"#bd3786\"],[0.5555555555555556,\"#d8576b\"],[0.6666666666666666,\"#ed7953\"],[0.7777777777777778,\"#fb9f3a\"],[0.8888888888888888,\"#fdca26\"],[1.0,\"#f0f921\"]]}],\"choropleth\":[{\"type\":\"choropleth\",\"colorbar\":{\"outlinewidth\":0,\"ticks\":\"\"}}],\"histogram2d\":[{\"type\":\"histogram2d\",\"colorbar\":{\"outlinewidth\":0,\"ticks\":\"\"},\"colorscale\":[[0.0,\"#0d0887\"],[0.1111111111111111,\"#46039f\"],[0.2222222222222222,\"#7201a8\"],[0.3333333333333333,\"#9c179e\"],[0.4444444444444444,\"#bd3786\"],[0.5555555555555556,\"#d8576b\"],[0.6666666666666666,\"#ed7953\"],[0.7777777777777778,\"#fb9f3a\"],[0.8888888888888888,\"#fdca26\"],[1.0,\"#f0f921\"]]}],\"heatmap\":[{\"type\":\"heatmap\",\"colorbar\":{\"outlinewidth\":0,\"ticks\":\"\"},\"colorscale\":[[0.0,\"#0d0887\"],[0.1111111111111111,\"#46039f\"],[0.2222222222222222,\"#7201a8\"],[0.3333333333333333,\"#9c179e\"],[0.4444444444444444,\"#bd3786\"],[0.5555555555555556,\"#d8576b\"],[0.6666666666666666,\"#ed7953\"],[0.7777777777777778,\"#fb9f3a\"],[0.8888888888888888,\"#fdca26\"],[1.0,\"#f0f921\"]]}],\"heatmapgl\":[{\"type\":\"heatmapgl\",\"colorbar\":{\"outlinewidth\":0,\"ticks\":\"\"},\"colorscale\":[[0.0,\"#0d0887\"],[0.1111111111111111,\"#46039f\"],[0.2222222222222222,\"#7201a8\"],[0.3333333333333333,\"#9c179e\"],[0.4444444444444444,\"#bd3786\"],[0.5555555555555556,\"#d8576b\"],[0.6666666666666666,\"#ed7953\"],[0.7777777777777778,\"#fb9f3a\"],[0.8888888888888888,\"#fdca26\"],[1.0,\"#f0f921\"]]}],\"contourcarpet\":[{\"type\":\"contourcarpet\",\"colorbar\":{\"outlinewidth\":0,\"ticks\":\"\"}}],\"contour\":[{\"type\":\"contour\",\"colorbar\":{\"outlinewidth\":0,\"ticks\":\"\"},\"colorscale\":[[0.0,\"#0d0887\"],[0.1111111111111111,\"#46039f\"],[0.2222222222222222,\"#7201a8\"],[0.3333333333333333,\"#9c179e\"],[0.4444444444444444,\"#bd3786\"],[0.5555555555555556,\"#d8576b\"],[0.6666666666666666,\"#ed7953\"],[0.7777777777777778,\"#fb9f3a\"],[0.8888888888888888,\"#fdca26\"],[1.0,\"#f0f921\"]]}],\"surface\":[{\"type\":\"surface\",\"colorbar\":{\"outlinewidth\":0,\"ticks\":\"\"},\"colorscale\":[[0.0,\"#0d0887\"],[0.1111111111111111,\"#46039f\"],[0.2222222222222222,\"#7201a8\"],[0.3333333333333333,\"#9c179e\"],[0.4444444444444444,\"#bd3786\"],[0.5555555555555556,\"#d8576b\"],[0.6666666666666666,\"#ed7953\"],[0.7777777777777778,\"#fb9f3a\"],[0.8888888888888888,\"#fdca26\"],[1.0,\"#f0f921\"]]}],\"mesh3d\":[{\"type\":\"mesh3d\",\"colorbar\":{\"outlinewidth\":0,\"ticks\":\"\"}}],\"scatter\":[{\"fillpattern\":{\"fillmode\":\"overlay\",\"size\":10,\"solidity\":0.2},\"type\":\"scatter\"}],\"parcoords\":[{\"type\":\"parcoords\",\"line\":{\"colorbar\":{\"outlinewidth\":0,\"ticks\":\"\"}}}],\"scatterpolargl\":[{\"type\":\"scatterpolargl\",\"marker\":{\"colorbar\":{\"outlinewidth\":0,\"ticks\":\"\"}}}],\"bar\":[{\"error_x\":{\"color\":\"#2a3f5f\"},\"error_y\":{\"color\":\"#2a3f5f\"},\"marker\":{\"line\":{\"color\":\"#E5ECF6\",\"width\":0.5},\"pattern\":{\"fillmode\":\"overlay\",\"size\":10,\"solidity\":0.2}},\"type\":\"bar\"}],\"scattergeo\":[{\"type\":\"scattergeo\",\"marker\":{\"colorbar\":{\"outlinewidth\":0,\"ticks\":\"\"}}}],\"scatterpolar\":[{\"type\":\"scatterpolar\",\"marker\":{\"colorbar\":{\"outlinewidth\":0,\"ticks\":\"\"}}}],\"histogram\":[{\"marker\":{\"pattern\":{\"fillmode\":\"overlay\",\"size\":10,\"solidity\":0.2}},\"type\":\"histogram\"}],\"scattergl\":[{\"type\":\"scattergl\",\"marker\":{\"colorbar\":{\"outlinewidth\":0,\"ticks\":\"\"}}}],\"scatter3d\":[{\"type\":\"scatter3d\",\"line\":{\"colorbar\":{\"outlinewidth\":0,\"ticks\":\"\"}},\"marker\":{\"colorbar\":{\"outlinewidth\":0,\"ticks\":\"\"}}}],\"scattermapbox\":[{\"type\":\"scattermapbox\",\"marker\":{\"colorbar\":{\"outlinewidth\":0,\"ticks\":\"\"}}}],\"scatterternary\":[{\"type\":\"scatterternary\",\"marker\":{\"colorbar\":{\"outlinewidth\":0,\"ticks\":\"\"}}}],\"scattercarpet\":[{\"type\":\"scattercarpet\",\"marker\":{\"colorbar\":{\"outlinewidth\":0,\"ticks\":\"\"}}}],\"carpet\":[{\"aaxis\":{\"endlinecolor\":\"#2a3f5f\",\"gridcolor\":\"white\",\"linecolor\":\"white\",\"minorgridcolor\":\"white\",\"startlinecolor\":\"#2a3f5f\"},\"baxis\":{\"endlinecolor\":\"#2a3f5f\",\"gridcolor\":\"white\",\"linecolor\":\"white\",\"minorgridcolor\":\"white\",\"startlinecolor\":\"#2a3f5f\"},\"type\":\"carpet\"}],\"table\":[{\"cells\":{\"fill\":{\"color\":\"#EBF0F8\"},\"line\":{\"color\":\"white\"}},\"header\":{\"fill\":{\"color\":\"#C8D4E3\"},\"line\":{\"color\":\"white\"}},\"type\":\"table\"}],\"barpolar\":[{\"marker\":{\"line\":{\"color\":\"#E5ECF6\",\"width\":0.5},\"pattern\":{\"fillmode\":\"overlay\",\"size\":10,\"solidity\":0.2}},\"type\":\"barpolar\"}],\"pie\":[{\"automargin\":true,\"type\":\"pie\"}]},\"layout\":{\"autotypenumbers\":\"strict\",\"colorway\":[\"#636efa\",\"#EF553B\",\"#00cc96\",\"#ab63fa\",\"#FFA15A\",\"#19d3f3\",\"#FF6692\",\"#B6E880\",\"#FF97FF\",\"#FECB52\"],\"font\":{\"color\":\"#2a3f5f\"},\"hovermode\":\"closest\",\"hoverlabel\":{\"align\":\"left\"},\"paper_bgcolor\":\"white\",\"plot_bgcolor\":\"#E5ECF6\",\"polar\":{\"bgcolor\":\"#E5ECF6\",\"angularaxis\":{\"gridcolor\":\"white\",\"linecolor\":\"white\",\"ticks\":\"\"},\"radialaxis\":{\"gridcolor\":\"white\",\"linecolor\":\"white\",\"ticks\":\"\"}},\"ternary\":{\"bgcolor\":\"#E5ECF6\",\"aaxis\":{\"gridcolor\":\"white\",\"linecolor\":\"white\",\"ticks\":\"\"},\"baxis\":{\"gridcolor\":\"white\",\"linecolor\":\"white\",\"ticks\":\"\"},\"caxis\":{\"gridcolor\":\"white\",\"linecolor\":\"white\",\"ticks\":\"\"}},\"coloraxis\":{\"colorbar\":{\"outlinewidth\":0,\"ticks\":\"\"}},\"colorscale\":{\"sequential\":[[0.0,\"#0d0887\"],[0.1111111111111111,\"#46039f\"],[0.2222222222222222,\"#7201a8\"],[0.3333333333333333,\"#9c179e\"],[0.4444444444444444,\"#bd3786\"],[0.5555555555555556,\"#d8576b\"],[0.6666666666666666,\"#ed7953\"],[0.7777777777777778,\"#fb9f3a\"],[0.8888888888888888,\"#fdca26\"],[1.0,\"#f0f921\"]],\"sequentialminus\":[[0.0,\"#0d0887\"],[0.1111111111111111,\"#46039f\"],[0.2222222222222222,\"#7201a8\"],[0.3333333333333333,\"#9c179e\"],[0.4444444444444444,\"#bd3786\"],[0.5555555555555556,\"#d8576b\"],[0.6666666666666666,\"#ed7953\"],[0.7777777777777778,\"#fb9f3a\"],[0.8888888888888888,\"#fdca26\"],[1.0,\"#f0f921\"]],\"diverging\":[[0,\"#8e0152\"],[0.1,\"#c51b7d\"],[0.2,\"#de77ae\"],[0.3,\"#f1b6da\"],[0.4,\"#fde0ef\"],[0.5,\"#f7f7f7\"],[0.6,\"#e6f5d0\"],[0.7,\"#b8e186\"],[0.8,\"#7fbc41\"],[0.9,\"#4d9221\"],[1,\"#276419\"]]},\"xaxis\":{\"gridcolor\":\"white\",\"linecolor\":\"white\",\"ticks\":\"\",\"title\":{\"standoff\":15},\"zerolinecolor\":\"white\",\"automargin\":true,\"zerolinewidth\":2},\"yaxis\":{\"gridcolor\":\"white\",\"linecolor\":\"white\",\"ticks\":\"\",\"title\":{\"standoff\":15},\"zerolinecolor\":\"white\",\"automargin\":true,\"zerolinewidth\":2},\"scene\":{\"xaxis\":{\"backgroundcolor\":\"#E5ECF6\",\"gridcolor\":\"white\",\"linecolor\":\"white\",\"showbackground\":true,\"ticks\":\"\",\"zerolinecolor\":\"white\",\"gridwidth\":2},\"yaxis\":{\"backgroundcolor\":\"#E5ECF6\",\"gridcolor\":\"white\",\"linecolor\":\"white\",\"showbackground\":true,\"ticks\":\"\",\"zerolinecolor\":\"white\",\"gridwidth\":2},\"zaxis\":{\"backgroundcolor\":\"#E5ECF6\",\"gridcolor\":\"white\",\"linecolor\":\"white\",\"showbackground\":true,\"ticks\":\"\",\"zerolinecolor\":\"white\",\"gridwidth\":2}},\"shapedefaults\":{\"line\":{\"color\":\"#2a3f5f\"}},\"annotationdefaults\":{\"arrowcolor\":\"#2a3f5f\",\"arrowhead\":0,\"arrowwidth\":1},\"geo\":{\"bgcolor\":\"white\",\"landcolor\":\"#E5ECF6\",\"subunitcolor\":\"white\",\"showland\":true,\"showlakes\":true,\"lakecolor\":\"white\"},\"title\":{\"x\":0.05},\"mapbox\":{\"style\":\"light\"}}},\"xaxis\":{\"anchor\":\"y\",\"domain\":[0.0,1.0],\"scaleanchor\":\"y\",\"constrain\":\"domain\"},\"yaxis\":{\"anchor\":\"x\",\"domain\":[0.0,1.0],\"autorange\":\"reversed\",\"constrain\":\"domain\"},\"coloraxis\":{\"colorbar\":{\"title\":{\"text\":\"Similarity Score\"}},\"colorscale\":[[0.0,\"rgb(247,252,240)\"],[0.125,\"rgb(224,243,219)\"],[0.25,\"rgb(204,235,197)\"],[0.375,\"rgb(168,221,181)\"],[0.5,\"rgb(123,204,196)\"],[0.625,\"rgb(78,179,211)\"],[0.75,\"rgb(43,140,190)\"],[0.875,\"rgb(8,104,172)\"],[1.0,\"rgb(8,64,129)\"]]},\"margin\":{\"t\":60},\"title\":{\"font\":{\"size\":22,\"color\":\"Black\"},\"text\":\"<b>Similarity Matrix\",\"y\":0.95,\"x\":0.55,\"xanchor\":\"center\",\"yanchor\":\"top\"},\"hoverlabel\":{\"font\":{\"size\":16,\"family\":\"Rockwell\"},\"bgcolor\":\"white\"},\"width\":800,\"height\":800,\"showlegend\":true,\"legend\":{\"title\":{\"text\":\"Trend\"}}},                        {\"responsive\": true}                    ).then(function(){\n",
       "                            \n",
       "var gd = document.getElementById('9cab4b8c-d797-4326-abf2-b4d2fb67bd7d');\n",
       "var x = new MutationObserver(function (mutations, observer) {{\n",
       "        var display = window.getComputedStyle(gd).display;\n",
       "        if (!display || display === 'none') {{\n",
       "            console.log([gd, 'removed!']);\n",
       "            Plotly.purge(gd);\n",
       "            observer.disconnect();\n",
       "        }}\n",
       "}});\n",
       "\n",
       "// Listen for the removal of the full notebook cells\n",
       "var notebookContainer = gd.closest('#notebook-container');\n",
       "if (notebookContainer) {{\n",
       "    x.observe(notebookContainer, {childList: true});\n",
       "}}\n",
       "\n",
       "// Listen for the clearing of the current output cell\n",
       "var outputEl = gd.closest('.output');\n",
       "if (outputEl) {{\n",
       "    x.observe(outputEl, {childList: true});\n",
       "}}\n",
       "\n",
       "                        })                };                });            </script>        </div>"
      ]
     },
     "metadata": {},
     "output_type": "display_data"
    }
   ],
   "source": [
    "topic_model.visualize_heatmap()"
   ]
  },
  {
   "cell_type": "code",
   "execution_count": 11,
   "id": "15e0c049",
   "metadata": {},
   "outputs": [
    {
     "data": {
      "text/plain": [
       "[('اینترنت', 0.17471219714227523),\n",
       " ('اینترنتی', 0.05075170917774581),\n",
       " ('کار', 0.04652929709414984),\n",
       " ('برق', 0.04625067256430334),\n",
       " ('منزل', 0.04501514662462472),\n",
       " ('دورکاری', 0.04243604993061482),\n",
       " ('درآمد', 0.04093379191193606),\n",
       " ('سرعت', 0.04087407388628696),\n",
       " ('قطع', 0.03945912710513787),\n",
       " ('کسب', 0.036131762524161164)]"
      ]
     },
     "execution_count": 11,
     "metadata": {},
     "output_type": "execute_result"
    }
   ],
   "source": [
    "topic_model.get_topic(3)"
   ]
  },
  {
   "cell_type": "markdown",
   "id": "81217b14",
   "metadata": {},
   "source": [
    "## language=\"persian\", nr_topics=\"auto\""
   ]
  },
  {
   "cell_type": "code",
   "execution_count": 12,
   "id": "12924f4b",
   "metadata": {},
   "outputs": [
    {
     "name": "stdout",
     "output_type": "stream",
     "text": [
      "huggingface/tokenizers: The current process just got forked, after parallelism has already been used. Disabling parallelism to avoid deadlocks...\n",
      "To disable this warning, you can either:\n",
      "\t- Avoid using `tokenizers` before the fork if possible\n",
      "\t- Explicitly set the environment variable TOKENIZERS_PARALLELISM=(true | false)\n",
      "huggingface/tokenizers: The current process just got forked, after parallelism has already been used. Disabling parallelism to avoid deadlocks...\n",
      "To disable this warning, you can either:\n",
      "\t- Avoid using `tokenizers` before the fork if possible\n",
      "\t- Explicitly set the environment variable TOKENIZERS_PARALLELISM=(true | false)\n",
      "huggingface/tokenizers: The current process just got forked, after parallelism has already been used. Disabling parallelism to avoid deadlocks...\n",
      "To disable this warning, you can either:\n",
      "\t- Avoid using `tokenizers` before the fork if possible\n",
      "\t- Explicitly set the environment variable TOKENIZERS_PARALLELISM=(true | false)\n",
      "huggingface/tokenizers: The current process just got forked, after parallelism has already been used. Disabling parallelism to avoid deadlocks...\n",
      "To disable this warning, you can either:\n",
      "\t- Avoid using `tokenizers` before the fork if possible\n",
      "\t- Explicitly set the environment variable TOKENIZERS_PARALLELISM=(true | false)\n"
     ]
    }
   ],
   "source": [
    "topic_model = BERTopic(language=\"persian\", nr_topics=\"auto\")\n",
    "topics, probs = topic_model.fit_transform(tweets)"
   ]
  },
  {
   "cell_type": "code",
   "execution_count": 13,
   "id": "97ba412d",
   "metadata": {},
   "outputs": [
    {
     "data": {
      "text/html": [
       "<div>\n",
       "<style scoped>\n",
       "    .dataframe tbody tr th:only-of-type {\n",
       "        vertical-align: middle;\n",
       "    }\n",
       "\n",
       "    .dataframe tbody tr th {\n",
       "        vertical-align: top;\n",
       "    }\n",
       "\n",
       "    .dataframe thead th {\n",
       "        text-align: right;\n",
       "    }\n",
       "</style>\n",
       "<table border=\"1\" class=\"dataframe\">\n",
       "  <thead>\n",
       "    <tr style=\"text-align: right;\">\n",
       "      <th></th>\n",
       "      <th>Topic</th>\n",
       "      <th>Count</th>\n",
       "      <th>Name</th>\n",
       "    </tr>\n",
       "  </thead>\n",
       "  <tbody>\n",
       "    <tr>\n",
       "      <th>0</th>\n",
       "      <td>-1</td>\n",
       "      <td>22657</td>\n",
       "      <td>-1_دورکاری_کار_می_خونه</td>\n",
       "    </tr>\n",
       "    <tr>\n",
       "      <th>1</th>\n",
       "      <td>0</td>\n",
       "      <td>18063</td>\n",
       "      <td>0_چاپ_کار_دورکاری_منزل</td>\n",
       "    </tr>\n",
       "    <tr>\n",
       "      <th>2</th>\n",
       "      <td>1</td>\n",
       "      <td>1111</td>\n",
       "      <td>1_نمی_خونه_دورکاری_دورکار</td>\n",
       "    </tr>\n",
       "    <tr>\n",
       "      <th>3</th>\n",
       "      <td>2</td>\n",
       "      <td>465</td>\n",
       "      <td>2_قرنطینه_خونه_دورکاری_کرونا</td>\n",
       "    </tr>\n",
       "    <tr>\n",
       "      <th>4</th>\n",
       "      <td>3</td>\n",
       "      <td>375</td>\n",
       "      <td>3_واکسن_واکسیناسیون_واکسینه_دوز</td>\n",
       "    </tr>\n",
       "    <tr>\n",
       "      <th>5</th>\n",
       "      <td>4</td>\n",
       "      <td>322</td>\n",
       "      <td>4_خواب_خوابم_بخوابم_صبح</td>\n",
       "    </tr>\n",
       "    <tr>\n",
       "      <th>6</th>\n",
       "      <td>5</td>\n",
       "      <td>156</td>\n",
       "      <td>5_ترافیک_کاهش_تاکسی_حمل</td>\n",
       "    </tr>\n",
       "    <tr>\n",
       "      <th>7</th>\n",
       "      <td>6</td>\n",
       "      <td>136</td>\n",
       "      <td>6_ویروس_شیوع_coronavirus_ویروسکرونا</td>\n",
       "    </tr>\n",
       "    <tr>\n",
       "      <th>8</th>\n",
       "      <td>7</td>\n",
       "      <td>134</td>\n",
       "      <td>7_توییتر_توییت_توئیت_توئیتر</td>\n",
       "    </tr>\n",
       "    <tr>\n",
       "      <th>9</th>\n",
       "      <td>8</td>\n",
       "      <td>128</td>\n",
       "      <td>8_آلمان_یورو_سوئد_آلمانی</td>\n",
       "    </tr>\n",
       "    <tr>\n",
       "      <th>10</th>\n",
       "      <td>9</td>\n",
       "      <td>109</td>\n",
       "      <td>9_اینستاگرام_ادمین_پروژه_پیج</td>\n",
       "    </tr>\n",
       "    <tr>\n",
       "      <th>11</th>\n",
       "      <td>10</td>\n",
       "      <td>102</td>\n",
       "      <td>10_استرس_افسردگی_اضطراب_استرسی</td>\n",
       "    </tr>\n",
       "    <tr>\n",
       "      <th>12</th>\n",
       "      <td>11</td>\n",
       "      <td>100</td>\n",
       "      <td>11_امنیت_امنیتی_سایبری_kaspersky</td>\n",
       "    </tr>\n",
       "    <tr>\n",
       "      <th>13</th>\n",
       "      <td>12</td>\n",
       "      <td>98</td>\n",
       "      <td>12_اسکایپ_اسکایپی_جلسه_skype</td>\n",
       "    </tr>\n",
       "    <tr>\n",
       "      <th>14</th>\n",
       "      <td>13</td>\n",
       "      <td>91</td>\n",
       "      <td>13_بیمه_رد_حقوق_تامین</td>\n",
       "    </tr>\n",
       "    <tr>\n",
       "      <th>15</th>\n",
       "      <td>14</td>\n",
       "      <td>91</td>\n",
       "      <td>14_دکتر_دندونپزشکی_بیمارستان_پزشکی</td>\n",
       "    </tr>\n",
       "    <tr>\n",
       "      <th>16</th>\n",
       "      <td>15</td>\n",
       "      <td>89</td>\n",
       "      <td>15_کانادا_کانادایی_تورنتو_ونکوور</td>\n",
       "    </tr>\n",
       "    <tr>\n",
       "      <th>17</th>\n",
       "      <td>16</td>\n",
       "      <td>61</td>\n",
       "      <td>16_استعفا_بدم_میدم_ریموت</td>\n",
       "    </tr>\n",
       "    <tr>\n",
       "      <th>18</th>\n",
       "      <td>17</td>\n",
       "      <td>58</td>\n",
       "      <td>17_برف_برفی_پنجره_گرامیان</td>\n",
       "    </tr>\n",
       "    <tr>\n",
       "      <th>19</th>\n",
       "      <td>18</td>\n",
       "      <td>54</td>\n",
       "      <td>18_درصد_درصدی_۵۵_دورکار</td>\n",
       "    </tr>\n",
       "    <tr>\n",
       "      <th>20</th>\n",
       "      <td>19</td>\n",
       "      <td>51</td>\n",
       "      <td>19_متنفرم_متنفر_رمضون_متنفره</td>\n",
       "    </tr>\n",
       "    <tr>\n",
       "      <th>21</th>\n",
       "      <td>20</td>\n",
       "      <td>50</td>\n",
       "      <td>20_خصوصی_شرکت_دولتی_شرکتهای</td>\n",
       "    </tr>\n",
       "    <tr>\n",
       "      <th>22</th>\n",
       "      <td>21</td>\n",
       "      <td>49</td>\n",
       "      <td>21_یوتیوب_ویدئو_یوتوب_ویدیو</td>\n",
       "    </tr>\n",
       "    <tr>\n",
       "      <th>23</th>\n",
       "      <td>22</td>\n",
       "      <td>49</td>\n",
       "      <td>22_مرگ_خودکشی_بمیرم_شهید</td>\n",
       "    </tr>\n",
       "    <tr>\n",
       "      <th>24</th>\n",
       "      <td>23</td>\n",
       "      <td>49</td>\n",
       "      <td>23_آشپزی_پیتزا_سیر_پنیر</td>\n",
       "    </tr>\n",
       "    <tr>\n",
       "      <th>25</th>\n",
       "      <td>24</td>\n",
       "      <td>47</td>\n",
       "      <td>24_تلگرام_کانال_تلگرامی_فیلتر</td>\n",
       "    </tr>\n",
       "    <tr>\n",
       "      <th>26</th>\n",
       "      <td>25</td>\n",
       "      <td>47</td>\n",
       "      <td>25_سگ_سگم_توش_سیاه</td>\n",
       "    </tr>\n",
       "    <tr>\n",
       "      <th>27</th>\n",
       "      <td>26</td>\n",
       "      <td>39</td>\n",
       "      <td>26_صبحانه_صبحونه_خورم_صبح</td>\n",
       "    </tr>\n",
       "    <tr>\n",
       "      <th>28</th>\n",
       "      <td>27</td>\n",
       "      <td>39</td>\n",
       "      <td>27_سیگار_بکشم_بکشی_نخ</td>\n",
       "    </tr>\n",
       "    <tr>\n",
       "      <th>29</th>\n",
       "      <td>28</td>\n",
       "      <td>35</td>\n",
       "      <td>28_وزن_کیلو_وزنم_چاق</td>\n",
       "    </tr>\n",
       "    <tr>\n",
       "      <th>30</th>\n",
       "      <td>29</td>\n",
       "      <td>35</td>\n",
       "      <td>29_مترو_قطار_اتوبوس_سوار</td>\n",
       "    </tr>\n",
       "    <tr>\n",
       "      <th>31</th>\n",
       "      <td>30</td>\n",
       "      <td>34</td>\n",
       "      <td>30_صندلی_میز_ارگونومیک_صندلیم</td>\n",
       "    </tr>\n",
       "    <tr>\n",
       "      <th>32</th>\n",
       "      <td>31</td>\n",
       "      <td>34</td>\n",
       "      <td>31_ترکیه_استانبول_ریموت_اقامت</td>\n",
       "    </tr>\n",
       "    <tr>\n",
       "      <th>33</th>\n",
       "      <td>32</td>\n",
       "      <td>32</td>\n",
       "      <td>32_بانک_بانکها_خصوصی_دبیرکل</td>\n",
       "    </tr>\n",
       "    <tr>\n",
       "      <th>34</th>\n",
       "      <td>33</td>\n",
       "      <td>30</td>\n",
       "      <td>33_سربازی_سرباز_امریه_سربازیم</td>\n",
       "    </tr>\n",
       "    <tr>\n",
       "      <th>35</th>\n",
       "      <td>34</td>\n",
       "      <td>29</td>\n",
       "      <td>34_شیراز_نیروی_مومیایی_خانم</td>\n",
       "    </tr>\n",
       "    <tr>\n",
       "      <th>36</th>\n",
       "      <td>35</td>\n",
       "      <td>29</td>\n",
       "      <td>35_php_برنامه_نویس_laravel</td>\n",
       "    </tr>\n",
       "    <tr>\n",
       "      <th>37</th>\n",
       "      <td>36</td>\n",
       "      <td>28</td>\n",
       "      <td>36_دستشویی_توالت_حمام_سطل</td>\n",
       "    </tr>\n",
       "    <tr>\n",
       "      <th>38</th>\n",
       "      <td>37</td>\n",
       "      <td>26</td>\n",
       "      <td>37_اپل_گیرانه_کارمندان_کوپرتینو</td>\n",
       "    </tr>\n",
       "    <tr>\n",
       "      <th>39</th>\n",
       "      <td>38</td>\n",
       "      <td>26</td>\n",
       "      <td>38_مغزم_سردرد_نی_اعصابمو</td>\n",
       "    </tr>\n",
       "    <tr>\n",
       "      <th>40</th>\n",
       "      <td>39</td>\n",
       "      <td>23</td>\n",
       "      <td>39_ناهار_شام_غذا_نهار</td>\n",
       "    </tr>\n",
       "    <tr>\n",
       "      <th>41</th>\n",
       "      <td>40</td>\n",
       "      <td>23</td>\n",
       "      <td>40_تنهایی_میبرم_ضداجتماعی_لذت</td>\n",
       "    </tr>\n",
       "    <tr>\n",
       "      <th>42</th>\n",
       "      <td>41</td>\n",
       "      <td>23</td>\n",
       "      <td>41_html_css_مسلط_bootstrap</td>\n",
       "    </tr>\n",
       "    <tr>\n",
       "      <th>43</th>\n",
       "      <td>42</td>\n",
       "      <td>22</td>\n",
       "      <td>42_زندان_زندانی_بده_آخی</td>\n",
       "    </tr>\n",
       "    <tr>\n",
       "      <th>44</th>\n",
       "      <td>43</td>\n",
       "      <td>20</td>\n",
       "      <td>43_قهوه_کافه_مصرف_طعم</td>\n",
       "    </tr>\n",
       "    <tr>\n",
       "      <th>45</th>\n",
       "      <td>44</td>\n",
       "      <td>18</td>\n",
       "      <td>44_گربه_مخلوقات_اشرف_بام</td>\n",
       "    </tr>\n",
       "    <tr>\n",
       "      <th>46</th>\n",
       "      <td>45</td>\n",
       "      <td>13</td>\n",
       "      <td>45_ناسا_مریخ_هدایت_زمین</td>\n",
       "    </tr>\n",
       "    <tr>\n",
       "      <th>47</th>\n",
       "      <td>46</td>\n",
       "      <td>13</td>\n",
       "      <td>46_رمضان_ترکیب_بوسید_غذاخوردنمو</td>\n",
       "    </tr>\n",
       "    <tr>\n",
       "      <th>48</th>\n",
       "      <td>47</td>\n",
       "      <td>13</td>\n",
       "      <td>47_آمازون_کارمندانش_تمدید_گوگل</td>\n",
       "    </tr>\n",
       "    <tr>\n",
       "      <th>49</th>\n",
       "      <td>48</td>\n",
       "      <td>11</td>\n",
       "      <td>48_معلولیت_معلولانی_بفرستند_معلولان</td>\n",
       "    </tr>\n",
       "    <tr>\n",
       "      <th>50</th>\n",
       "      <td>49</td>\n",
       "      <td>11</td>\n",
       "      <td>49_اسپانیا_کشور_قانون_اروپایی</td>\n",
       "    </tr>\n",
       "    <tr>\n",
       "      <th>51</th>\n",
       "      <td>50</td>\n",
       "      <td>11</td>\n",
       "      <td>50_نیستی_دورکار_بمون_</td>\n",
       "    </tr>\n",
       "  </tbody>\n",
       "</table>\n",
       "</div>"
      ],
      "text/plain": [
       "    Topic  Count                                 Name\n",
       "0      -1  22657               -1_دورکاری_کار_می_خونه\n",
       "1       0  18063               0_چاپ_کار_دورکاری_منزل\n",
       "2       1   1111            1_نمی_خونه_دورکاری_دورکار\n",
       "3       2    465         2_قرنطینه_خونه_دورکاری_کرونا\n",
       "4       3    375      3_واکسن_واکسیناسیون_واکسینه_دوز\n",
       "5       4    322              4_خواب_خوابم_بخوابم_صبح\n",
       "6       5    156              5_ترافیک_کاهش_تاکسی_حمل\n",
       "7       6    136  6_ویروس_شیوع_coronavirus_ویروسکرونا\n",
       "8       7    134          7_توییتر_توییت_توئیت_توئیتر\n",
       "9       8    128             8_آلمان_یورو_سوئد_آلمانی\n",
       "10      9    109         9_اینستاگرام_ادمین_پروژه_پیج\n",
       "11     10    102       10_استرس_افسردگی_اضطراب_استرسی\n",
       "12     11    100     11_امنیت_امنیتی_سایبری_kaspersky\n",
       "13     12     98         12_اسکایپ_اسکایپی_جلسه_skype\n",
       "14     13     91                13_بیمه_رد_حقوق_تامین\n",
       "15     14     91   14_دکتر_دندونپزشکی_بیمارستان_پزشکی\n",
       "16     15     89     15_کانادا_کانادایی_تورنتو_ونکوور\n",
       "17     16     61             16_استعفا_بدم_میدم_ریموت\n",
       "18     17     58            17_برف_برفی_پنجره_گرامیان\n",
       "19     18     54              18_درصد_درصدی_۵۵_دورکار\n",
       "20     19     51         19_متنفرم_متنفر_رمضون_متنفره\n",
       "21     20     50          20_خصوصی_شرکت_دولتی_شرکتهای\n",
       "22     21     49          21_یوتیوب_ویدئو_یوتوب_ویدیو\n",
       "23     22     49             22_مرگ_خودکشی_بمیرم_شهید\n",
       "24     23     49              23_آشپزی_پیتزا_سیر_پنیر\n",
       "25     24     47        24_تلگرام_کانال_تلگرامی_فیلتر\n",
       "26     25     47                   25_سگ_سگم_توش_سیاه\n",
       "27     26     39            26_صبحانه_صبحونه_خورم_صبح\n",
       "28     27     39                27_سیگار_بکشم_بکشی_نخ\n",
       "29     28     35                 28_وزن_کیلو_وزنم_چاق\n",
       "30     29     35             29_مترو_قطار_اتوبوس_سوار\n",
       "31     30     34        30_صندلی_میز_ارگونومیک_صندلیم\n",
       "32     31     34        31_ترکیه_استانبول_ریموت_اقامت\n",
       "33     32     32          32_بانک_بانکها_خصوصی_دبیرکل\n",
       "34     33     30        33_سربازی_سرباز_امریه_سربازیم\n",
       "35     34     29          34_شیراز_نیروی_مومیایی_خانم\n",
       "36     35     29           35_php_برنامه_نویس_laravel\n",
       "37     36     28            36_دستشویی_توالت_حمام_سطل\n",
       "38     37     26      37_اپل_گیرانه_کارمندان_کوپرتینو\n",
       "39     38     26             38_مغزم_سردرد_نی_اعصابمو\n",
       "40     39     23                39_ناهار_شام_غذا_نهار\n",
       "41     40     23        40_تنهایی_میبرم_ضداجتماعی_لذت\n",
       "42     41     23           41_html_css_مسلط_bootstrap\n",
       "43     42     22              42_زندان_زندانی_بده_آخی\n",
       "44     43     20                43_قهوه_کافه_مصرف_طعم\n",
       "45     44     18             44_گربه_مخلوقات_اشرف_بام\n",
       "46     45     13              45_ناسا_مریخ_هدایت_زمین\n",
       "47     46     13      46_رمضان_ترکیب_بوسید_غذاخوردنمو\n",
       "48     47     13       47_آمازون_کارمندانش_تمدید_گوگل\n",
       "49     48     11  48_معلولیت_معلولانی_بفرستند_معلولان\n",
       "50     49     11        49_اسپانیا_کشور_قانون_اروپایی\n",
       "51     50     11                50_نیستی_دورکار_بمون_"
      ]
     },
     "execution_count": 13,
     "metadata": {},
     "output_type": "execute_result"
    }
   ],
   "source": [
    "res_df = topic_model.get_topic_info()\n",
    "res_df"
   ]
  },
  {
   "cell_type": "code",
   "execution_count": 14,
   "id": "2d253a6e",
   "metadata": {},
   "outputs": [],
   "source": [
    "res_df.to_csv(\"res__nr_topics_auto_after_reply_deletion.csv\")"
   ]
  },
  {
   "cell_type": "code",
   "execution_count": 15,
   "id": "14c216f4",
   "metadata": {},
   "outputs": [
    {
     "data": {
      "application/vnd.plotly.v1+json": {
       "config": {
        "plotlyServerURL": "https://plot.ly"
       },
       "data": [
        {
         "customdata": [
          [
           0,
           "چاپ | کار | دورکاری | منزل | خانگی",
           18063
          ],
          [
           1,
           "نمی | خونه | دورکاری | دورکار | کار",
           1111
          ],
          [
           2,
           "قرنطینه | خونه | دورکاری | کرونا | می",
           465
          ],
          [
           3,
           "واکسن | واکسیناسیون | واکسینه | دوز | کرونا",
           375
          ],
          [
           4,
           "خواب | خوابم | بخوابم | صبح | بیدار",
           322
          ],
          [
           5,
           "ترافیک | کاهش | تاکسی | حمل | طرح",
           156
          ],
          [
           6,
           "ویروس | شیوع | coronavirus | ویروسکرونا | کرونا",
           136
          ],
          [
           7,
           "توییتر | توییت | توئیت | توئیتر | کارکنان",
           134
          ],
          [
           8,
           "آلمان | یورو | سوئد | آلمانی | اروپا",
           128
          ],
          [
           9,
           "اینستاگرام | ادمین | پروژه | پیج | طراحی",
           109
          ],
          [
           10,
           "استرس | افسردگی | اضطراب | استرسی | حس",
           102
          ],
          [
           11,
           "امنیت | امنیتی | سایبری | kaspersky | کسپرسکی",
           100
          ],
          [
           12,
           "اسکایپ | اسکایپی | جلسه | skype | جلسات",
           98
          ],
          [
           13,
           "بیمه | رد | حقوق | تامین | اجتماعی",
           91
          ],
          [
           14,
           "دکتر | دندونپزشکی | بیمارستان | پزشکی | بیمار",
           91
          ],
          [
           15,
           "کانادا | کانادایی | تورنتو | ونکوور | مالیات",
           89
          ],
          [
           16,
           "استعفا | بدم | میدم | ریموت | استعفام",
           61
          ],
          [
           17,
           "برف | برفی | پنجره | گرامیان | سرما",
           58
          ],
          [
           18,
           "درصد | درصدی | ۵۵ | دورکار | کارمندان",
           54
          ],
          [
           19,
           "متنفرم | متنفر | رمضون | متنفره | دورکاری",
           51
          ],
          [
           20,
           "خصوصی | شرکت | دولتی | شرکتهای | میدانم",
           50
          ],
          [
           21,
           "یوتیوب | ویدئو | یوتوب | ویدیو | ویدئوی",
           49
          ],
          [
           22,
           "مرگ | خودکشی | بمیرم | شهید | میمیرم",
           49
          ],
          [
           23,
           "آشپزی | پیتزا | سیر | پنیر | بخوری",
           49
          ],
          [
           24,
           "تلگرام | کانال | تلگرامی | فیلتر | کاریابی",
           47
          ],
          [
           25,
           "سگ | سگم | توش | سیاه | سگی",
           47
          ],
          [
           26,
           "صبحانه | صبحونه | خورم | صبح | ناهار",
           39
          ],
          [
           27,
           "سیگار | بکشم | بکشی | نخ | ترک",
           39
          ],
          [
           28,
           "وزن | کیلو | وزنم | چاق | کالری",
           35
          ],
          [
           29,
           "مترو | قطار | اتوبوس | سوار | شلوغی",
           35
          ],
          [
           30,
           "صندلی | میز | ارگونومیک | صندلیم | بخرم",
           34
          ],
          [
           31,
           "ترکیه | استانبول | ریموت | اقامت | آنتالیا",
           34
          ],
          [
           32,
           "بانک | بانکها | خصوصی | دبیرکل | اعتباری",
           32
          ],
          [
           33,
           "سربازی | سرباز | امریه | سربازیم | سربازها",
           30
          ],
          [
           34,
           "شیراز | نیروی | مومیایی | خانم | شهر",
           29
          ],
          [
           35,
           "php | برنامه | نویس | laravel | بازارکار",
           29
          ],
          [
           36,
           "دستشویی | توالت | حمام | سطل | دسشویی",
           28
          ],
          [
           37,
           "اپل | گیرانه | کارمندان | کوپرتینو | سیاست",
           26
          ],
          [
           38,
           "مغزم | سردرد | نی | اعصابمو | دونه",
           26
          ],
          [
           39,
           "ناهار | شام | غذا | نهار | موقع",
           23
          ],
          [
           40,
           "تنهایی | میبرم | ضداجتماعی | لذت | احساس",
           23
          ],
          [
           41,
           "html | css | مسلط | bootstrap | آشنایی",
           23
          ],
          [
           42,
           "زندان | زندانی | بده | آخی | حبس",
           22
          ],
          [
           43,
           "قهوه | کافه | مصرف | طعم | چیزهای",
           20
          ],
          [
           44,
           "گربه | مخلوقات | اشرف | بام | طرف",
           18
          ],
          [
           45,
           "ناسا | مریخ | هدایت | زمین | فضانوردا",
           13
          ],
          [
           46,
           "رمضان | ترکیب | بوسید | غذاخوردنمو | ارامنه",
           13
          ],
          [
           47,
           "آمازون | کارمندانش | تمدید | گوگل | اعلام",
           13
          ],
          [
           48,
           "معلولیت | معلولانی | بفرستند | معلولان | توانخواه",
           11
          ],
          [
           49,
           "اسپانیا | کشور | قانون | اروپایی | دانشجویی",
           11
          ],
          [
           50,
           "نیستی | دورکار | بمون |  | ",
           11
          ]
         ],
         "hovertemplate": "<b>Topic %{customdata[0]}</b><br>Words: %{customdata[1]}<br>Size: %{customdata[2]}",
         "legendgroup": "",
         "marker": {
          "color": "#B0BEC5",
          "line": {
           "color": "DarkSlateGrey",
           "width": 2
          },
          "size": [
           18063,
           1111,
           465,
           375,
           322,
           156,
           136,
           134,
           128,
           109,
           102,
           100,
           98,
           91,
           91,
           89,
           61,
           58,
           54,
           51,
           50,
           49,
           49,
           49,
           47,
           47,
           39,
           39,
           35,
           35,
           34,
           34,
           32,
           30,
           29,
           29,
           28,
           26,
           26,
           23,
           23,
           23,
           22,
           20,
           18,
           13,
           13,
           13,
           11,
           11,
           11
          ],
          "sizemode": "area",
          "sizeref": 11.289375,
          "symbol": "circle"
         },
         "mode": "markers",
         "name": "",
         "orientation": "v",
         "showlegend": false,
         "type": "scatter",
         "x": [
          5.01525354385376,
          7.4781060218811035,
          5.169881343841553,
          5.045626163482666,
          7.55424165725708,
          16.915386199951172,
          -0.11448506265878677,
          -2.1261870861053467,
          -4.28129768371582,
          -13.527799606323242,
          17.110597610473633,
          -0.08318942040205002,
          7.70413064956665,
          -2.028533935546875,
          16.998287200927734,
          -4.195850849151611,
          17.94634246826172,
          18.607036590576172,
          5.575620651245117,
          13.378645896911621,
          -1.852685570716858,
          -13.639911651611328,
          18.79054832458496,
          13.526240348815918,
          -13.200922966003418,
          18.12188148498535,
          14.276299476623535,
          13.879443168640137,
          17.27053451538086,
          16.738502502441406,
          -4.6726789474487305,
          -4.732138156890869,
          -1.7882822751998901,
          -4.644044876098633,
          -4.841907501220703,
          -9.44187068939209,
          14.070338249206543,
          5.276920795440674,
          16.819345474243164,
          13.561586380004883,
          17.14741325378418,
          -9.442039489746094,
          18.699398040771484,
          -2.237938165664673,
          13.842208862304688,
          14.097132682800293,
          13.503851890563965,
          5.341659069061279,
          -13.133562088012695,
          -2.2379150390625,
          13.39365005493164
         ],
         "xaxis": "x",
         "y": [
          14.509200096130371,
          16.08371925354004,
          14.663570404052734,
          14.539344787597656,
          16.01525115966797,
          9.702454566955566,
          7.850427150726318,
          20.508726119995117,
          -0.885225236415863,
          1.6550933122634888,
          10.024880409240723,
          7.818505764007568,
          15.859150886535645,
          20.605119705200195,
          10.430233001708984,
          -0.9474144577980042,
          9.73106861114502,
          9.563920974731445,
          -0.7088682055473328,
          -5.789340019226074,
          20.778810501098633,
          1.7673027515411377,
          9.514479637145996,
          -5.63406229019165,
          1.328643560409546,
          9.915952682495117,
          4.141439914703369,
          4.537546157836914,
          10.140030860900879,
          9.511102676391602,
          -0.35486283898353577,
          -0.6023247838020325,
          20.841938018798828,
          -0.5113683938980103,
          -0.36456501483917236,
          5.328826904296875,
          4.3468194007873535,
          -1.0056869983673096,
          10.149014472961426,
          -5.561318397521973,
          10.234796524047852,
          5.328614234924316,
          9.786507606506348,
          13.403783798217773,
          -5.704132556915283,
          4.320276737213135,
          -5.172101974487305,
          -0.9372314810752869,
          1.2614917755126953,
          13.403769493103027,
          -5.047175884246826
         ],
         "yaxis": "y"
        }
       ],
       "layout": {
        "annotations": [
         {
          "showarrow": false,
          "text": "D1",
          "x": -15.685898399353027,
          "y": 8.655243849754333,
          "yshift": 10
         },
         {
          "showarrow": false,
          "text": "D2",
          "x": 2.9616160869598387,
          "xshift": 10,
          "y": 23.96822872161865
         }
        ],
        "height": 650,
        "hoverlabel": {
         "bgcolor": "white",
         "font": {
          "family": "Rockwell",
          "size": 16
         }
        },
        "legend": {
         "itemsizing": "constant",
         "tracegroupgap": 0
        },
        "margin": {
         "t": 60
        },
        "shapes": [
         {
          "line": {
           "color": "#CFD8DC",
           "width": 2
          },
          "type": "line",
          "x0": 2.9616160869598387,
          "x1": 2.9616160869598387,
          "y0": -6.6577410221099855,
          "y1": 23.96822872161865
         },
         {
          "line": {
           "color": "#9E9E9E",
           "width": 2
          },
          "type": "line",
          "x0": -15.685898399353027,
          "x1": 21.609130573272704,
          "y0": 8.655243849754333,
          "y1": 8.655243849754333
         }
        ],
        "sliders": [
         {
          "active": 0,
          "pad": {
           "t": 50
          },
          "steps": [
           {
            "args": [
             {
              "marker.color": [
               [
                "red",
                "#B0BEC5",
                "#B0BEC5",
                "#B0BEC5",
                "#B0BEC5",
                "#B0BEC5",
                "#B0BEC5",
                "#B0BEC5",
                "#B0BEC5",
                "#B0BEC5",
                "#B0BEC5",
                "#B0BEC5",
                "#B0BEC5",
                "#B0BEC5",
                "#B0BEC5",
                "#B0BEC5",
                "#B0BEC5",
                "#B0BEC5",
                "#B0BEC5",
                "#B0BEC5",
                "#B0BEC5",
                "#B0BEC5",
                "#B0BEC5",
                "#B0BEC5",
                "#B0BEC5",
                "#B0BEC5",
                "#B0BEC5",
                "#B0BEC5",
                "#B0BEC5",
                "#B0BEC5",
                "#B0BEC5",
                "#B0BEC5",
                "#B0BEC5",
                "#B0BEC5",
                "#B0BEC5",
                "#B0BEC5",
                "#B0BEC5",
                "#B0BEC5",
                "#B0BEC5",
                "#B0BEC5",
                "#B0BEC5",
                "#B0BEC5",
                "#B0BEC5",
                "#B0BEC5",
                "#B0BEC5",
                "#B0BEC5",
                "#B0BEC5",
                "#B0BEC5",
                "#B0BEC5",
                "#B0BEC5",
                "#B0BEC5"
               ]
              ]
             }
            ],
            "label": "Topic 0",
            "method": "update"
           },
           {
            "args": [
             {
              "marker.color": [
               [
                "#B0BEC5",
                "red",
                "#B0BEC5",
                "#B0BEC5",
                "#B0BEC5",
                "#B0BEC5",
                "#B0BEC5",
                "#B0BEC5",
                "#B0BEC5",
                "#B0BEC5",
                "#B0BEC5",
                "#B0BEC5",
                "#B0BEC5",
                "#B0BEC5",
                "#B0BEC5",
                "#B0BEC5",
                "#B0BEC5",
                "#B0BEC5",
                "#B0BEC5",
                "#B0BEC5",
                "#B0BEC5",
                "#B0BEC5",
                "#B0BEC5",
                "#B0BEC5",
                "#B0BEC5",
                "#B0BEC5",
                "#B0BEC5",
                "#B0BEC5",
                "#B0BEC5",
                "#B0BEC5",
                "#B0BEC5",
                "#B0BEC5",
                "#B0BEC5",
                "#B0BEC5",
                "#B0BEC5",
                "#B0BEC5",
                "#B0BEC5",
                "#B0BEC5",
                "#B0BEC5",
                "#B0BEC5",
                "#B0BEC5",
                "#B0BEC5",
                "#B0BEC5",
                "#B0BEC5",
                "#B0BEC5",
                "#B0BEC5",
                "#B0BEC5",
                "#B0BEC5",
                "#B0BEC5",
                "#B0BEC5",
                "#B0BEC5"
               ]
              ]
             }
            ],
            "label": "Topic 1",
            "method": "update"
           },
           {
            "args": [
             {
              "marker.color": [
               [
                "#B0BEC5",
                "#B0BEC5",
                "red",
                "#B0BEC5",
                "#B0BEC5",
                "#B0BEC5",
                "#B0BEC5",
                "#B0BEC5",
                "#B0BEC5",
                "#B0BEC5",
                "#B0BEC5",
                "#B0BEC5",
                "#B0BEC5",
                "#B0BEC5",
                "#B0BEC5",
                "#B0BEC5",
                "#B0BEC5",
                "#B0BEC5",
                "#B0BEC5",
                "#B0BEC5",
                "#B0BEC5",
                "#B0BEC5",
                "#B0BEC5",
                "#B0BEC5",
                "#B0BEC5",
                "#B0BEC5",
                "#B0BEC5",
                "#B0BEC5",
                "#B0BEC5",
                "#B0BEC5",
                "#B0BEC5",
                "#B0BEC5",
                "#B0BEC5",
                "#B0BEC5",
                "#B0BEC5",
                "#B0BEC5",
                "#B0BEC5",
                "#B0BEC5",
                "#B0BEC5",
                "#B0BEC5",
                "#B0BEC5",
                "#B0BEC5",
                "#B0BEC5",
                "#B0BEC5",
                "#B0BEC5",
                "#B0BEC5",
                "#B0BEC5",
                "#B0BEC5",
                "#B0BEC5",
                "#B0BEC5",
                "#B0BEC5"
               ]
              ]
             }
            ],
            "label": "Topic 2",
            "method": "update"
           },
           {
            "args": [
             {
              "marker.color": [
               [
                "#B0BEC5",
                "#B0BEC5",
                "#B0BEC5",
                "red",
                "#B0BEC5",
                "#B0BEC5",
                "#B0BEC5",
                "#B0BEC5",
                "#B0BEC5",
                "#B0BEC5",
                "#B0BEC5",
                "#B0BEC5",
                "#B0BEC5",
                "#B0BEC5",
                "#B0BEC5",
                "#B0BEC5",
                "#B0BEC5",
                "#B0BEC5",
                "#B0BEC5",
                "#B0BEC5",
                "#B0BEC5",
                "#B0BEC5",
                "#B0BEC5",
                "#B0BEC5",
                "#B0BEC5",
                "#B0BEC5",
                "#B0BEC5",
                "#B0BEC5",
                "#B0BEC5",
                "#B0BEC5",
                "#B0BEC5",
                "#B0BEC5",
                "#B0BEC5",
                "#B0BEC5",
                "#B0BEC5",
                "#B0BEC5",
                "#B0BEC5",
                "#B0BEC5",
                "#B0BEC5",
                "#B0BEC5",
                "#B0BEC5",
                "#B0BEC5",
                "#B0BEC5",
                "#B0BEC5",
                "#B0BEC5",
                "#B0BEC5",
                "#B0BEC5",
                "#B0BEC5",
                "#B0BEC5",
                "#B0BEC5",
                "#B0BEC5"
               ]
              ]
             }
            ],
            "label": "Topic 3",
            "method": "update"
           },
           {
            "args": [
             {
              "marker.color": [
               [
                "#B0BEC5",
                "#B0BEC5",
                "#B0BEC5",
                "#B0BEC5",
                "red",
                "#B0BEC5",
                "#B0BEC5",
                "#B0BEC5",
                "#B0BEC5",
                "#B0BEC5",
                "#B0BEC5",
                "#B0BEC5",
                "#B0BEC5",
                "#B0BEC5",
                "#B0BEC5",
                "#B0BEC5",
                "#B0BEC5",
                "#B0BEC5",
                "#B0BEC5",
                "#B0BEC5",
                "#B0BEC5",
                "#B0BEC5",
                "#B0BEC5",
                "#B0BEC5",
                "#B0BEC5",
                "#B0BEC5",
                "#B0BEC5",
                "#B0BEC5",
                "#B0BEC5",
                "#B0BEC5",
                "#B0BEC5",
                "#B0BEC5",
                "#B0BEC5",
                "#B0BEC5",
                "#B0BEC5",
                "#B0BEC5",
                "#B0BEC5",
                "#B0BEC5",
                "#B0BEC5",
                "#B0BEC5",
                "#B0BEC5",
                "#B0BEC5",
                "#B0BEC5",
                "#B0BEC5",
                "#B0BEC5",
                "#B0BEC5",
                "#B0BEC5",
                "#B0BEC5",
                "#B0BEC5",
                "#B0BEC5",
                "#B0BEC5"
               ]
              ]
             }
            ],
            "label": "Topic 4",
            "method": "update"
           },
           {
            "args": [
             {
              "marker.color": [
               [
                "#B0BEC5",
                "#B0BEC5",
                "#B0BEC5",
                "#B0BEC5",
                "#B0BEC5",
                "red",
                "#B0BEC5",
                "#B0BEC5",
                "#B0BEC5",
                "#B0BEC5",
                "#B0BEC5",
                "#B0BEC5",
                "#B0BEC5",
                "#B0BEC5",
                "#B0BEC5",
                "#B0BEC5",
                "#B0BEC5",
                "#B0BEC5",
                "#B0BEC5",
                "#B0BEC5",
                "#B0BEC5",
                "#B0BEC5",
                "#B0BEC5",
                "#B0BEC5",
                "#B0BEC5",
                "#B0BEC5",
                "#B0BEC5",
                "#B0BEC5",
                "#B0BEC5",
                "#B0BEC5",
                "#B0BEC5",
                "#B0BEC5",
                "#B0BEC5",
                "#B0BEC5",
                "#B0BEC5",
                "#B0BEC5",
                "#B0BEC5",
                "#B0BEC5",
                "#B0BEC5",
                "#B0BEC5",
                "#B0BEC5",
                "#B0BEC5",
                "#B0BEC5",
                "#B0BEC5",
                "#B0BEC5",
                "#B0BEC5",
                "#B0BEC5",
                "#B0BEC5",
                "#B0BEC5",
                "#B0BEC5",
                "#B0BEC5"
               ]
              ]
             }
            ],
            "label": "Topic 5",
            "method": "update"
           },
           {
            "args": [
             {
              "marker.color": [
               [
                "#B0BEC5",
                "#B0BEC5",
                "#B0BEC5",
                "#B0BEC5",
                "#B0BEC5",
                "#B0BEC5",
                "red",
                "#B0BEC5",
                "#B0BEC5",
                "#B0BEC5",
                "#B0BEC5",
                "#B0BEC5",
                "#B0BEC5",
                "#B0BEC5",
                "#B0BEC5",
                "#B0BEC5",
                "#B0BEC5",
                "#B0BEC5",
                "#B0BEC5",
                "#B0BEC5",
                "#B0BEC5",
                "#B0BEC5",
                "#B0BEC5",
                "#B0BEC5",
                "#B0BEC5",
                "#B0BEC5",
                "#B0BEC5",
                "#B0BEC5",
                "#B0BEC5",
                "#B0BEC5",
                "#B0BEC5",
                "#B0BEC5",
                "#B0BEC5",
                "#B0BEC5",
                "#B0BEC5",
                "#B0BEC5",
                "#B0BEC5",
                "#B0BEC5",
                "#B0BEC5",
                "#B0BEC5",
                "#B0BEC5",
                "#B0BEC5",
                "#B0BEC5",
                "#B0BEC5",
                "#B0BEC5",
                "#B0BEC5",
                "#B0BEC5",
                "#B0BEC5",
                "#B0BEC5",
                "#B0BEC5",
                "#B0BEC5"
               ]
              ]
             }
            ],
            "label": "Topic 6",
            "method": "update"
           },
           {
            "args": [
             {
              "marker.color": [
               [
                "#B0BEC5",
                "#B0BEC5",
                "#B0BEC5",
                "#B0BEC5",
                "#B0BEC5",
                "#B0BEC5",
                "#B0BEC5",
                "red",
                "#B0BEC5",
                "#B0BEC5",
                "#B0BEC5",
                "#B0BEC5",
                "#B0BEC5",
                "#B0BEC5",
                "#B0BEC5",
                "#B0BEC5",
                "#B0BEC5",
                "#B0BEC5",
                "#B0BEC5",
                "#B0BEC5",
                "#B0BEC5",
                "#B0BEC5",
                "#B0BEC5",
                "#B0BEC5",
                "#B0BEC5",
                "#B0BEC5",
                "#B0BEC5",
                "#B0BEC5",
                "#B0BEC5",
                "#B0BEC5",
                "#B0BEC5",
                "#B0BEC5",
                "#B0BEC5",
                "#B0BEC5",
                "#B0BEC5",
                "#B0BEC5",
                "#B0BEC5",
                "#B0BEC5",
                "#B0BEC5",
                "#B0BEC5",
                "#B0BEC5",
                "#B0BEC5",
                "#B0BEC5",
                "#B0BEC5",
                "#B0BEC5",
                "#B0BEC5",
                "#B0BEC5",
                "#B0BEC5",
                "#B0BEC5",
                "#B0BEC5",
                "#B0BEC5"
               ]
              ]
             }
            ],
            "label": "Topic 7",
            "method": "update"
           },
           {
            "args": [
             {
              "marker.color": [
               [
                "#B0BEC5",
                "#B0BEC5",
                "#B0BEC5",
                "#B0BEC5",
                "#B0BEC5",
                "#B0BEC5",
                "#B0BEC5",
                "#B0BEC5",
                "red",
                "#B0BEC5",
                "#B0BEC5",
                "#B0BEC5",
                "#B0BEC5",
                "#B0BEC5",
                "#B0BEC5",
                "#B0BEC5",
                "#B0BEC5",
                "#B0BEC5",
                "#B0BEC5",
                "#B0BEC5",
                "#B0BEC5",
                "#B0BEC5",
                "#B0BEC5",
                "#B0BEC5",
                "#B0BEC5",
                "#B0BEC5",
                "#B0BEC5",
                "#B0BEC5",
                "#B0BEC5",
                "#B0BEC5",
                "#B0BEC5",
                "#B0BEC5",
                "#B0BEC5",
                "#B0BEC5",
                "#B0BEC5",
                "#B0BEC5",
                "#B0BEC5",
                "#B0BEC5",
                "#B0BEC5",
                "#B0BEC5",
                "#B0BEC5",
                "#B0BEC5",
                "#B0BEC5",
                "#B0BEC5",
                "#B0BEC5",
                "#B0BEC5",
                "#B0BEC5",
                "#B0BEC5",
                "#B0BEC5",
                "#B0BEC5",
                "#B0BEC5"
               ]
              ]
             }
            ],
            "label": "Topic 8",
            "method": "update"
           },
           {
            "args": [
             {
              "marker.color": [
               [
                "#B0BEC5",
                "#B0BEC5",
                "#B0BEC5",
                "#B0BEC5",
                "#B0BEC5",
                "#B0BEC5",
                "#B0BEC5",
                "#B0BEC5",
                "#B0BEC5",
                "red",
                "#B0BEC5",
                "#B0BEC5",
                "#B0BEC5",
                "#B0BEC5",
                "#B0BEC5",
                "#B0BEC5",
                "#B0BEC5",
                "#B0BEC5",
                "#B0BEC5",
                "#B0BEC5",
                "#B0BEC5",
                "#B0BEC5",
                "#B0BEC5",
                "#B0BEC5",
                "#B0BEC5",
                "#B0BEC5",
                "#B0BEC5",
                "#B0BEC5",
                "#B0BEC5",
                "#B0BEC5",
                "#B0BEC5",
                "#B0BEC5",
                "#B0BEC5",
                "#B0BEC5",
                "#B0BEC5",
                "#B0BEC5",
                "#B0BEC5",
                "#B0BEC5",
                "#B0BEC5",
                "#B0BEC5",
                "#B0BEC5",
                "#B0BEC5",
                "#B0BEC5",
                "#B0BEC5",
                "#B0BEC5",
                "#B0BEC5",
                "#B0BEC5",
                "#B0BEC5",
                "#B0BEC5",
                "#B0BEC5",
                "#B0BEC5"
               ]
              ]
             }
            ],
            "label": "Topic 9",
            "method": "update"
           },
           {
            "args": [
             {
              "marker.color": [
               [
                "#B0BEC5",
                "#B0BEC5",
                "#B0BEC5",
                "#B0BEC5",
                "#B0BEC5",
                "#B0BEC5",
                "#B0BEC5",
                "#B0BEC5",
                "#B0BEC5",
                "#B0BEC5",
                "red",
                "#B0BEC5",
                "#B0BEC5",
                "#B0BEC5",
                "#B0BEC5",
                "#B0BEC5",
                "#B0BEC5",
                "#B0BEC5",
                "#B0BEC5",
                "#B0BEC5",
                "#B0BEC5",
                "#B0BEC5",
                "#B0BEC5",
                "#B0BEC5",
                "#B0BEC5",
                "#B0BEC5",
                "#B0BEC5",
                "#B0BEC5",
                "#B0BEC5",
                "#B0BEC5",
                "#B0BEC5",
                "#B0BEC5",
                "#B0BEC5",
                "#B0BEC5",
                "#B0BEC5",
                "#B0BEC5",
                "#B0BEC5",
                "#B0BEC5",
                "#B0BEC5",
                "#B0BEC5",
                "#B0BEC5",
                "#B0BEC5",
                "#B0BEC5",
                "#B0BEC5",
                "#B0BEC5",
                "#B0BEC5",
                "#B0BEC5",
                "#B0BEC5",
                "#B0BEC5",
                "#B0BEC5",
                "#B0BEC5"
               ]
              ]
             }
            ],
            "label": "Topic 10",
            "method": "update"
           },
           {
            "args": [
             {
              "marker.color": [
               [
                "#B0BEC5",
                "#B0BEC5",
                "#B0BEC5",
                "#B0BEC5",
                "#B0BEC5",
                "#B0BEC5",
                "#B0BEC5",
                "#B0BEC5",
                "#B0BEC5",
                "#B0BEC5",
                "#B0BEC5",
                "red",
                "#B0BEC5",
                "#B0BEC5",
                "#B0BEC5",
                "#B0BEC5",
                "#B0BEC5",
                "#B0BEC5",
                "#B0BEC5",
                "#B0BEC5",
                "#B0BEC5",
                "#B0BEC5",
                "#B0BEC5",
                "#B0BEC5",
                "#B0BEC5",
                "#B0BEC5",
                "#B0BEC5",
                "#B0BEC5",
                "#B0BEC5",
                "#B0BEC5",
                "#B0BEC5",
                "#B0BEC5",
                "#B0BEC5",
                "#B0BEC5",
                "#B0BEC5",
                "#B0BEC5",
                "#B0BEC5",
                "#B0BEC5",
                "#B0BEC5",
                "#B0BEC5",
                "#B0BEC5",
                "#B0BEC5",
                "#B0BEC5",
                "#B0BEC5",
                "#B0BEC5",
                "#B0BEC5",
                "#B0BEC5",
                "#B0BEC5",
                "#B0BEC5",
                "#B0BEC5",
                "#B0BEC5"
               ]
              ]
             }
            ],
            "label": "Topic 11",
            "method": "update"
           },
           {
            "args": [
             {
              "marker.color": [
               [
                "#B0BEC5",
                "#B0BEC5",
                "#B0BEC5",
                "#B0BEC5",
                "#B0BEC5",
                "#B0BEC5",
                "#B0BEC5",
                "#B0BEC5",
                "#B0BEC5",
                "#B0BEC5",
                "#B0BEC5",
                "#B0BEC5",
                "red",
                "#B0BEC5",
                "#B0BEC5",
                "#B0BEC5",
                "#B0BEC5",
                "#B0BEC5",
                "#B0BEC5",
                "#B0BEC5",
                "#B0BEC5",
                "#B0BEC5",
                "#B0BEC5",
                "#B0BEC5",
                "#B0BEC5",
                "#B0BEC5",
                "#B0BEC5",
                "#B0BEC5",
                "#B0BEC5",
                "#B0BEC5",
                "#B0BEC5",
                "#B0BEC5",
                "#B0BEC5",
                "#B0BEC5",
                "#B0BEC5",
                "#B0BEC5",
                "#B0BEC5",
                "#B0BEC5",
                "#B0BEC5",
                "#B0BEC5",
                "#B0BEC5",
                "#B0BEC5",
                "#B0BEC5",
                "#B0BEC5",
                "#B0BEC5",
                "#B0BEC5",
                "#B0BEC5",
                "#B0BEC5",
                "#B0BEC5",
                "#B0BEC5",
                "#B0BEC5"
               ]
              ]
             }
            ],
            "label": "Topic 12",
            "method": "update"
           },
           {
            "args": [
             {
              "marker.color": [
               [
                "#B0BEC5",
                "#B0BEC5",
                "#B0BEC5",
                "#B0BEC5",
                "#B0BEC5",
                "#B0BEC5",
                "#B0BEC5",
                "#B0BEC5",
                "#B0BEC5",
                "#B0BEC5",
                "#B0BEC5",
                "#B0BEC5",
                "#B0BEC5",
                "red",
                "#B0BEC5",
                "#B0BEC5",
                "#B0BEC5",
                "#B0BEC5",
                "#B0BEC5",
                "#B0BEC5",
                "#B0BEC5",
                "#B0BEC5",
                "#B0BEC5",
                "#B0BEC5",
                "#B0BEC5",
                "#B0BEC5",
                "#B0BEC5",
                "#B0BEC5",
                "#B0BEC5",
                "#B0BEC5",
                "#B0BEC5",
                "#B0BEC5",
                "#B0BEC5",
                "#B0BEC5",
                "#B0BEC5",
                "#B0BEC5",
                "#B0BEC5",
                "#B0BEC5",
                "#B0BEC5",
                "#B0BEC5",
                "#B0BEC5",
                "#B0BEC5",
                "#B0BEC5",
                "#B0BEC5",
                "#B0BEC5",
                "#B0BEC5",
                "#B0BEC5",
                "#B0BEC5",
                "#B0BEC5",
                "#B0BEC5",
                "#B0BEC5"
               ]
              ]
             }
            ],
            "label": "Topic 13",
            "method": "update"
           },
           {
            "args": [
             {
              "marker.color": [
               [
                "#B0BEC5",
                "#B0BEC5",
                "#B0BEC5",
                "#B0BEC5",
                "#B0BEC5",
                "#B0BEC5",
                "#B0BEC5",
                "#B0BEC5",
                "#B0BEC5",
                "#B0BEC5",
                "#B0BEC5",
                "#B0BEC5",
                "#B0BEC5",
                "#B0BEC5",
                "red",
                "#B0BEC5",
                "#B0BEC5",
                "#B0BEC5",
                "#B0BEC5",
                "#B0BEC5",
                "#B0BEC5",
                "#B0BEC5",
                "#B0BEC5",
                "#B0BEC5",
                "#B0BEC5",
                "#B0BEC5",
                "#B0BEC5",
                "#B0BEC5",
                "#B0BEC5",
                "#B0BEC5",
                "#B0BEC5",
                "#B0BEC5",
                "#B0BEC5",
                "#B0BEC5",
                "#B0BEC5",
                "#B0BEC5",
                "#B0BEC5",
                "#B0BEC5",
                "#B0BEC5",
                "#B0BEC5",
                "#B0BEC5",
                "#B0BEC5",
                "#B0BEC5",
                "#B0BEC5",
                "#B0BEC5",
                "#B0BEC5",
                "#B0BEC5",
                "#B0BEC5",
                "#B0BEC5",
                "#B0BEC5",
                "#B0BEC5"
               ]
              ]
             }
            ],
            "label": "Topic 14",
            "method": "update"
           },
           {
            "args": [
             {
              "marker.color": [
               [
                "#B0BEC5",
                "#B0BEC5",
                "#B0BEC5",
                "#B0BEC5",
                "#B0BEC5",
                "#B0BEC5",
                "#B0BEC5",
                "#B0BEC5",
                "#B0BEC5",
                "#B0BEC5",
                "#B0BEC5",
                "#B0BEC5",
                "#B0BEC5",
                "#B0BEC5",
                "#B0BEC5",
                "red",
                "#B0BEC5",
                "#B0BEC5",
                "#B0BEC5",
                "#B0BEC5",
                "#B0BEC5",
                "#B0BEC5",
                "#B0BEC5",
                "#B0BEC5",
                "#B0BEC5",
                "#B0BEC5",
                "#B0BEC5",
                "#B0BEC5",
                "#B0BEC5",
                "#B0BEC5",
                "#B0BEC5",
                "#B0BEC5",
                "#B0BEC5",
                "#B0BEC5",
                "#B0BEC5",
                "#B0BEC5",
                "#B0BEC5",
                "#B0BEC5",
                "#B0BEC5",
                "#B0BEC5",
                "#B0BEC5",
                "#B0BEC5",
                "#B0BEC5",
                "#B0BEC5",
                "#B0BEC5",
                "#B0BEC5",
                "#B0BEC5",
                "#B0BEC5",
                "#B0BEC5",
                "#B0BEC5",
                "#B0BEC5"
               ]
              ]
             }
            ],
            "label": "Topic 15",
            "method": "update"
           },
           {
            "args": [
             {
              "marker.color": [
               [
                "#B0BEC5",
                "#B0BEC5",
                "#B0BEC5",
                "#B0BEC5",
                "#B0BEC5",
                "#B0BEC5",
                "#B0BEC5",
                "#B0BEC5",
                "#B0BEC5",
                "#B0BEC5",
                "#B0BEC5",
                "#B0BEC5",
                "#B0BEC5",
                "#B0BEC5",
                "#B0BEC5",
                "#B0BEC5",
                "red",
                "#B0BEC5",
                "#B0BEC5",
                "#B0BEC5",
                "#B0BEC5",
                "#B0BEC5",
                "#B0BEC5",
                "#B0BEC5",
                "#B0BEC5",
                "#B0BEC5",
                "#B0BEC5",
                "#B0BEC5",
                "#B0BEC5",
                "#B0BEC5",
                "#B0BEC5",
                "#B0BEC5",
                "#B0BEC5",
                "#B0BEC5",
                "#B0BEC5",
                "#B0BEC5",
                "#B0BEC5",
                "#B0BEC5",
                "#B0BEC5",
                "#B0BEC5",
                "#B0BEC5",
                "#B0BEC5",
                "#B0BEC5",
                "#B0BEC5",
                "#B0BEC5",
                "#B0BEC5",
                "#B0BEC5",
                "#B0BEC5",
                "#B0BEC5",
                "#B0BEC5",
                "#B0BEC5"
               ]
              ]
             }
            ],
            "label": "Topic 16",
            "method": "update"
           },
           {
            "args": [
             {
              "marker.color": [
               [
                "#B0BEC5",
                "#B0BEC5",
                "#B0BEC5",
                "#B0BEC5",
                "#B0BEC5",
                "#B0BEC5",
                "#B0BEC5",
                "#B0BEC5",
                "#B0BEC5",
                "#B0BEC5",
                "#B0BEC5",
                "#B0BEC5",
                "#B0BEC5",
                "#B0BEC5",
                "#B0BEC5",
                "#B0BEC5",
                "#B0BEC5",
                "red",
                "#B0BEC5",
                "#B0BEC5",
                "#B0BEC5",
                "#B0BEC5",
                "#B0BEC5",
                "#B0BEC5",
                "#B0BEC5",
                "#B0BEC5",
                "#B0BEC5",
                "#B0BEC5",
                "#B0BEC5",
                "#B0BEC5",
                "#B0BEC5",
                "#B0BEC5",
                "#B0BEC5",
                "#B0BEC5",
                "#B0BEC5",
                "#B0BEC5",
                "#B0BEC5",
                "#B0BEC5",
                "#B0BEC5",
                "#B0BEC5",
                "#B0BEC5",
                "#B0BEC5",
                "#B0BEC5",
                "#B0BEC5",
                "#B0BEC5",
                "#B0BEC5",
                "#B0BEC5",
                "#B0BEC5",
                "#B0BEC5",
                "#B0BEC5",
                "#B0BEC5"
               ]
              ]
             }
            ],
            "label": "Topic 17",
            "method": "update"
           },
           {
            "args": [
             {
              "marker.color": [
               [
                "#B0BEC5",
                "#B0BEC5",
                "#B0BEC5",
                "#B0BEC5",
                "#B0BEC5",
                "#B0BEC5",
                "#B0BEC5",
                "#B0BEC5",
                "#B0BEC5",
                "#B0BEC5",
                "#B0BEC5",
                "#B0BEC5",
                "#B0BEC5",
                "#B0BEC5",
                "#B0BEC5",
                "#B0BEC5",
                "#B0BEC5",
                "#B0BEC5",
                "red",
                "#B0BEC5",
                "#B0BEC5",
                "#B0BEC5",
                "#B0BEC5",
                "#B0BEC5",
                "#B0BEC5",
                "#B0BEC5",
                "#B0BEC5",
                "#B0BEC5",
                "#B0BEC5",
                "#B0BEC5",
                "#B0BEC5",
                "#B0BEC5",
                "#B0BEC5",
                "#B0BEC5",
                "#B0BEC5",
                "#B0BEC5",
                "#B0BEC5",
                "#B0BEC5",
                "#B0BEC5",
                "#B0BEC5",
                "#B0BEC5",
                "#B0BEC5",
                "#B0BEC5",
                "#B0BEC5",
                "#B0BEC5",
                "#B0BEC5",
                "#B0BEC5",
                "#B0BEC5",
                "#B0BEC5",
                "#B0BEC5",
                "#B0BEC5"
               ]
              ]
             }
            ],
            "label": "Topic 18",
            "method": "update"
           },
           {
            "args": [
             {
              "marker.color": [
               [
                "#B0BEC5",
                "#B0BEC5",
                "#B0BEC5",
                "#B0BEC5",
                "#B0BEC5",
                "#B0BEC5",
                "#B0BEC5",
                "#B0BEC5",
                "#B0BEC5",
                "#B0BEC5",
                "#B0BEC5",
                "#B0BEC5",
                "#B0BEC5",
                "#B0BEC5",
                "#B0BEC5",
                "#B0BEC5",
                "#B0BEC5",
                "#B0BEC5",
                "#B0BEC5",
                "red",
                "#B0BEC5",
                "#B0BEC5",
                "#B0BEC5",
                "#B0BEC5",
                "#B0BEC5",
                "#B0BEC5",
                "#B0BEC5",
                "#B0BEC5",
                "#B0BEC5",
                "#B0BEC5",
                "#B0BEC5",
                "#B0BEC5",
                "#B0BEC5",
                "#B0BEC5",
                "#B0BEC5",
                "#B0BEC5",
                "#B0BEC5",
                "#B0BEC5",
                "#B0BEC5",
                "#B0BEC5",
                "#B0BEC5",
                "#B0BEC5",
                "#B0BEC5",
                "#B0BEC5",
                "#B0BEC5",
                "#B0BEC5",
                "#B0BEC5",
                "#B0BEC5",
                "#B0BEC5",
                "#B0BEC5",
                "#B0BEC5"
               ]
              ]
             }
            ],
            "label": "Topic 19",
            "method": "update"
           },
           {
            "args": [
             {
              "marker.color": [
               [
                "#B0BEC5",
                "#B0BEC5",
                "#B0BEC5",
                "#B0BEC5",
                "#B0BEC5",
                "#B0BEC5",
                "#B0BEC5",
                "#B0BEC5",
                "#B0BEC5",
                "#B0BEC5",
                "#B0BEC5",
                "#B0BEC5",
                "#B0BEC5",
                "#B0BEC5",
                "#B0BEC5",
                "#B0BEC5",
                "#B0BEC5",
                "#B0BEC5",
                "#B0BEC5",
                "#B0BEC5",
                "red",
                "#B0BEC5",
                "#B0BEC5",
                "#B0BEC5",
                "#B0BEC5",
                "#B0BEC5",
                "#B0BEC5",
                "#B0BEC5",
                "#B0BEC5",
                "#B0BEC5",
                "#B0BEC5",
                "#B0BEC5",
                "#B0BEC5",
                "#B0BEC5",
                "#B0BEC5",
                "#B0BEC5",
                "#B0BEC5",
                "#B0BEC5",
                "#B0BEC5",
                "#B0BEC5",
                "#B0BEC5",
                "#B0BEC5",
                "#B0BEC5",
                "#B0BEC5",
                "#B0BEC5",
                "#B0BEC5",
                "#B0BEC5",
                "#B0BEC5",
                "#B0BEC5",
                "#B0BEC5",
                "#B0BEC5"
               ]
              ]
             }
            ],
            "label": "Topic 20",
            "method": "update"
           },
           {
            "args": [
             {
              "marker.color": [
               [
                "#B0BEC5",
                "#B0BEC5",
                "#B0BEC5",
                "#B0BEC5",
                "#B0BEC5",
                "#B0BEC5",
                "#B0BEC5",
                "#B0BEC5",
                "#B0BEC5",
                "#B0BEC5",
                "#B0BEC5",
                "#B0BEC5",
                "#B0BEC5",
                "#B0BEC5",
                "#B0BEC5",
                "#B0BEC5",
                "#B0BEC5",
                "#B0BEC5",
                "#B0BEC5",
                "#B0BEC5",
                "#B0BEC5",
                "red",
                "#B0BEC5",
                "#B0BEC5",
                "#B0BEC5",
                "#B0BEC5",
                "#B0BEC5",
                "#B0BEC5",
                "#B0BEC5",
                "#B0BEC5",
                "#B0BEC5",
                "#B0BEC5",
                "#B0BEC5",
                "#B0BEC5",
                "#B0BEC5",
                "#B0BEC5",
                "#B0BEC5",
                "#B0BEC5",
                "#B0BEC5",
                "#B0BEC5",
                "#B0BEC5",
                "#B0BEC5",
                "#B0BEC5",
                "#B0BEC5",
                "#B0BEC5",
                "#B0BEC5",
                "#B0BEC5",
                "#B0BEC5",
                "#B0BEC5",
                "#B0BEC5",
                "#B0BEC5"
               ]
              ]
             }
            ],
            "label": "Topic 21",
            "method": "update"
           },
           {
            "args": [
             {
              "marker.color": [
               [
                "#B0BEC5",
                "#B0BEC5",
                "#B0BEC5",
                "#B0BEC5",
                "#B0BEC5",
                "#B0BEC5",
                "#B0BEC5",
                "#B0BEC5",
                "#B0BEC5",
                "#B0BEC5",
                "#B0BEC5",
                "#B0BEC5",
                "#B0BEC5",
                "#B0BEC5",
                "#B0BEC5",
                "#B0BEC5",
                "#B0BEC5",
                "#B0BEC5",
                "#B0BEC5",
                "#B0BEC5",
                "#B0BEC5",
                "#B0BEC5",
                "red",
                "#B0BEC5",
                "#B0BEC5",
                "#B0BEC5",
                "#B0BEC5",
                "#B0BEC5",
                "#B0BEC5",
                "#B0BEC5",
                "#B0BEC5",
                "#B0BEC5",
                "#B0BEC5",
                "#B0BEC5",
                "#B0BEC5",
                "#B0BEC5",
                "#B0BEC5",
                "#B0BEC5",
                "#B0BEC5",
                "#B0BEC5",
                "#B0BEC5",
                "#B0BEC5",
                "#B0BEC5",
                "#B0BEC5",
                "#B0BEC5",
                "#B0BEC5",
                "#B0BEC5",
                "#B0BEC5",
                "#B0BEC5",
                "#B0BEC5",
                "#B0BEC5"
               ]
              ]
             }
            ],
            "label": "Topic 22",
            "method": "update"
           },
           {
            "args": [
             {
              "marker.color": [
               [
                "#B0BEC5",
                "#B0BEC5",
                "#B0BEC5",
                "#B0BEC5",
                "#B0BEC5",
                "#B0BEC5",
                "#B0BEC5",
                "#B0BEC5",
                "#B0BEC5",
                "#B0BEC5",
                "#B0BEC5",
                "#B0BEC5",
                "#B0BEC5",
                "#B0BEC5",
                "#B0BEC5",
                "#B0BEC5",
                "#B0BEC5",
                "#B0BEC5",
                "#B0BEC5",
                "#B0BEC5",
                "#B0BEC5",
                "#B0BEC5",
                "#B0BEC5",
                "red",
                "#B0BEC5",
                "#B0BEC5",
                "#B0BEC5",
                "#B0BEC5",
                "#B0BEC5",
                "#B0BEC5",
                "#B0BEC5",
                "#B0BEC5",
                "#B0BEC5",
                "#B0BEC5",
                "#B0BEC5",
                "#B0BEC5",
                "#B0BEC5",
                "#B0BEC5",
                "#B0BEC5",
                "#B0BEC5",
                "#B0BEC5",
                "#B0BEC5",
                "#B0BEC5",
                "#B0BEC5",
                "#B0BEC5",
                "#B0BEC5",
                "#B0BEC5",
                "#B0BEC5",
                "#B0BEC5",
                "#B0BEC5",
                "#B0BEC5"
               ]
              ]
             }
            ],
            "label": "Topic 23",
            "method": "update"
           },
           {
            "args": [
             {
              "marker.color": [
               [
                "#B0BEC5",
                "#B0BEC5",
                "#B0BEC5",
                "#B0BEC5",
                "#B0BEC5",
                "#B0BEC5",
                "#B0BEC5",
                "#B0BEC5",
                "#B0BEC5",
                "#B0BEC5",
                "#B0BEC5",
                "#B0BEC5",
                "#B0BEC5",
                "#B0BEC5",
                "#B0BEC5",
                "#B0BEC5",
                "#B0BEC5",
                "#B0BEC5",
                "#B0BEC5",
                "#B0BEC5",
                "#B0BEC5",
                "#B0BEC5",
                "#B0BEC5",
                "#B0BEC5",
                "red",
                "#B0BEC5",
                "#B0BEC5",
                "#B0BEC5",
                "#B0BEC5",
                "#B0BEC5",
                "#B0BEC5",
                "#B0BEC5",
                "#B0BEC5",
                "#B0BEC5",
                "#B0BEC5",
                "#B0BEC5",
                "#B0BEC5",
                "#B0BEC5",
                "#B0BEC5",
                "#B0BEC5",
                "#B0BEC5",
                "#B0BEC5",
                "#B0BEC5",
                "#B0BEC5",
                "#B0BEC5",
                "#B0BEC5",
                "#B0BEC5",
                "#B0BEC5",
                "#B0BEC5",
                "#B0BEC5",
                "#B0BEC5"
               ]
              ]
             }
            ],
            "label": "Topic 24",
            "method": "update"
           },
           {
            "args": [
             {
              "marker.color": [
               [
                "#B0BEC5",
                "#B0BEC5",
                "#B0BEC5",
                "#B0BEC5",
                "#B0BEC5",
                "#B0BEC5",
                "#B0BEC5",
                "#B0BEC5",
                "#B0BEC5",
                "#B0BEC5",
                "#B0BEC5",
                "#B0BEC5",
                "#B0BEC5",
                "#B0BEC5",
                "#B0BEC5",
                "#B0BEC5",
                "#B0BEC5",
                "#B0BEC5",
                "#B0BEC5",
                "#B0BEC5",
                "#B0BEC5",
                "#B0BEC5",
                "#B0BEC5",
                "#B0BEC5",
                "#B0BEC5",
                "red",
                "#B0BEC5",
                "#B0BEC5",
                "#B0BEC5",
                "#B0BEC5",
                "#B0BEC5",
                "#B0BEC5",
                "#B0BEC5",
                "#B0BEC5",
                "#B0BEC5",
                "#B0BEC5",
                "#B0BEC5",
                "#B0BEC5",
                "#B0BEC5",
                "#B0BEC5",
                "#B0BEC5",
                "#B0BEC5",
                "#B0BEC5",
                "#B0BEC5",
                "#B0BEC5",
                "#B0BEC5",
                "#B0BEC5",
                "#B0BEC5",
                "#B0BEC5",
                "#B0BEC5",
                "#B0BEC5"
               ]
              ]
             }
            ],
            "label": "Topic 25",
            "method": "update"
           },
           {
            "args": [
             {
              "marker.color": [
               [
                "#B0BEC5",
                "#B0BEC5",
                "#B0BEC5",
                "#B0BEC5",
                "#B0BEC5",
                "#B0BEC5",
                "#B0BEC5",
                "#B0BEC5",
                "#B0BEC5",
                "#B0BEC5",
                "#B0BEC5",
                "#B0BEC5",
                "#B0BEC5",
                "#B0BEC5",
                "#B0BEC5",
                "#B0BEC5",
                "#B0BEC5",
                "#B0BEC5",
                "#B0BEC5",
                "#B0BEC5",
                "#B0BEC5",
                "#B0BEC5",
                "#B0BEC5",
                "#B0BEC5",
                "#B0BEC5",
                "#B0BEC5",
                "red",
                "#B0BEC5",
                "#B0BEC5",
                "#B0BEC5",
                "#B0BEC5",
                "#B0BEC5",
                "#B0BEC5",
                "#B0BEC5",
                "#B0BEC5",
                "#B0BEC5",
                "#B0BEC5",
                "#B0BEC5",
                "#B0BEC5",
                "#B0BEC5",
                "#B0BEC5",
                "#B0BEC5",
                "#B0BEC5",
                "#B0BEC5",
                "#B0BEC5",
                "#B0BEC5",
                "#B0BEC5",
                "#B0BEC5",
                "#B0BEC5",
                "#B0BEC5",
                "#B0BEC5"
               ]
              ]
             }
            ],
            "label": "Topic 26",
            "method": "update"
           },
           {
            "args": [
             {
              "marker.color": [
               [
                "#B0BEC5",
                "#B0BEC5",
                "#B0BEC5",
                "#B0BEC5",
                "#B0BEC5",
                "#B0BEC5",
                "#B0BEC5",
                "#B0BEC5",
                "#B0BEC5",
                "#B0BEC5",
                "#B0BEC5",
                "#B0BEC5",
                "#B0BEC5",
                "#B0BEC5",
                "#B0BEC5",
                "#B0BEC5",
                "#B0BEC5",
                "#B0BEC5",
                "#B0BEC5",
                "#B0BEC5",
                "#B0BEC5",
                "#B0BEC5",
                "#B0BEC5",
                "#B0BEC5",
                "#B0BEC5",
                "#B0BEC5",
                "#B0BEC5",
                "red",
                "#B0BEC5",
                "#B0BEC5",
                "#B0BEC5",
                "#B0BEC5",
                "#B0BEC5",
                "#B0BEC5",
                "#B0BEC5",
                "#B0BEC5",
                "#B0BEC5",
                "#B0BEC5",
                "#B0BEC5",
                "#B0BEC5",
                "#B0BEC5",
                "#B0BEC5",
                "#B0BEC5",
                "#B0BEC5",
                "#B0BEC5",
                "#B0BEC5",
                "#B0BEC5",
                "#B0BEC5",
                "#B0BEC5",
                "#B0BEC5",
                "#B0BEC5"
               ]
              ]
             }
            ],
            "label": "Topic 27",
            "method": "update"
           },
           {
            "args": [
             {
              "marker.color": [
               [
                "#B0BEC5",
                "#B0BEC5",
                "#B0BEC5",
                "#B0BEC5",
                "#B0BEC5",
                "#B0BEC5",
                "#B0BEC5",
                "#B0BEC5",
                "#B0BEC5",
                "#B0BEC5",
                "#B0BEC5",
                "#B0BEC5",
                "#B0BEC5",
                "#B0BEC5",
                "#B0BEC5",
                "#B0BEC5",
                "#B0BEC5",
                "#B0BEC5",
                "#B0BEC5",
                "#B0BEC5",
                "#B0BEC5",
                "#B0BEC5",
                "#B0BEC5",
                "#B0BEC5",
                "#B0BEC5",
                "#B0BEC5",
                "#B0BEC5",
                "#B0BEC5",
                "red",
                "#B0BEC5",
                "#B0BEC5",
                "#B0BEC5",
                "#B0BEC5",
                "#B0BEC5",
                "#B0BEC5",
                "#B0BEC5",
                "#B0BEC5",
                "#B0BEC5",
                "#B0BEC5",
                "#B0BEC5",
                "#B0BEC5",
                "#B0BEC5",
                "#B0BEC5",
                "#B0BEC5",
                "#B0BEC5",
                "#B0BEC5",
                "#B0BEC5",
                "#B0BEC5",
                "#B0BEC5",
                "#B0BEC5",
                "#B0BEC5"
               ]
              ]
             }
            ],
            "label": "Topic 28",
            "method": "update"
           },
           {
            "args": [
             {
              "marker.color": [
               [
                "#B0BEC5",
                "#B0BEC5",
                "#B0BEC5",
                "#B0BEC5",
                "#B0BEC5",
                "#B0BEC5",
                "#B0BEC5",
                "#B0BEC5",
                "#B0BEC5",
                "#B0BEC5",
                "#B0BEC5",
                "#B0BEC5",
                "#B0BEC5",
                "#B0BEC5",
                "#B0BEC5",
                "#B0BEC5",
                "#B0BEC5",
                "#B0BEC5",
                "#B0BEC5",
                "#B0BEC5",
                "#B0BEC5",
                "#B0BEC5",
                "#B0BEC5",
                "#B0BEC5",
                "#B0BEC5",
                "#B0BEC5",
                "#B0BEC5",
                "#B0BEC5",
                "#B0BEC5",
                "red",
                "#B0BEC5",
                "#B0BEC5",
                "#B0BEC5",
                "#B0BEC5",
                "#B0BEC5",
                "#B0BEC5",
                "#B0BEC5",
                "#B0BEC5",
                "#B0BEC5",
                "#B0BEC5",
                "#B0BEC5",
                "#B0BEC5",
                "#B0BEC5",
                "#B0BEC5",
                "#B0BEC5",
                "#B0BEC5",
                "#B0BEC5",
                "#B0BEC5",
                "#B0BEC5",
                "#B0BEC5",
                "#B0BEC5"
               ]
              ]
             }
            ],
            "label": "Topic 29",
            "method": "update"
           },
           {
            "args": [
             {
              "marker.color": [
               [
                "#B0BEC5",
                "#B0BEC5",
                "#B0BEC5",
                "#B0BEC5",
                "#B0BEC5",
                "#B0BEC5",
                "#B0BEC5",
                "#B0BEC5",
                "#B0BEC5",
                "#B0BEC5",
                "#B0BEC5",
                "#B0BEC5",
                "#B0BEC5",
                "#B0BEC5",
                "#B0BEC5",
                "#B0BEC5",
                "#B0BEC5",
                "#B0BEC5",
                "#B0BEC5",
                "#B0BEC5",
                "#B0BEC5",
                "#B0BEC5",
                "#B0BEC5",
                "#B0BEC5",
                "#B0BEC5",
                "#B0BEC5",
                "#B0BEC5",
                "#B0BEC5",
                "#B0BEC5",
                "#B0BEC5",
                "red",
                "#B0BEC5",
                "#B0BEC5",
                "#B0BEC5",
                "#B0BEC5",
                "#B0BEC5",
                "#B0BEC5",
                "#B0BEC5",
                "#B0BEC5",
                "#B0BEC5",
                "#B0BEC5",
                "#B0BEC5",
                "#B0BEC5",
                "#B0BEC5",
                "#B0BEC5",
                "#B0BEC5",
                "#B0BEC5",
                "#B0BEC5",
                "#B0BEC5",
                "#B0BEC5",
                "#B0BEC5"
               ]
              ]
             }
            ],
            "label": "Topic 30",
            "method": "update"
           },
           {
            "args": [
             {
              "marker.color": [
               [
                "#B0BEC5",
                "#B0BEC5",
                "#B0BEC5",
                "#B0BEC5",
                "#B0BEC5",
                "#B0BEC5",
                "#B0BEC5",
                "#B0BEC5",
                "#B0BEC5",
                "#B0BEC5",
                "#B0BEC5",
                "#B0BEC5",
                "#B0BEC5",
                "#B0BEC5",
                "#B0BEC5",
                "#B0BEC5",
                "#B0BEC5",
                "#B0BEC5",
                "#B0BEC5",
                "#B0BEC5",
                "#B0BEC5",
                "#B0BEC5",
                "#B0BEC5",
                "#B0BEC5",
                "#B0BEC5",
                "#B0BEC5",
                "#B0BEC5",
                "#B0BEC5",
                "#B0BEC5",
                "#B0BEC5",
                "#B0BEC5",
                "red",
                "#B0BEC5",
                "#B0BEC5",
                "#B0BEC5",
                "#B0BEC5",
                "#B0BEC5",
                "#B0BEC5",
                "#B0BEC5",
                "#B0BEC5",
                "#B0BEC5",
                "#B0BEC5",
                "#B0BEC5",
                "#B0BEC5",
                "#B0BEC5",
                "#B0BEC5",
                "#B0BEC5",
                "#B0BEC5",
                "#B0BEC5",
                "#B0BEC5",
                "#B0BEC5"
               ]
              ]
             }
            ],
            "label": "Topic 31",
            "method": "update"
           },
           {
            "args": [
             {
              "marker.color": [
               [
                "#B0BEC5",
                "#B0BEC5",
                "#B0BEC5",
                "#B0BEC5",
                "#B0BEC5",
                "#B0BEC5",
                "#B0BEC5",
                "#B0BEC5",
                "#B0BEC5",
                "#B0BEC5",
                "#B0BEC5",
                "#B0BEC5",
                "#B0BEC5",
                "#B0BEC5",
                "#B0BEC5",
                "#B0BEC5",
                "#B0BEC5",
                "#B0BEC5",
                "#B0BEC5",
                "#B0BEC5",
                "#B0BEC5",
                "#B0BEC5",
                "#B0BEC5",
                "#B0BEC5",
                "#B0BEC5",
                "#B0BEC5",
                "#B0BEC5",
                "#B0BEC5",
                "#B0BEC5",
                "#B0BEC5",
                "#B0BEC5",
                "#B0BEC5",
                "red",
                "#B0BEC5",
                "#B0BEC5",
                "#B0BEC5",
                "#B0BEC5",
                "#B0BEC5",
                "#B0BEC5",
                "#B0BEC5",
                "#B0BEC5",
                "#B0BEC5",
                "#B0BEC5",
                "#B0BEC5",
                "#B0BEC5",
                "#B0BEC5",
                "#B0BEC5",
                "#B0BEC5",
                "#B0BEC5",
                "#B0BEC5",
                "#B0BEC5"
               ]
              ]
             }
            ],
            "label": "Topic 32",
            "method": "update"
           },
           {
            "args": [
             {
              "marker.color": [
               [
                "#B0BEC5",
                "#B0BEC5",
                "#B0BEC5",
                "#B0BEC5",
                "#B0BEC5",
                "#B0BEC5",
                "#B0BEC5",
                "#B0BEC5",
                "#B0BEC5",
                "#B0BEC5",
                "#B0BEC5",
                "#B0BEC5",
                "#B0BEC5",
                "#B0BEC5",
                "#B0BEC5",
                "#B0BEC5",
                "#B0BEC5",
                "#B0BEC5",
                "#B0BEC5",
                "#B0BEC5",
                "#B0BEC5",
                "#B0BEC5",
                "#B0BEC5",
                "#B0BEC5",
                "#B0BEC5",
                "#B0BEC5",
                "#B0BEC5",
                "#B0BEC5",
                "#B0BEC5",
                "#B0BEC5",
                "#B0BEC5",
                "#B0BEC5",
                "#B0BEC5",
                "red",
                "#B0BEC5",
                "#B0BEC5",
                "#B0BEC5",
                "#B0BEC5",
                "#B0BEC5",
                "#B0BEC5",
                "#B0BEC5",
                "#B0BEC5",
                "#B0BEC5",
                "#B0BEC5",
                "#B0BEC5",
                "#B0BEC5",
                "#B0BEC5",
                "#B0BEC5",
                "#B0BEC5",
                "#B0BEC5",
                "#B0BEC5"
               ]
              ]
             }
            ],
            "label": "Topic 33",
            "method": "update"
           },
           {
            "args": [
             {
              "marker.color": [
               [
                "#B0BEC5",
                "#B0BEC5",
                "#B0BEC5",
                "#B0BEC5",
                "#B0BEC5",
                "#B0BEC5",
                "#B0BEC5",
                "#B0BEC5",
                "#B0BEC5",
                "#B0BEC5",
                "#B0BEC5",
                "#B0BEC5",
                "#B0BEC5",
                "#B0BEC5",
                "#B0BEC5",
                "#B0BEC5",
                "#B0BEC5",
                "#B0BEC5",
                "#B0BEC5",
                "#B0BEC5",
                "#B0BEC5",
                "#B0BEC5",
                "#B0BEC5",
                "#B0BEC5",
                "#B0BEC5",
                "#B0BEC5",
                "#B0BEC5",
                "#B0BEC5",
                "#B0BEC5",
                "#B0BEC5",
                "#B0BEC5",
                "#B0BEC5",
                "#B0BEC5",
                "#B0BEC5",
                "red",
                "#B0BEC5",
                "#B0BEC5",
                "#B0BEC5",
                "#B0BEC5",
                "#B0BEC5",
                "#B0BEC5",
                "#B0BEC5",
                "#B0BEC5",
                "#B0BEC5",
                "#B0BEC5",
                "#B0BEC5",
                "#B0BEC5",
                "#B0BEC5",
                "#B0BEC5",
                "#B0BEC5",
                "#B0BEC5"
               ]
              ]
             }
            ],
            "label": "Topic 34",
            "method": "update"
           },
           {
            "args": [
             {
              "marker.color": [
               [
                "#B0BEC5",
                "#B0BEC5",
                "#B0BEC5",
                "#B0BEC5",
                "#B0BEC5",
                "#B0BEC5",
                "#B0BEC5",
                "#B0BEC5",
                "#B0BEC5",
                "#B0BEC5",
                "#B0BEC5",
                "#B0BEC5",
                "#B0BEC5",
                "#B0BEC5",
                "#B0BEC5",
                "#B0BEC5",
                "#B0BEC5",
                "#B0BEC5",
                "#B0BEC5",
                "#B0BEC5",
                "#B0BEC5",
                "#B0BEC5",
                "#B0BEC5",
                "#B0BEC5",
                "#B0BEC5",
                "#B0BEC5",
                "#B0BEC5",
                "#B0BEC5",
                "#B0BEC5",
                "#B0BEC5",
                "#B0BEC5",
                "#B0BEC5",
                "#B0BEC5",
                "#B0BEC5",
                "#B0BEC5",
                "red",
                "#B0BEC5",
                "#B0BEC5",
                "#B0BEC5",
                "#B0BEC5",
                "#B0BEC5",
                "#B0BEC5",
                "#B0BEC5",
                "#B0BEC5",
                "#B0BEC5",
                "#B0BEC5",
                "#B0BEC5",
                "#B0BEC5",
                "#B0BEC5",
                "#B0BEC5",
                "#B0BEC5"
               ]
              ]
             }
            ],
            "label": "Topic 35",
            "method": "update"
           },
           {
            "args": [
             {
              "marker.color": [
               [
                "#B0BEC5",
                "#B0BEC5",
                "#B0BEC5",
                "#B0BEC5",
                "#B0BEC5",
                "#B0BEC5",
                "#B0BEC5",
                "#B0BEC5",
                "#B0BEC5",
                "#B0BEC5",
                "#B0BEC5",
                "#B0BEC5",
                "#B0BEC5",
                "#B0BEC5",
                "#B0BEC5",
                "#B0BEC5",
                "#B0BEC5",
                "#B0BEC5",
                "#B0BEC5",
                "#B0BEC5",
                "#B0BEC5",
                "#B0BEC5",
                "#B0BEC5",
                "#B0BEC5",
                "#B0BEC5",
                "#B0BEC5",
                "#B0BEC5",
                "#B0BEC5",
                "#B0BEC5",
                "#B0BEC5",
                "#B0BEC5",
                "#B0BEC5",
                "#B0BEC5",
                "#B0BEC5",
                "#B0BEC5",
                "#B0BEC5",
                "red",
                "#B0BEC5",
                "#B0BEC5",
                "#B0BEC5",
                "#B0BEC5",
                "#B0BEC5",
                "#B0BEC5",
                "#B0BEC5",
                "#B0BEC5",
                "#B0BEC5",
                "#B0BEC5",
                "#B0BEC5",
                "#B0BEC5",
                "#B0BEC5",
                "#B0BEC5"
               ]
              ]
             }
            ],
            "label": "Topic 36",
            "method": "update"
           },
           {
            "args": [
             {
              "marker.color": [
               [
                "#B0BEC5",
                "#B0BEC5",
                "#B0BEC5",
                "#B0BEC5",
                "#B0BEC5",
                "#B0BEC5",
                "#B0BEC5",
                "#B0BEC5",
                "#B0BEC5",
                "#B0BEC5",
                "#B0BEC5",
                "#B0BEC5",
                "#B0BEC5",
                "#B0BEC5",
                "#B0BEC5",
                "#B0BEC5",
                "#B0BEC5",
                "#B0BEC5",
                "#B0BEC5",
                "#B0BEC5",
                "#B0BEC5",
                "#B0BEC5",
                "#B0BEC5",
                "#B0BEC5",
                "#B0BEC5",
                "#B0BEC5",
                "#B0BEC5",
                "#B0BEC5",
                "#B0BEC5",
                "#B0BEC5",
                "#B0BEC5",
                "#B0BEC5",
                "#B0BEC5",
                "#B0BEC5",
                "#B0BEC5",
                "#B0BEC5",
                "#B0BEC5",
                "red",
                "#B0BEC5",
                "#B0BEC5",
                "#B0BEC5",
                "#B0BEC5",
                "#B0BEC5",
                "#B0BEC5",
                "#B0BEC5",
                "#B0BEC5",
                "#B0BEC5",
                "#B0BEC5",
                "#B0BEC5",
                "#B0BEC5",
                "#B0BEC5"
               ]
              ]
             }
            ],
            "label": "Topic 37",
            "method": "update"
           },
           {
            "args": [
             {
              "marker.color": [
               [
                "#B0BEC5",
                "#B0BEC5",
                "#B0BEC5",
                "#B0BEC5",
                "#B0BEC5",
                "#B0BEC5",
                "#B0BEC5",
                "#B0BEC5",
                "#B0BEC5",
                "#B0BEC5",
                "#B0BEC5",
                "#B0BEC5",
                "#B0BEC5",
                "#B0BEC5",
                "#B0BEC5",
                "#B0BEC5",
                "#B0BEC5",
                "#B0BEC5",
                "#B0BEC5",
                "#B0BEC5",
                "#B0BEC5",
                "#B0BEC5",
                "#B0BEC5",
                "#B0BEC5",
                "#B0BEC5",
                "#B0BEC5",
                "#B0BEC5",
                "#B0BEC5",
                "#B0BEC5",
                "#B0BEC5",
                "#B0BEC5",
                "#B0BEC5",
                "#B0BEC5",
                "#B0BEC5",
                "#B0BEC5",
                "#B0BEC5",
                "#B0BEC5",
                "#B0BEC5",
                "red",
                "#B0BEC5",
                "#B0BEC5",
                "#B0BEC5",
                "#B0BEC5",
                "#B0BEC5",
                "#B0BEC5",
                "#B0BEC5",
                "#B0BEC5",
                "#B0BEC5",
                "#B0BEC5",
                "#B0BEC5",
                "#B0BEC5"
               ]
              ]
             }
            ],
            "label": "Topic 38",
            "method": "update"
           },
           {
            "args": [
             {
              "marker.color": [
               [
                "#B0BEC5",
                "#B0BEC5",
                "#B0BEC5",
                "#B0BEC5",
                "#B0BEC5",
                "#B0BEC5",
                "#B0BEC5",
                "#B0BEC5",
                "#B0BEC5",
                "#B0BEC5",
                "#B0BEC5",
                "#B0BEC5",
                "#B0BEC5",
                "#B0BEC5",
                "#B0BEC5",
                "#B0BEC5",
                "#B0BEC5",
                "#B0BEC5",
                "#B0BEC5",
                "#B0BEC5",
                "#B0BEC5",
                "#B0BEC5",
                "#B0BEC5",
                "#B0BEC5",
                "#B0BEC5",
                "#B0BEC5",
                "#B0BEC5",
                "#B0BEC5",
                "#B0BEC5",
                "#B0BEC5",
                "#B0BEC5",
                "#B0BEC5",
                "#B0BEC5",
                "#B0BEC5",
                "#B0BEC5",
                "#B0BEC5",
                "#B0BEC5",
                "#B0BEC5",
                "#B0BEC5",
                "red",
                "#B0BEC5",
                "#B0BEC5",
                "#B0BEC5",
                "#B0BEC5",
                "#B0BEC5",
                "#B0BEC5",
                "#B0BEC5",
                "#B0BEC5",
                "#B0BEC5",
                "#B0BEC5",
                "#B0BEC5"
               ]
              ]
             }
            ],
            "label": "Topic 39",
            "method": "update"
           },
           {
            "args": [
             {
              "marker.color": [
               [
                "#B0BEC5",
                "#B0BEC5",
                "#B0BEC5",
                "#B0BEC5",
                "#B0BEC5",
                "#B0BEC5",
                "#B0BEC5",
                "#B0BEC5",
                "#B0BEC5",
                "#B0BEC5",
                "#B0BEC5",
                "#B0BEC5",
                "#B0BEC5",
                "#B0BEC5",
                "#B0BEC5",
                "#B0BEC5",
                "#B0BEC5",
                "#B0BEC5",
                "#B0BEC5",
                "#B0BEC5",
                "#B0BEC5",
                "#B0BEC5",
                "#B0BEC5",
                "#B0BEC5",
                "#B0BEC5",
                "#B0BEC5",
                "#B0BEC5",
                "#B0BEC5",
                "#B0BEC5",
                "#B0BEC5",
                "#B0BEC5",
                "#B0BEC5",
                "#B0BEC5",
                "#B0BEC5",
                "#B0BEC5",
                "#B0BEC5",
                "#B0BEC5",
                "#B0BEC5",
                "#B0BEC5",
                "#B0BEC5",
                "red",
                "#B0BEC5",
                "#B0BEC5",
                "#B0BEC5",
                "#B0BEC5",
                "#B0BEC5",
                "#B0BEC5",
                "#B0BEC5",
                "#B0BEC5",
                "#B0BEC5",
                "#B0BEC5"
               ]
              ]
             }
            ],
            "label": "Topic 40",
            "method": "update"
           },
           {
            "args": [
             {
              "marker.color": [
               [
                "#B0BEC5",
                "#B0BEC5",
                "#B0BEC5",
                "#B0BEC5",
                "#B0BEC5",
                "#B0BEC5",
                "#B0BEC5",
                "#B0BEC5",
                "#B0BEC5",
                "#B0BEC5",
                "#B0BEC5",
                "#B0BEC5",
                "#B0BEC5",
                "#B0BEC5",
                "#B0BEC5",
                "#B0BEC5",
                "#B0BEC5",
                "#B0BEC5",
                "#B0BEC5",
                "#B0BEC5",
                "#B0BEC5",
                "#B0BEC5",
                "#B0BEC5",
                "#B0BEC5",
                "#B0BEC5",
                "#B0BEC5",
                "#B0BEC5",
                "#B0BEC5",
                "#B0BEC5",
                "#B0BEC5",
                "#B0BEC5",
                "#B0BEC5",
                "#B0BEC5",
                "#B0BEC5",
                "#B0BEC5",
                "#B0BEC5",
                "#B0BEC5",
                "#B0BEC5",
                "#B0BEC5",
                "#B0BEC5",
                "#B0BEC5",
                "red",
                "#B0BEC5",
                "#B0BEC5",
                "#B0BEC5",
                "#B0BEC5",
                "#B0BEC5",
                "#B0BEC5",
                "#B0BEC5",
                "#B0BEC5",
                "#B0BEC5"
               ]
              ]
             }
            ],
            "label": "Topic 41",
            "method": "update"
           },
           {
            "args": [
             {
              "marker.color": [
               [
                "#B0BEC5",
                "#B0BEC5",
                "#B0BEC5",
                "#B0BEC5",
                "#B0BEC5",
                "#B0BEC5",
                "#B0BEC5",
                "#B0BEC5",
                "#B0BEC5",
                "#B0BEC5",
                "#B0BEC5",
                "#B0BEC5",
                "#B0BEC5",
                "#B0BEC5",
                "#B0BEC5",
                "#B0BEC5",
                "#B0BEC5",
                "#B0BEC5",
                "#B0BEC5",
                "#B0BEC5",
                "#B0BEC5",
                "#B0BEC5",
                "#B0BEC5",
                "#B0BEC5",
                "#B0BEC5",
                "#B0BEC5",
                "#B0BEC5",
                "#B0BEC5",
                "#B0BEC5",
                "#B0BEC5",
                "#B0BEC5",
                "#B0BEC5",
                "#B0BEC5",
                "#B0BEC5",
                "#B0BEC5",
                "#B0BEC5",
                "#B0BEC5",
                "#B0BEC5",
                "#B0BEC5",
                "#B0BEC5",
                "#B0BEC5",
                "#B0BEC5",
                "red",
                "#B0BEC5",
                "#B0BEC5",
                "#B0BEC5",
                "#B0BEC5",
                "#B0BEC5",
                "#B0BEC5",
                "#B0BEC5",
                "#B0BEC5"
               ]
              ]
             }
            ],
            "label": "Topic 42",
            "method": "update"
           },
           {
            "args": [
             {
              "marker.color": [
               [
                "#B0BEC5",
                "#B0BEC5",
                "#B0BEC5",
                "#B0BEC5",
                "#B0BEC5",
                "#B0BEC5",
                "#B0BEC5",
                "#B0BEC5",
                "#B0BEC5",
                "#B0BEC5",
                "#B0BEC5",
                "#B0BEC5",
                "#B0BEC5",
                "#B0BEC5",
                "#B0BEC5",
                "#B0BEC5",
                "#B0BEC5",
                "#B0BEC5",
                "#B0BEC5",
                "#B0BEC5",
                "#B0BEC5",
                "#B0BEC5",
                "#B0BEC5",
                "#B0BEC5",
                "#B0BEC5",
                "#B0BEC5",
                "#B0BEC5",
                "#B0BEC5",
                "#B0BEC5",
                "#B0BEC5",
                "#B0BEC5",
                "#B0BEC5",
                "#B0BEC5",
                "#B0BEC5",
                "#B0BEC5",
                "#B0BEC5",
                "#B0BEC5",
                "#B0BEC5",
                "#B0BEC5",
                "#B0BEC5",
                "#B0BEC5",
                "#B0BEC5",
                "#B0BEC5",
                "red",
                "#B0BEC5",
                "#B0BEC5",
                "#B0BEC5",
                "#B0BEC5",
                "#B0BEC5",
                "#B0BEC5",
                "#B0BEC5"
               ]
              ]
             }
            ],
            "label": "Topic 43",
            "method": "update"
           },
           {
            "args": [
             {
              "marker.color": [
               [
                "#B0BEC5",
                "#B0BEC5",
                "#B0BEC5",
                "#B0BEC5",
                "#B0BEC5",
                "#B0BEC5",
                "#B0BEC5",
                "#B0BEC5",
                "#B0BEC5",
                "#B0BEC5",
                "#B0BEC5",
                "#B0BEC5",
                "#B0BEC5",
                "#B0BEC5",
                "#B0BEC5",
                "#B0BEC5",
                "#B0BEC5",
                "#B0BEC5",
                "#B0BEC5",
                "#B0BEC5",
                "#B0BEC5",
                "#B0BEC5",
                "#B0BEC5",
                "#B0BEC5",
                "#B0BEC5",
                "#B0BEC5",
                "#B0BEC5",
                "#B0BEC5",
                "#B0BEC5",
                "#B0BEC5",
                "#B0BEC5",
                "#B0BEC5",
                "#B0BEC5",
                "#B0BEC5",
                "#B0BEC5",
                "#B0BEC5",
                "#B0BEC5",
                "#B0BEC5",
                "#B0BEC5",
                "#B0BEC5",
                "#B0BEC5",
                "#B0BEC5",
                "#B0BEC5",
                "#B0BEC5",
                "red",
                "#B0BEC5",
                "#B0BEC5",
                "#B0BEC5",
                "#B0BEC5",
                "#B0BEC5",
                "#B0BEC5"
               ]
              ]
             }
            ],
            "label": "Topic 44",
            "method": "update"
           },
           {
            "args": [
             {
              "marker.color": [
               [
                "#B0BEC5",
                "#B0BEC5",
                "#B0BEC5",
                "#B0BEC5",
                "#B0BEC5",
                "#B0BEC5",
                "#B0BEC5",
                "#B0BEC5",
                "#B0BEC5",
                "#B0BEC5",
                "#B0BEC5",
                "#B0BEC5",
                "#B0BEC5",
                "#B0BEC5",
                "#B0BEC5",
                "#B0BEC5",
                "#B0BEC5",
                "#B0BEC5",
                "#B0BEC5",
                "#B0BEC5",
                "#B0BEC5",
                "#B0BEC5",
                "#B0BEC5",
                "#B0BEC5",
                "#B0BEC5",
                "#B0BEC5",
                "#B0BEC5",
                "#B0BEC5",
                "#B0BEC5",
                "#B0BEC5",
                "#B0BEC5",
                "#B0BEC5",
                "#B0BEC5",
                "#B0BEC5",
                "#B0BEC5",
                "#B0BEC5",
                "#B0BEC5",
                "#B0BEC5",
                "#B0BEC5",
                "#B0BEC5",
                "#B0BEC5",
                "#B0BEC5",
                "#B0BEC5",
                "#B0BEC5",
                "#B0BEC5",
                "red",
                "#B0BEC5",
                "#B0BEC5",
                "#B0BEC5",
                "#B0BEC5",
                "#B0BEC5"
               ]
              ]
             }
            ],
            "label": "Topic 45",
            "method": "update"
           },
           {
            "args": [
             {
              "marker.color": [
               [
                "#B0BEC5",
                "#B0BEC5",
                "#B0BEC5",
                "#B0BEC5",
                "#B0BEC5",
                "#B0BEC5",
                "#B0BEC5",
                "#B0BEC5",
                "#B0BEC5",
                "#B0BEC5",
                "#B0BEC5",
                "#B0BEC5",
                "#B0BEC5",
                "#B0BEC5",
                "#B0BEC5",
                "#B0BEC5",
                "#B0BEC5",
                "#B0BEC5",
                "#B0BEC5",
                "#B0BEC5",
                "#B0BEC5",
                "#B0BEC5",
                "#B0BEC5",
                "#B0BEC5",
                "#B0BEC5",
                "#B0BEC5",
                "#B0BEC5",
                "#B0BEC5",
                "#B0BEC5",
                "#B0BEC5",
                "#B0BEC5",
                "#B0BEC5",
                "#B0BEC5",
                "#B0BEC5",
                "#B0BEC5",
                "#B0BEC5",
                "#B0BEC5",
                "#B0BEC5",
                "#B0BEC5",
                "#B0BEC5",
                "#B0BEC5",
                "#B0BEC5",
                "#B0BEC5",
                "#B0BEC5",
                "#B0BEC5",
                "#B0BEC5",
                "red",
                "#B0BEC5",
                "#B0BEC5",
                "#B0BEC5",
                "#B0BEC5"
               ]
              ]
             }
            ],
            "label": "Topic 46",
            "method": "update"
           },
           {
            "args": [
             {
              "marker.color": [
               [
                "#B0BEC5",
                "#B0BEC5",
                "#B0BEC5",
                "#B0BEC5",
                "#B0BEC5",
                "#B0BEC5",
                "#B0BEC5",
                "#B0BEC5",
                "#B0BEC5",
                "#B0BEC5",
                "#B0BEC5",
                "#B0BEC5",
                "#B0BEC5",
                "#B0BEC5",
                "#B0BEC5",
                "#B0BEC5",
                "#B0BEC5",
                "#B0BEC5",
                "#B0BEC5",
                "#B0BEC5",
                "#B0BEC5",
                "#B0BEC5",
                "#B0BEC5",
                "#B0BEC5",
                "#B0BEC5",
                "#B0BEC5",
                "#B0BEC5",
                "#B0BEC5",
                "#B0BEC5",
                "#B0BEC5",
                "#B0BEC5",
                "#B0BEC5",
                "#B0BEC5",
                "#B0BEC5",
                "#B0BEC5",
                "#B0BEC5",
                "#B0BEC5",
                "#B0BEC5",
                "#B0BEC5",
                "#B0BEC5",
                "#B0BEC5",
                "#B0BEC5",
                "#B0BEC5",
                "#B0BEC5",
                "#B0BEC5",
                "#B0BEC5",
                "#B0BEC5",
                "red",
                "#B0BEC5",
                "#B0BEC5",
                "#B0BEC5"
               ]
              ]
             }
            ],
            "label": "Topic 47",
            "method": "update"
           },
           {
            "args": [
             {
              "marker.color": [
               [
                "#B0BEC5",
                "#B0BEC5",
                "#B0BEC5",
                "#B0BEC5",
                "#B0BEC5",
                "#B0BEC5",
                "#B0BEC5",
                "#B0BEC5",
                "#B0BEC5",
                "#B0BEC5",
                "#B0BEC5",
                "#B0BEC5",
                "#B0BEC5",
                "#B0BEC5",
                "#B0BEC5",
                "#B0BEC5",
                "#B0BEC5",
                "#B0BEC5",
                "#B0BEC5",
                "#B0BEC5",
                "#B0BEC5",
                "#B0BEC5",
                "#B0BEC5",
                "#B0BEC5",
                "#B0BEC5",
                "#B0BEC5",
                "#B0BEC5",
                "#B0BEC5",
                "#B0BEC5",
                "#B0BEC5",
                "#B0BEC5",
                "#B0BEC5",
                "#B0BEC5",
                "#B0BEC5",
                "#B0BEC5",
                "#B0BEC5",
                "#B0BEC5",
                "#B0BEC5",
                "#B0BEC5",
                "#B0BEC5",
                "#B0BEC5",
                "#B0BEC5",
                "#B0BEC5",
                "#B0BEC5",
                "#B0BEC5",
                "#B0BEC5",
                "#B0BEC5",
                "#B0BEC5",
                "red",
                "#B0BEC5",
                "#B0BEC5"
               ]
              ]
             }
            ],
            "label": "Topic 48",
            "method": "update"
           },
           {
            "args": [
             {
              "marker.color": [
               [
                "#B0BEC5",
                "#B0BEC5",
                "#B0BEC5",
                "#B0BEC5",
                "#B0BEC5",
                "#B0BEC5",
                "#B0BEC5",
                "#B0BEC5",
                "#B0BEC5",
                "#B0BEC5",
                "#B0BEC5",
                "#B0BEC5",
                "#B0BEC5",
                "#B0BEC5",
                "#B0BEC5",
                "#B0BEC5",
                "#B0BEC5",
                "#B0BEC5",
                "#B0BEC5",
                "#B0BEC5",
                "#B0BEC5",
                "#B0BEC5",
                "#B0BEC5",
                "#B0BEC5",
                "#B0BEC5",
                "#B0BEC5",
                "#B0BEC5",
                "#B0BEC5",
                "#B0BEC5",
                "#B0BEC5",
                "#B0BEC5",
                "#B0BEC5",
                "#B0BEC5",
                "#B0BEC5",
                "#B0BEC5",
                "#B0BEC5",
                "#B0BEC5",
                "#B0BEC5",
                "#B0BEC5",
                "#B0BEC5",
                "#B0BEC5",
                "#B0BEC5",
                "#B0BEC5",
                "#B0BEC5",
                "#B0BEC5",
                "#B0BEC5",
                "#B0BEC5",
                "#B0BEC5",
                "#B0BEC5",
                "red",
                "#B0BEC5"
               ]
              ]
             }
            ],
            "label": "Topic 49",
            "method": "update"
           },
           {
            "args": [
             {
              "marker.color": [
               [
                "#B0BEC5",
                "#B0BEC5",
                "#B0BEC5",
                "#B0BEC5",
                "#B0BEC5",
                "#B0BEC5",
                "#B0BEC5",
                "#B0BEC5",
                "#B0BEC5",
                "#B0BEC5",
                "#B0BEC5",
                "#B0BEC5",
                "#B0BEC5",
                "#B0BEC5",
                "#B0BEC5",
                "#B0BEC5",
                "#B0BEC5",
                "#B0BEC5",
                "#B0BEC5",
                "#B0BEC5",
                "#B0BEC5",
                "#B0BEC5",
                "#B0BEC5",
                "#B0BEC5",
                "#B0BEC5",
                "#B0BEC5",
                "#B0BEC5",
                "#B0BEC5",
                "#B0BEC5",
                "#B0BEC5",
                "#B0BEC5",
                "#B0BEC5",
                "#B0BEC5",
                "#B0BEC5",
                "#B0BEC5",
                "#B0BEC5",
                "#B0BEC5",
                "#B0BEC5",
                "#B0BEC5",
                "#B0BEC5",
                "#B0BEC5",
                "#B0BEC5",
                "#B0BEC5",
                "#B0BEC5",
                "#B0BEC5",
                "#B0BEC5",
                "#B0BEC5",
                "#B0BEC5",
                "#B0BEC5",
                "#B0BEC5",
                "red"
               ]
              ]
             }
            ],
            "label": "Topic 50",
            "method": "update"
           }
          ]
         }
        ],
        "template": {
         "data": {
          "bar": [
           {
            "error_x": {
             "color": "rgb(36,36,36)"
            },
            "error_y": {
             "color": "rgb(36,36,36)"
            },
            "marker": {
             "line": {
              "color": "white",
              "width": 0.5
             },
             "pattern": {
              "fillmode": "overlay",
              "size": 10,
              "solidity": 0.2
             }
            },
            "type": "bar"
           }
          ],
          "barpolar": [
           {
            "marker": {
             "line": {
              "color": "white",
              "width": 0.5
             },
             "pattern": {
              "fillmode": "overlay",
              "size": 10,
              "solidity": 0.2
             }
            },
            "type": "barpolar"
           }
          ],
          "carpet": [
           {
            "aaxis": {
             "endlinecolor": "rgb(36,36,36)",
             "gridcolor": "white",
             "linecolor": "white",
             "minorgridcolor": "white",
             "startlinecolor": "rgb(36,36,36)"
            },
            "baxis": {
             "endlinecolor": "rgb(36,36,36)",
             "gridcolor": "white",
             "linecolor": "white",
             "minorgridcolor": "white",
             "startlinecolor": "rgb(36,36,36)"
            },
            "type": "carpet"
           }
          ],
          "choropleth": [
           {
            "colorbar": {
             "outlinewidth": 1,
             "tickcolor": "rgb(36,36,36)",
             "ticks": "outside"
            },
            "type": "choropleth"
           }
          ],
          "contour": [
           {
            "colorbar": {
             "outlinewidth": 1,
             "tickcolor": "rgb(36,36,36)",
             "ticks": "outside"
            },
            "colorscale": [
             [
              0,
              "#440154"
             ],
             [
              0.1111111111111111,
              "#482878"
             ],
             [
              0.2222222222222222,
              "#3e4989"
             ],
             [
              0.3333333333333333,
              "#31688e"
             ],
             [
              0.4444444444444444,
              "#26828e"
             ],
             [
              0.5555555555555556,
              "#1f9e89"
             ],
             [
              0.6666666666666666,
              "#35b779"
             ],
             [
              0.7777777777777778,
              "#6ece58"
             ],
             [
              0.8888888888888888,
              "#b5de2b"
             ],
             [
              1,
              "#fde725"
             ]
            ],
            "type": "contour"
           }
          ],
          "contourcarpet": [
           {
            "colorbar": {
             "outlinewidth": 1,
             "tickcolor": "rgb(36,36,36)",
             "ticks": "outside"
            },
            "type": "contourcarpet"
           }
          ],
          "heatmap": [
           {
            "colorbar": {
             "outlinewidth": 1,
             "tickcolor": "rgb(36,36,36)",
             "ticks": "outside"
            },
            "colorscale": [
             [
              0,
              "#440154"
             ],
             [
              0.1111111111111111,
              "#482878"
             ],
             [
              0.2222222222222222,
              "#3e4989"
             ],
             [
              0.3333333333333333,
              "#31688e"
             ],
             [
              0.4444444444444444,
              "#26828e"
             ],
             [
              0.5555555555555556,
              "#1f9e89"
             ],
             [
              0.6666666666666666,
              "#35b779"
             ],
             [
              0.7777777777777778,
              "#6ece58"
             ],
             [
              0.8888888888888888,
              "#b5de2b"
             ],
             [
              1,
              "#fde725"
             ]
            ],
            "type": "heatmap"
           }
          ],
          "heatmapgl": [
           {
            "colorbar": {
             "outlinewidth": 1,
             "tickcolor": "rgb(36,36,36)",
             "ticks": "outside"
            },
            "colorscale": [
             [
              0,
              "#440154"
             ],
             [
              0.1111111111111111,
              "#482878"
             ],
             [
              0.2222222222222222,
              "#3e4989"
             ],
             [
              0.3333333333333333,
              "#31688e"
             ],
             [
              0.4444444444444444,
              "#26828e"
             ],
             [
              0.5555555555555556,
              "#1f9e89"
             ],
             [
              0.6666666666666666,
              "#35b779"
             ],
             [
              0.7777777777777778,
              "#6ece58"
             ],
             [
              0.8888888888888888,
              "#b5de2b"
             ],
             [
              1,
              "#fde725"
             ]
            ],
            "type": "heatmapgl"
           }
          ],
          "histogram": [
           {
            "marker": {
             "line": {
              "color": "white",
              "width": 0.6
             }
            },
            "type": "histogram"
           }
          ],
          "histogram2d": [
           {
            "colorbar": {
             "outlinewidth": 1,
             "tickcolor": "rgb(36,36,36)",
             "ticks": "outside"
            },
            "colorscale": [
             [
              0,
              "#440154"
             ],
             [
              0.1111111111111111,
              "#482878"
             ],
             [
              0.2222222222222222,
              "#3e4989"
             ],
             [
              0.3333333333333333,
              "#31688e"
             ],
             [
              0.4444444444444444,
              "#26828e"
             ],
             [
              0.5555555555555556,
              "#1f9e89"
             ],
             [
              0.6666666666666666,
              "#35b779"
             ],
             [
              0.7777777777777778,
              "#6ece58"
             ],
             [
              0.8888888888888888,
              "#b5de2b"
             ],
             [
              1,
              "#fde725"
             ]
            ],
            "type": "histogram2d"
           }
          ],
          "histogram2dcontour": [
           {
            "colorbar": {
             "outlinewidth": 1,
             "tickcolor": "rgb(36,36,36)",
             "ticks": "outside"
            },
            "colorscale": [
             [
              0,
              "#440154"
             ],
             [
              0.1111111111111111,
              "#482878"
             ],
             [
              0.2222222222222222,
              "#3e4989"
             ],
             [
              0.3333333333333333,
              "#31688e"
             ],
             [
              0.4444444444444444,
              "#26828e"
             ],
             [
              0.5555555555555556,
              "#1f9e89"
             ],
             [
              0.6666666666666666,
              "#35b779"
             ],
             [
              0.7777777777777778,
              "#6ece58"
             ],
             [
              0.8888888888888888,
              "#b5de2b"
             ],
             [
              1,
              "#fde725"
             ]
            ],
            "type": "histogram2dcontour"
           }
          ],
          "mesh3d": [
           {
            "colorbar": {
             "outlinewidth": 1,
             "tickcolor": "rgb(36,36,36)",
             "ticks": "outside"
            },
            "type": "mesh3d"
           }
          ],
          "parcoords": [
           {
            "line": {
             "colorbar": {
              "outlinewidth": 1,
              "tickcolor": "rgb(36,36,36)",
              "ticks": "outside"
             }
            },
            "type": "parcoords"
           }
          ],
          "pie": [
           {
            "automargin": true,
            "type": "pie"
           }
          ],
          "scatter": [
           {
            "fillpattern": {
             "fillmode": "overlay",
             "size": 10,
             "solidity": 0.2
            },
            "type": "scatter"
           }
          ],
          "scatter3d": [
           {
            "line": {
             "colorbar": {
              "outlinewidth": 1,
              "tickcolor": "rgb(36,36,36)",
              "ticks": "outside"
             }
            },
            "marker": {
             "colorbar": {
              "outlinewidth": 1,
              "tickcolor": "rgb(36,36,36)",
              "ticks": "outside"
             }
            },
            "type": "scatter3d"
           }
          ],
          "scattercarpet": [
           {
            "marker": {
             "colorbar": {
              "outlinewidth": 1,
              "tickcolor": "rgb(36,36,36)",
              "ticks": "outside"
             }
            },
            "type": "scattercarpet"
           }
          ],
          "scattergeo": [
           {
            "marker": {
             "colorbar": {
              "outlinewidth": 1,
              "tickcolor": "rgb(36,36,36)",
              "ticks": "outside"
             }
            },
            "type": "scattergeo"
           }
          ],
          "scattergl": [
           {
            "marker": {
             "colorbar": {
              "outlinewidth": 1,
              "tickcolor": "rgb(36,36,36)",
              "ticks": "outside"
             }
            },
            "type": "scattergl"
           }
          ],
          "scattermapbox": [
           {
            "marker": {
             "colorbar": {
              "outlinewidth": 1,
              "tickcolor": "rgb(36,36,36)",
              "ticks": "outside"
             }
            },
            "type": "scattermapbox"
           }
          ],
          "scatterpolar": [
           {
            "marker": {
             "colorbar": {
              "outlinewidth": 1,
              "tickcolor": "rgb(36,36,36)",
              "ticks": "outside"
             }
            },
            "type": "scatterpolar"
           }
          ],
          "scatterpolargl": [
           {
            "marker": {
             "colorbar": {
              "outlinewidth": 1,
              "tickcolor": "rgb(36,36,36)",
              "ticks": "outside"
             }
            },
            "type": "scatterpolargl"
           }
          ],
          "scatterternary": [
           {
            "marker": {
             "colorbar": {
              "outlinewidth": 1,
              "tickcolor": "rgb(36,36,36)",
              "ticks": "outside"
             }
            },
            "type": "scatterternary"
           }
          ],
          "surface": [
           {
            "colorbar": {
             "outlinewidth": 1,
             "tickcolor": "rgb(36,36,36)",
             "ticks": "outside"
            },
            "colorscale": [
             [
              0,
              "#440154"
             ],
             [
              0.1111111111111111,
              "#482878"
             ],
             [
              0.2222222222222222,
              "#3e4989"
             ],
             [
              0.3333333333333333,
              "#31688e"
             ],
             [
              0.4444444444444444,
              "#26828e"
             ],
             [
              0.5555555555555556,
              "#1f9e89"
             ],
             [
              0.6666666666666666,
              "#35b779"
             ],
             [
              0.7777777777777778,
              "#6ece58"
             ],
             [
              0.8888888888888888,
              "#b5de2b"
             ],
             [
              1,
              "#fde725"
             ]
            ],
            "type": "surface"
           }
          ],
          "table": [
           {
            "cells": {
             "fill": {
              "color": "rgb(237,237,237)"
             },
             "line": {
              "color": "white"
             }
            },
            "header": {
             "fill": {
              "color": "rgb(217,217,217)"
             },
             "line": {
              "color": "white"
             }
            },
            "type": "table"
           }
          ]
         },
         "layout": {
          "annotationdefaults": {
           "arrowhead": 0,
           "arrowwidth": 1
          },
          "autotypenumbers": "strict",
          "coloraxis": {
           "colorbar": {
            "outlinewidth": 1,
            "tickcolor": "rgb(36,36,36)",
            "ticks": "outside"
           }
          },
          "colorscale": {
           "diverging": [
            [
             0,
             "rgb(103,0,31)"
            ],
            [
             0.1,
             "rgb(178,24,43)"
            ],
            [
             0.2,
             "rgb(214,96,77)"
            ],
            [
             0.3,
             "rgb(244,165,130)"
            ],
            [
             0.4,
             "rgb(253,219,199)"
            ],
            [
             0.5,
             "rgb(247,247,247)"
            ],
            [
             0.6,
             "rgb(209,229,240)"
            ],
            [
             0.7,
             "rgb(146,197,222)"
            ],
            [
             0.8,
             "rgb(67,147,195)"
            ],
            [
             0.9,
             "rgb(33,102,172)"
            ],
            [
             1,
             "rgb(5,48,97)"
            ]
           ],
           "sequential": [
            [
             0,
             "#440154"
            ],
            [
             0.1111111111111111,
             "#482878"
            ],
            [
             0.2222222222222222,
             "#3e4989"
            ],
            [
             0.3333333333333333,
             "#31688e"
            ],
            [
             0.4444444444444444,
             "#26828e"
            ],
            [
             0.5555555555555556,
             "#1f9e89"
            ],
            [
             0.6666666666666666,
             "#35b779"
            ],
            [
             0.7777777777777778,
             "#6ece58"
            ],
            [
             0.8888888888888888,
             "#b5de2b"
            ],
            [
             1,
             "#fde725"
            ]
           ],
           "sequentialminus": [
            [
             0,
             "#440154"
            ],
            [
             0.1111111111111111,
             "#482878"
            ],
            [
             0.2222222222222222,
             "#3e4989"
            ],
            [
             0.3333333333333333,
             "#31688e"
            ],
            [
             0.4444444444444444,
             "#26828e"
            ],
            [
             0.5555555555555556,
             "#1f9e89"
            ],
            [
             0.6666666666666666,
             "#35b779"
            ],
            [
             0.7777777777777778,
             "#6ece58"
            ],
            [
             0.8888888888888888,
             "#b5de2b"
            ],
            [
             1,
             "#fde725"
            ]
           ]
          },
          "colorway": [
           "#1F77B4",
           "#FF7F0E",
           "#2CA02C",
           "#D62728",
           "#9467BD",
           "#8C564B",
           "#E377C2",
           "#7F7F7F",
           "#BCBD22",
           "#17BECF"
          ],
          "font": {
           "color": "rgb(36,36,36)"
          },
          "geo": {
           "bgcolor": "white",
           "lakecolor": "white",
           "landcolor": "white",
           "showlakes": true,
           "showland": true,
           "subunitcolor": "white"
          },
          "hoverlabel": {
           "align": "left"
          },
          "hovermode": "closest",
          "mapbox": {
           "style": "light"
          },
          "paper_bgcolor": "white",
          "plot_bgcolor": "white",
          "polar": {
           "angularaxis": {
            "gridcolor": "rgb(232,232,232)",
            "linecolor": "rgb(36,36,36)",
            "showgrid": false,
            "showline": true,
            "ticks": "outside"
           },
           "bgcolor": "white",
           "radialaxis": {
            "gridcolor": "rgb(232,232,232)",
            "linecolor": "rgb(36,36,36)",
            "showgrid": false,
            "showline": true,
            "ticks": "outside"
           }
          },
          "scene": {
           "xaxis": {
            "backgroundcolor": "white",
            "gridcolor": "rgb(232,232,232)",
            "gridwidth": 2,
            "linecolor": "rgb(36,36,36)",
            "showbackground": true,
            "showgrid": false,
            "showline": true,
            "ticks": "outside",
            "zeroline": false,
            "zerolinecolor": "rgb(36,36,36)"
           },
           "yaxis": {
            "backgroundcolor": "white",
            "gridcolor": "rgb(232,232,232)",
            "gridwidth": 2,
            "linecolor": "rgb(36,36,36)",
            "showbackground": true,
            "showgrid": false,
            "showline": true,
            "ticks": "outside",
            "zeroline": false,
            "zerolinecolor": "rgb(36,36,36)"
           },
           "zaxis": {
            "backgroundcolor": "white",
            "gridcolor": "rgb(232,232,232)",
            "gridwidth": 2,
            "linecolor": "rgb(36,36,36)",
            "showbackground": true,
            "showgrid": false,
            "showline": true,
            "ticks": "outside",
            "zeroline": false,
            "zerolinecolor": "rgb(36,36,36)"
           }
          },
          "shapedefaults": {
           "fillcolor": "black",
           "line": {
            "width": 0
           },
           "opacity": 0.3
          },
          "ternary": {
           "aaxis": {
            "gridcolor": "rgb(232,232,232)",
            "linecolor": "rgb(36,36,36)",
            "showgrid": false,
            "showline": true,
            "ticks": "outside"
           },
           "baxis": {
            "gridcolor": "rgb(232,232,232)",
            "linecolor": "rgb(36,36,36)",
            "showgrid": false,
            "showline": true,
            "ticks": "outside"
           },
           "bgcolor": "white",
           "caxis": {
            "gridcolor": "rgb(232,232,232)",
            "linecolor": "rgb(36,36,36)",
            "showgrid": false,
            "showline": true,
            "ticks": "outside"
           }
          },
          "title": {
           "x": 0.05
          },
          "xaxis": {
           "automargin": true,
           "gridcolor": "rgb(232,232,232)",
           "linecolor": "rgb(36,36,36)",
           "showgrid": false,
           "showline": true,
           "ticks": "outside",
           "title": {
            "standoff": 15
           },
           "zeroline": false,
           "zerolinecolor": "rgb(36,36,36)"
          },
          "yaxis": {
           "automargin": true,
           "gridcolor": "rgb(232,232,232)",
           "linecolor": "rgb(36,36,36)",
           "showgrid": false,
           "showline": true,
           "ticks": "outside",
           "title": {
            "standoff": 15
           },
           "zeroline": false,
           "zerolinecolor": "rgb(36,36,36)"
          }
         }
        },
        "title": {
         "font": {
          "color": "Black",
          "size": 22
         },
         "text": "<b>Intertopic Distance Map",
         "x": 0.5,
         "xanchor": "center",
         "y": 0.95,
         "yanchor": "top"
        },
        "width": 650,
        "xaxis": {
         "anchor": "y",
         "domain": [
          0,
          1
         ],
         "range": [
          -15.685898399353027,
          21.609130573272704
         ],
         "title": {
          "text": ""
         },
         "visible": false
        },
        "yaxis": {
         "anchor": "x",
         "domain": [
          0,
          1
         ],
         "range": [
          -6.6577410221099855,
          23.96822872161865
         ],
         "title": {
          "text": ""
         },
         "visible": false
        }
       }
      },
      "text/html": [
       "<div>                            <div id=\"fddcef80-fe7e-450f-a53c-1dcca1f9c29e\" class=\"plotly-graph-div\" style=\"height:650px; width:650px;\"></div>            <script type=\"text/javascript\">                require([\"plotly\"], function(Plotly) {                    window.PLOTLYENV=window.PLOTLYENV || {};                                    if (document.getElementById(\"fddcef80-fe7e-450f-a53c-1dcca1f9c29e\")) {                    Plotly.newPlot(                        \"fddcef80-fe7e-450f-a53c-1dcca1f9c29e\",                        [{\"customdata\":[[0,\"\\u0686\\u0627\\u067e | \\u06a9\\u0627\\u0631 | \\u062f\\u0648\\u0631\\u06a9\\u0627\\u0631\\u06cc | \\u0645\\u0646\\u0632\\u0644 | \\u062e\\u0627\\u0646\\u06af\\u06cc\",18063],[1,\"\\u0646\\u0645\\u06cc | \\u062e\\u0648\\u0646\\u0647 | \\u062f\\u0648\\u0631\\u06a9\\u0627\\u0631\\u06cc | \\u062f\\u0648\\u0631\\u06a9\\u0627\\u0631 | \\u06a9\\u0627\\u0631\",1111],[2,\"\\u0642\\u0631\\u0646\\u0637\\u06cc\\u0646\\u0647 | \\u062e\\u0648\\u0646\\u0647 | \\u062f\\u0648\\u0631\\u06a9\\u0627\\u0631\\u06cc | \\u06a9\\u0631\\u0648\\u0646\\u0627 | \\u0645\\u06cc\",465],[3,\"\\u0648\\u0627\\u06a9\\u0633\\u0646 | \\u0648\\u0627\\u06a9\\u0633\\u06cc\\u0646\\u0627\\u0633\\u06cc\\u0648\\u0646 | \\u0648\\u0627\\u06a9\\u0633\\u06cc\\u0646\\u0647 | \\u062f\\u0648\\u0632 | \\u06a9\\u0631\\u0648\\u0646\\u0627\",375],[4,\"\\u062e\\u0648\\u0627\\u0628 | \\u062e\\u0648\\u0627\\u0628\\u0645 | \\u0628\\u062e\\u0648\\u0627\\u0628\\u0645 | \\u0635\\u0628\\u062d | \\u0628\\u06cc\\u062f\\u0627\\u0631\",322],[5,\"\\u062a\\u0631\\u0627\\u0641\\u06cc\\u06a9 | \\u06a9\\u0627\\u0647\\u0634 | \\u062a\\u0627\\u06a9\\u0633\\u06cc | \\u062d\\u0645\\u0644 | \\u0637\\u0631\\u062d\",156],[6,\"\\u0648\\u06cc\\u0631\\u0648\\u0633 | \\u0634\\u06cc\\u0648\\u0639 | coronavirus | \\u0648\\u06cc\\u0631\\u0648\\u0633\\u06a9\\u0631\\u0648\\u0646\\u0627 | \\u06a9\\u0631\\u0648\\u0646\\u0627\",136],[7,\"\\u062a\\u0648\\u06cc\\u06cc\\u062a\\u0631 | \\u062a\\u0648\\u06cc\\u06cc\\u062a | \\u062a\\u0648\\u0626\\u06cc\\u062a | \\u062a\\u0648\\u0626\\u06cc\\u062a\\u0631 | \\u06a9\\u0627\\u0631\\u06a9\\u0646\\u0627\\u0646\",134],[8,\"\\u0622\\u0644\\u0645\\u0627\\u0646 | \\u06cc\\u0648\\u0631\\u0648 | \\u0633\\u0648\\u0626\\u062f | \\u0622\\u0644\\u0645\\u0627\\u0646\\u06cc | \\u0627\\u0631\\u0648\\u067e\\u0627\",128],[9,\"\\u0627\\u06cc\\u0646\\u0633\\u062a\\u0627\\u06af\\u0631\\u0627\\u0645 | \\u0627\\u062f\\u0645\\u06cc\\u0646 | \\u067e\\u0631\\u0648\\u0698\\u0647 | \\u067e\\u06cc\\u062c | \\u0637\\u0631\\u0627\\u062d\\u06cc\",109],[10,\"\\u0627\\u0633\\u062a\\u0631\\u0633 | \\u0627\\u0641\\u0633\\u0631\\u062f\\u06af\\u06cc | \\u0627\\u0636\\u0637\\u0631\\u0627\\u0628 | \\u0627\\u0633\\u062a\\u0631\\u0633\\u06cc | \\u062d\\u0633\",102],[11,\"\\u0627\\u0645\\u0646\\u06cc\\u062a | \\u0627\\u0645\\u0646\\u06cc\\u062a\\u06cc | \\u0633\\u0627\\u06cc\\u0628\\u0631\\u06cc | kaspersky | \\u06a9\\u0633\\u067e\\u0631\\u0633\\u06a9\\u06cc\",100],[12,\"\\u0627\\u0633\\u06a9\\u0627\\u06cc\\u067e | \\u0627\\u0633\\u06a9\\u0627\\u06cc\\u067e\\u06cc | \\u062c\\u0644\\u0633\\u0647 | skype | \\u062c\\u0644\\u0633\\u0627\\u062a\",98],[13,\"\\u0628\\u06cc\\u0645\\u0647 | \\u0631\\u062f | \\u062d\\u0642\\u0648\\u0642 | \\u062a\\u0627\\u0645\\u06cc\\u0646 | \\u0627\\u062c\\u062a\\u0645\\u0627\\u0639\\u06cc\",91],[14,\"\\u062f\\u06a9\\u062a\\u0631 | \\u062f\\u0646\\u062f\\u0648\\u0646\\u067e\\u0632\\u0634\\u06a9\\u06cc | \\u0628\\u06cc\\u0645\\u0627\\u0631\\u0633\\u062a\\u0627\\u0646 | \\u067e\\u0632\\u0634\\u06a9\\u06cc | \\u0628\\u06cc\\u0645\\u0627\\u0631\",91],[15,\"\\u06a9\\u0627\\u0646\\u0627\\u062f\\u0627 | \\u06a9\\u0627\\u0646\\u0627\\u062f\\u0627\\u06cc\\u06cc | \\u062a\\u0648\\u0631\\u0646\\u062a\\u0648 | \\u0648\\u0646\\u06a9\\u0648\\u0648\\u0631 | \\u0645\\u0627\\u0644\\u06cc\\u0627\\u062a\",89],[16,\"\\u0627\\u0633\\u062a\\u0639\\u0641\\u0627 | \\u0628\\u062f\\u0645 | \\u0645\\u06cc\\u062f\\u0645 | \\u0631\\u06cc\\u0645\\u0648\\u062a | \\u0627\\u0633\\u062a\\u0639\\u0641\\u0627\\u0645\",61],[17,\"\\u0628\\u0631\\u0641 | \\u0628\\u0631\\u0641\\u06cc | \\u067e\\u0646\\u062c\\u0631\\u0647 | \\u06af\\u0631\\u0627\\u0645\\u06cc\\u0627\\u0646 | \\u0633\\u0631\\u0645\\u0627\",58],[18,\"\\u062f\\u0631\\u0635\\u062f | \\u062f\\u0631\\u0635\\u062f\\u06cc | \\u06f5\\u06f5 | \\u062f\\u0648\\u0631\\u06a9\\u0627\\u0631 | \\u06a9\\u0627\\u0631\\u0645\\u0646\\u062f\\u0627\\u0646\",54],[19,\"\\u0645\\u062a\\u0646\\u0641\\u0631\\u0645 | \\u0645\\u062a\\u0646\\u0641\\u0631 | \\u0631\\u0645\\u0636\\u0648\\u0646 | \\u0645\\u062a\\u0646\\u0641\\u0631\\u0647 | \\u062f\\u0648\\u0631\\u06a9\\u0627\\u0631\\u06cc\",51],[20,\"\\u062e\\u0635\\u0648\\u0635\\u06cc | \\u0634\\u0631\\u06a9\\u062a | \\u062f\\u0648\\u0644\\u062a\\u06cc | \\u0634\\u0631\\u06a9\\u062a\\u0647\\u0627\\u06cc | \\u0645\\u06cc\\u062f\\u0627\\u0646\\u0645\",50],[21,\"\\u06cc\\u0648\\u062a\\u06cc\\u0648\\u0628 | \\u0648\\u06cc\\u062f\\u0626\\u0648 | \\u06cc\\u0648\\u062a\\u0648\\u0628 | \\u0648\\u06cc\\u062f\\u06cc\\u0648 | \\u0648\\u06cc\\u062f\\u0626\\u0648\\u06cc\",49],[22,\"\\u0645\\u0631\\u06af | \\u062e\\u0648\\u062f\\u06a9\\u0634\\u06cc | \\u0628\\u0645\\u06cc\\u0631\\u0645 | \\u0634\\u0647\\u06cc\\u062f | \\u0645\\u06cc\\u0645\\u06cc\\u0631\\u0645\",49],[23,\"\\u0622\\u0634\\u067e\\u0632\\u06cc | \\u067e\\u06cc\\u062a\\u0632\\u0627 | \\u0633\\u06cc\\u0631 | \\u067e\\u0646\\u06cc\\u0631 | \\u0628\\u062e\\u0648\\u0631\\u06cc\",49],[24,\"\\u062a\\u0644\\u06af\\u0631\\u0627\\u0645 | \\u06a9\\u0627\\u0646\\u0627\\u0644 | \\u062a\\u0644\\u06af\\u0631\\u0627\\u0645\\u06cc | \\u0641\\u06cc\\u0644\\u062a\\u0631 | \\u06a9\\u0627\\u0631\\u06cc\\u0627\\u0628\\u06cc\",47],[25,\"\\u0633\\u06af | \\u0633\\u06af\\u0645 | \\u062a\\u0648\\u0634 | \\u0633\\u06cc\\u0627\\u0647 | \\u0633\\u06af\\u06cc\",47],[26,\"\\u0635\\u0628\\u062d\\u0627\\u0646\\u0647 | \\u0635\\u0628\\u062d\\u0648\\u0646\\u0647 | \\u062e\\u0648\\u0631\\u0645 | \\u0635\\u0628\\u062d | \\u0646\\u0627\\u0647\\u0627\\u0631\",39],[27,\"\\u0633\\u06cc\\u06af\\u0627\\u0631 | \\u0628\\u06a9\\u0634\\u0645 | \\u0628\\u06a9\\u0634\\u06cc | \\u0646\\u062e | \\u062a\\u0631\\u06a9\",39],[28,\"\\u0648\\u0632\\u0646 | \\u06a9\\u06cc\\u0644\\u0648 | \\u0648\\u0632\\u0646\\u0645 | \\u0686\\u0627\\u0642 | \\u06a9\\u0627\\u0644\\u0631\\u06cc\",35],[29,\"\\u0645\\u062a\\u0631\\u0648 | \\u0642\\u0637\\u0627\\u0631 | \\u0627\\u062a\\u0648\\u0628\\u0648\\u0633 | \\u0633\\u0648\\u0627\\u0631 | \\u0634\\u0644\\u0648\\u063a\\u06cc\",35],[30,\"\\u0635\\u0646\\u062f\\u0644\\u06cc | \\u0645\\u06cc\\u0632 | \\u0627\\u0631\\u06af\\u0648\\u0646\\u0648\\u0645\\u06cc\\u06a9 | \\u0635\\u0646\\u062f\\u0644\\u06cc\\u0645 | \\u0628\\u062e\\u0631\\u0645\",34],[31,\"\\u062a\\u0631\\u06a9\\u06cc\\u0647 | \\u0627\\u0633\\u062a\\u0627\\u0646\\u0628\\u0648\\u0644 | \\u0631\\u06cc\\u0645\\u0648\\u062a | \\u0627\\u0642\\u0627\\u0645\\u062a | \\u0622\\u0646\\u062a\\u0627\\u0644\\u06cc\\u0627\",34],[32,\"\\u0628\\u0627\\u0646\\u06a9 | \\u0628\\u0627\\u0646\\u06a9\\u0647\\u0627 | \\u062e\\u0635\\u0648\\u0635\\u06cc | \\u062f\\u0628\\u06cc\\u0631\\u06a9\\u0644 | \\u0627\\u0639\\u062a\\u0628\\u0627\\u0631\\u06cc\",32],[33,\"\\u0633\\u0631\\u0628\\u0627\\u0632\\u06cc | \\u0633\\u0631\\u0628\\u0627\\u0632 | \\u0627\\u0645\\u0631\\u06cc\\u0647 | \\u0633\\u0631\\u0628\\u0627\\u0632\\u06cc\\u0645 | \\u0633\\u0631\\u0628\\u0627\\u0632\\u0647\\u0627\",30],[34,\"\\u0634\\u06cc\\u0631\\u0627\\u0632 | \\u0646\\u06cc\\u0631\\u0648\\u06cc | \\u0645\\u0648\\u0645\\u06cc\\u0627\\u06cc\\u06cc | \\u062e\\u0627\\u0646\\u0645 | \\u0634\\u0647\\u0631\",29],[35,\"php | \\u0628\\u0631\\u0646\\u0627\\u0645\\u0647 | \\u0646\\u0648\\u06cc\\u0633 | laravel | \\u0628\\u0627\\u0632\\u0627\\u0631\\u06a9\\u0627\\u0631\",29],[36,\"\\u062f\\u0633\\u062a\\u0634\\u0648\\u06cc\\u06cc | \\u062a\\u0648\\u0627\\u0644\\u062a | \\u062d\\u0645\\u0627\\u0645 | \\u0633\\u0637\\u0644 | \\u062f\\u0633\\u0634\\u0648\\u06cc\\u06cc\",28],[37,\"\\u0627\\u067e\\u0644 | \\u06af\\u06cc\\u0631\\u0627\\u0646\\u0647 | \\u06a9\\u0627\\u0631\\u0645\\u0646\\u062f\\u0627\\u0646 | \\u06a9\\u0648\\u067e\\u0631\\u062a\\u06cc\\u0646\\u0648 | \\u0633\\u06cc\\u0627\\u0633\\u062a\",26],[38,\"\\u0645\\u063a\\u0632\\u0645 | \\u0633\\u0631\\u062f\\u0631\\u062f | \\u0646\\u06cc | \\u0627\\u0639\\u0635\\u0627\\u0628\\u0645\\u0648 | \\u062f\\u0648\\u0646\\u0647\",26],[39,\"\\u0646\\u0627\\u0647\\u0627\\u0631 | \\u0634\\u0627\\u0645 | \\u063a\\u0630\\u0627 | \\u0646\\u0647\\u0627\\u0631 | \\u0645\\u0648\\u0642\\u0639\",23],[40,\"\\u062a\\u0646\\u0647\\u0627\\u06cc\\u06cc | \\u0645\\u06cc\\u0628\\u0631\\u0645 | \\u0636\\u062f\\u0627\\u062c\\u062a\\u0645\\u0627\\u0639\\u06cc | \\u0644\\u0630\\u062a | \\u0627\\u062d\\u0633\\u0627\\u0633\",23],[41,\"html | css | \\u0645\\u0633\\u0644\\u0637 | bootstrap | \\u0622\\u0634\\u0646\\u0627\\u06cc\\u06cc\",23],[42,\"\\u0632\\u0646\\u062f\\u0627\\u0646 | \\u0632\\u0646\\u062f\\u0627\\u0646\\u06cc | \\u0628\\u062f\\u0647 | \\u0622\\u062e\\u06cc | \\u062d\\u0628\\u0633\",22],[43,\"\\u0642\\u0647\\u0648\\u0647 | \\u06a9\\u0627\\u0641\\u0647 | \\u0645\\u0635\\u0631\\u0641 | \\u0637\\u0639\\u0645 | \\u0686\\u06cc\\u0632\\u0647\\u0627\\u06cc\",20],[44,\"\\u06af\\u0631\\u0628\\u0647 | \\u0645\\u062e\\u0644\\u0648\\u0642\\u0627\\u062a | \\u0627\\u0634\\u0631\\u0641 | \\u0628\\u0627\\u0645 | \\u0637\\u0631\\u0641\",18],[45,\"\\u0646\\u0627\\u0633\\u0627 | \\u0645\\u0631\\u06cc\\u062e | \\u0647\\u062f\\u0627\\u06cc\\u062a | \\u0632\\u0645\\u06cc\\u0646 | \\u0641\\u0636\\u0627\\u0646\\u0648\\u0631\\u062f\\u0627\",13],[46,\"\\u0631\\u0645\\u0636\\u0627\\u0646 | \\u062a\\u0631\\u06a9\\u06cc\\u0628 | \\u0628\\u0648\\u0633\\u06cc\\u062f | \\u063a\\u0630\\u0627\\u062e\\u0648\\u0631\\u062f\\u0646\\u0645\\u0648 | \\u0627\\u0631\\u0627\\u0645\\u0646\\u0647\",13],[47,\"\\u0622\\u0645\\u0627\\u0632\\u0648\\u0646 | \\u06a9\\u0627\\u0631\\u0645\\u0646\\u062f\\u0627\\u0646\\u0634 | \\u062a\\u0645\\u062f\\u06cc\\u062f | \\u06af\\u0648\\u06af\\u0644 | \\u0627\\u0639\\u0644\\u0627\\u0645\",13],[48,\"\\u0645\\u0639\\u0644\\u0648\\u0644\\u06cc\\u062a | \\u0645\\u0639\\u0644\\u0648\\u0644\\u0627\\u0646\\u06cc | \\u0628\\u0641\\u0631\\u0633\\u062a\\u0646\\u062f | \\u0645\\u0639\\u0644\\u0648\\u0644\\u0627\\u0646 | \\u062a\\u0648\\u0627\\u0646\\u062e\\u0648\\u0627\\u0647\",11],[49,\"\\u0627\\u0633\\u067e\\u0627\\u0646\\u06cc\\u0627 | \\u06a9\\u0634\\u0648\\u0631 | \\u0642\\u0627\\u0646\\u0648\\u0646 | \\u0627\\u0631\\u0648\\u067e\\u0627\\u06cc\\u06cc | \\u062f\\u0627\\u0646\\u0634\\u062c\\u0648\\u06cc\\u06cc\",11],[50,\"\\u0646\\u06cc\\u0633\\u062a\\u06cc | \\u062f\\u0648\\u0631\\u06a9\\u0627\\u0631 | \\u0628\\u0645\\u0648\\u0646 |  | \",11]],\"hovertemplate\":\"<b>Topic %{customdata[0]}</b><br>Words: %{customdata[1]}<br>Size: %{customdata[2]}\",\"legendgroup\":\"\",\"marker\":{\"color\":\"#B0BEC5\",\"size\":[18063,1111,465,375,322,156,136,134,128,109,102,100,98,91,91,89,61,58,54,51,50,49,49,49,47,47,39,39,35,35,34,34,32,30,29,29,28,26,26,23,23,23,22,20,18,13,13,13,11,11,11],\"sizemode\":\"area\",\"sizeref\":11.289375,\"symbol\":\"circle\",\"line\":{\"color\":\"DarkSlateGrey\",\"width\":2}},\"mode\":\"markers\",\"name\":\"\",\"orientation\":\"v\",\"showlegend\":false,\"x\":[5.01525354385376,7.4781060218811035,5.169881343841553,5.045626163482666,7.55424165725708,16.915386199951172,-0.11448506265878677,-2.1261870861053467,-4.28129768371582,-13.527799606323242,17.110597610473633,-0.08318942040205002,7.70413064956665,-2.028533935546875,16.998287200927734,-4.195850849151611,17.94634246826172,18.607036590576172,5.575620651245117,13.378645896911621,-1.852685570716858,-13.639911651611328,18.79054832458496,13.526240348815918,-13.200922966003418,18.12188148498535,14.276299476623535,13.879443168640137,17.27053451538086,16.738502502441406,-4.6726789474487305,-4.732138156890869,-1.7882822751998901,-4.644044876098633,-4.841907501220703,-9.44187068939209,14.070338249206543,5.276920795440674,16.819345474243164,13.561586380004883,17.14741325378418,-9.442039489746094,18.699398040771484,-2.237938165664673,13.842208862304688,14.097132682800293,13.503851890563965,5.341659069061279,-13.133562088012695,-2.2379150390625,13.39365005493164],\"xaxis\":\"x\",\"y\":[14.509200096130371,16.08371925354004,14.663570404052734,14.539344787597656,16.01525115966797,9.702454566955566,7.850427150726318,20.508726119995117,-0.885225236415863,1.6550933122634888,10.024880409240723,7.818505764007568,15.859150886535645,20.605119705200195,10.430233001708984,-0.9474144577980042,9.73106861114502,9.563920974731445,-0.7088682055473328,-5.789340019226074,20.778810501098633,1.7673027515411377,9.514479637145996,-5.63406229019165,1.328643560409546,9.915952682495117,4.141439914703369,4.537546157836914,10.140030860900879,9.511102676391602,-0.35486283898353577,-0.6023247838020325,20.841938018798828,-0.5113683938980103,-0.36456501483917236,5.328826904296875,4.3468194007873535,-1.0056869983673096,10.149014472961426,-5.561318397521973,10.234796524047852,5.328614234924316,9.786507606506348,13.403783798217773,-5.704132556915283,4.320276737213135,-5.172101974487305,-0.9372314810752869,1.2614917755126953,13.403769493103027,-5.047175884246826],\"yaxis\":\"y\",\"type\":\"scatter\"}],                        {\"template\":{\"data\":{\"barpolar\":[{\"marker\":{\"line\":{\"color\":\"white\",\"width\":0.5},\"pattern\":{\"fillmode\":\"overlay\",\"size\":10,\"solidity\":0.2}},\"type\":\"barpolar\"}],\"bar\":[{\"error_x\":{\"color\":\"rgb(36,36,36)\"},\"error_y\":{\"color\":\"rgb(36,36,36)\"},\"marker\":{\"line\":{\"color\":\"white\",\"width\":0.5},\"pattern\":{\"fillmode\":\"overlay\",\"size\":10,\"solidity\":0.2}},\"type\":\"bar\"}],\"carpet\":[{\"aaxis\":{\"endlinecolor\":\"rgb(36,36,36)\",\"gridcolor\":\"white\",\"linecolor\":\"white\",\"minorgridcolor\":\"white\",\"startlinecolor\":\"rgb(36,36,36)\"},\"baxis\":{\"endlinecolor\":\"rgb(36,36,36)\",\"gridcolor\":\"white\",\"linecolor\":\"white\",\"minorgridcolor\":\"white\",\"startlinecolor\":\"rgb(36,36,36)\"},\"type\":\"carpet\"}],\"choropleth\":[{\"colorbar\":{\"outlinewidth\":1,\"tickcolor\":\"rgb(36,36,36)\",\"ticks\":\"outside\"},\"type\":\"choropleth\"}],\"contourcarpet\":[{\"colorbar\":{\"outlinewidth\":1,\"tickcolor\":\"rgb(36,36,36)\",\"ticks\":\"outside\"},\"type\":\"contourcarpet\"}],\"contour\":[{\"colorbar\":{\"outlinewidth\":1,\"tickcolor\":\"rgb(36,36,36)\",\"ticks\":\"outside\"},\"colorscale\":[[0.0,\"#440154\"],[0.1111111111111111,\"#482878\"],[0.2222222222222222,\"#3e4989\"],[0.3333333333333333,\"#31688e\"],[0.4444444444444444,\"#26828e\"],[0.5555555555555556,\"#1f9e89\"],[0.6666666666666666,\"#35b779\"],[0.7777777777777778,\"#6ece58\"],[0.8888888888888888,\"#b5de2b\"],[1.0,\"#fde725\"]],\"type\":\"contour\"}],\"heatmapgl\":[{\"colorbar\":{\"outlinewidth\":1,\"tickcolor\":\"rgb(36,36,36)\",\"ticks\":\"outside\"},\"colorscale\":[[0.0,\"#440154\"],[0.1111111111111111,\"#482878\"],[0.2222222222222222,\"#3e4989\"],[0.3333333333333333,\"#31688e\"],[0.4444444444444444,\"#26828e\"],[0.5555555555555556,\"#1f9e89\"],[0.6666666666666666,\"#35b779\"],[0.7777777777777778,\"#6ece58\"],[0.8888888888888888,\"#b5de2b\"],[1.0,\"#fde725\"]],\"type\":\"heatmapgl\"}],\"heatmap\":[{\"colorbar\":{\"outlinewidth\":1,\"tickcolor\":\"rgb(36,36,36)\",\"ticks\":\"outside\"},\"colorscale\":[[0.0,\"#440154\"],[0.1111111111111111,\"#482878\"],[0.2222222222222222,\"#3e4989\"],[0.3333333333333333,\"#31688e\"],[0.4444444444444444,\"#26828e\"],[0.5555555555555556,\"#1f9e89\"],[0.6666666666666666,\"#35b779\"],[0.7777777777777778,\"#6ece58\"],[0.8888888888888888,\"#b5de2b\"],[1.0,\"#fde725\"]],\"type\":\"heatmap\"}],\"histogram2dcontour\":[{\"colorbar\":{\"outlinewidth\":1,\"tickcolor\":\"rgb(36,36,36)\",\"ticks\":\"outside\"},\"colorscale\":[[0.0,\"#440154\"],[0.1111111111111111,\"#482878\"],[0.2222222222222222,\"#3e4989\"],[0.3333333333333333,\"#31688e\"],[0.4444444444444444,\"#26828e\"],[0.5555555555555556,\"#1f9e89\"],[0.6666666666666666,\"#35b779\"],[0.7777777777777778,\"#6ece58\"],[0.8888888888888888,\"#b5de2b\"],[1.0,\"#fde725\"]],\"type\":\"histogram2dcontour\"}],\"histogram2d\":[{\"colorbar\":{\"outlinewidth\":1,\"tickcolor\":\"rgb(36,36,36)\",\"ticks\":\"outside\"},\"colorscale\":[[0.0,\"#440154\"],[0.1111111111111111,\"#482878\"],[0.2222222222222222,\"#3e4989\"],[0.3333333333333333,\"#31688e\"],[0.4444444444444444,\"#26828e\"],[0.5555555555555556,\"#1f9e89\"],[0.6666666666666666,\"#35b779\"],[0.7777777777777778,\"#6ece58\"],[0.8888888888888888,\"#b5de2b\"],[1.0,\"#fde725\"]],\"type\":\"histogram2d\"}],\"histogram\":[{\"marker\":{\"line\":{\"color\":\"white\",\"width\":0.6}},\"type\":\"histogram\"}],\"mesh3d\":[{\"colorbar\":{\"outlinewidth\":1,\"tickcolor\":\"rgb(36,36,36)\",\"ticks\":\"outside\"},\"type\":\"mesh3d\"}],\"parcoords\":[{\"line\":{\"colorbar\":{\"outlinewidth\":1,\"tickcolor\":\"rgb(36,36,36)\",\"ticks\":\"outside\"}},\"type\":\"parcoords\"}],\"pie\":[{\"automargin\":true,\"type\":\"pie\"}],\"scatter3d\":[{\"line\":{\"colorbar\":{\"outlinewidth\":1,\"tickcolor\":\"rgb(36,36,36)\",\"ticks\":\"outside\"}},\"marker\":{\"colorbar\":{\"outlinewidth\":1,\"tickcolor\":\"rgb(36,36,36)\",\"ticks\":\"outside\"}},\"type\":\"scatter3d\"}],\"scattercarpet\":[{\"marker\":{\"colorbar\":{\"outlinewidth\":1,\"tickcolor\":\"rgb(36,36,36)\",\"ticks\":\"outside\"}},\"type\":\"scattercarpet\"}],\"scattergeo\":[{\"marker\":{\"colorbar\":{\"outlinewidth\":1,\"tickcolor\":\"rgb(36,36,36)\",\"ticks\":\"outside\"}},\"type\":\"scattergeo\"}],\"scattergl\":[{\"marker\":{\"colorbar\":{\"outlinewidth\":1,\"tickcolor\":\"rgb(36,36,36)\",\"ticks\":\"outside\"}},\"type\":\"scattergl\"}],\"scattermapbox\":[{\"marker\":{\"colorbar\":{\"outlinewidth\":1,\"tickcolor\":\"rgb(36,36,36)\",\"ticks\":\"outside\"}},\"type\":\"scattermapbox\"}],\"scatterpolargl\":[{\"marker\":{\"colorbar\":{\"outlinewidth\":1,\"tickcolor\":\"rgb(36,36,36)\",\"ticks\":\"outside\"}},\"type\":\"scatterpolargl\"}],\"scatterpolar\":[{\"marker\":{\"colorbar\":{\"outlinewidth\":1,\"tickcolor\":\"rgb(36,36,36)\",\"ticks\":\"outside\"}},\"type\":\"scatterpolar\"}],\"scatter\":[{\"fillpattern\":{\"fillmode\":\"overlay\",\"size\":10,\"solidity\":0.2},\"type\":\"scatter\"}],\"scatterternary\":[{\"marker\":{\"colorbar\":{\"outlinewidth\":1,\"tickcolor\":\"rgb(36,36,36)\",\"ticks\":\"outside\"}},\"type\":\"scatterternary\"}],\"surface\":[{\"colorbar\":{\"outlinewidth\":1,\"tickcolor\":\"rgb(36,36,36)\",\"ticks\":\"outside\"},\"colorscale\":[[0.0,\"#440154\"],[0.1111111111111111,\"#482878\"],[0.2222222222222222,\"#3e4989\"],[0.3333333333333333,\"#31688e\"],[0.4444444444444444,\"#26828e\"],[0.5555555555555556,\"#1f9e89\"],[0.6666666666666666,\"#35b779\"],[0.7777777777777778,\"#6ece58\"],[0.8888888888888888,\"#b5de2b\"],[1.0,\"#fde725\"]],\"type\":\"surface\"}],\"table\":[{\"cells\":{\"fill\":{\"color\":\"rgb(237,237,237)\"},\"line\":{\"color\":\"white\"}},\"header\":{\"fill\":{\"color\":\"rgb(217,217,217)\"},\"line\":{\"color\":\"white\"}},\"type\":\"table\"}]},\"layout\":{\"annotationdefaults\":{\"arrowhead\":0,\"arrowwidth\":1},\"autotypenumbers\":\"strict\",\"coloraxis\":{\"colorbar\":{\"outlinewidth\":1,\"tickcolor\":\"rgb(36,36,36)\",\"ticks\":\"outside\"}},\"colorscale\":{\"diverging\":[[0.0,\"rgb(103,0,31)\"],[0.1,\"rgb(178,24,43)\"],[0.2,\"rgb(214,96,77)\"],[0.3,\"rgb(244,165,130)\"],[0.4,\"rgb(253,219,199)\"],[0.5,\"rgb(247,247,247)\"],[0.6,\"rgb(209,229,240)\"],[0.7,\"rgb(146,197,222)\"],[0.8,\"rgb(67,147,195)\"],[0.9,\"rgb(33,102,172)\"],[1.0,\"rgb(5,48,97)\"]],\"sequential\":[[0.0,\"#440154\"],[0.1111111111111111,\"#482878\"],[0.2222222222222222,\"#3e4989\"],[0.3333333333333333,\"#31688e\"],[0.4444444444444444,\"#26828e\"],[0.5555555555555556,\"#1f9e89\"],[0.6666666666666666,\"#35b779\"],[0.7777777777777778,\"#6ece58\"],[0.8888888888888888,\"#b5de2b\"],[1.0,\"#fde725\"]],\"sequentialminus\":[[0.0,\"#440154\"],[0.1111111111111111,\"#482878\"],[0.2222222222222222,\"#3e4989\"],[0.3333333333333333,\"#31688e\"],[0.4444444444444444,\"#26828e\"],[0.5555555555555556,\"#1f9e89\"],[0.6666666666666666,\"#35b779\"],[0.7777777777777778,\"#6ece58\"],[0.8888888888888888,\"#b5de2b\"],[1.0,\"#fde725\"]]},\"colorway\":[\"#1F77B4\",\"#FF7F0E\",\"#2CA02C\",\"#D62728\",\"#9467BD\",\"#8C564B\",\"#E377C2\",\"#7F7F7F\",\"#BCBD22\",\"#17BECF\"],\"font\":{\"color\":\"rgb(36,36,36)\"},\"geo\":{\"bgcolor\":\"white\",\"lakecolor\":\"white\",\"landcolor\":\"white\",\"showlakes\":true,\"showland\":true,\"subunitcolor\":\"white\"},\"hoverlabel\":{\"align\":\"left\"},\"hovermode\":\"closest\",\"mapbox\":{\"style\":\"light\"},\"paper_bgcolor\":\"white\",\"plot_bgcolor\":\"white\",\"polar\":{\"angularaxis\":{\"gridcolor\":\"rgb(232,232,232)\",\"linecolor\":\"rgb(36,36,36)\",\"showgrid\":false,\"showline\":true,\"ticks\":\"outside\"},\"bgcolor\":\"white\",\"radialaxis\":{\"gridcolor\":\"rgb(232,232,232)\",\"linecolor\":\"rgb(36,36,36)\",\"showgrid\":false,\"showline\":true,\"ticks\":\"outside\"}},\"scene\":{\"xaxis\":{\"backgroundcolor\":\"white\",\"gridcolor\":\"rgb(232,232,232)\",\"gridwidth\":2,\"linecolor\":\"rgb(36,36,36)\",\"showbackground\":true,\"showgrid\":false,\"showline\":true,\"ticks\":\"outside\",\"zeroline\":false,\"zerolinecolor\":\"rgb(36,36,36)\"},\"yaxis\":{\"backgroundcolor\":\"white\",\"gridcolor\":\"rgb(232,232,232)\",\"gridwidth\":2,\"linecolor\":\"rgb(36,36,36)\",\"showbackground\":true,\"showgrid\":false,\"showline\":true,\"ticks\":\"outside\",\"zeroline\":false,\"zerolinecolor\":\"rgb(36,36,36)\"},\"zaxis\":{\"backgroundcolor\":\"white\",\"gridcolor\":\"rgb(232,232,232)\",\"gridwidth\":2,\"linecolor\":\"rgb(36,36,36)\",\"showbackground\":true,\"showgrid\":false,\"showline\":true,\"ticks\":\"outside\",\"zeroline\":false,\"zerolinecolor\":\"rgb(36,36,36)\"}},\"shapedefaults\":{\"fillcolor\":\"black\",\"line\":{\"width\":0},\"opacity\":0.3},\"ternary\":{\"aaxis\":{\"gridcolor\":\"rgb(232,232,232)\",\"linecolor\":\"rgb(36,36,36)\",\"showgrid\":false,\"showline\":true,\"ticks\":\"outside\"},\"baxis\":{\"gridcolor\":\"rgb(232,232,232)\",\"linecolor\":\"rgb(36,36,36)\",\"showgrid\":false,\"showline\":true,\"ticks\":\"outside\"},\"bgcolor\":\"white\",\"caxis\":{\"gridcolor\":\"rgb(232,232,232)\",\"linecolor\":\"rgb(36,36,36)\",\"showgrid\":false,\"showline\":true,\"ticks\":\"outside\"}},\"title\":{\"x\":0.05},\"xaxis\":{\"automargin\":true,\"gridcolor\":\"rgb(232,232,232)\",\"linecolor\":\"rgb(36,36,36)\",\"showgrid\":false,\"showline\":true,\"ticks\":\"outside\",\"title\":{\"standoff\":15},\"zeroline\":false,\"zerolinecolor\":\"rgb(36,36,36)\"},\"yaxis\":{\"automargin\":true,\"gridcolor\":\"rgb(232,232,232)\",\"linecolor\":\"rgb(36,36,36)\",\"showgrid\":false,\"showline\":true,\"ticks\":\"outside\",\"title\":{\"standoff\":15},\"zeroline\":false,\"zerolinecolor\":\"rgb(36,36,36)\"}}},\"xaxis\":{\"anchor\":\"y\",\"domain\":[0.0,1.0],\"title\":{\"text\":\"\"},\"visible\":false,\"range\":[-15.685898399353027,21.609130573272704]},\"yaxis\":{\"anchor\":\"x\",\"domain\":[0.0,1.0],\"title\":{\"text\":\"\"},\"visible\":false,\"range\":[-6.6577410221099855,23.96822872161865]},\"legend\":{\"tracegroupgap\":0,\"itemsizing\":\"constant\"},\"margin\":{\"t\":60},\"title\":{\"font\":{\"size\":22,\"color\":\"Black\"},\"text\":\"<b>Intertopic Distance Map\",\"y\":0.95,\"x\":0.5,\"xanchor\":\"center\",\"yanchor\":\"top\"},\"hoverlabel\":{\"font\":{\"size\":16,\"family\":\"Rockwell\"},\"bgcolor\":\"white\"},\"width\":650,\"height\":650,\"sliders\":[{\"active\":0,\"pad\":{\"t\":50},\"steps\":[{\"args\":[{\"marker.color\":[[\"red\",\"#B0BEC5\",\"#B0BEC5\",\"#B0BEC5\",\"#B0BEC5\",\"#B0BEC5\",\"#B0BEC5\",\"#B0BEC5\",\"#B0BEC5\",\"#B0BEC5\",\"#B0BEC5\",\"#B0BEC5\",\"#B0BEC5\",\"#B0BEC5\",\"#B0BEC5\",\"#B0BEC5\",\"#B0BEC5\",\"#B0BEC5\",\"#B0BEC5\",\"#B0BEC5\",\"#B0BEC5\",\"#B0BEC5\",\"#B0BEC5\",\"#B0BEC5\",\"#B0BEC5\",\"#B0BEC5\",\"#B0BEC5\",\"#B0BEC5\",\"#B0BEC5\",\"#B0BEC5\",\"#B0BEC5\",\"#B0BEC5\",\"#B0BEC5\",\"#B0BEC5\",\"#B0BEC5\",\"#B0BEC5\",\"#B0BEC5\",\"#B0BEC5\",\"#B0BEC5\",\"#B0BEC5\",\"#B0BEC5\",\"#B0BEC5\",\"#B0BEC5\",\"#B0BEC5\",\"#B0BEC5\",\"#B0BEC5\",\"#B0BEC5\",\"#B0BEC5\",\"#B0BEC5\",\"#B0BEC5\",\"#B0BEC5\"]]}],\"label\":\"Topic 0\",\"method\":\"update\"},{\"args\":[{\"marker.color\":[[\"#B0BEC5\",\"red\",\"#B0BEC5\",\"#B0BEC5\",\"#B0BEC5\",\"#B0BEC5\",\"#B0BEC5\",\"#B0BEC5\",\"#B0BEC5\",\"#B0BEC5\",\"#B0BEC5\",\"#B0BEC5\",\"#B0BEC5\",\"#B0BEC5\",\"#B0BEC5\",\"#B0BEC5\",\"#B0BEC5\",\"#B0BEC5\",\"#B0BEC5\",\"#B0BEC5\",\"#B0BEC5\",\"#B0BEC5\",\"#B0BEC5\",\"#B0BEC5\",\"#B0BEC5\",\"#B0BEC5\",\"#B0BEC5\",\"#B0BEC5\",\"#B0BEC5\",\"#B0BEC5\",\"#B0BEC5\",\"#B0BEC5\",\"#B0BEC5\",\"#B0BEC5\",\"#B0BEC5\",\"#B0BEC5\",\"#B0BEC5\",\"#B0BEC5\",\"#B0BEC5\",\"#B0BEC5\",\"#B0BEC5\",\"#B0BEC5\",\"#B0BEC5\",\"#B0BEC5\",\"#B0BEC5\",\"#B0BEC5\",\"#B0BEC5\",\"#B0BEC5\",\"#B0BEC5\",\"#B0BEC5\",\"#B0BEC5\"]]}],\"label\":\"Topic 1\",\"method\":\"update\"},{\"args\":[{\"marker.color\":[[\"#B0BEC5\",\"#B0BEC5\",\"red\",\"#B0BEC5\",\"#B0BEC5\",\"#B0BEC5\",\"#B0BEC5\",\"#B0BEC5\",\"#B0BEC5\",\"#B0BEC5\",\"#B0BEC5\",\"#B0BEC5\",\"#B0BEC5\",\"#B0BEC5\",\"#B0BEC5\",\"#B0BEC5\",\"#B0BEC5\",\"#B0BEC5\",\"#B0BEC5\",\"#B0BEC5\",\"#B0BEC5\",\"#B0BEC5\",\"#B0BEC5\",\"#B0BEC5\",\"#B0BEC5\",\"#B0BEC5\",\"#B0BEC5\",\"#B0BEC5\",\"#B0BEC5\",\"#B0BEC5\",\"#B0BEC5\",\"#B0BEC5\",\"#B0BEC5\",\"#B0BEC5\",\"#B0BEC5\",\"#B0BEC5\",\"#B0BEC5\",\"#B0BEC5\",\"#B0BEC5\",\"#B0BEC5\",\"#B0BEC5\",\"#B0BEC5\",\"#B0BEC5\",\"#B0BEC5\",\"#B0BEC5\",\"#B0BEC5\",\"#B0BEC5\",\"#B0BEC5\",\"#B0BEC5\",\"#B0BEC5\",\"#B0BEC5\"]]}],\"label\":\"Topic 2\",\"method\":\"update\"},{\"args\":[{\"marker.color\":[[\"#B0BEC5\",\"#B0BEC5\",\"#B0BEC5\",\"red\",\"#B0BEC5\",\"#B0BEC5\",\"#B0BEC5\",\"#B0BEC5\",\"#B0BEC5\",\"#B0BEC5\",\"#B0BEC5\",\"#B0BEC5\",\"#B0BEC5\",\"#B0BEC5\",\"#B0BEC5\",\"#B0BEC5\",\"#B0BEC5\",\"#B0BEC5\",\"#B0BEC5\",\"#B0BEC5\",\"#B0BEC5\",\"#B0BEC5\",\"#B0BEC5\",\"#B0BEC5\",\"#B0BEC5\",\"#B0BEC5\",\"#B0BEC5\",\"#B0BEC5\",\"#B0BEC5\",\"#B0BEC5\",\"#B0BEC5\",\"#B0BEC5\",\"#B0BEC5\",\"#B0BEC5\",\"#B0BEC5\",\"#B0BEC5\",\"#B0BEC5\",\"#B0BEC5\",\"#B0BEC5\",\"#B0BEC5\",\"#B0BEC5\",\"#B0BEC5\",\"#B0BEC5\",\"#B0BEC5\",\"#B0BEC5\",\"#B0BEC5\",\"#B0BEC5\",\"#B0BEC5\",\"#B0BEC5\",\"#B0BEC5\",\"#B0BEC5\"]]}],\"label\":\"Topic 3\",\"method\":\"update\"},{\"args\":[{\"marker.color\":[[\"#B0BEC5\",\"#B0BEC5\",\"#B0BEC5\",\"#B0BEC5\",\"red\",\"#B0BEC5\",\"#B0BEC5\",\"#B0BEC5\",\"#B0BEC5\",\"#B0BEC5\",\"#B0BEC5\",\"#B0BEC5\",\"#B0BEC5\",\"#B0BEC5\",\"#B0BEC5\",\"#B0BEC5\",\"#B0BEC5\",\"#B0BEC5\",\"#B0BEC5\",\"#B0BEC5\",\"#B0BEC5\",\"#B0BEC5\",\"#B0BEC5\",\"#B0BEC5\",\"#B0BEC5\",\"#B0BEC5\",\"#B0BEC5\",\"#B0BEC5\",\"#B0BEC5\",\"#B0BEC5\",\"#B0BEC5\",\"#B0BEC5\",\"#B0BEC5\",\"#B0BEC5\",\"#B0BEC5\",\"#B0BEC5\",\"#B0BEC5\",\"#B0BEC5\",\"#B0BEC5\",\"#B0BEC5\",\"#B0BEC5\",\"#B0BEC5\",\"#B0BEC5\",\"#B0BEC5\",\"#B0BEC5\",\"#B0BEC5\",\"#B0BEC5\",\"#B0BEC5\",\"#B0BEC5\",\"#B0BEC5\",\"#B0BEC5\"]]}],\"label\":\"Topic 4\",\"method\":\"update\"},{\"args\":[{\"marker.color\":[[\"#B0BEC5\",\"#B0BEC5\",\"#B0BEC5\",\"#B0BEC5\",\"#B0BEC5\",\"red\",\"#B0BEC5\",\"#B0BEC5\",\"#B0BEC5\",\"#B0BEC5\",\"#B0BEC5\",\"#B0BEC5\",\"#B0BEC5\",\"#B0BEC5\",\"#B0BEC5\",\"#B0BEC5\",\"#B0BEC5\",\"#B0BEC5\",\"#B0BEC5\",\"#B0BEC5\",\"#B0BEC5\",\"#B0BEC5\",\"#B0BEC5\",\"#B0BEC5\",\"#B0BEC5\",\"#B0BEC5\",\"#B0BEC5\",\"#B0BEC5\",\"#B0BEC5\",\"#B0BEC5\",\"#B0BEC5\",\"#B0BEC5\",\"#B0BEC5\",\"#B0BEC5\",\"#B0BEC5\",\"#B0BEC5\",\"#B0BEC5\",\"#B0BEC5\",\"#B0BEC5\",\"#B0BEC5\",\"#B0BEC5\",\"#B0BEC5\",\"#B0BEC5\",\"#B0BEC5\",\"#B0BEC5\",\"#B0BEC5\",\"#B0BEC5\",\"#B0BEC5\",\"#B0BEC5\",\"#B0BEC5\",\"#B0BEC5\"]]}],\"label\":\"Topic 5\",\"method\":\"update\"},{\"args\":[{\"marker.color\":[[\"#B0BEC5\",\"#B0BEC5\",\"#B0BEC5\",\"#B0BEC5\",\"#B0BEC5\",\"#B0BEC5\",\"red\",\"#B0BEC5\",\"#B0BEC5\",\"#B0BEC5\",\"#B0BEC5\",\"#B0BEC5\",\"#B0BEC5\",\"#B0BEC5\",\"#B0BEC5\",\"#B0BEC5\",\"#B0BEC5\",\"#B0BEC5\",\"#B0BEC5\",\"#B0BEC5\",\"#B0BEC5\",\"#B0BEC5\",\"#B0BEC5\",\"#B0BEC5\",\"#B0BEC5\",\"#B0BEC5\",\"#B0BEC5\",\"#B0BEC5\",\"#B0BEC5\",\"#B0BEC5\",\"#B0BEC5\",\"#B0BEC5\",\"#B0BEC5\",\"#B0BEC5\",\"#B0BEC5\",\"#B0BEC5\",\"#B0BEC5\",\"#B0BEC5\",\"#B0BEC5\",\"#B0BEC5\",\"#B0BEC5\",\"#B0BEC5\",\"#B0BEC5\",\"#B0BEC5\",\"#B0BEC5\",\"#B0BEC5\",\"#B0BEC5\",\"#B0BEC5\",\"#B0BEC5\",\"#B0BEC5\",\"#B0BEC5\"]]}],\"label\":\"Topic 6\",\"method\":\"update\"},{\"args\":[{\"marker.color\":[[\"#B0BEC5\",\"#B0BEC5\",\"#B0BEC5\",\"#B0BEC5\",\"#B0BEC5\",\"#B0BEC5\",\"#B0BEC5\",\"red\",\"#B0BEC5\",\"#B0BEC5\",\"#B0BEC5\",\"#B0BEC5\",\"#B0BEC5\",\"#B0BEC5\",\"#B0BEC5\",\"#B0BEC5\",\"#B0BEC5\",\"#B0BEC5\",\"#B0BEC5\",\"#B0BEC5\",\"#B0BEC5\",\"#B0BEC5\",\"#B0BEC5\",\"#B0BEC5\",\"#B0BEC5\",\"#B0BEC5\",\"#B0BEC5\",\"#B0BEC5\",\"#B0BEC5\",\"#B0BEC5\",\"#B0BEC5\",\"#B0BEC5\",\"#B0BEC5\",\"#B0BEC5\",\"#B0BEC5\",\"#B0BEC5\",\"#B0BEC5\",\"#B0BEC5\",\"#B0BEC5\",\"#B0BEC5\",\"#B0BEC5\",\"#B0BEC5\",\"#B0BEC5\",\"#B0BEC5\",\"#B0BEC5\",\"#B0BEC5\",\"#B0BEC5\",\"#B0BEC5\",\"#B0BEC5\",\"#B0BEC5\",\"#B0BEC5\"]]}],\"label\":\"Topic 7\",\"method\":\"update\"},{\"args\":[{\"marker.color\":[[\"#B0BEC5\",\"#B0BEC5\",\"#B0BEC5\",\"#B0BEC5\",\"#B0BEC5\",\"#B0BEC5\",\"#B0BEC5\",\"#B0BEC5\",\"red\",\"#B0BEC5\",\"#B0BEC5\",\"#B0BEC5\",\"#B0BEC5\",\"#B0BEC5\",\"#B0BEC5\",\"#B0BEC5\",\"#B0BEC5\",\"#B0BEC5\",\"#B0BEC5\",\"#B0BEC5\",\"#B0BEC5\",\"#B0BEC5\",\"#B0BEC5\",\"#B0BEC5\",\"#B0BEC5\",\"#B0BEC5\",\"#B0BEC5\",\"#B0BEC5\",\"#B0BEC5\",\"#B0BEC5\",\"#B0BEC5\",\"#B0BEC5\",\"#B0BEC5\",\"#B0BEC5\",\"#B0BEC5\",\"#B0BEC5\",\"#B0BEC5\",\"#B0BEC5\",\"#B0BEC5\",\"#B0BEC5\",\"#B0BEC5\",\"#B0BEC5\",\"#B0BEC5\",\"#B0BEC5\",\"#B0BEC5\",\"#B0BEC5\",\"#B0BEC5\",\"#B0BEC5\",\"#B0BEC5\",\"#B0BEC5\",\"#B0BEC5\"]]}],\"label\":\"Topic 8\",\"method\":\"update\"},{\"args\":[{\"marker.color\":[[\"#B0BEC5\",\"#B0BEC5\",\"#B0BEC5\",\"#B0BEC5\",\"#B0BEC5\",\"#B0BEC5\",\"#B0BEC5\",\"#B0BEC5\",\"#B0BEC5\",\"red\",\"#B0BEC5\",\"#B0BEC5\",\"#B0BEC5\",\"#B0BEC5\",\"#B0BEC5\",\"#B0BEC5\",\"#B0BEC5\",\"#B0BEC5\",\"#B0BEC5\",\"#B0BEC5\",\"#B0BEC5\",\"#B0BEC5\",\"#B0BEC5\",\"#B0BEC5\",\"#B0BEC5\",\"#B0BEC5\",\"#B0BEC5\",\"#B0BEC5\",\"#B0BEC5\",\"#B0BEC5\",\"#B0BEC5\",\"#B0BEC5\",\"#B0BEC5\",\"#B0BEC5\",\"#B0BEC5\",\"#B0BEC5\",\"#B0BEC5\",\"#B0BEC5\",\"#B0BEC5\",\"#B0BEC5\",\"#B0BEC5\",\"#B0BEC5\",\"#B0BEC5\",\"#B0BEC5\",\"#B0BEC5\",\"#B0BEC5\",\"#B0BEC5\",\"#B0BEC5\",\"#B0BEC5\",\"#B0BEC5\",\"#B0BEC5\"]]}],\"label\":\"Topic 9\",\"method\":\"update\"},{\"args\":[{\"marker.color\":[[\"#B0BEC5\",\"#B0BEC5\",\"#B0BEC5\",\"#B0BEC5\",\"#B0BEC5\",\"#B0BEC5\",\"#B0BEC5\",\"#B0BEC5\",\"#B0BEC5\",\"#B0BEC5\",\"red\",\"#B0BEC5\",\"#B0BEC5\",\"#B0BEC5\",\"#B0BEC5\",\"#B0BEC5\",\"#B0BEC5\",\"#B0BEC5\",\"#B0BEC5\",\"#B0BEC5\",\"#B0BEC5\",\"#B0BEC5\",\"#B0BEC5\",\"#B0BEC5\",\"#B0BEC5\",\"#B0BEC5\",\"#B0BEC5\",\"#B0BEC5\",\"#B0BEC5\",\"#B0BEC5\",\"#B0BEC5\",\"#B0BEC5\",\"#B0BEC5\",\"#B0BEC5\",\"#B0BEC5\",\"#B0BEC5\",\"#B0BEC5\",\"#B0BEC5\",\"#B0BEC5\",\"#B0BEC5\",\"#B0BEC5\",\"#B0BEC5\",\"#B0BEC5\",\"#B0BEC5\",\"#B0BEC5\",\"#B0BEC5\",\"#B0BEC5\",\"#B0BEC5\",\"#B0BEC5\",\"#B0BEC5\",\"#B0BEC5\"]]}],\"label\":\"Topic 10\",\"method\":\"update\"},{\"args\":[{\"marker.color\":[[\"#B0BEC5\",\"#B0BEC5\",\"#B0BEC5\",\"#B0BEC5\",\"#B0BEC5\",\"#B0BEC5\",\"#B0BEC5\",\"#B0BEC5\",\"#B0BEC5\",\"#B0BEC5\",\"#B0BEC5\",\"red\",\"#B0BEC5\",\"#B0BEC5\",\"#B0BEC5\",\"#B0BEC5\",\"#B0BEC5\",\"#B0BEC5\",\"#B0BEC5\",\"#B0BEC5\",\"#B0BEC5\",\"#B0BEC5\",\"#B0BEC5\",\"#B0BEC5\",\"#B0BEC5\",\"#B0BEC5\",\"#B0BEC5\",\"#B0BEC5\",\"#B0BEC5\",\"#B0BEC5\",\"#B0BEC5\",\"#B0BEC5\",\"#B0BEC5\",\"#B0BEC5\",\"#B0BEC5\",\"#B0BEC5\",\"#B0BEC5\",\"#B0BEC5\",\"#B0BEC5\",\"#B0BEC5\",\"#B0BEC5\",\"#B0BEC5\",\"#B0BEC5\",\"#B0BEC5\",\"#B0BEC5\",\"#B0BEC5\",\"#B0BEC5\",\"#B0BEC5\",\"#B0BEC5\",\"#B0BEC5\",\"#B0BEC5\"]]}],\"label\":\"Topic 11\",\"method\":\"update\"},{\"args\":[{\"marker.color\":[[\"#B0BEC5\",\"#B0BEC5\",\"#B0BEC5\",\"#B0BEC5\",\"#B0BEC5\",\"#B0BEC5\",\"#B0BEC5\",\"#B0BEC5\",\"#B0BEC5\",\"#B0BEC5\",\"#B0BEC5\",\"#B0BEC5\",\"red\",\"#B0BEC5\",\"#B0BEC5\",\"#B0BEC5\",\"#B0BEC5\",\"#B0BEC5\",\"#B0BEC5\",\"#B0BEC5\",\"#B0BEC5\",\"#B0BEC5\",\"#B0BEC5\",\"#B0BEC5\",\"#B0BEC5\",\"#B0BEC5\",\"#B0BEC5\",\"#B0BEC5\",\"#B0BEC5\",\"#B0BEC5\",\"#B0BEC5\",\"#B0BEC5\",\"#B0BEC5\",\"#B0BEC5\",\"#B0BEC5\",\"#B0BEC5\",\"#B0BEC5\",\"#B0BEC5\",\"#B0BEC5\",\"#B0BEC5\",\"#B0BEC5\",\"#B0BEC5\",\"#B0BEC5\",\"#B0BEC5\",\"#B0BEC5\",\"#B0BEC5\",\"#B0BEC5\",\"#B0BEC5\",\"#B0BEC5\",\"#B0BEC5\",\"#B0BEC5\"]]}],\"label\":\"Topic 12\",\"method\":\"update\"},{\"args\":[{\"marker.color\":[[\"#B0BEC5\",\"#B0BEC5\",\"#B0BEC5\",\"#B0BEC5\",\"#B0BEC5\",\"#B0BEC5\",\"#B0BEC5\",\"#B0BEC5\",\"#B0BEC5\",\"#B0BEC5\",\"#B0BEC5\",\"#B0BEC5\",\"#B0BEC5\",\"red\",\"#B0BEC5\",\"#B0BEC5\",\"#B0BEC5\",\"#B0BEC5\",\"#B0BEC5\",\"#B0BEC5\",\"#B0BEC5\",\"#B0BEC5\",\"#B0BEC5\",\"#B0BEC5\",\"#B0BEC5\",\"#B0BEC5\",\"#B0BEC5\",\"#B0BEC5\",\"#B0BEC5\",\"#B0BEC5\",\"#B0BEC5\",\"#B0BEC5\",\"#B0BEC5\",\"#B0BEC5\",\"#B0BEC5\",\"#B0BEC5\",\"#B0BEC5\",\"#B0BEC5\",\"#B0BEC5\",\"#B0BEC5\",\"#B0BEC5\",\"#B0BEC5\",\"#B0BEC5\",\"#B0BEC5\",\"#B0BEC5\",\"#B0BEC5\",\"#B0BEC5\",\"#B0BEC5\",\"#B0BEC5\",\"#B0BEC5\",\"#B0BEC5\"]]}],\"label\":\"Topic 13\",\"method\":\"update\"},{\"args\":[{\"marker.color\":[[\"#B0BEC5\",\"#B0BEC5\",\"#B0BEC5\",\"#B0BEC5\",\"#B0BEC5\",\"#B0BEC5\",\"#B0BEC5\",\"#B0BEC5\",\"#B0BEC5\",\"#B0BEC5\",\"#B0BEC5\",\"#B0BEC5\",\"#B0BEC5\",\"#B0BEC5\",\"red\",\"#B0BEC5\",\"#B0BEC5\",\"#B0BEC5\",\"#B0BEC5\",\"#B0BEC5\",\"#B0BEC5\",\"#B0BEC5\",\"#B0BEC5\",\"#B0BEC5\",\"#B0BEC5\",\"#B0BEC5\",\"#B0BEC5\",\"#B0BEC5\",\"#B0BEC5\",\"#B0BEC5\",\"#B0BEC5\",\"#B0BEC5\",\"#B0BEC5\",\"#B0BEC5\",\"#B0BEC5\",\"#B0BEC5\",\"#B0BEC5\",\"#B0BEC5\",\"#B0BEC5\",\"#B0BEC5\",\"#B0BEC5\",\"#B0BEC5\",\"#B0BEC5\",\"#B0BEC5\",\"#B0BEC5\",\"#B0BEC5\",\"#B0BEC5\",\"#B0BEC5\",\"#B0BEC5\",\"#B0BEC5\",\"#B0BEC5\"]]}],\"label\":\"Topic 14\",\"method\":\"update\"},{\"args\":[{\"marker.color\":[[\"#B0BEC5\",\"#B0BEC5\",\"#B0BEC5\",\"#B0BEC5\",\"#B0BEC5\",\"#B0BEC5\",\"#B0BEC5\",\"#B0BEC5\",\"#B0BEC5\",\"#B0BEC5\",\"#B0BEC5\",\"#B0BEC5\",\"#B0BEC5\",\"#B0BEC5\",\"#B0BEC5\",\"red\",\"#B0BEC5\",\"#B0BEC5\",\"#B0BEC5\",\"#B0BEC5\",\"#B0BEC5\",\"#B0BEC5\",\"#B0BEC5\",\"#B0BEC5\",\"#B0BEC5\",\"#B0BEC5\",\"#B0BEC5\",\"#B0BEC5\",\"#B0BEC5\",\"#B0BEC5\",\"#B0BEC5\",\"#B0BEC5\",\"#B0BEC5\",\"#B0BEC5\",\"#B0BEC5\",\"#B0BEC5\",\"#B0BEC5\",\"#B0BEC5\",\"#B0BEC5\",\"#B0BEC5\",\"#B0BEC5\",\"#B0BEC5\",\"#B0BEC5\",\"#B0BEC5\",\"#B0BEC5\",\"#B0BEC5\",\"#B0BEC5\",\"#B0BEC5\",\"#B0BEC5\",\"#B0BEC5\",\"#B0BEC5\"]]}],\"label\":\"Topic 15\",\"method\":\"update\"},{\"args\":[{\"marker.color\":[[\"#B0BEC5\",\"#B0BEC5\",\"#B0BEC5\",\"#B0BEC5\",\"#B0BEC5\",\"#B0BEC5\",\"#B0BEC5\",\"#B0BEC5\",\"#B0BEC5\",\"#B0BEC5\",\"#B0BEC5\",\"#B0BEC5\",\"#B0BEC5\",\"#B0BEC5\",\"#B0BEC5\",\"#B0BEC5\",\"red\",\"#B0BEC5\",\"#B0BEC5\",\"#B0BEC5\",\"#B0BEC5\",\"#B0BEC5\",\"#B0BEC5\",\"#B0BEC5\",\"#B0BEC5\",\"#B0BEC5\",\"#B0BEC5\",\"#B0BEC5\",\"#B0BEC5\",\"#B0BEC5\",\"#B0BEC5\",\"#B0BEC5\",\"#B0BEC5\",\"#B0BEC5\",\"#B0BEC5\",\"#B0BEC5\",\"#B0BEC5\",\"#B0BEC5\",\"#B0BEC5\",\"#B0BEC5\",\"#B0BEC5\",\"#B0BEC5\",\"#B0BEC5\",\"#B0BEC5\",\"#B0BEC5\",\"#B0BEC5\",\"#B0BEC5\",\"#B0BEC5\",\"#B0BEC5\",\"#B0BEC5\",\"#B0BEC5\"]]}],\"label\":\"Topic 16\",\"method\":\"update\"},{\"args\":[{\"marker.color\":[[\"#B0BEC5\",\"#B0BEC5\",\"#B0BEC5\",\"#B0BEC5\",\"#B0BEC5\",\"#B0BEC5\",\"#B0BEC5\",\"#B0BEC5\",\"#B0BEC5\",\"#B0BEC5\",\"#B0BEC5\",\"#B0BEC5\",\"#B0BEC5\",\"#B0BEC5\",\"#B0BEC5\",\"#B0BEC5\",\"#B0BEC5\",\"red\",\"#B0BEC5\",\"#B0BEC5\",\"#B0BEC5\",\"#B0BEC5\",\"#B0BEC5\",\"#B0BEC5\",\"#B0BEC5\",\"#B0BEC5\",\"#B0BEC5\",\"#B0BEC5\",\"#B0BEC5\",\"#B0BEC5\",\"#B0BEC5\",\"#B0BEC5\",\"#B0BEC5\",\"#B0BEC5\",\"#B0BEC5\",\"#B0BEC5\",\"#B0BEC5\",\"#B0BEC5\",\"#B0BEC5\",\"#B0BEC5\",\"#B0BEC5\",\"#B0BEC5\",\"#B0BEC5\",\"#B0BEC5\",\"#B0BEC5\",\"#B0BEC5\",\"#B0BEC5\",\"#B0BEC5\",\"#B0BEC5\",\"#B0BEC5\",\"#B0BEC5\"]]}],\"label\":\"Topic 17\",\"method\":\"update\"},{\"args\":[{\"marker.color\":[[\"#B0BEC5\",\"#B0BEC5\",\"#B0BEC5\",\"#B0BEC5\",\"#B0BEC5\",\"#B0BEC5\",\"#B0BEC5\",\"#B0BEC5\",\"#B0BEC5\",\"#B0BEC5\",\"#B0BEC5\",\"#B0BEC5\",\"#B0BEC5\",\"#B0BEC5\",\"#B0BEC5\",\"#B0BEC5\",\"#B0BEC5\",\"#B0BEC5\",\"red\",\"#B0BEC5\",\"#B0BEC5\",\"#B0BEC5\",\"#B0BEC5\",\"#B0BEC5\",\"#B0BEC5\",\"#B0BEC5\",\"#B0BEC5\",\"#B0BEC5\",\"#B0BEC5\",\"#B0BEC5\",\"#B0BEC5\",\"#B0BEC5\",\"#B0BEC5\",\"#B0BEC5\",\"#B0BEC5\",\"#B0BEC5\",\"#B0BEC5\",\"#B0BEC5\",\"#B0BEC5\",\"#B0BEC5\",\"#B0BEC5\",\"#B0BEC5\",\"#B0BEC5\",\"#B0BEC5\",\"#B0BEC5\",\"#B0BEC5\",\"#B0BEC5\",\"#B0BEC5\",\"#B0BEC5\",\"#B0BEC5\",\"#B0BEC5\"]]}],\"label\":\"Topic 18\",\"method\":\"update\"},{\"args\":[{\"marker.color\":[[\"#B0BEC5\",\"#B0BEC5\",\"#B0BEC5\",\"#B0BEC5\",\"#B0BEC5\",\"#B0BEC5\",\"#B0BEC5\",\"#B0BEC5\",\"#B0BEC5\",\"#B0BEC5\",\"#B0BEC5\",\"#B0BEC5\",\"#B0BEC5\",\"#B0BEC5\",\"#B0BEC5\",\"#B0BEC5\",\"#B0BEC5\",\"#B0BEC5\",\"#B0BEC5\",\"red\",\"#B0BEC5\",\"#B0BEC5\",\"#B0BEC5\",\"#B0BEC5\",\"#B0BEC5\",\"#B0BEC5\",\"#B0BEC5\",\"#B0BEC5\",\"#B0BEC5\",\"#B0BEC5\",\"#B0BEC5\",\"#B0BEC5\",\"#B0BEC5\",\"#B0BEC5\",\"#B0BEC5\",\"#B0BEC5\",\"#B0BEC5\",\"#B0BEC5\",\"#B0BEC5\",\"#B0BEC5\",\"#B0BEC5\",\"#B0BEC5\",\"#B0BEC5\",\"#B0BEC5\",\"#B0BEC5\",\"#B0BEC5\",\"#B0BEC5\",\"#B0BEC5\",\"#B0BEC5\",\"#B0BEC5\",\"#B0BEC5\"]]}],\"label\":\"Topic 19\",\"method\":\"update\"},{\"args\":[{\"marker.color\":[[\"#B0BEC5\",\"#B0BEC5\",\"#B0BEC5\",\"#B0BEC5\",\"#B0BEC5\",\"#B0BEC5\",\"#B0BEC5\",\"#B0BEC5\",\"#B0BEC5\",\"#B0BEC5\",\"#B0BEC5\",\"#B0BEC5\",\"#B0BEC5\",\"#B0BEC5\",\"#B0BEC5\",\"#B0BEC5\",\"#B0BEC5\",\"#B0BEC5\",\"#B0BEC5\",\"#B0BEC5\",\"red\",\"#B0BEC5\",\"#B0BEC5\",\"#B0BEC5\",\"#B0BEC5\",\"#B0BEC5\",\"#B0BEC5\",\"#B0BEC5\",\"#B0BEC5\",\"#B0BEC5\",\"#B0BEC5\",\"#B0BEC5\",\"#B0BEC5\",\"#B0BEC5\",\"#B0BEC5\",\"#B0BEC5\",\"#B0BEC5\",\"#B0BEC5\",\"#B0BEC5\",\"#B0BEC5\",\"#B0BEC5\",\"#B0BEC5\",\"#B0BEC5\",\"#B0BEC5\",\"#B0BEC5\",\"#B0BEC5\",\"#B0BEC5\",\"#B0BEC5\",\"#B0BEC5\",\"#B0BEC5\",\"#B0BEC5\"]]}],\"label\":\"Topic 20\",\"method\":\"update\"},{\"args\":[{\"marker.color\":[[\"#B0BEC5\",\"#B0BEC5\",\"#B0BEC5\",\"#B0BEC5\",\"#B0BEC5\",\"#B0BEC5\",\"#B0BEC5\",\"#B0BEC5\",\"#B0BEC5\",\"#B0BEC5\",\"#B0BEC5\",\"#B0BEC5\",\"#B0BEC5\",\"#B0BEC5\",\"#B0BEC5\",\"#B0BEC5\",\"#B0BEC5\",\"#B0BEC5\",\"#B0BEC5\",\"#B0BEC5\",\"#B0BEC5\",\"red\",\"#B0BEC5\",\"#B0BEC5\",\"#B0BEC5\",\"#B0BEC5\",\"#B0BEC5\",\"#B0BEC5\",\"#B0BEC5\",\"#B0BEC5\",\"#B0BEC5\",\"#B0BEC5\",\"#B0BEC5\",\"#B0BEC5\",\"#B0BEC5\",\"#B0BEC5\",\"#B0BEC5\",\"#B0BEC5\",\"#B0BEC5\",\"#B0BEC5\",\"#B0BEC5\",\"#B0BEC5\",\"#B0BEC5\",\"#B0BEC5\",\"#B0BEC5\",\"#B0BEC5\",\"#B0BEC5\",\"#B0BEC5\",\"#B0BEC5\",\"#B0BEC5\",\"#B0BEC5\"]]}],\"label\":\"Topic 21\",\"method\":\"update\"},{\"args\":[{\"marker.color\":[[\"#B0BEC5\",\"#B0BEC5\",\"#B0BEC5\",\"#B0BEC5\",\"#B0BEC5\",\"#B0BEC5\",\"#B0BEC5\",\"#B0BEC5\",\"#B0BEC5\",\"#B0BEC5\",\"#B0BEC5\",\"#B0BEC5\",\"#B0BEC5\",\"#B0BEC5\",\"#B0BEC5\",\"#B0BEC5\",\"#B0BEC5\",\"#B0BEC5\",\"#B0BEC5\",\"#B0BEC5\",\"#B0BEC5\",\"#B0BEC5\",\"red\",\"#B0BEC5\",\"#B0BEC5\",\"#B0BEC5\",\"#B0BEC5\",\"#B0BEC5\",\"#B0BEC5\",\"#B0BEC5\",\"#B0BEC5\",\"#B0BEC5\",\"#B0BEC5\",\"#B0BEC5\",\"#B0BEC5\",\"#B0BEC5\",\"#B0BEC5\",\"#B0BEC5\",\"#B0BEC5\",\"#B0BEC5\",\"#B0BEC5\",\"#B0BEC5\",\"#B0BEC5\",\"#B0BEC5\",\"#B0BEC5\",\"#B0BEC5\",\"#B0BEC5\",\"#B0BEC5\",\"#B0BEC5\",\"#B0BEC5\",\"#B0BEC5\"]]}],\"label\":\"Topic 22\",\"method\":\"update\"},{\"args\":[{\"marker.color\":[[\"#B0BEC5\",\"#B0BEC5\",\"#B0BEC5\",\"#B0BEC5\",\"#B0BEC5\",\"#B0BEC5\",\"#B0BEC5\",\"#B0BEC5\",\"#B0BEC5\",\"#B0BEC5\",\"#B0BEC5\",\"#B0BEC5\",\"#B0BEC5\",\"#B0BEC5\",\"#B0BEC5\",\"#B0BEC5\",\"#B0BEC5\",\"#B0BEC5\",\"#B0BEC5\",\"#B0BEC5\",\"#B0BEC5\",\"#B0BEC5\",\"#B0BEC5\",\"red\",\"#B0BEC5\",\"#B0BEC5\",\"#B0BEC5\",\"#B0BEC5\",\"#B0BEC5\",\"#B0BEC5\",\"#B0BEC5\",\"#B0BEC5\",\"#B0BEC5\",\"#B0BEC5\",\"#B0BEC5\",\"#B0BEC5\",\"#B0BEC5\",\"#B0BEC5\",\"#B0BEC5\",\"#B0BEC5\",\"#B0BEC5\",\"#B0BEC5\",\"#B0BEC5\",\"#B0BEC5\",\"#B0BEC5\",\"#B0BEC5\",\"#B0BEC5\",\"#B0BEC5\",\"#B0BEC5\",\"#B0BEC5\",\"#B0BEC5\"]]}],\"label\":\"Topic 23\",\"method\":\"update\"},{\"args\":[{\"marker.color\":[[\"#B0BEC5\",\"#B0BEC5\",\"#B0BEC5\",\"#B0BEC5\",\"#B0BEC5\",\"#B0BEC5\",\"#B0BEC5\",\"#B0BEC5\",\"#B0BEC5\",\"#B0BEC5\",\"#B0BEC5\",\"#B0BEC5\",\"#B0BEC5\",\"#B0BEC5\",\"#B0BEC5\",\"#B0BEC5\",\"#B0BEC5\",\"#B0BEC5\",\"#B0BEC5\",\"#B0BEC5\",\"#B0BEC5\",\"#B0BEC5\",\"#B0BEC5\",\"#B0BEC5\",\"red\",\"#B0BEC5\",\"#B0BEC5\",\"#B0BEC5\",\"#B0BEC5\",\"#B0BEC5\",\"#B0BEC5\",\"#B0BEC5\",\"#B0BEC5\",\"#B0BEC5\",\"#B0BEC5\",\"#B0BEC5\",\"#B0BEC5\",\"#B0BEC5\",\"#B0BEC5\",\"#B0BEC5\",\"#B0BEC5\",\"#B0BEC5\",\"#B0BEC5\",\"#B0BEC5\",\"#B0BEC5\",\"#B0BEC5\",\"#B0BEC5\",\"#B0BEC5\",\"#B0BEC5\",\"#B0BEC5\",\"#B0BEC5\"]]}],\"label\":\"Topic 24\",\"method\":\"update\"},{\"args\":[{\"marker.color\":[[\"#B0BEC5\",\"#B0BEC5\",\"#B0BEC5\",\"#B0BEC5\",\"#B0BEC5\",\"#B0BEC5\",\"#B0BEC5\",\"#B0BEC5\",\"#B0BEC5\",\"#B0BEC5\",\"#B0BEC5\",\"#B0BEC5\",\"#B0BEC5\",\"#B0BEC5\",\"#B0BEC5\",\"#B0BEC5\",\"#B0BEC5\",\"#B0BEC5\",\"#B0BEC5\",\"#B0BEC5\",\"#B0BEC5\",\"#B0BEC5\",\"#B0BEC5\",\"#B0BEC5\",\"#B0BEC5\",\"red\",\"#B0BEC5\",\"#B0BEC5\",\"#B0BEC5\",\"#B0BEC5\",\"#B0BEC5\",\"#B0BEC5\",\"#B0BEC5\",\"#B0BEC5\",\"#B0BEC5\",\"#B0BEC5\",\"#B0BEC5\",\"#B0BEC5\",\"#B0BEC5\",\"#B0BEC5\",\"#B0BEC5\",\"#B0BEC5\",\"#B0BEC5\",\"#B0BEC5\",\"#B0BEC5\",\"#B0BEC5\",\"#B0BEC5\",\"#B0BEC5\",\"#B0BEC5\",\"#B0BEC5\",\"#B0BEC5\"]]}],\"label\":\"Topic 25\",\"method\":\"update\"},{\"args\":[{\"marker.color\":[[\"#B0BEC5\",\"#B0BEC5\",\"#B0BEC5\",\"#B0BEC5\",\"#B0BEC5\",\"#B0BEC5\",\"#B0BEC5\",\"#B0BEC5\",\"#B0BEC5\",\"#B0BEC5\",\"#B0BEC5\",\"#B0BEC5\",\"#B0BEC5\",\"#B0BEC5\",\"#B0BEC5\",\"#B0BEC5\",\"#B0BEC5\",\"#B0BEC5\",\"#B0BEC5\",\"#B0BEC5\",\"#B0BEC5\",\"#B0BEC5\",\"#B0BEC5\",\"#B0BEC5\",\"#B0BEC5\",\"#B0BEC5\",\"red\",\"#B0BEC5\",\"#B0BEC5\",\"#B0BEC5\",\"#B0BEC5\",\"#B0BEC5\",\"#B0BEC5\",\"#B0BEC5\",\"#B0BEC5\",\"#B0BEC5\",\"#B0BEC5\",\"#B0BEC5\",\"#B0BEC5\",\"#B0BEC5\",\"#B0BEC5\",\"#B0BEC5\",\"#B0BEC5\",\"#B0BEC5\",\"#B0BEC5\",\"#B0BEC5\",\"#B0BEC5\",\"#B0BEC5\",\"#B0BEC5\",\"#B0BEC5\",\"#B0BEC5\"]]}],\"label\":\"Topic 26\",\"method\":\"update\"},{\"args\":[{\"marker.color\":[[\"#B0BEC5\",\"#B0BEC5\",\"#B0BEC5\",\"#B0BEC5\",\"#B0BEC5\",\"#B0BEC5\",\"#B0BEC5\",\"#B0BEC5\",\"#B0BEC5\",\"#B0BEC5\",\"#B0BEC5\",\"#B0BEC5\",\"#B0BEC5\",\"#B0BEC5\",\"#B0BEC5\",\"#B0BEC5\",\"#B0BEC5\",\"#B0BEC5\",\"#B0BEC5\",\"#B0BEC5\",\"#B0BEC5\",\"#B0BEC5\",\"#B0BEC5\",\"#B0BEC5\",\"#B0BEC5\",\"#B0BEC5\",\"#B0BEC5\",\"red\",\"#B0BEC5\",\"#B0BEC5\",\"#B0BEC5\",\"#B0BEC5\",\"#B0BEC5\",\"#B0BEC5\",\"#B0BEC5\",\"#B0BEC5\",\"#B0BEC5\",\"#B0BEC5\",\"#B0BEC5\",\"#B0BEC5\",\"#B0BEC5\",\"#B0BEC5\",\"#B0BEC5\",\"#B0BEC5\",\"#B0BEC5\",\"#B0BEC5\",\"#B0BEC5\",\"#B0BEC5\",\"#B0BEC5\",\"#B0BEC5\",\"#B0BEC5\"]]}],\"label\":\"Topic 27\",\"method\":\"update\"},{\"args\":[{\"marker.color\":[[\"#B0BEC5\",\"#B0BEC5\",\"#B0BEC5\",\"#B0BEC5\",\"#B0BEC5\",\"#B0BEC5\",\"#B0BEC5\",\"#B0BEC5\",\"#B0BEC5\",\"#B0BEC5\",\"#B0BEC5\",\"#B0BEC5\",\"#B0BEC5\",\"#B0BEC5\",\"#B0BEC5\",\"#B0BEC5\",\"#B0BEC5\",\"#B0BEC5\",\"#B0BEC5\",\"#B0BEC5\",\"#B0BEC5\",\"#B0BEC5\",\"#B0BEC5\",\"#B0BEC5\",\"#B0BEC5\",\"#B0BEC5\",\"#B0BEC5\",\"#B0BEC5\",\"red\",\"#B0BEC5\",\"#B0BEC5\",\"#B0BEC5\",\"#B0BEC5\",\"#B0BEC5\",\"#B0BEC5\",\"#B0BEC5\",\"#B0BEC5\",\"#B0BEC5\",\"#B0BEC5\",\"#B0BEC5\",\"#B0BEC5\",\"#B0BEC5\",\"#B0BEC5\",\"#B0BEC5\",\"#B0BEC5\",\"#B0BEC5\",\"#B0BEC5\",\"#B0BEC5\",\"#B0BEC5\",\"#B0BEC5\",\"#B0BEC5\"]]}],\"label\":\"Topic 28\",\"method\":\"update\"},{\"args\":[{\"marker.color\":[[\"#B0BEC5\",\"#B0BEC5\",\"#B0BEC5\",\"#B0BEC5\",\"#B0BEC5\",\"#B0BEC5\",\"#B0BEC5\",\"#B0BEC5\",\"#B0BEC5\",\"#B0BEC5\",\"#B0BEC5\",\"#B0BEC5\",\"#B0BEC5\",\"#B0BEC5\",\"#B0BEC5\",\"#B0BEC5\",\"#B0BEC5\",\"#B0BEC5\",\"#B0BEC5\",\"#B0BEC5\",\"#B0BEC5\",\"#B0BEC5\",\"#B0BEC5\",\"#B0BEC5\",\"#B0BEC5\",\"#B0BEC5\",\"#B0BEC5\",\"#B0BEC5\",\"#B0BEC5\",\"red\",\"#B0BEC5\",\"#B0BEC5\",\"#B0BEC5\",\"#B0BEC5\",\"#B0BEC5\",\"#B0BEC5\",\"#B0BEC5\",\"#B0BEC5\",\"#B0BEC5\",\"#B0BEC5\",\"#B0BEC5\",\"#B0BEC5\",\"#B0BEC5\",\"#B0BEC5\",\"#B0BEC5\",\"#B0BEC5\",\"#B0BEC5\",\"#B0BEC5\",\"#B0BEC5\",\"#B0BEC5\",\"#B0BEC5\"]]}],\"label\":\"Topic 29\",\"method\":\"update\"},{\"args\":[{\"marker.color\":[[\"#B0BEC5\",\"#B0BEC5\",\"#B0BEC5\",\"#B0BEC5\",\"#B0BEC5\",\"#B0BEC5\",\"#B0BEC5\",\"#B0BEC5\",\"#B0BEC5\",\"#B0BEC5\",\"#B0BEC5\",\"#B0BEC5\",\"#B0BEC5\",\"#B0BEC5\",\"#B0BEC5\",\"#B0BEC5\",\"#B0BEC5\",\"#B0BEC5\",\"#B0BEC5\",\"#B0BEC5\",\"#B0BEC5\",\"#B0BEC5\",\"#B0BEC5\",\"#B0BEC5\",\"#B0BEC5\",\"#B0BEC5\",\"#B0BEC5\",\"#B0BEC5\",\"#B0BEC5\",\"#B0BEC5\",\"red\",\"#B0BEC5\",\"#B0BEC5\",\"#B0BEC5\",\"#B0BEC5\",\"#B0BEC5\",\"#B0BEC5\",\"#B0BEC5\",\"#B0BEC5\",\"#B0BEC5\",\"#B0BEC5\",\"#B0BEC5\",\"#B0BEC5\",\"#B0BEC5\",\"#B0BEC5\",\"#B0BEC5\",\"#B0BEC5\",\"#B0BEC5\",\"#B0BEC5\",\"#B0BEC5\",\"#B0BEC5\"]]}],\"label\":\"Topic 30\",\"method\":\"update\"},{\"args\":[{\"marker.color\":[[\"#B0BEC5\",\"#B0BEC5\",\"#B0BEC5\",\"#B0BEC5\",\"#B0BEC5\",\"#B0BEC5\",\"#B0BEC5\",\"#B0BEC5\",\"#B0BEC5\",\"#B0BEC5\",\"#B0BEC5\",\"#B0BEC5\",\"#B0BEC5\",\"#B0BEC5\",\"#B0BEC5\",\"#B0BEC5\",\"#B0BEC5\",\"#B0BEC5\",\"#B0BEC5\",\"#B0BEC5\",\"#B0BEC5\",\"#B0BEC5\",\"#B0BEC5\",\"#B0BEC5\",\"#B0BEC5\",\"#B0BEC5\",\"#B0BEC5\",\"#B0BEC5\",\"#B0BEC5\",\"#B0BEC5\",\"#B0BEC5\",\"red\",\"#B0BEC5\",\"#B0BEC5\",\"#B0BEC5\",\"#B0BEC5\",\"#B0BEC5\",\"#B0BEC5\",\"#B0BEC5\",\"#B0BEC5\",\"#B0BEC5\",\"#B0BEC5\",\"#B0BEC5\",\"#B0BEC5\",\"#B0BEC5\",\"#B0BEC5\",\"#B0BEC5\",\"#B0BEC5\",\"#B0BEC5\",\"#B0BEC5\",\"#B0BEC5\"]]}],\"label\":\"Topic 31\",\"method\":\"update\"},{\"args\":[{\"marker.color\":[[\"#B0BEC5\",\"#B0BEC5\",\"#B0BEC5\",\"#B0BEC5\",\"#B0BEC5\",\"#B0BEC5\",\"#B0BEC5\",\"#B0BEC5\",\"#B0BEC5\",\"#B0BEC5\",\"#B0BEC5\",\"#B0BEC5\",\"#B0BEC5\",\"#B0BEC5\",\"#B0BEC5\",\"#B0BEC5\",\"#B0BEC5\",\"#B0BEC5\",\"#B0BEC5\",\"#B0BEC5\",\"#B0BEC5\",\"#B0BEC5\",\"#B0BEC5\",\"#B0BEC5\",\"#B0BEC5\",\"#B0BEC5\",\"#B0BEC5\",\"#B0BEC5\",\"#B0BEC5\",\"#B0BEC5\",\"#B0BEC5\",\"#B0BEC5\",\"red\",\"#B0BEC5\",\"#B0BEC5\",\"#B0BEC5\",\"#B0BEC5\",\"#B0BEC5\",\"#B0BEC5\",\"#B0BEC5\",\"#B0BEC5\",\"#B0BEC5\",\"#B0BEC5\",\"#B0BEC5\",\"#B0BEC5\",\"#B0BEC5\",\"#B0BEC5\",\"#B0BEC5\",\"#B0BEC5\",\"#B0BEC5\",\"#B0BEC5\"]]}],\"label\":\"Topic 32\",\"method\":\"update\"},{\"args\":[{\"marker.color\":[[\"#B0BEC5\",\"#B0BEC5\",\"#B0BEC5\",\"#B0BEC5\",\"#B0BEC5\",\"#B0BEC5\",\"#B0BEC5\",\"#B0BEC5\",\"#B0BEC5\",\"#B0BEC5\",\"#B0BEC5\",\"#B0BEC5\",\"#B0BEC5\",\"#B0BEC5\",\"#B0BEC5\",\"#B0BEC5\",\"#B0BEC5\",\"#B0BEC5\",\"#B0BEC5\",\"#B0BEC5\",\"#B0BEC5\",\"#B0BEC5\",\"#B0BEC5\",\"#B0BEC5\",\"#B0BEC5\",\"#B0BEC5\",\"#B0BEC5\",\"#B0BEC5\",\"#B0BEC5\",\"#B0BEC5\",\"#B0BEC5\",\"#B0BEC5\",\"#B0BEC5\",\"red\",\"#B0BEC5\",\"#B0BEC5\",\"#B0BEC5\",\"#B0BEC5\",\"#B0BEC5\",\"#B0BEC5\",\"#B0BEC5\",\"#B0BEC5\",\"#B0BEC5\",\"#B0BEC5\",\"#B0BEC5\",\"#B0BEC5\",\"#B0BEC5\",\"#B0BEC5\",\"#B0BEC5\",\"#B0BEC5\",\"#B0BEC5\"]]}],\"label\":\"Topic 33\",\"method\":\"update\"},{\"args\":[{\"marker.color\":[[\"#B0BEC5\",\"#B0BEC5\",\"#B0BEC5\",\"#B0BEC5\",\"#B0BEC5\",\"#B0BEC5\",\"#B0BEC5\",\"#B0BEC5\",\"#B0BEC5\",\"#B0BEC5\",\"#B0BEC5\",\"#B0BEC5\",\"#B0BEC5\",\"#B0BEC5\",\"#B0BEC5\",\"#B0BEC5\",\"#B0BEC5\",\"#B0BEC5\",\"#B0BEC5\",\"#B0BEC5\",\"#B0BEC5\",\"#B0BEC5\",\"#B0BEC5\",\"#B0BEC5\",\"#B0BEC5\",\"#B0BEC5\",\"#B0BEC5\",\"#B0BEC5\",\"#B0BEC5\",\"#B0BEC5\",\"#B0BEC5\",\"#B0BEC5\",\"#B0BEC5\",\"#B0BEC5\",\"red\",\"#B0BEC5\",\"#B0BEC5\",\"#B0BEC5\",\"#B0BEC5\",\"#B0BEC5\",\"#B0BEC5\",\"#B0BEC5\",\"#B0BEC5\",\"#B0BEC5\",\"#B0BEC5\",\"#B0BEC5\",\"#B0BEC5\",\"#B0BEC5\",\"#B0BEC5\",\"#B0BEC5\",\"#B0BEC5\"]]}],\"label\":\"Topic 34\",\"method\":\"update\"},{\"args\":[{\"marker.color\":[[\"#B0BEC5\",\"#B0BEC5\",\"#B0BEC5\",\"#B0BEC5\",\"#B0BEC5\",\"#B0BEC5\",\"#B0BEC5\",\"#B0BEC5\",\"#B0BEC5\",\"#B0BEC5\",\"#B0BEC5\",\"#B0BEC5\",\"#B0BEC5\",\"#B0BEC5\",\"#B0BEC5\",\"#B0BEC5\",\"#B0BEC5\",\"#B0BEC5\",\"#B0BEC5\",\"#B0BEC5\",\"#B0BEC5\",\"#B0BEC5\",\"#B0BEC5\",\"#B0BEC5\",\"#B0BEC5\",\"#B0BEC5\",\"#B0BEC5\",\"#B0BEC5\",\"#B0BEC5\",\"#B0BEC5\",\"#B0BEC5\",\"#B0BEC5\",\"#B0BEC5\",\"#B0BEC5\",\"#B0BEC5\",\"red\",\"#B0BEC5\",\"#B0BEC5\",\"#B0BEC5\",\"#B0BEC5\",\"#B0BEC5\",\"#B0BEC5\",\"#B0BEC5\",\"#B0BEC5\",\"#B0BEC5\",\"#B0BEC5\",\"#B0BEC5\",\"#B0BEC5\",\"#B0BEC5\",\"#B0BEC5\",\"#B0BEC5\"]]}],\"label\":\"Topic 35\",\"method\":\"update\"},{\"args\":[{\"marker.color\":[[\"#B0BEC5\",\"#B0BEC5\",\"#B0BEC5\",\"#B0BEC5\",\"#B0BEC5\",\"#B0BEC5\",\"#B0BEC5\",\"#B0BEC5\",\"#B0BEC5\",\"#B0BEC5\",\"#B0BEC5\",\"#B0BEC5\",\"#B0BEC5\",\"#B0BEC5\",\"#B0BEC5\",\"#B0BEC5\",\"#B0BEC5\",\"#B0BEC5\",\"#B0BEC5\",\"#B0BEC5\",\"#B0BEC5\",\"#B0BEC5\",\"#B0BEC5\",\"#B0BEC5\",\"#B0BEC5\",\"#B0BEC5\",\"#B0BEC5\",\"#B0BEC5\",\"#B0BEC5\",\"#B0BEC5\",\"#B0BEC5\",\"#B0BEC5\",\"#B0BEC5\",\"#B0BEC5\",\"#B0BEC5\",\"#B0BEC5\",\"red\",\"#B0BEC5\",\"#B0BEC5\",\"#B0BEC5\",\"#B0BEC5\",\"#B0BEC5\",\"#B0BEC5\",\"#B0BEC5\",\"#B0BEC5\",\"#B0BEC5\",\"#B0BEC5\",\"#B0BEC5\",\"#B0BEC5\",\"#B0BEC5\",\"#B0BEC5\"]]}],\"label\":\"Topic 36\",\"method\":\"update\"},{\"args\":[{\"marker.color\":[[\"#B0BEC5\",\"#B0BEC5\",\"#B0BEC5\",\"#B0BEC5\",\"#B0BEC5\",\"#B0BEC5\",\"#B0BEC5\",\"#B0BEC5\",\"#B0BEC5\",\"#B0BEC5\",\"#B0BEC5\",\"#B0BEC5\",\"#B0BEC5\",\"#B0BEC5\",\"#B0BEC5\",\"#B0BEC5\",\"#B0BEC5\",\"#B0BEC5\",\"#B0BEC5\",\"#B0BEC5\",\"#B0BEC5\",\"#B0BEC5\",\"#B0BEC5\",\"#B0BEC5\",\"#B0BEC5\",\"#B0BEC5\",\"#B0BEC5\",\"#B0BEC5\",\"#B0BEC5\",\"#B0BEC5\",\"#B0BEC5\",\"#B0BEC5\",\"#B0BEC5\",\"#B0BEC5\",\"#B0BEC5\",\"#B0BEC5\",\"#B0BEC5\",\"red\",\"#B0BEC5\",\"#B0BEC5\",\"#B0BEC5\",\"#B0BEC5\",\"#B0BEC5\",\"#B0BEC5\",\"#B0BEC5\",\"#B0BEC5\",\"#B0BEC5\",\"#B0BEC5\",\"#B0BEC5\",\"#B0BEC5\",\"#B0BEC5\"]]}],\"label\":\"Topic 37\",\"method\":\"update\"},{\"args\":[{\"marker.color\":[[\"#B0BEC5\",\"#B0BEC5\",\"#B0BEC5\",\"#B0BEC5\",\"#B0BEC5\",\"#B0BEC5\",\"#B0BEC5\",\"#B0BEC5\",\"#B0BEC5\",\"#B0BEC5\",\"#B0BEC5\",\"#B0BEC5\",\"#B0BEC5\",\"#B0BEC5\",\"#B0BEC5\",\"#B0BEC5\",\"#B0BEC5\",\"#B0BEC5\",\"#B0BEC5\",\"#B0BEC5\",\"#B0BEC5\",\"#B0BEC5\",\"#B0BEC5\",\"#B0BEC5\",\"#B0BEC5\",\"#B0BEC5\",\"#B0BEC5\",\"#B0BEC5\",\"#B0BEC5\",\"#B0BEC5\",\"#B0BEC5\",\"#B0BEC5\",\"#B0BEC5\",\"#B0BEC5\",\"#B0BEC5\",\"#B0BEC5\",\"#B0BEC5\",\"#B0BEC5\",\"red\",\"#B0BEC5\",\"#B0BEC5\",\"#B0BEC5\",\"#B0BEC5\",\"#B0BEC5\",\"#B0BEC5\",\"#B0BEC5\",\"#B0BEC5\",\"#B0BEC5\",\"#B0BEC5\",\"#B0BEC5\",\"#B0BEC5\"]]}],\"label\":\"Topic 38\",\"method\":\"update\"},{\"args\":[{\"marker.color\":[[\"#B0BEC5\",\"#B0BEC5\",\"#B0BEC5\",\"#B0BEC5\",\"#B0BEC5\",\"#B0BEC5\",\"#B0BEC5\",\"#B0BEC5\",\"#B0BEC5\",\"#B0BEC5\",\"#B0BEC5\",\"#B0BEC5\",\"#B0BEC5\",\"#B0BEC5\",\"#B0BEC5\",\"#B0BEC5\",\"#B0BEC5\",\"#B0BEC5\",\"#B0BEC5\",\"#B0BEC5\",\"#B0BEC5\",\"#B0BEC5\",\"#B0BEC5\",\"#B0BEC5\",\"#B0BEC5\",\"#B0BEC5\",\"#B0BEC5\",\"#B0BEC5\",\"#B0BEC5\",\"#B0BEC5\",\"#B0BEC5\",\"#B0BEC5\",\"#B0BEC5\",\"#B0BEC5\",\"#B0BEC5\",\"#B0BEC5\",\"#B0BEC5\",\"#B0BEC5\",\"#B0BEC5\",\"red\",\"#B0BEC5\",\"#B0BEC5\",\"#B0BEC5\",\"#B0BEC5\",\"#B0BEC5\",\"#B0BEC5\",\"#B0BEC5\",\"#B0BEC5\",\"#B0BEC5\",\"#B0BEC5\",\"#B0BEC5\"]]}],\"label\":\"Topic 39\",\"method\":\"update\"},{\"args\":[{\"marker.color\":[[\"#B0BEC5\",\"#B0BEC5\",\"#B0BEC5\",\"#B0BEC5\",\"#B0BEC5\",\"#B0BEC5\",\"#B0BEC5\",\"#B0BEC5\",\"#B0BEC5\",\"#B0BEC5\",\"#B0BEC5\",\"#B0BEC5\",\"#B0BEC5\",\"#B0BEC5\",\"#B0BEC5\",\"#B0BEC5\",\"#B0BEC5\",\"#B0BEC5\",\"#B0BEC5\",\"#B0BEC5\",\"#B0BEC5\",\"#B0BEC5\",\"#B0BEC5\",\"#B0BEC5\",\"#B0BEC5\",\"#B0BEC5\",\"#B0BEC5\",\"#B0BEC5\",\"#B0BEC5\",\"#B0BEC5\",\"#B0BEC5\",\"#B0BEC5\",\"#B0BEC5\",\"#B0BEC5\",\"#B0BEC5\",\"#B0BEC5\",\"#B0BEC5\",\"#B0BEC5\",\"#B0BEC5\",\"#B0BEC5\",\"red\",\"#B0BEC5\",\"#B0BEC5\",\"#B0BEC5\",\"#B0BEC5\",\"#B0BEC5\",\"#B0BEC5\",\"#B0BEC5\",\"#B0BEC5\",\"#B0BEC5\",\"#B0BEC5\"]]}],\"label\":\"Topic 40\",\"method\":\"update\"},{\"args\":[{\"marker.color\":[[\"#B0BEC5\",\"#B0BEC5\",\"#B0BEC5\",\"#B0BEC5\",\"#B0BEC5\",\"#B0BEC5\",\"#B0BEC5\",\"#B0BEC5\",\"#B0BEC5\",\"#B0BEC5\",\"#B0BEC5\",\"#B0BEC5\",\"#B0BEC5\",\"#B0BEC5\",\"#B0BEC5\",\"#B0BEC5\",\"#B0BEC5\",\"#B0BEC5\",\"#B0BEC5\",\"#B0BEC5\",\"#B0BEC5\",\"#B0BEC5\",\"#B0BEC5\",\"#B0BEC5\",\"#B0BEC5\",\"#B0BEC5\",\"#B0BEC5\",\"#B0BEC5\",\"#B0BEC5\",\"#B0BEC5\",\"#B0BEC5\",\"#B0BEC5\",\"#B0BEC5\",\"#B0BEC5\",\"#B0BEC5\",\"#B0BEC5\",\"#B0BEC5\",\"#B0BEC5\",\"#B0BEC5\",\"#B0BEC5\",\"#B0BEC5\",\"red\",\"#B0BEC5\",\"#B0BEC5\",\"#B0BEC5\",\"#B0BEC5\",\"#B0BEC5\",\"#B0BEC5\",\"#B0BEC5\",\"#B0BEC5\",\"#B0BEC5\"]]}],\"label\":\"Topic 41\",\"method\":\"update\"},{\"args\":[{\"marker.color\":[[\"#B0BEC5\",\"#B0BEC5\",\"#B0BEC5\",\"#B0BEC5\",\"#B0BEC5\",\"#B0BEC5\",\"#B0BEC5\",\"#B0BEC5\",\"#B0BEC5\",\"#B0BEC5\",\"#B0BEC5\",\"#B0BEC5\",\"#B0BEC5\",\"#B0BEC5\",\"#B0BEC5\",\"#B0BEC5\",\"#B0BEC5\",\"#B0BEC5\",\"#B0BEC5\",\"#B0BEC5\",\"#B0BEC5\",\"#B0BEC5\",\"#B0BEC5\",\"#B0BEC5\",\"#B0BEC5\",\"#B0BEC5\",\"#B0BEC5\",\"#B0BEC5\",\"#B0BEC5\",\"#B0BEC5\",\"#B0BEC5\",\"#B0BEC5\",\"#B0BEC5\",\"#B0BEC5\",\"#B0BEC5\",\"#B0BEC5\",\"#B0BEC5\",\"#B0BEC5\",\"#B0BEC5\",\"#B0BEC5\",\"#B0BEC5\",\"#B0BEC5\",\"red\",\"#B0BEC5\",\"#B0BEC5\",\"#B0BEC5\",\"#B0BEC5\",\"#B0BEC5\",\"#B0BEC5\",\"#B0BEC5\",\"#B0BEC5\"]]}],\"label\":\"Topic 42\",\"method\":\"update\"},{\"args\":[{\"marker.color\":[[\"#B0BEC5\",\"#B0BEC5\",\"#B0BEC5\",\"#B0BEC5\",\"#B0BEC5\",\"#B0BEC5\",\"#B0BEC5\",\"#B0BEC5\",\"#B0BEC5\",\"#B0BEC5\",\"#B0BEC5\",\"#B0BEC5\",\"#B0BEC5\",\"#B0BEC5\",\"#B0BEC5\",\"#B0BEC5\",\"#B0BEC5\",\"#B0BEC5\",\"#B0BEC5\",\"#B0BEC5\",\"#B0BEC5\",\"#B0BEC5\",\"#B0BEC5\",\"#B0BEC5\",\"#B0BEC5\",\"#B0BEC5\",\"#B0BEC5\",\"#B0BEC5\",\"#B0BEC5\",\"#B0BEC5\",\"#B0BEC5\",\"#B0BEC5\",\"#B0BEC5\",\"#B0BEC5\",\"#B0BEC5\",\"#B0BEC5\",\"#B0BEC5\",\"#B0BEC5\",\"#B0BEC5\",\"#B0BEC5\",\"#B0BEC5\",\"#B0BEC5\",\"#B0BEC5\",\"red\",\"#B0BEC5\",\"#B0BEC5\",\"#B0BEC5\",\"#B0BEC5\",\"#B0BEC5\",\"#B0BEC5\",\"#B0BEC5\"]]}],\"label\":\"Topic 43\",\"method\":\"update\"},{\"args\":[{\"marker.color\":[[\"#B0BEC5\",\"#B0BEC5\",\"#B0BEC5\",\"#B0BEC5\",\"#B0BEC5\",\"#B0BEC5\",\"#B0BEC5\",\"#B0BEC5\",\"#B0BEC5\",\"#B0BEC5\",\"#B0BEC5\",\"#B0BEC5\",\"#B0BEC5\",\"#B0BEC5\",\"#B0BEC5\",\"#B0BEC5\",\"#B0BEC5\",\"#B0BEC5\",\"#B0BEC5\",\"#B0BEC5\",\"#B0BEC5\",\"#B0BEC5\",\"#B0BEC5\",\"#B0BEC5\",\"#B0BEC5\",\"#B0BEC5\",\"#B0BEC5\",\"#B0BEC5\",\"#B0BEC5\",\"#B0BEC5\",\"#B0BEC5\",\"#B0BEC5\",\"#B0BEC5\",\"#B0BEC5\",\"#B0BEC5\",\"#B0BEC5\",\"#B0BEC5\",\"#B0BEC5\",\"#B0BEC5\",\"#B0BEC5\",\"#B0BEC5\",\"#B0BEC5\",\"#B0BEC5\",\"#B0BEC5\",\"red\",\"#B0BEC5\",\"#B0BEC5\",\"#B0BEC5\",\"#B0BEC5\",\"#B0BEC5\",\"#B0BEC5\"]]}],\"label\":\"Topic 44\",\"method\":\"update\"},{\"args\":[{\"marker.color\":[[\"#B0BEC5\",\"#B0BEC5\",\"#B0BEC5\",\"#B0BEC5\",\"#B0BEC5\",\"#B0BEC5\",\"#B0BEC5\",\"#B0BEC5\",\"#B0BEC5\",\"#B0BEC5\",\"#B0BEC5\",\"#B0BEC5\",\"#B0BEC5\",\"#B0BEC5\",\"#B0BEC5\",\"#B0BEC5\",\"#B0BEC5\",\"#B0BEC5\",\"#B0BEC5\",\"#B0BEC5\",\"#B0BEC5\",\"#B0BEC5\",\"#B0BEC5\",\"#B0BEC5\",\"#B0BEC5\",\"#B0BEC5\",\"#B0BEC5\",\"#B0BEC5\",\"#B0BEC5\",\"#B0BEC5\",\"#B0BEC5\",\"#B0BEC5\",\"#B0BEC5\",\"#B0BEC5\",\"#B0BEC5\",\"#B0BEC5\",\"#B0BEC5\",\"#B0BEC5\",\"#B0BEC5\",\"#B0BEC5\",\"#B0BEC5\",\"#B0BEC5\",\"#B0BEC5\",\"#B0BEC5\",\"#B0BEC5\",\"red\",\"#B0BEC5\",\"#B0BEC5\",\"#B0BEC5\",\"#B0BEC5\",\"#B0BEC5\"]]}],\"label\":\"Topic 45\",\"method\":\"update\"},{\"args\":[{\"marker.color\":[[\"#B0BEC5\",\"#B0BEC5\",\"#B0BEC5\",\"#B0BEC5\",\"#B0BEC5\",\"#B0BEC5\",\"#B0BEC5\",\"#B0BEC5\",\"#B0BEC5\",\"#B0BEC5\",\"#B0BEC5\",\"#B0BEC5\",\"#B0BEC5\",\"#B0BEC5\",\"#B0BEC5\",\"#B0BEC5\",\"#B0BEC5\",\"#B0BEC5\",\"#B0BEC5\",\"#B0BEC5\",\"#B0BEC5\",\"#B0BEC5\",\"#B0BEC5\",\"#B0BEC5\",\"#B0BEC5\",\"#B0BEC5\",\"#B0BEC5\",\"#B0BEC5\",\"#B0BEC5\",\"#B0BEC5\",\"#B0BEC5\",\"#B0BEC5\",\"#B0BEC5\",\"#B0BEC5\",\"#B0BEC5\",\"#B0BEC5\",\"#B0BEC5\",\"#B0BEC5\",\"#B0BEC5\",\"#B0BEC5\",\"#B0BEC5\",\"#B0BEC5\",\"#B0BEC5\",\"#B0BEC5\",\"#B0BEC5\",\"#B0BEC5\",\"red\",\"#B0BEC5\",\"#B0BEC5\",\"#B0BEC5\",\"#B0BEC5\"]]}],\"label\":\"Topic 46\",\"method\":\"update\"},{\"args\":[{\"marker.color\":[[\"#B0BEC5\",\"#B0BEC5\",\"#B0BEC5\",\"#B0BEC5\",\"#B0BEC5\",\"#B0BEC5\",\"#B0BEC5\",\"#B0BEC5\",\"#B0BEC5\",\"#B0BEC5\",\"#B0BEC5\",\"#B0BEC5\",\"#B0BEC5\",\"#B0BEC5\",\"#B0BEC5\",\"#B0BEC5\",\"#B0BEC5\",\"#B0BEC5\",\"#B0BEC5\",\"#B0BEC5\",\"#B0BEC5\",\"#B0BEC5\",\"#B0BEC5\",\"#B0BEC5\",\"#B0BEC5\",\"#B0BEC5\",\"#B0BEC5\",\"#B0BEC5\",\"#B0BEC5\",\"#B0BEC5\",\"#B0BEC5\",\"#B0BEC5\",\"#B0BEC5\",\"#B0BEC5\",\"#B0BEC5\",\"#B0BEC5\",\"#B0BEC5\",\"#B0BEC5\",\"#B0BEC5\",\"#B0BEC5\",\"#B0BEC5\",\"#B0BEC5\",\"#B0BEC5\",\"#B0BEC5\",\"#B0BEC5\",\"#B0BEC5\",\"#B0BEC5\",\"red\",\"#B0BEC5\",\"#B0BEC5\",\"#B0BEC5\"]]}],\"label\":\"Topic 47\",\"method\":\"update\"},{\"args\":[{\"marker.color\":[[\"#B0BEC5\",\"#B0BEC5\",\"#B0BEC5\",\"#B0BEC5\",\"#B0BEC5\",\"#B0BEC5\",\"#B0BEC5\",\"#B0BEC5\",\"#B0BEC5\",\"#B0BEC5\",\"#B0BEC5\",\"#B0BEC5\",\"#B0BEC5\",\"#B0BEC5\",\"#B0BEC5\",\"#B0BEC5\",\"#B0BEC5\",\"#B0BEC5\",\"#B0BEC5\",\"#B0BEC5\",\"#B0BEC5\",\"#B0BEC5\",\"#B0BEC5\",\"#B0BEC5\",\"#B0BEC5\",\"#B0BEC5\",\"#B0BEC5\",\"#B0BEC5\",\"#B0BEC5\",\"#B0BEC5\",\"#B0BEC5\",\"#B0BEC5\",\"#B0BEC5\",\"#B0BEC5\",\"#B0BEC5\",\"#B0BEC5\",\"#B0BEC5\",\"#B0BEC5\",\"#B0BEC5\",\"#B0BEC5\",\"#B0BEC5\",\"#B0BEC5\",\"#B0BEC5\",\"#B0BEC5\",\"#B0BEC5\",\"#B0BEC5\",\"#B0BEC5\",\"#B0BEC5\",\"red\",\"#B0BEC5\",\"#B0BEC5\"]]}],\"label\":\"Topic 48\",\"method\":\"update\"},{\"args\":[{\"marker.color\":[[\"#B0BEC5\",\"#B0BEC5\",\"#B0BEC5\",\"#B0BEC5\",\"#B0BEC5\",\"#B0BEC5\",\"#B0BEC5\",\"#B0BEC5\",\"#B0BEC5\",\"#B0BEC5\",\"#B0BEC5\",\"#B0BEC5\",\"#B0BEC5\",\"#B0BEC5\",\"#B0BEC5\",\"#B0BEC5\",\"#B0BEC5\",\"#B0BEC5\",\"#B0BEC5\",\"#B0BEC5\",\"#B0BEC5\",\"#B0BEC5\",\"#B0BEC5\",\"#B0BEC5\",\"#B0BEC5\",\"#B0BEC5\",\"#B0BEC5\",\"#B0BEC5\",\"#B0BEC5\",\"#B0BEC5\",\"#B0BEC5\",\"#B0BEC5\",\"#B0BEC5\",\"#B0BEC5\",\"#B0BEC5\",\"#B0BEC5\",\"#B0BEC5\",\"#B0BEC5\",\"#B0BEC5\",\"#B0BEC5\",\"#B0BEC5\",\"#B0BEC5\",\"#B0BEC5\",\"#B0BEC5\",\"#B0BEC5\",\"#B0BEC5\",\"#B0BEC5\",\"#B0BEC5\",\"#B0BEC5\",\"red\",\"#B0BEC5\"]]}],\"label\":\"Topic 49\",\"method\":\"update\"},{\"args\":[{\"marker.color\":[[\"#B0BEC5\",\"#B0BEC5\",\"#B0BEC5\",\"#B0BEC5\",\"#B0BEC5\",\"#B0BEC5\",\"#B0BEC5\",\"#B0BEC5\",\"#B0BEC5\",\"#B0BEC5\",\"#B0BEC5\",\"#B0BEC5\",\"#B0BEC5\",\"#B0BEC5\",\"#B0BEC5\",\"#B0BEC5\",\"#B0BEC5\",\"#B0BEC5\",\"#B0BEC5\",\"#B0BEC5\",\"#B0BEC5\",\"#B0BEC5\",\"#B0BEC5\",\"#B0BEC5\",\"#B0BEC5\",\"#B0BEC5\",\"#B0BEC5\",\"#B0BEC5\",\"#B0BEC5\",\"#B0BEC5\",\"#B0BEC5\",\"#B0BEC5\",\"#B0BEC5\",\"#B0BEC5\",\"#B0BEC5\",\"#B0BEC5\",\"#B0BEC5\",\"#B0BEC5\",\"#B0BEC5\",\"#B0BEC5\",\"#B0BEC5\",\"#B0BEC5\",\"#B0BEC5\",\"#B0BEC5\",\"#B0BEC5\",\"#B0BEC5\",\"#B0BEC5\",\"#B0BEC5\",\"#B0BEC5\",\"#B0BEC5\",\"red\"]]}],\"label\":\"Topic 50\",\"method\":\"update\"}]}],\"shapes\":[{\"line\":{\"color\":\"#CFD8DC\",\"width\":2},\"type\":\"line\",\"x0\":2.9616160869598387,\"x1\":2.9616160869598387,\"y0\":-6.6577410221099855,\"y1\":23.96822872161865},{\"line\":{\"color\":\"#9E9E9E\",\"width\":2},\"type\":\"line\",\"x0\":-15.685898399353027,\"x1\":21.609130573272704,\"y0\":8.655243849754333,\"y1\":8.655243849754333}],\"annotations\":[{\"showarrow\":false,\"text\":\"D1\",\"x\":-15.685898399353027,\"y\":8.655243849754333,\"yshift\":10},{\"showarrow\":false,\"text\":\"D2\",\"x\":2.9616160869598387,\"xshift\":10,\"y\":23.96822872161865}]},                        {\"responsive\": true}                    ).then(function(){\n",
       "                            \n",
       "var gd = document.getElementById('fddcef80-fe7e-450f-a53c-1dcca1f9c29e');\n",
       "var x = new MutationObserver(function (mutations, observer) {{\n",
       "        var display = window.getComputedStyle(gd).display;\n",
       "        if (!display || display === 'none') {{\n",
       "            console.log([gd, 'removed!']);\n",
       "            Plotly.purge(gd);\n",
       "            observer.disconnect();\n",
       "        }}\n",
       "}});\n",
       "\n",
       "// Listen for the removal of the full notebook cells\n",
       "var notebookContainer = gd.closest('#notebook-container');\n",
       "if (notebookContainer) {{\n",
       "    x.observe(notebookContainer, {childList: true});\n",
       "}}\n",
       "\n",
       "// Listen for the clearing of the current output cell\n",
       "var outputEl = gd.closest('.output');\n",
       "if (outputEl) {{\n",
       "    x.observe(outputEl, {childList: true});\n",
       "}}\n",
       "\n",
       "                        })                };                });            </script>        </div>"
      ]
     },
     "metadata": {},
     "output_type": "display_data"
    }
   ],
   "source": [
    "topic_model.visualize_topics()"
   ]
  },
  {
   "cell_type": "code",
   "execution_count": 16,
   "id": "c838333e",
   "metadata": {},
   "outputs": [
    {
     "data": {
      "application/vnd.plotly.v1+json": {
       "config": {
        "plotlyServerURL": "https://plot.ly"
       },
       "data": [
        {
         "marker": {
          "color": "#D55E00"
         },
         "orientation": "h",
         "type": "bar",
         "x": [
          0.013584668830634705,
          0.015133005088348498,
          0.016449769213207257,
          0.016807999854117624,
          0.01738284622584768
         ],
         "xaxis": "x",
         "y": [
          "خانگی  ",
          "منزل  ",
          "دورکاری  ",
          "کار  ",
          "چاپ  "
         ],
         "yaxis": "y"
        },
        {
         "marker": {
          "color": "#0072B2"
         },
         "orientation": "h",
         "type": "bar",
         "x": [
          0.02015935771399594,
          0.023803569309450764,
          0.026078724721863834,
          0.033614049193266805,
          0.0418714128591221
         ],
         "xaxis": "x2",
         "y": [
          "کار  ",
          "دورکار  ",
          "دورکاری  ",
          "خونه  ",
          "نمی  "
         ],
         "yaxis": "y2"
        },
        {
         "marker": {
          "color": "#CC79A7"
         },
         "orientation": "h",
         "type": "bar",
         "x": [
          0.0169775196333911,
          0.01742749827003711,
          0.01767449937268668,
          0.019617673599742876,
          0.17680087924419283
         ],
         "xaxis": "x3",
         "y": [
          "می  ",
          "کرونا  ",
          "دورکاری  ",
          "خونه  ",
          "قرنطینه  "
         ],
         "yaxis": "y3"
        },
        {
         "marker": {
          "color": "#E69F00"
         },
         "orientation": "h",
         "type": "bar",
         "x": [
          0.019201327671747797,
          0.020384328683334837,
          0.022576236537605376,
          0.037674253395573704,
          0.13994676574053921
         ],
         "xaxis": "x4",
         "y": [
          "کرونا  ",
          "دوز  ",
          "واکسینه  ",
          "واکسیناسیون  ",
          "واکسن  "
         ],
         "yaxis": "y4"
        },
        {
         "marker": {
          "color": "#56B4E9"
         },
         "orientation": "h",
         "type": "bar",
         "x": [
          0.04287943660089377,
          0.04787970658537198,
          0.05380682545213605,
          0.07206880840207146,
          0.09559486619029868
         ],
         "xaxis": "x5",
         "y": [
          "بیدار  ",
          "صبح  ",
          "بخوابم  ",
          "خوابم  ",
          "خواب  "
         ],
         "yaxis": "y5"
        },
        {
         "marker": {
          "color": "#009E73"
         },
         "orientation": "h",
         "type": "bar",
         "x": [
          0.019727889930670022,
          0.024436382581319346,
          0.024611507008840943,
          0.027475799535190384,
          0.16590616013855286
         ],
         "xaxis": "x6",
         "y": [
          "طرح  ",
          "حمل  ",
          "تاکسی  ",
          "کاهش  ",
          "ترافیک  "
         ],
         "yaxis": "y6"
        },
        {
         "marker": {
          "color": "#F0E442"
         },
         "orientation": "h",
         "type": "bar",
         "x": [
          0.038804227095381304,
          0.03880909475313743,
          0.04298451398222215,
          0.06275630388423394,
          0.10627922571831391
         ],
         "xaxis": "x7",
         "y": [
          "کرونا  ",
          "ویروسکرونا  ",
          "coronavirus  ",
          "شیوع  ",
          "ویروس  "
         ],
         "yaxis": "y7"
        },
        {
         "marker": {
          "color": "#D55E00"
         },
         "orientation": "h",
         "type": "bar",
         "x": [
          0.022828634161049237,
          0.03352979274148837,
          0.045684626993096215,
          0.0984817419874359,
          0.13416699746435967
         ],
         "xaxis": "x8",
         "y": [
          "کارکنان  ",
          "توئیتر  ",
          "توئیت  ",
          "توییت  ",
          "توییتر  "
         ],
         "yaxis": "y8"
        }
       ],
       "layout": {
        "annotations": [
         {
          "font": {
           "size": 16
          },
          "showarrow": false,
          "text": "Topic 0",
          "x": 0.0875,
          "xanchor": "center",
          "xref": "paper",
          "y": 1,
          "yanchor": "bottom",
          "yref": "paper"
         },
         {
          "font": {
           "size": 16
          },
          "showarrow": false,
          "text": "Topic 1",
          "x": 0.36250000000000004,
          "xanchor": "center",
          "xref": "paper",
          "y": 1,
          "yanchor": "bottom",
          "yref": "paper"
         },
         {
          "font": {
           "size": 16
          },
          "showarrow": false,
          "text": "Topic 2",
          "x": 0.6375000000000001,
          "xanchor": "center",
          "xref": "paper",
          "y": 1,
          "yanchor": "bottom",
          "yref": "paper"
         },
         {
          "font": {
           "size": 16
          },
          "showarrow": false,
          "text": "Topic 3",
          "x": 0.9125,
          "xanchor": "center",
          "xref": "paper",
          "y": 1,
          "yanchor": "bottom",
          "yref": "paper"
         },
         {
          "font": {
           "size": 16
          },
          "showarrow": false,
          "text": "Topic 4",
          "x": 0.0875,
          "xanchor": "center",
          "xref": "paper",
          "y": 0.4,
          "yanchor": "bottom",
          "yref": "paper"
         },
         {
          "font": {
           "size": 16
          },
          "showarrow": false,
          "text": "Topic 5",
          "x": 0.36250000000000004,
          "xanchor": "center",
          "xref": "paper",
          "y": 0.4,
          "yanchor": "bottom",
          "yref": "paper"
         },
         {
          "font": {
           "size": 16
          },
          "showarrow": false,
          "text": "Topic 6",
          "x": 0.6375000000000001,
          "xanchor": "center",
          "xref": "paper",
          "y": 0.4,
          "yanchor": "bottom",
          "yref": "paper"
         },
         {
          "font": {
           "size": 16
          },
          "showarrow": false,
          "text": "Topic 7",
          "x": 0.9125,
          "xanchor": "center",
          "xref": "paper",
          "y": 0.4,
          "yanchor": "bottom",
          "yref": "paper"
         }
        ],
        "height": 500,
        "hoverlabel": {
         "bgcolor": "white",
         "font": {
          "family": "Rockwell",
          "size": 16
         }
        },
        "showlegend": false,
        "template": {
         "data": {
          "bar": [
           {
            "error_x": {
             "color": "#2a3f5f"
            },
            "error_y": {
             "color": "#2a3f5f"
            },
            "marker": {
             "line": {
              "color": "white",
              "width": 0.5
             },
             "pattern": {
              "fillmode": "overlay",
              "size": 10,
              "solidity": 0.2
             }
            },
            "type": "bar"
           }
          ],
          "barpolar": [
           {
            "marker": {
             "line": {
              "color": "white",
              "width": 0.5
             },
             "pattern": {
              "fillmode": "overlay",
              "size": 10,
              "solidity": 0.2
             }
            },
            "type": "barpolar"
           }
          ],
          "carpet": [
           {
            "aaxis": {
             "endlinecolor": "#2a3f5f",
             "gridcolor": "#C8D4E3",
             "linecolor": "#C8D4E3",
             "minorgridcolor": "#C8D4E3",
             "startlinecolor": "#2a3f5f"
            },
            "baxis": {
             "endlinecolor": "#2a3f5f",
             "gridcolor": "#C8D4E3",
             "linecolor": "#C8D4E3",
             "minorgridcolor": "#C8D4E3",
             "startlinecolor": "#2a3f5f"
            },
            "type": "carpet"
           }
          ],
          "choropleth": [
           {
            "colorbar": {
             "outlinewidth": 0,
             "ticks": ""
            },
            "type": "choropleth"
           }
          ],
          "contour": [
           {
            "colorbar": {
             "outlinewidth": 0,
             "ticks": ""
            },
            "colorscale": [
             [
              0,
              "#0d0887"
             ],
             [
              0.1111111111111111,
              "#46039f"
             ],
             [
              0.2222222222222222,
              "#7201a8"
             ],
             [
              0.3333333333333333,
              "#9c179e"
             ],
             [
              0.4444444444444444,
              "#bd3786"
             ],
             [
              0.5555555555555556,
              "#d8576b"
             ],
             [
              0.6666666666666666,
              "#ed7953"
             ],
             [
              0.7777777777777778,
              "#fb9f3a"
             ],
             [
              0.8888888888888888,
              "#fdca26"
             ],
             [
              1,
              "#f0f921"
             ]
            ],
            "type": "contour"
           }
          ],
          "contourcarpet": [
           {
            "colorbar": {
             "outlinewidth": 0,
             "ticks": ""
            },
            "type": "contourcarpet"
           }
          ],
          "heatmap": [
           {
            "colorbar": {
             "outlinewidth": 0,
             "ticks": ""
            },
            "colorscale": [
             [
              0,
              "#0d0887"
             ],
             [
              0.1111111111111111,
              "#46039f"
             ],
             [
              0.2222222222222222,
              "#7201a8"
             ],
             [
              0.3333333333333333,
              "#9c179e"
             ],
             [
              0.4444444444444444,
              "#bd3786"
             ],
             [
              0.5555555555555556,
              "#d8576b"
             ],
             [
              0.6666666666666666,
              "#ed7953"
             ],
             [
              0.7777777777777778,
              "#fb9f3a"
             ],
             [
              0.8888888888888888,
              "#fdca26"
             ],
             [
              1,
              "#f0f921"
             ]
            ],
            "type": "heatmap"
           }
          ],
          "heatmapgl": [
           {
            "colorbar": {
             "outlinewidth": 0,
             "ticks": ""
            },
            "colorscale": [
             [
              0,
              "#0d0887"
             ],
             [
              0.1111111111111111,
              "#46039f"
             ],
             [
              0.2222222222222222,
              "#7201a8"
             ],
             [
              0.3333333333333333,
              "#9c179e"
             ],
             [
              0.4444444444444444,
              "#bd3786"
             ],
             [
              0.5555555555555556,
              "#d8576b"
             ],
             [
              0.6666666666666666,
              "#ed7953"
             ],
             [
              0.7777777777777778,
              "#fb9f3a"
             ],
             [
              0.8888888888888888,
              "#fdca26"
             ],
             [
              1,
              "#f0f921"
             ]
            ],
            "type": "heatmapgl"
           }
          ],
          "histogram": [
           {
            "marker": {
             "pattern": {
              "fillmode": "overlay",
              "size": 10,
              "solidity": 0.2
             }
            },
            "type": "histogram"
           }
          ],
          "histogram2d": [
           {
            "colorbar": {
             "outlinewidth": 0,
             "ticks": ""
            },
            "colorscale": [
             [
              0,
              "#0d0887"
             ],
             [
              0.1111111111111111,
              "#46039f"
             ],
             [
              0.2222222222222222,
              "#7201a8"
             ],
             [
              0.3333333333333333,
              "#9c179e"
             ],
             [
              0.4444444444444444,
              "#bd3786"
             ],
             [
              0.5555555555555556,
              "#d8576b"
             ],
             [
              0.6666666666666666,
              "#ed7953"
             ],
             [
              0.7777777777777778,
              "#fb9f3a"
             ],
             [
              0.8888888888888888,
              "#fdca26"
             ],
             [
              1,
              "#f0f921"
             ]
            ],
            "type": "histogram2d"
           }
          ],
          "histogram2dcontour": [
           {
            "colorbar": {
             "outlinewidth": 0,
             "ticks": ""
            },
            "colorscale": [
             [
              0,
              "#0d0887"
             ],
             [
              0.1111111111111111,
              "#46039f"
             ],
             [
              0.2222222222222222,
              "#7201a8"
             ],
             [
              0.3333333333333333,
              "#9c179e"
             ],
             [
              0.4444444444444444,
              "#bd3786"
             ],
             [
              0.5555555555555556,
              "#d8576b"
             ],
             [
              0.6666666666666666,
              "#ed7953"
             ],
             [
              0.7777777777777778,
              "#fb9f3a"
             ],
             [
              0.8888888888888888,
              "#fdca26"
             ],
             [
              1,
              "#f0f921"
             ]
            ],
            "type": "histogram2dcontour"
           }
          ],
          "mesh3d": [
           {
            "colorbar": {
             "outlinewidth": 0,
             "ticks": ""
            },
            "type": "mesh3d"
           }
          ],
          "parcoords": [
           {
            "line": {
             "colorbar": {
              "outlinewidth": 0,
              "ticks": ""
             }
            },
            "type": "parcoords"
           }
          ],
          "pie": [
           {
            "automargin": true,
            "type": "pie"
           }
          ],
          "scatter": [
           {
            "fillpattern": {
             "fillmode": "overlay",
             "size": 10,
             "solidity": 0.2
            },
            "type": "scatter"
           }
          ],
          "scatter3d": [
           {
            "line": {
             "colorbar": {
              "outlinewidth": 0,
              "ticks": ""
             }
            },
            "marker": {
             "colorbar": {
              "outlinewidth": 0,
              "ticks": ""
             }
            },
            "type": "scatter3d"
           }
          ],
          "scattercarpet": [
           {
            "marker": {
             "colorbar": {
              "outlinewidth": 0,
              "ticks": ""
             }
            },
            "type": "scattercarpet"
           }
          ],
          "scattergeo": [
           {
            "marker": {
             "colorbar": {
              "outlinewidth": 0,
              "ticks": ""
             }
            },
            "type": "scattergeo"
           }
          ],
          "scattergl": [
           {
            "marker": {
             "colorbar": {
              "outlinewidth": 0,
              "ticks": ""
             }
            },
            "type": "scattergl"
           }
          ],
          "scattermapbox": [
           {
            "marker": {
             "colorbar": {
              "outlinewidth": 0,
              "ticks": ""
             }
            },
            "type": "scattermapbox"
           }
          ],
          "scatterpolar": [
           {
            "marker": {
             "colorbar": {
              "outlinewidth": 0,
              "ticks": ""
             }
            },
            "type": "scatterpolar"
           }
          ],
          "scatterpolargl": [
           {
            "marker": {
             "colorbar": {
              "outlinewidth": 0,
              "ticks": ""
             }
            },
            "type": "scatterpolargl"
           }
          ],
          "scatterternary": [
           {
            "marker": {
             "colorbar": {
              "outlinewidth": 0,
              "ticks": ""
             }
            },
            "type": "scatterternary"
           }
          ],
          "surface": [
           {
            "colorbar": {
             "outlinewidth": 0,
             "ticks": ""
            },
            "colorscale": [
             [
              0,
              "#0d0887"
             ],
             [
              0.1111111111111111,
              "#46039f"
             ],
             [
              0.2222222222222222,
              "#7201a8"
             ],
             [
              0.3333333333333333,
              "#9c179e"
             ],
             [
              0.4444444444444444,
              "#bd3786"
             ],
             [
              0.5555555555555556,
              "#d8576b"
             ],
             [
              0.6666666666666666,
              "#ed7953"
             ],
             [
              0.7777777777777778,
              "#fb9f3a"
             ],
             [
              0.8888888888888888,
              "#fdca26"
             ],
             [
              1,
              "#f0f921"
             ]
            ],
            "type": "surface"
           }
          ],
          "table": [
           {
            "cells": {
             "fill": {
              "color": "#EBF0F8"
             },
             "line": {
              "color": "white"
             }
            },
            "header": {
             "fill": {
              "color": "#C8D4E3"
             },
             "line": {
              "color": "white"
             }
            },
            "type": "table"
           }
          ]
         },
         "layout": {
          "annotationdefaults": {
           "arrowcolor": "#2a3f5f",
           "arrowhead": 0,
           "arrowwidth": 1
          },
          "autotypenumbers": "strict",
          "coloraxis": {
           "colorbar": {
            "outlinewidth": 0,
            "ticks": ""
           }
          },
          "colorscale": {
           "diverging": [
            [
             0,
             "#8e0152"
            ],
            [
             0.1,
             "#c51b7d"
            ],
            [
             0.2,
             "#de77ae"
            ],
            [
             0.3,
             "#f1b6da"
            ],
            [
             0.4,
             "#fde0ef"
            ],
            [
             0.5,
             "#f7f7f7"
            ],
            [
             0.6,
             "#e6f5d0"
            ],
            [
             0.7,
             "#b8e186"
            ],
            [
             0.8,
             "#7fbc41"
            ],
            [
             0.9,
             "#4d9221"
            ],
            [
             1,
             "#276419"
            ]
           ],
           "sequential": [
            [
             0,
             "#0d0887"
            ],
            [
             0.1111111111111111,
             "#46039f"
            ],
            [
             0.2222222222222222,
             "#7201a8"
            ],
            [
             0.3333333333333333,
             "#9c179e"
            ],
            [
             0.4444444444444444,
             "#bd3786"
            ],
            [
             0.5555555555555556,
             "#d8576b"
            ],
            [
             0.6666666666666666,
             "#ed7953"
            ],
            [
             0.7777777777777778,
             "#fb9f3a"
            ],
            [
             0.8888888888888888,
             "#fdca26"
            ],
            [
             1,
             "#f0f921"
            ]
           ],
           "sequentialminus": [
            [
             0,
             "#0d0887"
            ],
            [
             0.1111111111111111,
             "#46039f"
            ],
            [
             0.2222222222222222,
             "#7201a8"
            ],
            [
             0.3333333333333333,
             "#9c179e"
            ],
            [
             0.4444444444444444,
             "#bd3786"
            ],
            [
             0.5555555555555556,
             "#d8576b"
            ],
            [
             0.6666666666666666,
             "#ed7953"
            ],
            [
             0.7777777777777778,
             "#fb9f3a"
            ],
            [
             0.8888888888888888,
             "#fdca26"
            ],
            [
             1,
             "#f0f921"
            ]
           ]
          },
          "colorway": [
           "#636efa",
           "#EF553B",
           "#00cc96",
           "#ab63fa",
           "#FFA15A",
           "#19d3f3",
           "#FF6692",
           "#B6E880",
           "#FF97FF",
           "#FECB52"
          ],
          "font": {
           "color": "#2a3f5f"
          },
          "geo": {
           "bgcolor": "white",
           "lakecolor": "white",
           "landcolor": "white",
           "showlakes": true,
           "showland": true,
           "subunitcolor": "#C8D4E3"
          },
          "hoverlabel": {
           "align": "left"
          },
          "hovermode": "closest",
          "mapbox": {
           "style": "light"
          },
          "paper_bgcolor": "white",
          "plot_bgcolor": "white",
          "polar": {
           "angularaxis": {
            "gridcolor": "#EBF0F8",
            "linecolor": "#EBF0F8",
            "ticks": ""
           },
           "bgcolor": "white",
           "radialaxis": {
            "gridcolor": "#EBF0F8",
            "linecolor": "#EBF0F8",
            "ticks": ""
           }
          },
          "scene": {
           "xaxis": {
            "backgroundcolor": "white",
            "gridcolor": "#DFE8F3",
            "gridwidth": 2,
            "linecolor": "#EBF0F8",
            "showbackground": true,
            "ticks": "",
            "zerolinecolor": "#EBF0F8"
           },
           "yaxis": {
            "backgroundcolor": "white",
            "gridcolor": "#DFE8F3",
            "gridwidth": 2,
            "linecolor": "#EBF0F8",
            "showbackground": true,
            "ticks": "",
            "zerolinecolor": "#EBF0F8"
           },
           "zaxis": {
            "backgroundcolor": "white",
            "gridcolor": "#DFE8F3",
            "gridwidth": 2,
            "linecolor": "#EBF0F8",
            "showbackground": true,
            "ticks": "",
            "zerolinecolor": "#EBF0F8"
           }
          },
          "shapedefaults": {
           "line": {
            "color": "#2a3f5f"
           }
          },
          "ternary": {
           "aaxis": {
            "gridcolor": "#DFE8F3",
            "linecolor": "#A2B1C6",
            "ticks": ""
           },
           "baxis": {
            "gridcolor": "#DFE8F3",
            "linecolor": "#A2B1C6",
            "ticks": ""
           },
           "bgcolor": "white",
           "caxis": {
            "gridcolor": "#DFE8F3",
            "linecolor": "#A2B1C6",
            "ticks": ""
           }
          },
          "title": {
           "x": 0.05
          },
          "xaxis": {
           "automargin": true,
           "gridcolor": "#EBF0F8",
           "linecolor": "#EBF0F8",
           "ticks": "",
           "title": {
            "standoff": 15
           },
           "zerolinecolor": "#EBF0F8",
           "zerolinewidth": 2
          },
          "yaxis": {
           "automargin": true,
           "gridcolor": "#EBF0F8",
           "linecolor": "#EBF0F8",
           "ticks": "",
           "title": {
            "standoff": 15
           },
           "zerolinecolor": "#EBF0F8",
           "zerolinewidth": 2
          }
         }
        },
        "title": {
         "font": {
          "color": "Black",
          "size": 22
         },
         "text": "<b>Topic Word Scores",
         "x": 0.5,
         "xanchor": "center",
         "yanchor": "top"
        },
        "width": 1000,
        "xaxis": {
         "anchor": "y",
         "domain": [
          0,
          0.175
         ],
         "showgrid": true
        },
        "xaxis2": {
         "anchor": "y2",
         "domain": [
          0.275,
          0.45
         ],
         "showgrid": true
        },
        "xaxis3": {
         "anchor": "y3",
         "domain": [
          0.55,
          0.7250000000000001
         ],
         "showgrid": true
        },
        "xaxis4": {
         "anchor": "y4",
         "domain": [
          0.825,
          1
         ],
         "showgrid": true
        },
        "xaxis5": {
         "anchor": "y5",
         "domain": [
          0,
          0.175
         ],
         "showgrid": true
        },
        "xaxis6": {
         "anchor": "y6",
         "domain": [
          0.275,
          0.45
         ],
         "showgrid": true
        },
        "xaxis7": {
         "anchor": "y7",
         "domain": [
          0.55,
          0.7250000000000001
         ],
         "showgrid": true
        },
        "xaxis8": {
         "anchor": "y8",
         "domain": [
          0.825,
          1
         ],
         "showgrid": true
        },
        "yaxis": {
         "anchor": "x",
         "domain": [
          0.6000000000000001,
          1
         ],
         "showgrid": true
        },
        "yaxis2": {
         "anchor": "x2",
         "domain": [
          0.6000000000000001,
          1
         ],
         "showgrid": true
        },
        "yaxis3": {
         "anchor": "x3",
         "domain": [
          0.6000000000000001,
          1
         ],
         "showgrid": true
        },
        "yaxis4": {
         "anchor": "x4",
         "domain": [
          0.6000000000000001,
          1
         ],
         "showgrid": true
        },
        "yaxis5": {
         "anchor": "x5",
         "domain": [
          0,
          0.4
         ],
         "showgrid": true
        },
        "yaxis6": {
         "anchor": "x6",
         "domain": [
          0,
          0.4
         ],
         "showgrid": true
        },
        "yaxis7": {
         "anchor": "x7",
         "domain": [
          0,
          0.4
         ],
         "showgrid": true
        },
        "yaxis8": {
         "anchor": "x8",
         "domain": [
          0,
          0.4
         ],
         "showgrid": true
        }
       }
      },
      "text/html": [
       "<div>                            <div id=\"5008760b-992a-4a34-af84-a88dfd415830\" class=\"plotly-graph-div\" style=\"height:500px; width:1000px;\"></div>            <script type=\"text/javascript\">                require([\"plotly\"], function(Plotly) {                    window.PLOTLYENV=window.PLOTLYENV || {};                                    if (document.getElementById(\"5008760b-992a-4a34-af84-a88dfd415830\")) {                    Plotly.newPlot(                        \"5008760b-992a-4a34-af84-a88dfd415830\",                        [{\"marker\":{\"color\":\"#D55E00\"},\"orientation\":\"h\",\"x\":[0.013584668830634705,0.015133005088348498,0.016449769213207257,0.016807999854117624,0.01738284622584768],\"y\":[\"\\u062e\\u0627\\u0646\\u06af\\u06cc  \",\"\\u0645\\u0646\\u0632\\u0644  \",\"\\u062f\\u0648\\u0631\\u06a9\\u0627\\u0631\\u06cc  \",\"\\u06a9\\u0627\\u0631  \",\"\\u0686\\u0627\\u067e  \"],\"type\":\"bar\",\"xaxis\":\"x\",\"yaxis\":\"y\"},{\"marker\":{\"color\":\"#0072B2\"},\"orientation\":\"h\",\"x\":[0.02015935771399594,0.023803569309450764,0.026078724721863834,0.033614049193266805,0.0418714128591221],\"y\":[\"\\u06a9\\u0627\\u0631  \",\"\\u062f\\u0648\\u0631\\u06a9\\u0627\\u0631  \",\"\\u062f\\u0648\\u0631\\u06a9\\u0627\\u0631\\u06cc  \",\"\\u062e\\u0648\\u0646\\u0647  \",\"\\u0646\\u0645\\u06cc  \"],\"type\":\"bar\",\"xaxis\":\"x2\",\"yaxis\":\"y2\"},{\"marker\":{\"color\":\"#CC79A7\"},\"orientation\":\"h\",\"x\":[0.0169775196333911,0.01742749827003711,0.01767449937268668,0.019617673599742876,0.17680087924419283],\"y\":[\"\\u0645\\u06cc  \",\"\\u06a9\\u0631\\u0648\\u0646\\u0627  \",\"\\u062f\\u0648\\u0631\\u06a9\\u0627\\u0631\\u06cc  \",\"\\u062e\\u0648\\u0646\\u0647  \",\"\\u0642\\u0631\\u0646\\u0637\\u06cc\\u0646\\u0647  \"],\"type\":\"bar\",\"xaxis\":\"x3\",\"yaxis\":\"y3\"},{\"marker\":{\"color\":\"#E69F00\"},\"orientation\":\"h\",\"x\":[0.019201327671747797,0.020384328683334837,0.022576236537605376,0.037674253395573704,0.13994676574053921],\"y\":[\"\\u06a9\\u0631\\u0648\\u0646\\u0627  \",\"\\u062f\\u0648\\u0632  \",\"\\u0648\\u0627\\u06a9\\u0633\\u06cc\\u0646\\u0647  \",\"\\u0648\\u0627\\u06a9\\u0633\\u06cc\\u0646\\u0627\\u0633\\u06cc\\u0648\\u0646  \",\"\\u0648\\u0627\\u06a9\\u0633\\u0646  \"],\"type\":\"bar\",\"xaxis\":\"x4\",\"yaxis\":\"y4\"},{\"marker\":{\"color\":\"#56B4E9\"},\"orientation\":\"h\",\"x\":[0.04287943660089377,0.04787970658537198,0.05380682545213605,0.07206880840207146,0.09559486619029868],\"y\":[\"\\u0628\\u06cc\\u062f\\u0627\\u0631  \",\"\\u0635\\u0628\\u062d  \",\"\\u0628\\u062e\\u0648\\u0627\\u0628\\u0645  \",\"\\u062e\\u0648\\u0627\\u0628\\u0645  \",\"\\u062e\\u0648\\u0627\\u0628  \"],\"type\":\"bar\",\"xaxis\":\"x5\",\"yaxis\":\"y5\"},{\"marker\":{\"color\":\"#009E73\"},\"orientation\":\"h\",\"x\":[0.019727889930670022,0.024436382581319346,0.024611507008840943,0.027475799535190384,0.16590616013855286],\"y\":[\"\\u0637\\u0631\\u062d  \",\"\\u062d\\u0645\\u0644  \",\"\\u062a\\u0627\\u06a9\\u0633\\u06cc  \",\"\\u06a9\\u0627\\u0647\\u0634  \",\"\\u062a\\u0631\\u0627\\u0641\\u06cc\\u06a9  \"],\"type\":\"bar\",\"xaxis\":\"x6\",\"yaxis\":\"y6\"},{\"marker\":{\"color\":\"#F0E442\"},\"orientation\":\"h\",\"x\":[0.038804227095381304,0.03880909475313743,0.04298451398222215,0.06275630388423394,0.10627922571831391],\"y\":[\"\\u06a9\\u0631\\u0648\\u0646\\u0627  \",\"\\u0648\\u06cc\\u0631\\u0648\\u0633\\u06a9\\u0631\\u0648\\u0646\\u0627  \",\"coronavirus  \",\"\\u0634\\u06cc\\u0648\\u0639  \",\"\\u0648\\u06cc\\u0631\\u0648\\u0633  \"],\"type\":\"bar\",\"xaxis\":\"x7\",\"yaxis\":\"y7\"},{\"marker\":{\"color\":\"#D55E00\"},\"orientation\":\"h\",\"x\":[0.022828634161049237,0.03352979274148837,0.045684626993096215,0.0984817419874359,0.13416699746435967],\"y\":[\"\\u06a9\\u0627\\u0631\\u06a9\\u0646\\u0627\\u0646  \",\"\\u062a\\u0648\\u0626\\u06cc\\u062a\\u0631  \",\"\\u062a\\u0648\\u0626\\u06cc\\u062a  \",\"\\u062a\\u0648\\u06cc\\u06cc\\u062a  \",\"\\u062a\\u0648\\u06cc\\u06cc\\u062a\\u0631  \"],\"type\":\"bar\",\"xaxis\":\"x8\",\"yaxis\":\"y8\"}],                        {\"template\":{\"data\":{\"barpolar\":[{\"marker\":{\"line\":{\"color\":\"white\",\"width\":0.5},\"pattern\":{\"fillmode\":\"overlay\",\"size\":10,\"solidity\":0.2}},\"type\":\"barpolar\"}],\"bar\":[{\"error_x\":{\"color\":\"#2a3f5f\"},\"error_y\":{\"color\":\"#2a3f5f\"},\"marker\":{\"line\":{\"color\":\"white\",\"width\":0.5},\"pattern\":{\"fillmode\":\"overlay\",\"size\":10,\"solidity\":0.2}},\"type\":\"bar\"}],\"carpet\":[{\"aaxis\":{\"endlinecolor\":\"#2a3f5f\",\"gridcolor\":\"#C8D4E3\",\"linecolor\":\"#C8D4E3\",\"minorgridcolor\":\"#C8D4E3\",\"startlinecolor\":\"#2a3f5f\"},\"baxis\":{\"endlinecolor\":\"#2a3f5f\",\"gridcolor\":\"#C8D4E3\",\"linecolor\":\"#C8D4E3\",\"minorgridcolor\":\"#C8D4E3\",\"startlinecolor\":\"#2a3f5f\"},\"type\":\"carpet\"}],\"choropleth\":[{\"colorbar\":{\"outlinewidth\":0,\"ticks\":\"\"},\"type\":\"choropleth\"}],\"contourcarpet\":[{\"colorbar\":{\"outlinewidth\":0,\"ticks\":\"\"},\"type\":\"contourcarpet\"}],\"contour\":[{\"colorbar\":{\"outlinewidth\":0,\"ticks\":\"\"},\"colorscale\":[[0.0,\"#0d0887\"],[0.1111111111111111,\"#46039f\"],[0.2222222222222222,\"#7201a8\"],[0.3333333333333333,\"#9c179e\"],[0.4444444444444444,\"#bd3786\"],[0.5555555555555556,\"#d8576b\"],[0.6666666666666666,\"#ed7953\"],[0.7777777777777778,\"#fb9f3a\"],[0.8888888888888888,\"#fdca26\"],[1.0,\"#f0f921\"]],\"type\":\"contour\"}],\"heatmapgl\":[{\"colorbar\":{\"outlinewidth\":0,\"ticks\":\"\"},\"colorscale\":[[0.0,\"#0d0887\"],[0.1111111111111111,\"#46039f\"],[0.2222222222222222,\"#7201a8\"],[0.3333333333333333,\"#9c179e\"],[0.4444444444444444,\"#bd3786\"],[0.5555555555555556,\"#d8576b\"],[0.6666666666666666,\"#ed7953\"],[0.7777777777777778,\"#fb9f3a\"],[0.8888888888888888,\"#fdca26\"],[1.0,\"#f0f921\"]],\"type\":\"heatmapgl\"}],\"heatmap\":[{\"colorbar\":{\"outlinewidth\":0,\"ticks\":\"\"},\"colorscale\":[[0.0,\"#0d0887\"],[0.1111111111111111,\"#46039f\"],[0.2222222222222222,\"#7201a8\"],[0.3333333333333333,\"#9c179e\"],[0.4444444444444444,\"#bd3786\"],[0.5555555555555556,\"#d8576b\"],[0.6666666666666666,\"#ed7953\"],[0.7777777777777778,\"#fb9f3a\"],[0.8888888888888888,\"#fdca26\"],[1.0,\"#f0f921\"]],\"type\":\"heatmap\"}],\"histogram2dcontour\":[{\"colorbar\":{\"outlinewidth\":0,\"ticks\":\"\"},\"colorscale\":[[0.0,\"#0d0887\"],[0.1111111111111111,\"#46039f\"],[0.2222222222222222,\"#7201a8\"],[0.3333333333333333,\"#9c179e\"],[0.4444444444444444,\"#bd3786\"],[0.5555555555555556,\"#d8576b\"],[0.6666666666666666,\"#ed7953\"],[0.7777777777777778,\"#fb9f3a\"],[0.8888888888888888,\"#fdca26\"],[1.0,\"#f0f921\"]],\"type\":\"histogram2dcontour\"}],\"histogram2d\":[{\"colorbar\":{\"outlinewidth\":0,\"ticks\":\"\"},\"colorscale\":[[0.0,\"#0d0887\"],[0.1111111111111111,\"#46039f\"],[0.2222222222222222,\"#7201a8\"],[0.3333333333333333,\"#9c179e\"],[0.4444444444444444,\"#bd3786\"],[0.5555555555555556,\"#d8576b\"],[0.6666666666666666,\"#ed7953\"],[0.7777777777777778,\"#fb9f3a\"],[0.8888888888888888,\"#fdca26\"],[1.0,\"#f0f921\"]],\"type\":\"histogram2d\"}],\"histogram\":[{\"marker\":{\"pattern\":{\"fillmode\":\"overlay\",\"size\":10,\"solidity\":0.2}},\"type\":\"histogram\"}],\"mesh3d\":[{\"colorbar\":{\"outlinewidth\":0,\"ticks\":\"\"},\"type\":\"mesh3d\"}],\"parcoords\":[{\"line\":{\"colorbar\":{\"outlinewidth\":0,\"ticks\":\"\"}},\"type\":\"parcoords\"}],\"pie\":[{\"automargin\":true,\"type\":\"pie\"}],\"scatter3d\":[{\"line\":{\"colorbar\":{\"outlinewidth\":0,\"ticks\":\"\"}},\"marker\":{\"colorbar\":{\"outlinewidth\":0,\"ticks\":\"\"}},\"type\":\"scatter3d\"}],\"scattercarpet\":[{\"marker\":{\"colorbar\":{\"outlinewidth\":0,\"ticks\":\"\"}},\"type\":\"scattercarpet\"}],\"scattergeo\":[{\"marker\":{\"colorbar\":{\"outlinewidth\":0,\"ticks\":\"\"}},\"type\":\"scattergeo\"}],\"scattergl\":[{\"marker\":{\"colorbar\":{\"outlinewidth\":0,\"ticks\":\"\"}},\"type\":\"scattergl\"}],\"scattermapbox\":[{\"marker\":{\"colorbar\":{\"outlinewidth\":0,\"ticks\":\"\"}},\"type\":\"scattermapbox\"}],\"scatterpolargl\":[{\"marker\":{\"colorbar\":{\"outlinewidth\":0,\"ticks\":\"\"}},\"type\":\"scatterpolargl\"}],\"scatterpolar\":[{\"marker\":{\"colorbar\":{\"outlinewidth\":0,\"ticks\":\"\"}},\"type\":\"scatterpolar\"}],\"scatter\":[{\"fillpattern\":{\"fillmode\":\"overlay\",\"size\":10,\"solidity\":0.2},\"type\":\"scatter\"}],\"scatterternary\":[{\"marker\":{\"colorbar\":{\"outlinewidth\":0,\"ticks\":\"\"}},\"type\":\"scatterternary\"}],\"surface\":[{\"colorbar\":{\"outlinewidth\":0,\"ticks\":\"\"},\"colorscale\":[[0.0,\"#0d0887\"],[0.1111111111111111,\"#46039f\"],[0.2222222222222222,\"#7201a8\"],[0.3333333333333333,\"#9c179e\"],[0.4444444444444444,\"#bd3786\"],[0.5555555555555556,\"#d8576b\"],[0.6666666666666666,\"#ed7953\"],[0.7777777777777778,\"#fb9f3a\"],[0.8888888888888888,\"#fdca26\"],[1.0,\"#f0f921\"]],\"type\":\"surface\"}],\"table\":[{\"cells\":{\"fill\":{\"color\":\"#EBF0F8\"},\"line\":{\"color\":\"white\"}},\"header\":{\"fill\":{\"color\":\"#C8D4E3\"},\"line\":{\"color\":\"white\"}},\"type\":\"table\"}]},\"layout\":{\"annotationdefaults\":{\"arrowcolor\":\"#2a3f5f\",\"arrowhead\":0,\"arrowwidth\":1},\"autotypenumbers\":\"strict\",\"coloraxis\":{\"colorbar\":{\"outlinewidth\":0,\"ticks\":\"\"}},\"colorscale\":{\"diverging\":[[0,\"#8e0152\"],[0.1,\"#c51b7d\"],[0.2,\"#de77ae\"],[0.3,\"#f1b6da\"],[0.4,\"#fde0ef\"],[0.5,\"#f7f7f7\"],[0.6,\"#e6f5d0\"],[0.7,\"#b8e186\"],[0.8,\"#7fbc41\"],[0.9,\"#4d9221\"],[1,\"#276419\"]],\"sequential\":[[0.0,\"#0d0887\"],[0.1111111111111111,\"#46039f\"],[0.2222222222222222,\"#7201a8\"],[0.3333333333333333,\"#9c179e\"],[0.4444444444444444,\"#bd3786\"],[0.5555555555555556,\"#d8576b\"],[0.6666666666666666,\"#ed7953\"],[0.7777777777777778,\"#fb9f3a\"],[0.8888888888888888,\"#fdca26\"],[1.0,\"#f0f921\"]],\"sequentialminus\":[[0.0,\"#0d0887\"],[0.1111111111111111,\"#46039f\"],[0.2222222222222222,\"#7201a8\"],[0.3333333333333333,\"#9c179e\"],[0.4444444444444444,\"#bd3786\"],[0.5555555555555556,\"#d8576b\"],[0.6666666666666666,\"#ed7953\"],[0.7777777777777778,\"#fb9f3a\"],[0.8888888888888888,\"#fdca26\"],[1.0,\"#f0f921\"]]},\"colorway\":[\"#636efa\",\"#EF553B\",\"#00cc96\",\"#ab63fa\",\"#FFA15A\",\"#19d3f3\",\"#FF6692\",\"#B6E880\",\"#FF97FF\",\"#FECB52\"],\"font\":{\"color\":\"#2a3f5f\"},\"geo\":{\"bgcolor\":\"white\",\"lakecolor\":\"white\",\"landcolor\":\"white\",\"showlakes\":true,\"showland\":true,\"subunitcolor\":\"#C8D4E3\"},\"hoverlabel\":{\"align\":\"left\"},\"hovermode\":\"closest\",\"mapbox\":{\"style\":\"light\"},\"paper_bgcolor\":\"white\",\"plot_bgcolor\":\"white\",\"polar\":{\"angularaxis\":{\"gridcolor\":\"#EBF0F8\",\"linecolor\":\"#EBF0F8\",\"ticks\":\"\"},\"bgcolor\":\"white\",\"radialaxis\":{\"gridcolor\":\"#EBF0F8\",\"linecolor\":\"#EBF0F8\",\"ticks\":\"\"}},\"scene\":{\"xaxis\":{\"backgroundcolor\":\"white\",\"gridcolor\":\"#DFE8F3\",\"gridwidth\":2,\"linecolor\":\"#EBF0F8\",\"showbackground\":true,\"ticks\":\"\",\"zerolinecolor\":\"#EBF0F8\"},\"yaxis\":{\"backgroundcolor\":\"white\",\"gridcolor\":\"#DFE8F3\",\"gridwidth\":2,\"linecolor\":\"#EBF0F8\",\"showbackground\":true,\"ticks\":\"\",\"zerolinecolor\":\"#EBF0F8\"},\"zaxis\":{\"backgroundcolor\":\"white\",\"gridcolor\":\"#DFE8F3\",\"gridwidth\":2,\"linecolor\":\"#EBF0F8\",\"showbackground\":true,\"ticks\":\"\",\"zerolinecolor\":\"#EBF0F8\"}},\"shapedefaults\":{\"line\":{\"color\":\"#2a3f5f\"}},\"ternary\":{\"aaxis\":{\"gridcolor\":\"#DFE8F3\",\"linecolor\":\"#A2B1C6\",\"ticks\":\"\"},\"baxis\":{\"gridcolor\":\"#DFE8F3\",\"linecolor\":\"#A2B1C6\",\"ticks\":\"\"},\"bgcolor\":\"white\",\"caxis\":{\"gridcolor\":\"#DFE8F3\",\"linecolor\":\"#A2B1C6\",\"ticks\":\"\"}},\"title\":{\"x\":0.05},\"xaxis\":{\"automargin\":true,\"gridcolor\":\"#EBF0F8\",\"linecolor\":\"#EBF0F8\",\"ticks\":\"\",\"title\":{\"standoff\":15},\"zerolinecolor\":\"#EBF0F8\",\"zerolinewidth\":2},\"yaxis\":{\"automargin\":true,\"gridcolor\":\"#EBF0F8\",\"linecolor\":\"#EBF0F8\",\"ticks\":\"\",\"title\":{\"standoff\":15},\"zerolinecolor\":\"#EBF0F8\",\"zerolinewidth\":2}}},\"xaxis\":{\"anchor\":\"y\",\"domain\":[0.0,0.175],\"showgrid\":true},\"yaxis\":{\"anchor\":\"x\",\"domain\":[0.6000000000000001,1.0],\"showgrid\":true},\"xaxis2\":{\"anchor\":\"y2\",\"domain\":[0.275,0.45],\"showgrid\":true},\"yaxis2\":{\"anchor\":\"x2\",\"domain\":[0.6000000000000001,1.0],\"showgrid\":true},\"xaxis3\":{\"anchor\":\"y3\",\"domain\":[0.55,0.7250000000000001],\"showgrid\":true},\"yaxis3\":{\"anchor\":\"x3\",\"domain\":[0.6000000000000001,1.0],\"showgrid\":true},\"xaxis4\":{\"anchor\":\"y4\",\"domain\":[0.825,1.0],\"showgrid\":true},\"yaxis4\":{\"anchor\":\"x4\",\"domain\":[0.6000000000000001,1.0],\"showgrid\":true},\"xaxis5\":{\"anchor\":\"y5\",\"domain\":[0.0,0.175],\"showgrid\":true},\"yaxis5\":{\"anchor\":\"x5\",\"domain\":[0.0,0.4],\"showgrid\":true},\"xaxis6\":{\"anchor\":\"y6\",\"domain\":[0.275,0.45],\"showgrid\":true},\"yaxis6\":{\"anchor\":\"x6\",\"domain\":[0.0,0.4],\"showgrid\":true},\"xaxis7\":{\"anchor\":\"y7\",\"domain\":[0.55,0.7250000000000001],\"showgrid\":true},\"yaxis7\":{\"anchor\":\"x7\",\"domain\":[0.0,0.4],\"showgrid\":true},\"xaxis8\":{\"anchor\":\"y8\",\"domain\":[0.825,1.0],\"showgrid\":true},\"yaxis8\":{\"anchor\":\"x8\",\"domain\":[0.0,0.4],\"showgrid\":true},\"annotations\":[{\"font\":{\"size\":16},\"showarrow\":false,\"text\":\"Topic 0\",\"x\":0.0875,\"xanchor\":\"center\",\"xref\":\"paper\",\"y\":1.0,\"yanchor\":\"bottom\",\"yref\":\"paper\"},{\"font\":{\"size\":16},\"showarrow\":false,\"text\":\"Topic 1\",\"x\":0.36250000000000004,\"xanchor\":\"center\",\"xref\":\"paper\",\"y\":1.0,\"yanchor\":\"bottom\",\"yref\":\"paper\"},{\"font\":{\"size\":16},\"showarrow\":false,\"text\":\"Topic 2\",\"x\":0.6375000000000001,\"xanchor\":\"center\",\"xref\":\"paper\",\"y\":1.0,\"yanchor\":\"bottom\",\"yref\":\"paper\"},{\"font\":{\"size\":16},\"showarrow\":false,\"text\":\"Topic 3\",\"x\":0.9125,\"xanchor\":\"center\",\"xref\":\"paper\",\"y\":1.0,\"yanchor\":\"bottom\",\"yref\":\"paper\"},{\"font\":{\"size\":16},\"showarrow\":false,\"text\":\"Topic 4\",\"x\":0.0875,\"xanchor\":\"center\",\"xref\":\"paper\",\"y\":0.4,\"yanchor\":\"bottom\",\"yref\":\"paper\"},{\"font\":{\"size\":16},\"showarrow\":false,\"text\":\"Topic 5\",\"x\":0.36250000000000004,\"xanchor\":\"center\",\"xref\":\"paper\",\"y\":0.4,\"yanchor\":\"bottom\",\"yref\":\"paper\"},{\"font\":{\"size\":16},\"showarrow\":false,\"text\":\"Topic 6\",\"x\":0.6375000000000001,\"xanchor\":\"center\",\"xref\":\"paper\",\"y\":0.4,\"yanchor\":\"bottom\",\"yref\":\"paper\"},{\"font\":{\"size\":16},\"showarrow\":false,\"text\":\"Topic 7\",\"x\":0.9125,\"xanchor\":\"center\",\"xref\":\"paper\",\"y\":0.4,\"yanchor\":\"bottom\",\"yref\":\"paper\"}],\"title\":{\"font\":{\"size\":22,\"color\":\"Black\"},\"text\":\"<b>Topic Word Scores\",\"x\":0.5,\"xanchor\":\"center\",\"yanchor\":\"top\"},\"hoverlabel\":{\"font\":{\"size\":16,\"family\":\"Rockwell\"},\"bgcolor\":\"white\"},\"showlegend\":false,\"width\":1000,\"height\":500},                        {\"responsive\": true}                    ).then(function(){\n",
       "                            \n",
       "var gd = document.getElementById('5008760b-992a-4a34-af84-a88dfd415830');\n",
       "var x = new MutationObserver(function (mutations, observer) {{\n",
       "        var display = window.getComputedStyle(gd).display;\n",
       "        if (!display || display === 'none') {{\n",
       "            console.log([gd, 'removed!']);\n",
       "            Plotly.purge(gd);\n",
       "            observer.disconnect();\n",
       "        }}\n",
       "}});\n",
       "\n",
       "// Listen for the removal of the full notebook cells\n",
       "var notebookContainer = gd.closest('#notebook-container');\n",
       "if (notebookContainer) {{\n",
       "    x.observe(notebookContainer, {childList: true});\n",
       "}}\n",
       "\n",
       "// Listen for the clearing of the current output cell\n",
       "var outputEl = gd.closest('.output');\n",
       "if (outputEl) {{\n",
       "    x.observe(outputEl, {childList: true});\n",
       "}}\n",
       "\n",
       "                        })                };                });            </script>        </div>"
      ]
     },
     "metadata": {},
     "output_type": "display_data"
    }
   ],
   "source": [
    "topic_model.visualize_barchart()"
   ]
  },
  {
   "cell_type": "code",
   "execution_count": 17,
   "id": "5733fe6e",
   "metadata": {},
   "outputs": [
    {
     "data": {
      "application/vnd.plotly.v1+json": {
       "config": {
        "plotlyServerURL": "https://plot.ly"
       },
       "data": [
        {
         "coloraxis": "coloraxis",
         "hovertemplate": "x: %{x}<br>y: %{y}<br>Similarity Score: %{z}<extra></extra>",
         "name": "0",
         "type": "heatmap",
         "x": [
          "0_چاپ_کار_دورکاری",
          "1_نمی_خونه_دورکاری",
          "2_قرنطینه_خونه_دورکاری",
          "3_واکسن_واکسیناسیون_واکسینه",
          "4_خواب_خوابم_بخوابم",
          "5_ترافیک_کاهش_تاکسی",
          "6_ویروس_شیوع_coronavirus",
          "7_توییتر_توییت_توئیت",
          "8_آلمان_یورو_سوئد",
          "9_اینستاگرام_ادمین_پروژه",
          "10_استرس_افسردگی_اضطراب",
          "11_امنیت_امنیتی_سایبری",
          "12_اسکایپ_اسکایپی_جلسه",
          "13_بیمه_رد_حقوق",
          "14_دکتر_دندونپزشکی_بیمارستان",
          "15_کانادا_کانادایی_تورنتو",
          "16_استعفا_بدم_میدم",
          "17_برف_برفی_پنجره",
          "18_درصد_درصدی_۵۵",
          "19_متنفرم_متنفر_رمضون",
          "20_خصوصی_شرکت_دولتی",
          "21_یوتیوب_ویدئو_یوتوب",
          "22_مرگ_خودکشی_بمیرم",
          "23_آشپزی_پیتزا_سیر",
          "24_تلگرام_کانال_تلگرامی",
          "25_سگ_سگم_توش",
          "26_صبحانه_صبحونه_خورم",
          "27_سیگار_بکشم_بکشی",
          "28_وزن_کیلو_وزنم",
          "29_مترو_قطار_اتوبوس",
          "30_صندلی_میز_ارگونومیک",
          "31_ترکیه_استانبول_ریموت",
          "32_بانک_بانکها_خصوصی",
          "33_سربازی_سرباز_امریه",
          "34_شیراز_نیروی_مومیایی",
          "35_php_برنامه_نویس",
          "36_دستشویی_توالت_حمام",
          "37_اپل_گیرانه_کارمندان",
          "38_مغزم_سردرد_نی",
          "39_ناهار_شام_غذا",
          "40_تنهایی_میبرم_ضداجتماعی",
          "41_html_css_مسلط",
          "42_زندان_زندانی_بده",
          "43_قهوه_کافه_مصرف",
          "44_گربه_مخلوقات_اشرف",
          "45_ناسا_مریخ_هدایت",
          "46_رمضان_ترکیب_بوسید",
          "47_آمازون_کارمندانش_تمدید",
          "48_معلولیت_معلولانی_بفرستند",
          "49_اسپانیا_کشور_قانون",
          "50_نیستی_دورکار_بمون"
         ],
         "xaxis": "x",
         "y": [
          "0_چاپ_کار_دورکاری",
          "1_نمی_خونه_دورکاری",
          "2_قرنطینه_خونه_دورکاری",
          "3_واکسن_واکسیناسیون_واکسینه",
          "4_خواب_خوابم_بخوابم",
          "5_ترافیک_کاهش_تاکسی",
          "6_ویروس_شیوع_coronavirus",
          "7_توییتر_توییت_توئیت",
          "8_آلمان_یورو_سوئد",
          "9_اینستاگرام_ادمین_پروژه",
          "10_استرس_افسردگی_اضطراب",
          "11_امنیت_امنیتی_سایبری",
          "12_اسکایپ_اسکایپی_جلسه",
          "13_بیمه_رد_حقوق",
          "14_دکتر_دندونپزشکی_بیمارستان",
          "15_کانادا_کانادایی_تورنتو",
          "16_استعفا_بدم_میدم",
          "17_برف_برفی_پنجره",
          "18_درصد_درصدی_۵۵",
          "19_متنفرم_متنفر_رمضون",
          "20_خصوصی_شرکت_دولتی",
          "21_یوتیوب_ویدئو_یوتوب",
          "22_مرگ_خودکشی_بمیرم",
          "23_آشپزی_پیتزا_سیر",
          "24_تلگرام_کانال_تلگرامی",
          "25_سگ_سگم_توش",
          "26_صبحانه_صبحونه_خورم",
          "27_سیگار_بکشم_بکشی",
          "28_وزن_کیلو_وزنم",
          "29_مترو_قطار_اتوبوس",
          "30_صندلی_میز_ارگونومیک",
          "31_ترکیه_استانبول_ریموت",
          "32_بانک_بانکها_خصوصی",
          "33_سربازی_سرباز_امریه",
          "34_شیراز_نیروی_مومیایی",
          "35_php_برنامه_نویس",
          "36_دستشویی_توالت_حمام",
          "37_اپل_گیرانه_کارمندان",
          "38_مغزم_سردرد_نی",
          "39_ناهار_شام_غذا",
          "40_تنهایی_میبرم_ضداجتماعی",
          "41_html_css_مسلط",
          "42_زندان_زندانی_بده",
          "43_قهوه_کافه_مصرف",
          "44_گربه_مخلوقات_اشرف",
          "45_ناسا_مریخ_هدایت",
          "46_رمضان_ترکیب_بوسید",
          "47_آمازون_کارمندانش_تمدید",
          "48_معلولیت_معلولانی_بفرستند",
          "49_اسپانیا_کشور_قانون",
          "50_نیستی_دورکار_بمون"
         ],
         "yaxis": "y",
         "z": [
          [
           1.0000000000000002,
           0.9350184331346312,
           0.8697405197020099,
           0.7238837339861628,
           0.41533259440948844,
           0.4901372570360784,
           0.5693680479552402,
           0.6403677880139865,
           0.6800577926173801,
           0.5507897607862087,
           0.6228234781948054,
           0.5923322635534176,
           0.7144624795350749,
           0.5495351840748811,
           0.6024960418662606,
           0.7041145698285827,
           0.5166676223436704,
           0.7396577058753565,
           0.49142794165462156,
           0.6703916880710249,
           0.23983899376448567,
           0.6781232393616674,
           0.5405445234122837,
           0.6458407929082485,
           0.6730939667797867,
           0.6122998550042111,
           0.5939840153038283,
           0.4831066970028455,
           0.6025856009274166,
           0.5911668157791485,
           0.5864245632328857,
           0.6214348634975424,
           0.5263252820481741,
           0.6795301075461829,
           0.6652444913454049,
           0.6374878980200696,
           0.6944541435337168,
           0.5585722889129044,
           0.7241871017945543,
           0.6622489970728677,
           0.542083775504828,
           0.6125029225574081,
           0.7295960504490097,
           0.673025014144147,
           0.6297823873859538,
           0.5802207221436132,
           0.6948758994191493,
           0.5163147952958971,
           0.6762773198392755,
           0.7061401817046077,
           0.6938174246934303
          ],
          [
           0.9350184331346312,
           1.0000000000000004,
           0.7969526543890957,
           0.7003379089383525,
           0.39811041114750495,
           0.44673888348315155,
           0.5356265146820711,
           0.6406437543154696,
           0.62461389417863,
           0.5649769434875211,
           0.6516247995749209,
           0.570700610146981,
           0.6990740240992525,
           0.5530904813585514,
           0.6041153890758713,
           0.6533770654173828,
           0.5469114487078864,
           0.6579481080612279,
           0.4680242438356321,
           0.6466088900468809,
           0.2273934214793847,
           0.666744252561666,
           0.5275017650434799,
           0.6163216658400326,
           0.6692176266259903,
           0.5935964585823179,
           0.5421501874394261,
           0.4541683187018588,
           0.5723487664552298,
           0.5665579332633763,
           0.571149715081049,
           0.62694336058575,
           0.5205889769093777,
           0.6849521318368029,
           0.5558296225828123,
           0.6308531476725059,
           0.6987199179941039,
           0.533346724202183,
           0.7163057306707981,
           0.6232321127258573,
           0.5316204113280303,
           0.5957475232894537,
           0.7370862938620636,
           0.6055272310458316,
           0.6317144657992957,
           0.5591195204401608,
           0.7085993316383142,
           0.5120540188212543,
           0.6485283640160228,
           0.6865565474251727,
           0.6982406302267397
          ],
          [
           0.8697405197020099,
           0.7969526543890957,
           1.0000000000000009,
           0.6548923087414753,
           0.3931309855585629,
           0.5072490317353581,
           0.5206901095238116,
           0.5721914731227083,
           0.6533094434980222,
           0.48034903410392993,
           0.5161029108221977,
           0.5514594230877277,
           0.609471205610631,
           0.4786191887325757,
           0.5381169525319118,
           0.6357137864508209,
           0.5016058172844186,
           0.7171774994144522,
           0.4701356789412231,
           0.5532415969320917,
           0.4080128660884216,
           0.6061583711481829,
           0.4691312033242987,
           0.6558592944275682,
           0.5999357234352651,
           0.5712526392284782,
           0.5733446997447981,
           0.4605331619378239,
           0.5432786982114002,
           0.5419793869868132,
           0.5122827574488642,
           0.579951529137118,
           0.45341419591824683,
           0.5912805507608115,
           0.592248981970586,
           0.5405902855282627,
           0.5814554499505779,
           0.5181018934286593,
           0.6418899786039861,
           0.6572802643875069,
           0.5284851249623761,
           0.6365438518560947,
           0.6358034280459536,
           0.6422562219872796,
           0.5471745628200153,
           0.5433109503082469,
           0.6171334366955004,
           0.47296453620172224,
           0.5838552457115391,
           0.6795876458489197,
           0.5929957256356326
          ],
          [
           0.7238837339861628,
           0.7003379089383525,
           0.6548923087414753,
           1,
           0.5608076003677809,
           0.34170613259783156,
           0.44514095268910264,
           0.626251419373781,
           0.5226461652467129,
           0.46690178427359547,
           0.5000166406109458,
           0.4860265398688436,
           0.756003696976763,
           0.5154546083643216,
           0.5904552315727795,
           0.5653807900543104,
           0.5504726309337575,
           0.5164710922711454,
           0.36644960516281905,
           0.5225535160651796,
           0.13407682588093559,
           0.6318293626568834,
           0.37954416610315145,
           0.5391394124463764,
           0.49910307611114146,
           0.55291461077134,
           0.4699551115024727,
           0.2873665759184714,
           0.4763298284904649,
           0.36660766316432714,
           0.4034059433497337,
           0.4717821289027484,
           0.4788706895990228,
           0.6309442544498427,
           0.5465583972599675,
           0.508911770503685,
           0.47273804345988324,
           0.3811050132396923,
           0.5585079655859363,
           0.4598964472023304,
           0.37552041921803647,
           0.5155580255505376,
           0.5162832020964974,
           0.654373817464441,
           0.4499911119002543,
           0.5242973013208161,
           0.605438630045075,
           0.44142586862917066,
           0.4990092016849015,
           0.6030691514744998,
           0.602483722100847
          ],
          [
           0.41533259440948844,
           0.39811041114750495,
           0.3931309855585629,
           0.5608076003677809,
           0.9999999999999998,
           0.25474345626268036,
           0.21527754097412408,
           0.6244143483416595,
           0.3893148677288923,
           0.34296827884826525,
           0.3640075546314569,
           0.2766862383873597,
           0.4561748432246996,
           0.43464932262230416,
           0.4119743305759471,
           0.5342947284105537,
           0.3296223159695337,
           0.2780552605234242,
           0.37276084367875795,
           0.27078967942222704,
           0.258116382863589,
           0.33161636872190353,
           0.26238672722968787,
           0.3946400440778859,
           0.3574989216755192,
           0.39772441157394123,
           0.3700298398971653,
           0.19473065186119629,
           0.363309348999612,
           0.2785146179886286,
           0.24783118183740055,
           0.38967773409079987,
           0.42837215793949635,
           0.3152034454651686,
           0.37460974878082687,
           0.31939999212007286,
           0.32015129064789605,
           0.33102403818203263,
           0.329799444651933,
           0.36675284636619543,
           0.24578512288729187,
           0.24658148992475215,
           0.369544397083991,
           0.386329725335405,
           0.29360591075159237,
           0.34706497517475177,
           0.3882730069838681,
           0.29413432590199884,
           0.24775290493106156,
           0.3408315575812614,
           0.3171182084693249
          ],
          [
           0.4901372570360784,
           0.44673888348315155,
           0.5072490317353581,
           0.34170613259783156,
           0.25474345626268036,
           1,
           0.3909033688985624,
           0.38547539694200617,
           0.39059570060005344,
           0.26269984080323083,
           0.36688243994681724,
           0.4581919209657761,
           0.388007211458561,
           0.3133357419945635,
           0.30553701559222896,
           0.44285511934137345,
           0.3051898987800235,
           0.4535000201962138,
           0.3825146866057809,
           0.31145112096571115,
           0.3338587453712617,
           0.3092826963449064,
           0.3035361639760059,
           0.5336551437517432,
           0.4149748326874668,
           0.3788529383867485,
           0.3409119998625829,
           0.6087526440871645,
           0.3657678660120215,
           0.4336244808653452,
           0.36630230683159043,
           0.38126385877575875,
           0.2898405621827287,
           0.3125319659788049,
           0.355211369658952,
           0.33763928518147374,
           0.3641123004713805,
           0.333771042784489,
           0.44309029867737804,
           0.571952029647627,
           0.40667336652001046,
           0.4273063193834663,
           0.34965204761977886,
           0.4414384598436344,
           0.47120623021584174,
           0.3817479255608978,
           0.3327539955575877,
           0.43891622221110904,
           0.3231105975159423,
           0.3822832048701017,
           0.3351727065300143
          ],
          [
           0.5693680479552402,
           0.5356265146820711,
           0.5206901095238116,
           0.44514095268910264,
           0.21527754097412408,
           0.3909033688985624,
           1,
           0.4826009857233717,
           0.38524205266355216,
           0.39762449749195694,
           0.38558984931205414,
           0.4720286618867722,
           0.5680506388100763,
           0.3624929563225888,
           0.3967262925770607,
           0.39356373941307904,
           0.3851896771251301,
           0.4234699747474675,
           0.37832318171837864,
           0.4606697482764573,
           0.22620032258145018,
           0.39404145811467534,
           0.38300929303641673,
           0.3991929733564548,
           0.3591132671619648,
           0.4452679034700759,
           0.34839273982148306,
           0.26656453971713134,
           0.41672386893885505,
           0.3126078780352157,
           0.6407901660730144,
           0.356780237910724,
           0.3264745422817445,
           0.4289553362557772,
           0.40117484091766537,
           0.4327234803814437,
           0.36695223115125447,
           0.30331640917462627,
           0.447369906594527,
           0.42970643690936455,
           0.2755359110100921,
           0.4099173645364695,
           0.4240114535488463,
           0.5145683178697237,
           0.39308103215966933,
           0.39415478712918545,
           0.4217784116021154,
           0.2787497694885769,
           0.4336290540751567,
           0.4600684057049539,
           0.4914312096826434
          ],
          [
           0.6403677880139865,
           0.6406437543154696,
           0.5721914731227083,
           0.626251419373781,
           0.6244143483416595,
           0.38547539694200617,
           0.4826009857233717,
           0.9999999999999996,
           0.5224243765089194,
           0.45444585539346904,
           0.5712893438652766,
           0.5121885790066991,
           0.664520365428113,
           0.510117712151642,
           0.5053345912368198,
           0.5947752767967025,
           0.45183176418142035,
           0.4552221314075292,
           0.46403145664388257,
           0.4681525334641349,
           0.30793032610961857,
           0.4238518216862458,
           0.5277757115093854,
           0.5351133481981103,
           0.5096263753867426,
           0.4971266860668937,
           0.4849673881802302,
           0.28762868754426685,
           0.5299832702023011,
           0.388187743552743,
           0.4100232669567516,
           0.4283321249109897,
           0.5364241762368822,
           0.5137272016643673,
           0.45922644693567133,
           0.5805766410133548,
           0.4952119318022574,
           0.44507535091121625,
           0.6194632879669943,
           0.5620243633534489,
           0.3400081267556223,
           0.42420960833086296,
           0.5446435969634579,
           0.5757926376859646,
           0.4511317503915202,
           0.6347288095372874,
           0.6044377389552019,
           0.4790422780135919,
           0.5198115497731699,
           0.4950601240876054,
           0.5675770323137103
          ],
          [
           0.6800577926173801,
           0.62461389417863,
           0.6533094434980222,
           0.5226461652467129,
           0.3893148677288923,
           0.39059570060005344,
           0.38524205266355216,
           0.5224243765089194,
           0.9999999999999999,
           0.44845410766866506,
           0.7432875824057086,
           0.4890053049161105,
           0.5664804896123378,
           0.5133303281473821,
           0.4720419333244196,
           0.5196536386456496,
           0.5013617501381827,
           0.5013469551127703,
           0.36306044181205116,
           0.5041315221265796,
           0.1887259770859615,
           0.47475857141873395,
           0.6080165302914471,
           0.5377990217210784,
           0.4980281859876635,
           0.7312160215064246,
           0.4628682949161738,
           0.307235842311535,
           0.4782250486155195,
           0.5276231155349067,
           0.4626687109770894,
           0.42324404141278665,
           0.45068638206519035,
           0.4556116911683994,
           0.5118065512682178,
           0.45785564064311135,
           0.6037407588185125,
           0.4663079501025838,
           0.551812055082044,
           0.47774133893529414,
           0.4294744322981267,
           0.5002690505082843,
           0.632702841220681,
           0.4993928955395453,
           0.4767495607557982,
           0.4950444143898085,
           0.4958781413689475,
           0.4164976693546938,
           0.5221717865845301,
           0.5788284932007897,
           0.5191890461993771
          ],
          [
           0.5507897607862087,
           0.5649769434875211,
           0.48034903410392993,
           0.46690178427359547,
           0.34296827884826525,
           0.26269984080323083,
           0.39762449749195694,
           0.45444585539346904,
           0.44845410766866506,
           0.9999999999999998,
           0.48703262960429394,
           0.35650005519625716,
           0.4716052256479326,
           0.37921907671160077,
           0.4058223381959367,
           0.3787828068580812,
           0.3603192230340145,
           0.4207978154798506,
           0.3911922646630286,
           0.49420347864086994,
           0.2255043737418884,
           0.4055956053214099,
           0.36868559148110996,
           0.42865244673366354,
           0.47707306376239855,
           0.44315127869548043,
           0.4452061278573075,
           0.29290066858506386,
           0.4031345853469459,
           0.4209413078847319,
           0.4294278254169153,
           0.37038089526678597,
           0.4507896301717683,
           0.4946583161188797,
           0.39868461806069216,
           0.37441595164149727,
           0.4510902373762916,
           0.3284033243294793,
           0.44665967914379534,
           0.4261488397275017,
           0.36585444374715276,
           0.366308812528089,
           0.5441373108272032,
           0.4035180992053974,
           0.3935062080006567,
           0.3306550615211792,
           0.46982626934719746,
           0.2965725921549793,
           0.4909005320400479,
           0.3984714251274788,
           0.7164755131304629
          ],
          [
           0.6228234781948054,
           0.6516247995749209,
           0.5161029108221977,
           0.5000166406109458,
           0.3640075546314569,
           0.36688243994681724,
           0.38558984931205414,
           0.5712893438652766,
           0.7432875824057086,
           0.48703262960429394,
           1.0000000000000004,
           0.4926959434368895,
           0.6353489444552447,
           0.5344060620472341,
           0.5643245502378771,
           0.4625244646752612,
           0.4364931489491944,
           0.41688959308619283,
           0.3585093766333702,
           0.5101929872522462,
           0.19011550719912468,
           0.5080719691701445,
           0.7246910398090859,
           0.5069059113919313,
           0.5264565337491435,
           0.6297357611405321,
           0.4256878178209995,
           0.27393167111339434,
           0.476056481179142,
           0.5163890846591129,
           0.4223665521780063,
           0.4136475493123708,
           0.4499428363213901,
           0.503171237653552,
           0.4706810788119586,
           0.5033235386978272,
           0.6384793913557287,
           0.4876324109639141,
           0.5859845192193432,
           0.4524458349189254,
           0.37455323709494465,
           0.48347315769549926,
           0.6840453598144696,
           0.4842568210975349,
           0.42742541164167913,
           0.48066104398296405,
           0.5147069604780413,
           0.42094005025324593,
           0.5629042734854072,
           0.5243826421937351,
           0.5563168448722817
          ],
          [
           0.5923322635534176,
           0.570700610146981,
           0.5514594230877277,
           0.4860265398688436,
           0.2766862383873597,
           0.4581919209657761,
           0.4720286618867722,
           0.5121885790066991,
           0.4890053049161105,
           0.35650005519625716,
           0.4926959434368895,
           1.000000000000001,
           0.5150145795403285,
           0.39763150029596905,
           0.4459855645254426,
           0.5551604013020286,
           0.38402748422005784,
           0.46727587313974606,
           0.38344861286033594,
           0.44786028756023616,
           0.27694682034024093,
           0.4177659329278197,
           0.4403083115877676,
           0.5724113598220898,
           0.43582042402008325,
           0.4796981182842678,
           0.39006988375836604,
           0.351747452994966,
           0.45397671522467814,
           0.4997336137329077,
           0.44413820756667455,
           0.427900192988604,
           0.37982995310965373,
           0.4389788488900697,
           0.4235682566468813,
           0.4650995694709863,
           0.4727345326673173,
           0.4296868827838018,
           0.5142527858600355,
           0.6726729446559464,
           0.3762845781735332,
           0.6337220474117577,
           0.5153858787578494,
           0.526103155184852,
           0.4489343897743443,
           0.4108282844977297,
           0.4746374194535933,
           0.48363161759726625,
           0.3984607847916184,
           0.5924082525262226,
           0.4811525792428911
          ],
          [
           0.7144624795350749,
           0.6990740240992525,
           0.609471205610631,
           0.756003696976763,
           0.4561748432246996,
           0.388007211458561,
           0.5680506388100763,
           0.664520365428113,
           0.5664804896123378,
           0.4716052256479326,
           0.6353489444552447,
           0.5150145795403285,
           1.0000000000000013,
           0.4767507201175751,
           0.6413180567459392,
           0.5458847807903227,
           0.42689021614723816,
           0.4904302275235066,
           0.40608427228454125,
           0.5554160474438296,
           0.23740721045367172,
           0.6712224678116783,
           0.47488694114452457,
           0.4783485910201324,
           0.49419190511408273,
           0.61125522804109,
           0.47902468810891896,
           0.28500422990493285,
           0.490897113187045,
           0.3966170980436376,
           0.4921331378667625,
           0.4039890583406558,
           0.4680089361312937,
           0.6322774467996968,
           0.6034925780751863,
           0.5426985782800378,
           0.5838595808230856,
           0.42413305232476367,
           0.632805238044559,
           0.5326858883596131,
           0.30274641410564745,
           0.44254614237094425,
           0.5913147141353818,
           0.678889804828713,
           0.43259182831620513,
           0.5037303232474575,
           0.614907240208479,
           0.4387928479713248,
           0.5607977079022131,
           0.5879321762664734,
           0.5625318048443737
          ],
          [
           0.5495351840748811,
           0.5530904813585514,
           0.4786191887325757,
           0.5154546083643216,
           0.43464932262230416,
           0.3133357419945635,
           0.3624929563225888,
           0.510117712151642,
           0.5133303281473821,
           0.37921907671160077,
           0.5344060620472341,
           0.39763150029596905,
           0.4767507201175751,
           1.0000000000000002,
           0.35230750437981045,
           0.46152246741194525,
           0.3614953965001491,
           0.42327707276504106,
           0.39262166153187783,
           0.39023104436661865,
           0.07802110614490573,
           0.4089543075904942,
           0.5035396929930519,
           0.4099738173929822,
           0.3822085471209159,
           0.6078793862674479,
           0.3744124396605001,
           0.3118513456819909,
           0.43579844097771814,
           0.32298290097769633,
           0.26717585513199865,
           0.41774000932099475,
           0.4663520795745287,
           0.4737308550533561,
           0.37608157525055397,
           0.5083189258698892,
           0.4585482547799167,
           0.31903524576203557,
           0.4561035242393345,
           0.4015988031690585,
           0.4058491075087285,
           0.4073323614577238,
           0.46792888023107715,
           0.431970184088739,
           0.42889648186244744,
           0.40180241682503104,
           0.5299019190176076,
           0.35613362670788995,
           0.45276643559358987,
           0.4422658619766838,
           0.4165669349373426
          ],
          [
           0.6024960418662606,
           0.6041153890758713,
           0.5381169525319118,
           0.5904552315727795,
           0.4119743305759471,
           0.30553701559222896,
           0.3967262925770607,
           0.5053345912368198,
           0.4720419333244196,
           0.4058223381959367,
           0.5643245502378771,
           0.4459855645254426,
           0.6413180567459392,
           0.35230750437981045,
           0.9999999999999999,
           0.6169396047434209,
           0.4002069890608954,
           0.4225477606111228,
           0.29497499835168317,
           0.5624735955303944,
           0.19208248209848897,
           0.5949247581314804,
           0.31831039968528296,
           0.4745197473368993,
           0.42226389602762915,
           0.45167545967534684,
           0.4353771373616029,
           0.23101491140366492,
           0.5218125111544051,
           0.4309485972960986,
           0.3443844743615147,
           0.4248817316264373,
           0.33235137503004647,
           0.617240612539071,
           0.4163925644302056,
           0.4180068788278635,
           0.49126981723822327,
           0.3720078097103384,
           0.44749103196283346,
           0.43800058148385124,
           0.26368082765635187,
           0.4031051898284403,
           0.5083880902946533,
           0.4859153949255716,
           0.424046314567561,
           0.42032514951091093,
           0.4199116150004382,
           0.32454345339159674,
           0.43749474673753974,
           0.5445977610043695,
           0.46723496461924113
          ],
          [
           0.7041145698285827,
           0.6533770654173828,
           0.6357137864508209,
           0.5653807900543104,
           0.5342947284105537,
           0.44285511934137345,
           0.39356373941307904,
           0.5947752767967025,
           0.5196536386456496,
           0.3787828068580812,
           0.4625244646752612,
           0.5551604013020286,
           0.5458847807903227,
           0.46152246741194525,
           0.6169396047434209,
           0.9999999999999999,
           0.4006374734965389,
           0.5312506709627371,
           0.3974212300982476,
           0.49073602230220925,
           0.2383480528012348,
           0.5016282871855482,
           0.4152529605269911,
           0.5770176111220581,
           0.49695583379229535,
           0.4600577254750191,
           0.5301866072676479,
           0.4048379513843485,
           0.4940194466337171,
           0.49176563562888465,
           0.3631231859694909,
           0.5853840977212523,
           0.41715191910942817,
           0.528365458829209,
           0.5435607319432931,
           0.4967224591702527,
           0.5075758994408506,
           0.5968086035577443,
           0.5252166748968412,
           0.6458356105822738,
           0.43690323803429154,
           0.5006693003295936,
           0.4932501479975543,
           0.6063687091329801,
           0.5480053890548994,
           0.4614749881366445,
           0.5383048885636326,
           0.44403846503340094,
           0.48927435760882887,
           0.6905919559087093,
           0.4712726130144174
          ],
          [
           0.5166676223436704,
           0.5469114487078864,
           0.5016058172844186,
           0.5504726309337575,
           0.3296223159695337,
           0.3051898987800235,
           0.3851896771251301,
           0.45183176418142035,
           0.5013617501381827,
           0.3603192230340145,
           0.4364931489491944,
           0.38402748422005784,
           0.42689021614723816,
           0.3614953965001491,
           0.4002069890608954,
           0.4006374734965389,
           0.9999999999999994,
           0.33231324742787094,
           0.34231703174577677,
           0.41877252040976387,
           0.14276531050168675,
           0.3964765656576672,
           0.3784637257927507,
           0.37718580858423617,
           0.4224407311570893,
           0.4777552603247903,
           0.29489899992622626,
           0.2867253555747809,
           0.31223823615869994,
           0.3643509082351251,
           0.4024809812456752,
           0.33952428601139933,
           0.3948239489875535,
           0.4084860420303533,
           0.3440848874330329,
           0.3218118379524895,
           0.4491177492329435,
           0.3008586478512979,
           0.48757450397565766,
           0.35290868750886145,
           0.355801376112187,
           0.3893094289875777,
           0.46654317524799743,
           0.4054511845991658,
           0.3726649084036122,
           0.4430814090918269,
           0.43798876068714865,
           0.3043043913464485,
           0.4617462897933037,
           0.5018566787122285,
           0.5117257569093644
          ],
          [
           0.7396577058753565,
           0.6579481080612279,
           0.7171774994144522,
           0.5164710922711454,
           0.2780552605234242,
           0.4535000201962138,
           0.4234699747474675,
           0.4552221314075292,
           0.5013469551127703,
           0.4207978154798506,
           0.41688959308619283,
           0.46727587313974606,
           0.4904302275235066,
           0.42327707276504106,
           0.4225477606111228,
           0.5312506709627371,
           0.33231324742787094,
           1.0000000000000004,
           0.42251601551325824,
           0.47549671956255546,
           0.30875116575181905,
           0.4600747569860877,
           0.38371967360369946,
           0.6089781295443413,
           0.4711911893570499,
           0.45323920775400284,
           0.4167707157924845,
           0.3521974196495313,
           0.44972914919301465,
           0.43587250663443333,
           0.44682032060259186,
           0.45127344071099257,
           0.35825408921532803,
           0.46840983191332175,
           0.500786447224403,
           0.48160141436396847,
           0.43650966898624843,
           0.4445333179073474,
           0.588872629574496,
           0.5282599552268095,
           0.40445835946839315,
           0.5403193856768862,
           0.4727688886882988,
           0.5498744383397882,
           0.4790476850584109,
           0.3957516046803753,
           0.4884277446429586,
           0.3728324651261701,
           0.5044912375893329,
           0.5929426931353808,
           0.5135203848871731
          ],
          [
           0.49142794165462156,
           0.4680242438356321,
           0.4701356789412231,
           0.36644960516281905,
           0.37276084367875795,
           0.3825146866057809,
           0.37832318171837864,
           0.46403145664388257,
           0.36306044181205116,
           0.3911922646630286,
           0.3585093766333702,
           0.38344861286033594,
           0.40608427228454125,
           0.39262166153187783,
           0.29497499835168317,
           0.3974212300982476,
           0.34231703174577677,
           0.42251601551325824,
           1.0000000000000002,
           0.2833120006503566,
           0.24673054528465563,
           0.3051997610573013,
           0.33323528002865777,
           0.38618541690936714,
           0.41868036232209754,
           0.32465664705329783,
           0.35663979487787945,
           0.4104936364465087,
           0.40267836354592296,
           0.44422679598152104,
           0.3801219968545163,
           0.2997496946624249,
           0.33872832010033077,
           0.31528706523007843,
           0.34735870155882465,
           0.40632115031913774,
           0.31782685534967803,
           0.3088225247478242,
           0.43554518208191007,
           0.4262418678072797,
           0.34026377492947,
           0.36926559816849963,
           0.42265155037259317,
           0.3945913029246515,
           0.38061609886807946,
           0.3775816973732594,
           0.45436793466765346,
           0.3135686431873399,
           0.4262788624468932,
           0.389389734721506,
           0.37974177823448524
          ],
          [
           0.6703916880710249,
           0.6466088900468809,
           0.5532415969320917,
           0.5225535160651796,
           0.27078967942222704,
           0.31145112096571115,
           0.4606697482764573,
           0.4681525334641349,
           0.5041315221265796,
           0.49420347864086994,
           0.5101929872522462,
           0.44786028756023616,
           0.5554160474438296,
           0.39023104436661865,
           0.5624735955303944,
           0.49073602230220925,
           0.41877252040976387,
           0.47549671956255546,
           0.2833120006503566,
           1.0000000000000007,
           0.14299678300548077,
           0.5070577989223696,
           0.4007996205188657,
           0.4567362944884378,
           0.4522150120852052,
           0.4373594251609769,
           0.3986307229077536,
           0.3143434777664514,
           0.3820117673721902,
           0.5204776469863498,
           0.40039861484771555,
           0.41746754451591817,
           0.38609476585392133,
           0.5751960960282182,
           0.4523174434832356,
           0.4389053161791132,
           0.49037713071394695,
           0.39417091055761616,
           0.5164304831071524,
           0.4914527516723982,
           0.3312238564524437,
           0.3663400124859733,
           0.4749122163749968,
           0.4907974364976053,
           0.438189905345436,
           0.45017217579457747,
           0.47813293174745863,
           0.36550204850044005,
           0.49017483043717636,
           0.48215302897318235,
           0.5225859385604952
          ],
          [
           0.23983899376448567,
           0.2273934214793847,
           0.4080128660884216,
           0.13407682588093559,
           0.258116382863589,
           0.3338587453712617,
           0.22620032258145018,
           0.30793032610961857,
           0.1887259770859615,
           0.2255043737418884,
           0.19011550719912468,
           0.27694682034024093,
           0.23740721045367172,
           0.07802110614490573,
           0.19208248209848897,
           0.2383480528012348,
           0.14276531050168675,
           0.30875116575181905,
           0.24673054528465563,
           0.14299678300548077,
           0.9999999999999994,
           0.21207494201175153,
           0.165037845793058,
           0.37827021513754855,
           0.25987713159529274,
           0.185140229926461,
           0.27935329660833,
           0.21552780449973236,
           0.23419889670147895,
           0.2605678539137507,
           0.18563274614709185,
           0.15757950114483887,
           0.16296618803684737,
           0.20164615861882892,
           0.19537520848958886,
           0.2178096959736341,
           0.1874596423825198,
           0.23416307430249717,
           0.24962655477500534,
           0.3784028337460457,
           0.20642240235984222,
           0.32452626763768294,
           0.23644662077878847,
           0.27574400002010147,
           0.18383694544688065,
           0.16722082014568876,
           0.19479047114181852,
           0.14348330296947454,
           0.1622777869617542,
           0.29292009271760683,
           0.20327102709122638
          ],
          [
           0.6781232393616674,
           0.666744252561666,
           0.6061583711481829,
           0.6318293626568834,
           0.33161636872190353,
           0.3092826963449064,
           0.39404145811467534,
           0.4238518216862458,
           0.47475857141873395,
           0.4055956053214099,
           0.5080719691701445,
           0.4177659329278197,
           0.6712224678116783,
           0.4089543075904942,
           0.5949247581314804,
           0.5016282871855482,
           0.3964765656576672,
           0.4600747569860877,
           0.3051997610573013,
           0.5070577989223696,
           0.21207494201175153,
           1,
           0.4096116644576551,
           0.4408513873397536,
           0.498414715219779,
           0.49568522854413233,
           0.44799572535487914,
           0.3330921415357616,
           0.45896111780665955,
           0.37853456445372213,
           0.39153705063771205,
           0.4701127200913614,
           0.38077151074937593,
           0.6971441770821603,
           0.48294155704967323,
           0.48775780000945,
           0.5388871240898598,
           0.42327657736931845,
           0.5133735435418905,
           0.4403766625480937,
           0.33718259322167565,
           0.5808091082493951,
           0.546002464937078,
           0.5244638297773196,
           0.4597966643904198,
           0.36483089320596196,
           0.5025104003927217,
           0.3174661290806809,
           0.5115336896362161,
           0.5583778834129842,
           0.5354221655620889
          ],
          [
           0.5405445234122837,
           0.5275017650434799,
           0.4691312033242987,
           0.37954416610315145,
           0.26238672722968787,
           0.3035361639760059,
           0.38300929303641673,
           0.5277757115093854,
           0.6080165302914471,
           0.36868559148110996,
           0.7246910398090859,
           0.4403083115877676,
           0.47488694114452457,
           0.5035396929930519,
           0.31831039968528296,
           0.4152529605269911,
           0.3784637257927507,
           0.38371967360369946,
           0.33323528002865777,
           0.4007996205188657,
           0.165037845793058,
           0.4096116644576551,
           1.0000000000000002,
           0.48993510093752035,
           0.45197204674741753,
           0.5473348907777491,
           0.383361976159883,
           0.2591886131549742,
           0.3487684673890841,
           0.4753064925471322,
           0.3332754129436411,
           0.31036495730081154,
           0.3739733848728226,
           0.38760129719645203,
           0.415726642064303,
           0.458117645142052,
           0.5873625131347752,
           0.4545963854313918,
           0.4725871535182268,
           0.3413055280300471,
           0.34843683127388464,
           0.4164204172204734,
           0.6437452525267948,
           0.4849252907206968,
           0.4219516903952155,
           0.38616937336664015,
           0.4761720873181512,
           0.3831011318058137,
           0.5161690190130567,
           0.5143450546247399,
           0.46397861403182955
          ],
          [
           0.6458407929082485,
           0.6163216658400326,
           0.6558592944275682,
           0.5391394124463764,
           0.3946400440778859,
           0.5336551437517432,
           0.3991929733564548,
           0.5351133481981103,
           0.5377990217210784,
           0.42865244673366354,
           0.5069059113919313,
           0.5724113598220898,
           0.4783485910201324,
           0.4099738173929822,
           0.4745197473368993,
           0.5770176111220581,
           0.37718580858423617,
           0.6089781295443413,
           0.38618541690936714,
           0.4567362944884378,
           0.37827021513754855,
           0.4408513873397536,
           0.48993510093752035,
           1,
           0.5073155910468458,
           0.4747000611165788,
           0.46696178600645644,
           0.33723981210472104,
           0.4922898566608776,
           0.5132780298502738,
           0.3795838338251918,
           0.4306204091052309,
           0.43015441938161436,
           0.45684122255978343,
           0.47857317227420726,
           0.48095491980870597,
           0.505208060101124,
           0.44789060789452817,
           0.5122238268983125,
           0.6024278781535848,
           0.4246043517278105,
           0.6439730213305637,
           0.5819089208186872,
           0.5930009366410363,
           0.39209975060343044,
           0.453595665707567,
           0.5100440999245346,
           0.4371367029680814,
           0.4645916594402555,
           0.6316129529260975,
           0.5099304533024871
          ],
          [
           0.6730939667797867,
           0.6692176266259903,
           0.5999357234352651,
           0.49910307611114146,
           0.3574989216755192,
           0.4149748326874668,
           0.3591132671619648,
           0.5096263753867426,
           0.4980281859876635,
           0.47707306376239855,
           0.5264565337491435,
           0.43582042402008325,
           0.49419190511408273,
           0.3822085471209159,
           0.42226389602762915,
           0.49695583379229535,
           0.4224407311570893,
           0.4711911893570499,
           0.41868036232209754,
           0.4522150120852052,
           0.25987713159529274,
           0.498414715219779,
           0.45197204674741753,
           0.5073155910468458,
           0.9999999999999988,
           0.42746105963164005,
           0.45820030634825176,
           0.5861927720591248,
           0.52057684508734,
           0.6206703780648217,
           0.3730116849980234,
           0.4966317589349742,
           0.5027456327096688,
           0.49865274147475935,
           0.36732464145167104,
           0.5942391388835976,
           0.5192807058018908,
           0.43251945556551535,
           0.5851786635962546,
           0.5667494342958856,
           0.7315277994816698,
           0.4843346146386387,
           0.5407398596763203,
           0.42171615098051773,
           0.64316675818555,
           0.4890599754552347,
           0.4677015298377043,
           0.5483289250833544,
           0.5018983863327263,
           0.4707301795293398,
           0.5872746244270556
          ],
          [
           0.6122998550042111,
           0.5935964585823179,
           0.5712526392284782,
           0.55291461077134,
           0.39772441157394123,
           0.3788529383867485,
           0.4452679034700759,
           0.4971266860668937,
           0.7312160215064246,
           0.44315127869548043,
           0.6297357611405321,
           0.4796981182842678,
           0.61125522804109,
           0.6078793862674479,
           0.45167545967534684,
           0.4600577254750191,
           0.4777552603247903,
           0.45323920775400284,
           0.32465664705329783,
           0.4373594251609769,
           0.185140229926461,
           0.49568522854413233,
           0.5473348907777491,
           0.4747000611165788,
           0.42746105963164005,
           1.0000000000000002,
           0.43736993841290805,
           0.31365427132566065,
           0.38041615455046407,
           0.3928858997482789,
           0.5243348162891971,
           0.34216020631524874,
           0.4908477303828416,
           0.5486734800106688,
           0.47669733037001505,
           0.42596093981099675,
           0.6499161609726292,
           0.43136107457135014,
           0.5162415268158455,
           0.46415638597880615,
           0.40923174875992974,
           0.46885781053452524,
           0.5808923002036528,
           0.47831669705589297,
           0.49193179557315414,
           0.4411960898137919,
           0.514984942217592,
           0.40966655262846663,
           0.4668134670465556,
           0.5063437807632178,
           0.5373275245815874
          ],
          [
           0.5939840153038283,
           0.5421501874394261,
           0.5733446997447981,
           0.4699551115024727,
           0.3700298398971653,
           0.3409119998625829,
           0.34839273982148306,
           0.4849673881802302,
           0.4628682949161738,
           0.4452061278573075,
           0.4256878178209995,
           0.39006988375836604,
           0.47902468810891896,
           0.3744124396605001,
           0.4353771373616029,
           0.5301866072676479,
           0.29489899992622626,
           0.4167707157924845,
           0.35663979487787945,
           0.3986307229077536,
           0.27935329660833,
           0.44799572535487914,
           0.383361976159883,
           0.46696178600645644,
           0.45820030634825176,
           0.43736993841290805,
           1,
           0.2994110223486914,
           0.5062654645581813,
           0.44698201645416225,
           0.3911959306441998,
           0.42894287082868277,
           0.4381377372428542,
           0.4037513975655564,
           0.44721129187104014,
           0.4591010675284959,
           0.4364526527656924,
           0.454663576515672,
           0.49468033185718646,
           0.5159333735600903,
           0.3875721691162348,
           0.46612008360012525,
           0.5084642660157239,
           0.4404126409339193,
           0.43420672328394955,
           0.5323177005609696,
           0.47405015665770184,
           0.3337799268934289,
           0.46629456800085295,
           0.4489118067732241,
           0.4301095943750488
          ],
          [
           0.4831066970028455,
           0.4541683187018588,
           0.4605331619378239,
           0.2873665759184714,
           0.19473065186119629,
           0.6087526440871645,
           0.26656453971713134,
           0.28762868754426685,
           0.307235842311535,
           0.29290066858506386,
           0.27393167111339434,
           0.351747452994966,
           0.28500422990493285,
           0.3118513456819909,
           0.23101491140366492,
           0.4048379513843485,
           0.2867253555747809,
           0.3521974196495313,
           0.4104936364465087,
           0.3143434777664514,
           0.21552780449973236,
           0.3330921415357616,
           0.2591886131549742,
           0.33723981210472104,
           0.5861927720591248,
           0.31365427132566065,
           0.2994110223486914,
           0.9999999999999993,
           0.25110772762293404,
           0.46437747730177015,
           0.31318058983490804,
           0.3687685226599253,
           0.3354485719803522,
           0.33236959046441605,
           0.2730969127964419,
           0.32496892542289557,
           0.3518947188054923,
           0.3119572793150693,
           0.4634042529601019,
           0.48868413176571834,
           0.7208849257693761,
           0.38858471114555565,
           0.3349568031004784,
           0.2787248277084018,
           0.6230977929558653,
           0.28777983465407686,
           0.3381147067709126,
           0.45270150827716205,
           0.3448058905396158,
           0.3271007038805611,
           0.33384683429500406
          ],
          [
           0.6025856009274166,
           0.5723487664552298,
           0.5432786982114002,
           0.4763298284904649,
           0.363309348999612,
           0.3657678660120215,
           0.41672386893885505,
           0.5299832702023011,
           0.4782250486155195,
           0.4031345853469459,
           0.476056481179142,
           0.45397671522467814,
           0.490897113187045,
           0.43579844097771814,
           0.5218125111544051,
           0.4940194466337171,
           0.31223823615869994,
           0.44972914919301465,
           0.40267836354592296,
           0.3820117673721902,
           0.23419889670147895,
           0.45896111780665955,
           0.3487684673890841,
           0.4922898566608776,
           0.52057684508734,
           0.38041615455046407,
           0.5062654645581813,
           0.25110772762293404,
           0.9999999999999996,
           0.40704542029149615,
           0.3551120381236744,
           0.47474206099741073,
           0.33735151460407575,
           0.41925363852144304,
           0.40023444824744336,
           0.5700408445144596,
           0.3948057389956361,
           0.3793812230805501,
           0.4966222838735845,
           0.4554767507778462,
           0.3093337506591295,
           0.4927899840542187,
           0.491263198900296,
           0.47433579196614906,
           0.5611865600376851,
           0.4974813668414161,
           0.3825218979716359,
           0.30928955537137515,
           0.5174544606201928,
           0.4538772748704259,
           0.5834183298479458
          ],
          [
           0.5911668157791485,
           0.5665579332633763,
           0.5419793869868132,
           0.36660766316432714,
           0.2785146179886286,
           0.4336244808653452,
           0.3126078780352157,
           0.388187743552743,
           0.5276231155349067,
           0.4209413078847319,
           0.5163890846591129,
           0.4997336137329077,
           0.3966170980436376,
           0.32298290097769633,
           0.4309485972960986,
           0.49176563562888465,
           0.3643509082351251,
           0.43587250663443333,
           0.44422679598152104,
           0.5204776469863498,
           0.2605678539137507,
           0.37853456445372213,
           0.4753064925471322,
           0.5132780298502738,
           0.6206703780648217,
           0.3928858997482789,
           0.44698201645416225,
           0.46437747730177015,
           0.40704542029149615,
           0.9999999999999999,
           0.3659318273717824,
           0.41742269797378523,
           0.3690513216211528,
           0.44798010731157045,
           0.4020284278358355,
           0.42983425737960945,
           0.47523507276306987,
           0.42305591356109057,
           0.48651776368969946,
           0.5058579758009316,
           0.5705973832894439,
           0.4654115198640586,
           0.5457655640733018,
           0.4625274313619798,
           0.4802287686934201,
           0.4009770269439749,
           0.45617341512792,
           0.4889139507178344,
           0.4434992703117132,
           0.5299985826506735,
           0.45246527824767757
          ],
          [
           0.5864245632328857,
           0.571149715081049,
           0.5122827574488642,
           0.4034059433497337,
           0.24783118183740055,
           0.36630230683159043,
           0.6407901660730144,
           0.4100232669567516,
           0.4626687109770894,
           0.4294278254169153,
           0.4223665521780063,
           0.44413820756667455,
           0.4921331378667625,
           0.26717585513199865,
           0.3443844743615147,
           0.3631231859694909,
           0.4024809812456752,
           0.44682032060259186,
           0.3801219968545163,
           0.40039861484771555,
           0.18563274614709185,
           0.39153705063771205,
           0.3332754129436411,
           0.3795838338251918,
           0.3730116849980234,
           0.5243348162891971,
           0.3911959306441998,
           0.31318058983490804,
           0.3551120381236744,
           0.3659318273717824,
           0.9999999999999998,
           0.3619066241053644,
           0.33633748651151396,
           0.37956919972833714,
           0.4249303072535052,
           0.34675744948715376,
           0.3777770752488242,
           0.3212510447122611,
           0.5005952108087672,
           0.4621459633301967,
           0.3314823605800472,
           0.4479637907398838,
           0.46829184932050544,
           0.44193422742254307,
           0.41832330798908474,
           0.38775725555250873,
           0.5421634496906542,
           0.23180314888540754,
           0.4279474881533503,
           0.45435069296504965,
           0.46592222460168936
          ],
          [
           0.6214348634975424,
           0.62694336058575,
           0.579951529137118,
           0.4717821289027484,
           0.38967773409079987,
           0.38126385877575875,
           0.356780237910724,
           0.4283321249109897,
           0.42324404141278665,
           0.37038089526678597,
           0.4136475493123708,
           0.427900192988604,
           0.4039890583406558,
           0.41774000932099475,
           0.4248817316264373,
           0.5853840977212523,
           0.33952428601139933,
           0.45127344071099257,
           0.2997496946624249,
           0.41746754451591817,
           0.15757950114483887,
           0.4701127200913614,
           0.31036495730081154,
           0.4306204091052309,
           0.4966317589349742,
           0.34216020631524874,
           0.42894287082868277,
           0.3687685226599253,
           0.47474206099741073,
           0.41742269797378523,
           0.3619066241053644,
           0.9999999999999998,
           0.48928787139796814,
           0.4545402963296302,
           0.33027819963201593,
           0.39468176605097816,
           0.47703446944815336,
           0.4316932261460651,
           0.4620637049325277,
           0.5656095987729938,
           0.5247206553274681,
           0.5023052965681228,
           0.5252146757191158,
           0.45023698850343286,
           0.5558216271001776,
           0.42751813537686606,
           0.464845142643896,
           0.3672307785655708,
           0.43560412902340695,
           0.5124873902549076,
           0.4918875203398242
          ],
          [
           0.5263252820481741,
           0.5205889769093777,
           0.45341419591824683,
           0.4788706895990228,
           0.42837215793949635,
           0.2898405621827287,
           0.3264745422817445,
           0.5364241762368822,
           0.45068638206519035,
           0.4507896301717683,
           0.4499428363213901,
           0.37982995310965373,
           0.4680089361312937,
           0.4663520795745287,
           0.33235137503004647,
           0.41715191910942817,
           0.3948239489875535,
           0.35825408921532803,
           0.33872832010033077,
           0.38609476585392133,
           0.16296618803684737,
           0.38077151074937593,
           0.3739733848728226,
           0.43015441938161436,
           0.5027456327096688,
           0.4908477303828416,
           0.4381377372428542,
           0.3354485719803522,
           0.33735151460407575,
           0.3690513216211528,
           0.33633748651151396,
           0.48928787139796814,
           1,
           0.49709660827934754,
           0.3466652198530618,
           0.3793114262197432,
           0.5483909319634312,
           0.3121156674528238,
           0.4522131956816211,
           0.43753150678747366,
           0.46177646051032883,
           0.3599464258069068,
           0.4563499034476849,
           0.4903915273915104,
           0.407381564886123,
           0.4629894524201277,
           0.5294009358858762,
           0.44018539402116275,
           0.5065487111518026,
           0.35140054151929057,
           0.4790969562483576
          ],
          [
           0.6795301075461829,
           0.6849521318368029,
           0.5912805507608115,
           0.6309442544498427,
           0.3152034454651686,
           0.3125319659788049,
           0.4289553362557772,
           0.5137272016643673,
           0.4556116911683994,
           0.4946583161188797,
           0.503171237653552,
           0.4389788488900697,
           0.6322774467996968,
           0.4737308550533561,
           0.617240612539071,
           0.528365458829209,
           0.4084860420303533,
           0.46840983191332175,
           0.31528706523007843,
           0.5751960960282182,
           0.20164615861882892,
           0.6971441770821603,
           0.38760129719645203,
           0.45684122255978343,
           0.49865274147475935,
           0.5486734800106688,
           0.4037513975655564,
           0.33236959046441605,
           0.41925363852144304,
           0.44798010731157045,
           0.37956919972833714,
           0.4545402963296302,
           0.49709660827934754,
           0.9999999999999998,
           0.4416778902255245,
           0.4479118291242813,
           0.5507934851472504,
           0.4147273104806352,
           0.5302957429916371,
           0.475010812746963,
           0.4345519622546312,
           0.44726889527299435,
           0.5207176510738392,
           0.6671580242748082,
           0.4834999408446048,
           0.4468654007769731,
           0.5502236120814875,
           0.430284476632843,
           0.5273474028620653,
           0.5404698638391303,
           0.6040671593983734
          ],
          [
           0.6652444913454049,
           0.5558296225828123,
           0.592248981970586,
           0.5465583972599675,
           0.37460974878082687,
           0.355211369658952,
           0.40117484091766537,
           0.45922644693567133,
           0.5118065512682178,
           0.39868461806069216,
           0.4706810788119586,
           0.4235682566468813,
           0.6034925780751863,
           0.37608157525055397,
           0.4163925644302056,
           0.5435607319432931,
           0.3440848874330329,
           0.500786447224403,
           0.34735870155882465,
           0.4523174434832356,
           0.19537520848958886,
           0.48294155704967323,
           0.415726642064303,
           0.47857317227420726,
           0.36732464145167104,
           0.47669733037001505,
           0.44721129187104014,
           0.2730969127964419,
           0.40023444824744336,
           0.4020284278358355,
           0.4249303072535052,
           0.33027819963201593,
           0.3466652198530618,
           0.4416778902255245,
           1.0000000000000007,
           0.42004407271370536,
           0.4623533707413353,
           0.38260387929215606,
           0.5000944107063422,
           0.4428898249451199,
           0.2738224943729772,
           0.39104078667632636,
           0.48834353017155163,
           0.6053027083794567,
           0.3011397236844489,
           0.360713936373063,
           0.6157960491070946,
           0.34284698643547035,
           0.43275823299147403,
           0.5231486267277109,
           0.49169432683722125
          ],
          [
           0.6374878980200696,
           0.6308531476725059,
           0.5405902855282627,
           0.508911770503685,
           0.31939999212007286,
           0.33763928518147374,
           0.4327234803814437,
           0.5805766410133548,
           0.45785564064311135,
           0.37441595164149727,
           0.5033235386978272,
           0.4650995694709863,
           0.5426985782800378,
           0.5083189258698892,
           0.4180068788278635,
           0.4967224591702527,
           0.3218118379524895,
           0.48160141436396847,
           0.40632115031913774,
           0.4389053161791132,
           0.2178096959736341,
           0.48775780000945,
           0.458117645142052,
           0.48095491980870597,
           0.5942391388835976,
           0.42596093981099675,
           0.4591010675284959,
           0.32496892542289557,
           0.5700408445144596,
           0.42983425737960945,
           0.34675744948715376,
           0.39468176605097816,
           0.3793114262197432,
           0.4479118291242813,
           0.42004407271370536,
           0.9999999999999996,
           0.4591045034516634,
           0.425417896352821,
           0.5640851439856474,
           0.4587140738154428,
           0.42400237728871243,
           0.5125357115503981,
           0.49978112258231844,
           0.48338581802569663,
           0.43928271698560106,
           0.5205644623926696,
           0.5070902298593933,
           0.6618127880422863,
           0.44928333116745994,
           0.5268453794541323,
           0.5680481617237094
          ],
          [
           0.6944541435337168,
           0.6987199179941039,
           0.5814554499505779,
           0.47273804345988324,
           0.32015129064789605,
           0.3641123004713805,
           0.36695223115125447,
           0.4952119318022574,
           0.6037407588185125,
           0.4510902373762916,
           0.6384793913557287,
           0.4727345326673173,
           0.5838595808230856,
           0.4585482547799167,
           0.49126981723822327,
           0.5075758994408506,
           0.4491177492329435,
           0.43650966898624843,
           0.31782685534967803,
           0.49037713071394695,
           0.1874596423825198,
           0.5388871240898598,
           0.5873625131347752,
           0.505208060101124,
           0.5192807058018908,
           0.6499161609726292,
           0.4364526527656924,
           0.3518947188054923,
           0.3948057389956361,
           0.47523507276306987,
           0.3777770752488242,
           0.47703446944815336,
           0.5483909319634312,
           0.5507934851472504,
           0.4623533707413353,
           0.4591045034516634,
           1.0000000000000009,
           0.4401675787132814,
           0.5068238090400362,
           0.5005057056058131,
           0.4088443899158243,
           0.459300697579467,
           0.8217602783434745,
           0.5012143071666922,
           0.5534631451634658,
           0.41640101279383435,
           0.516180579231149,
           0.4650774651400653,
           0.5588553935415673,
           0.5683503328773938,
           0.5772743982536099
          ],
          [
           0.5585722889129044,
           0.533346724202183,
           0.5181018934286593,
           0.3811050132396923,
           0.33102403818203263,
           0.333771042784489,
           0.30331640917462627,
           0.44507535091121625,
           0.4663079501025838,
           0.3284033243294793,
           0.4876324109639141,
           0.4296868827838018,
           0.42413305232476367,
           0.31903524576203557,
           0.3720078097103384,
           0.5968086035577443,
           0.3008586478512979,
           0.4445333179073474,
           0.3088225247478242,
           0.39417091055761616,
           0.23416307430249717,
           0.42327657736931845,
           0.4545963854313918,
           0.44789060789452817,
           0.43251945556551535,
           0.43136107457135014,
           0.454663576515672,
           0.3119572793150693,
           0.3793812230805501,
           0.42305591356109057,
           0.3212510447122611,
           0.4316932261460651,
           0.3121156674528238,
           0.4147273104806352,
           0.38260387929215606,
           0.425417896352821,
           0.4401675787132814,
           0.9999999999999998,
           0.38310188638231957,
           0.44576796053012147,
           0.4018492668834862,
           0.4061586842828114,
           0.4187764765750809,
           0.4989459402643833,
           0.4472972457706048,
           0.309563080212178,
           0.4691458320277606,
           0.39819998413571067,
           0.47377297524618683,
           0.4912651527713645,
           0.34852644483425194
          ],
          [
           0.7241871017945543,
           0.7163057306707981,
           0.6418899786039861,
           0.5585079655859363,
           0.329799444651933,
           0.44309029867737804,
           0.447369906594527,
           0.6194632879669943,
           0.551812055082044,
           0.44665967914379534,
           0.5859845192193432,
           0.5142527858600355,
           0.632805238044559,
           0.4561035242393345,
           0.44749103196283346,
           0.5252166748968412,
           0.48757450397565766,
           0.588872629574496,
           0.43554518208191007,
           0.5164304831071524,
           0.24962655477500534,
           0.5133735435418905,
           0.4725871535182268,
           0.5122238268983125,
           0.5851786635962546,
           0.5162415268158455,
           0.49468033185718646,
           0.4634042529601019,
           0.4966222838735845,
           0.48651776368969946,
           0.5005952108087672,
           0.4620637049325277,
           0.4522131956816211,
           0.5302957429916371,
           0.5000944107063422,
           0.5640851439856474,
           0.5068238090400362,
           0.38310188638231957,
           1.0000000000000004,
           0.5549189722782462,
           0.5046442350062348,
           0.4768067043000628,
           0.5231356487600086,
           0.5331694843431147,
           0.5088493655939023,
           0.6162538445150583,
           0.5963978258017437,
           0.448544333603722,
           0.6406941891982496,
           0.5527858724049597,
           0.5688672920992633
          ],
          [
           0.6622489970728677,
           0.6232321127258573,
           0.6572802643875069,
           0.4598964472023304,
           0.36675284636619543,
           0.571952029647627,
           0.42970643690936455,
           0.5620243633534489,
           0.47774133893529414,
           0.4261488397275017,
           0.4524458349189254,
           0.6726729446559464,
           0.5326858883596131,
           0.4015988031690585,
           0.43800058148385124,
           0.6458356105822738,
           0.35290868750886145,
           0.5282599552268095,
           0.4262418678072797,
           0.4914527516723982,
           0.3784028337460457,
           0.4403766625480937,
           0.3413055280300471,
           0.6024278781535848,
           0.5667494342958856,
           0.46415638597880615,
           0.5159333735600903,
           0.48868413176571834,
           0.4554767507778462,
           0.5058579758009316,
           0.4621459633301967,
           0.5656095987729938,
           0.43753150678747366,
           0.475010812746963,
           0.4428898249451199,
           0.4587140738154428,
           0.5005057056058131,
           0.44576796053012147,
           0.5549189722782462,
           1.0000000000000002,
           0.484177237200878,
           0.5855063974140942,
           0.5222045914808178,
           0.5463502268115694,
           0.5186949709575684,
           0.48199812193924224,
           0.5559027144820666,
           0.530994814983538,
           0.4671416817999864,
           0.5518853966831991,
           0.4758480255912293
          ],
          [
           0.542083775504828,
           0.5316204113280303,
           0.5284851249623761,
           0.37552041921803647,
           0.24578512288729187,
           0.40667336652001046,
           0.2755359110100921,
           0.3400081267556223,
           0.4294744322981267,
           0.36585444374715276,
           0.37455323709494465,
           0.3762845781735332,
           0.30274641410564745,
           0.4058491075087285,
           0.26368082765635187,
           0.43690323803429154,
           0.355801376112187,
           0.40445835946839315,
           0.34026377492947,
           0.3312238564524437,
           0.20642240235984222,
           0.33718259322167565,
           0.34843683127388464,
           0.4246043517278105,
           0.7315277994816698,
           0.40923174875992974,
           0.3875721691162348,
           0.7208849257693761,
           0.3093337506591295,
           0.5705973832894439,
           0.3314823605800472,
           0.5247206553274681,
           0.46177646051032883,
           0.4345519622546312,
           0.2738224943729772,
           0.42400237728871243,
           0.4088443899158243,
           0.4018492668834862,
           0.5046442350062348,
           0.484177237200878,
           0.9999999999999997,
           0.45196851438176866,
           0.4002465511294112,
           0.3782864609300835,
           0.6057816874781357,
           0.3817162665241668,
           0.3798965291446549,
           0.5050349902926877,
           0.4075429637244413,
           0.3968797013854488,
           0.4229728994868488
          ],
          [
           0.6125029225574081,
           0.5957475232894537,
           0.6365438518560947,
           0.5155580255505376,
           0.24658148992475215,
           0.4273063193834663,
           0.4099173645364695,
           0.42420960833086296,
           0.5002690505082843,
           0.366308812528089,
           0.48347315769549926,
           0.6337220474117577,
           0.44254614237094425,
           0.4073323614577238,
           0.4031051898284403,
           0.5006693003295936,
           0.3893094289875777,
           0.5403193856768862,
           0.36926559816849963,
           0.3663400124859733,
           0.32452626763768294,
           0.5808091082493951,
           0.4164204172204734,
           0.6439730213305637,
           0.4843346146386387,
           0.46885781053452524,
           0.46612008360012525,
           0.38858471114555565,
           0.4927899840542187,
           0.4654115198640586,
           0.4479637907398838,
           0.5023052965681228,
           0.3599464258069068,
           0.44726889527299435,
           0.39104078667632636,
           0.5125357115503981,
           0.459300697579467,
           0.4061586842828114,
           0.4768067043000628,
           0.5855063974140942,
           0.45196851438176866,
           0.9999999999999996,
           0.5556152499072887,
           0.5299083055720519,
           0.48088724962777907,
           0.4311878160554081,
           0.45043568897247077,
           0.41595670695453135,
           0.41463855975694636,
           0.6547571270529182,
           0.4968476179159968
          ],
          [
           0.7295960504490097,
           0.7370862938620636,
           0.6358034280459536,
           0.5162832020964974,
           0.369544397083991,
           0.34965204761977886,
           0.4240114535488463,
           0.5446435969634579,
           0.632702841220681,
           0.5441373108272032,
           0.6840453598144696,
           0.5153858787578494,
           0.5913147141353818,
           0.46792888023107715,
           0.5083880902946533,
           0.4932501479975543,
           0.46654317524799743,
           0.4727688886882988,
           0.42265155037259317,
           0.4749122163749968,
           0.23644662077878847,
           0.546002464937078,
           0.6437452525267948,
           0.5819089208186872,
           0.5407398596763203,
           0.5808923002036528,
           0.5084642660157239,
           0.3349568031004784,
           0.491263198900296,
           0.5457655640733018,
           0.46829184932050544,
           0.5252146757191158,
           0.4563499034476849,
           0.5207176510738392,
           0.48834353017155163,
           0.49978112258231844,
           0.8217602783434745,
           0.4187764765750809,
           0.5231356487600086,
           0.5222045914808178,
           0.4002465511294112,
           0.5556152499072887,
           1.0000000000000002,
           0.5035268654086577,
           0.5485801980374112,
           0.467281291986471,
           0.586057873484835,
           0.39698504372516064,
           0.5551579801397739,
           0.6326956901072752,
           0.6314665954358165
          ],
          [
           0.673025014144147,
           0.6055272310458316,
           0.6422562219872796,
           0.654373817464441,
           0.386329725335405,
           0.4414384598436344,
           0.5145683178697237,
           0.5757926376859646,
           0.4993928955395453,
           0.4035180992053974,
           0.4842568210975349,
           0.526103155184852,
           0.678889804828713,
           0.431970184088739,
           0.4859153949255716,
           0.6063687091329801,
           0.4054511845991658,
           0.5498744383397882,
           0.3945913029246515,
           0.4907974364976053,
           0.27574400002010147,
           0.5244638297773196,
           0.4849252907206968,
           0.5930009366410363,
           0.42171615098051773,
           0.47831669705589297,
           0.4404126409339193,
           0.2787248277084018,
           0.47433579196614906,
           0.4625274313619798,
           0.44193422742254307,
           0.45023698850343286,
           0.4903915273915104,
           0.6671580242748082,
           0.6053027083794567,
           0.48338581802569663,
           0.5012143071666922,
           0.4989459402643833,
           0.5331694843431147,
           0.5463502268115694,
           0.3782864609300835,
           0.5299083055720519,
           0.5035268654086577,
           1.0000000000000004,
           0.3795772257121285,
           0.47987241327189323,
           0.5489018620264566,
           0.49117839033363964,
           0.48506155392232564,
           0.6435345036034932,
           0.5161901922404661
          ],
          [
           0.6297823873859538,
           0.6317144657992957,
           0.5471745628200153,
           0.4499911119002543,
           0.29360591075159237,
           0.47120623021584174,
           0.39308103215966933,
           0.4511317503915202,
           0.4767495607557982,
           0.3935062080006567,
           0.42742541164167913,
           0.4489343897743443,
           0.43259182831620513,
           0.42889648186244744,
           0.424046314567561,
           0.5480053890548994,
           0.3726649084036122,
           0.4790476850584109,
           0.38061609886807946,
           0.438189905345436,
           0.18383694544688065,
           0.4597966643904198,
           0.4219516903952155,
           0.39209975060343044,
           0.64316675818555,
           0.49193179557315414,
           0.43420672328394955,
           0.6230977929558653,
           0.5611865600376851,
           0.4802287686934201,
           0.41832330798908474,
           0.5558216271001776,
           0.407381564886123,
           0.4834999408446048,
           0.3011397236844489,
           0.43928271698560106,
           0.5534631451634658,
           0.4472972457706048,
           0.5088493655939023,
           0.5186949709575684,
           0.6057816874781357,
           0.48088724962777907,
           0.5485801980374112,
           0.3795772257121285,
           0.9999999999999999,
           0.438599796248477,
           0.4181812437275858,
           0.3871227872420201,
           0.5070668542795715,
           0.48299211099353023,
           0.49460227644310506
          ],
          [
           0.5802207221436132,
           0.5591195204401608,
           0.5433109503082469,
           0.5242973013208161,
           0.34706497517475177,
           0.3817479255608978,
           0.39415478712918545,
           0.6347288095372874,
           0.4950444143898085,
           0.3306550615211792,
           0.48066104398296405,
           0.4108282844977297,
           0.5037303232474575,
           0.40180241682503104,
           0.42032514951091093,
           0.4614749881366445,
           0.4430814090918269,
           0.3957516046803753,
           0.3775816973732594,
           0.45017217579457747,
           0.16722082014568876,
           0.36483089320596196,
           0.38616937336664015,
           0.453595665707567,
           0.4890599754552347,
           0.4411960898137919,
           0.5323177005609696,
           0.28777983465407686,
           0.4974813668414161,
           0.4009770269439749,
           0.38775725555250873,
           0.42751813537686606,
           0.4629894524201277,
           0.4468654007769731,
           0.360713936373063,
           0.5205644623926696,
           0.41640101279383435,
           0.309563080212178,
           0.6162538445150583,
           0.48199812193924224,
           0.3817162665241668,
           0.4311878160554081,
           0.467281291986471,
           0.47987241327189323,
           0.438599796248477,
           0.9999999999999989,
           0.4965517703325901,
           0.394006103225475,
           0.4486045016740249,
           0.4102507692755105,
           0.4574782528400705
          ],
          [
           0.6948758994191493,
           0.7085993316383142,
           0.6171334366955004,
           0.605438630045075,
           0.3882730069838681,
           0.3327539955575877,
           0.4217784116021154,
           0.6044377389552019,
           0.4958781413689475,
           0.46982626934719746,
           0.5147069604780413,
           0.4746374194535933,
           0.614907240208479,
           0.5299019190176076,
           0.4199116150004382,
           0.5383048885636326,
           0.43798876068714865,
           0.4884277446429586,
           0.45436793466765346,
           0.47813293174745863,
           0.19479047114181852,
           0.5025104003927217,
           0.4761720873181512,
           0.5100440999245346,
           0.4677015298377043,
           0.514984942217592,
           0.47405015665770184,
           0.3381147067709126,
           0.3825218979716359,
           0.45617341512792,
           0.5421634496906542,
           0.464845142643896,
           0.5294009358858762,
           0.5502236120814875,
           0.6157960491070946,
           0.5070902298593933,
           0.516180579231149,
           0.4691458320277606,
           0.5963978258017437,
           0.5559027144820666,
           0.3798965291446549,
           0.45043568897247077,
           0.586057873484835,
           0.5489018620264566,
           0.4181812437275858,
           0.4965517703325901,
           0.9999999999999991,
           0.40912683282788664,
           0.6716472217381395,
           0.5687100881636695,
           0.540076556359436
          ],
          [
           0.5163147952958971,
           0.5120540188212543,
           0.47296453620172224,
           0.44142586862917066,
           0.29413432590199884,
           0.43891622221110904,
           0.2787497694885769,
           0.4790422780135919,
           0.4164976693546938,
           0.2965725921549793,
           0.42094005025324593,
           0.48363161759726625,
           0.4387928479713248,
           0.35613362670788995,
           0.32454345339159674,
           0.44403846503340094,
           0.3043043913464485,
           0.3728324651261701,
           0.3135686431873399,
           0.36550204850044005,
           0.14348330296947454,
           0.3174661290806809,
           0.3831011318058137,
           0.4371367029680814,
           0.5483289250833544,
           0.40966655262846663,
           0.3337799268934289,
           0.45270150827716205,
           0.30928955537137515,
           0.4889139507178344,
           0.23180314888540754,
           0.3672307785655708,
           0.44018539402116275,
           0.430284476632843,
           0.34284698643547035,
           0.6618127880422863,
           0.4650774651400653,
           0.39819998413571067,
           0.448544333603722,
           0.530994814983538,
           0.5050349902926877,
           0.41595670695453135,
           0.39698504372516064,
           0.49117839033363964,
           0.3871227872420201,
           0.394006103225475,
           0.40912683282788664,
           1.000000000000001,
           0.3002809480330847,
           0.446167142916468,
           0.39455816040956715
          ],
          [
           0.6762773198392755,
           0.6485283640160228,
           0.5838552457115391,
           0.4990092016849015,
           0.24775290493106156,
           0.3231105975159423,
           0.4336290540751567,
           0.5198115497731699,
           0.5221717865845301,
           0.4909005320400479,
           0.5629042734854072,
           0.3984607847916184,
           0.5607977079022131,
           0.45276643559358987,
           0.43749474673753974,
           0.48927435760882887,
           0.4617462897933037,
           0.5044912375893329,
           0.4262788624468932,
           0.49017483043717636,
           0.1622777869617542,
           0.5115336896362161,
           0.5161690190130567,
           0.4645916594402555,
           0.5018983863327263,
           0.4668134670465556,
           0.46629456800085295,
           0.3448058905396158,
           0.5174544606201928,
           0.4434992703117132,
           0.4279474881533503,
           0.43560412902340695,
           0.5065487111518026,
           0.5273474028620653,
           0.43275823299147403,
           0.44928333116745994,
           0.5588553935415673,
           0.47377297524618683,
           0.6406941891982496,
           0.4671416817999864,
           0.4075429637244413,
           0.41463855975694636,
           0.5551579801397739,
           0.48506155392232564,
           0.5070668542795715,
           0.4486045016740249,
           0.6716472217381395,
           0.3002809480330847,
           0.9999999999999997,
           0.5251466966572522,
           0.5671774879345262
          ],
          [
           0.7061401817046077,
           0.6865565474251727,
           0.6795876458489197,
           0.6030691514744998,
           0.3408315575812614,
           0.3822832048701017,
           0.4600684057049539,
           0.4950601240876054,
           0.5788284932007897,
           0.3984714251274788,
           0.5243826421937351,
           0.5924082525262226,
           0.5879321762664734,
           0.4422658619766838,
           0.5445977610043695,
           0.6905919559087093,
           0.5018566787122285,
           0.5929426931353808,
           0.389389734721506,
           0.48215302897318235,
           0.29292009271760683,
           0.5583778834129842,
           0.5143450546247399,
           0.6316129529260975,
           0.4707301795293398,
           0.5063437807632178,
           0.4489118067732241,
           0.3271007038805611,
           0.4538772748704259,
           0.5299985826506735,
           0.45435069296504965,
           0.5124873902549076,
           0.35140054151929057,
           0.5404698638391303,
           0.5231486267277109,
           0.5268453794541323,
           0.5683503328773938,
           0.4912651527713645,
           0.5527858724049597,
           0.5518853966831991,
           0.3968797013854488,
           0.6547571270529182,
           0.6326956901072752,
           0.6435345036034932,
           0.48299211099353023,
           0.4102507692755105,
           0.5687100881636695,
           0.446167142916468,
           0.5251466966572522,
           0.9999999999999991,
           0.5242425439654519
          ],
          [
           0.6938174246934303,
           0.6982406302267397,
           0.5929957256356326,
           0.602483722100847,
           0.3171182084693249,
           0.3351727065300143,
           0.4914312096826434,
           0.5675770323137103,
           0.5191890461993771,
           0.7164755131304629,
           0.5563168448722817,
           0.4811525792428911,
           0.5625318048443737,
           0.4165669349373426,
           0.46723496461924113,
           0.4712726130144174,
           0.5117257569093644,
           0.5135203848871731,
           0.37974177823448524,
           0.5225859385604952,
           0.20327102709122638,
           0.5354221655620889,
           0.46397861403182955,
           0.5099304533024871,
           0.5872746244270556,
           0.5373275245815874,
           0.4301095943750488,
           0.33384683429500406,
           0.5834183298479458,
           0.45246527824767757,
           0.46592222460168936,
           0.4918875203398242,
           0.4790969562483576,
           0.6040671593983734,
           0.49169432683722125,
           0.5680481617237094,
           0.5772743982536099,
           0.34852644483425194,
           0.5688672920992633,
           0.4758480255912293,
           0.4229728994868488,
           0.4968476179159968,
           0.6314665954358165,
           0.5161901922404661,
           0.49460227644310506,
           0.4574782528400705,
           0.540076556359436,
           0.39455816040956715,
           0.5671774879345262,
           0.5242425439654519,
           0.9999999999999997
          ]
         ]
        }
       ],
       "layout": {
        "coloraxis": {
         "colorbar": {
          "title": {
           "text": "Similarity Score"
          }
         },
         "colorscale": [
          [
           0,
           "rgb(247,252,240)"
          ],
          [
           0.125,
           "rgb(224,243,219)"
          ],
          [
           0.25,
           "rgb(204,235,197)"
          ],
          [
           0.375,
           "rgb(168,221,181)"
          ],
          [
           0.5,
           "rgb(123,204,196)"
          ],
          [
           0.625,
           "rgb(78,179,211)"
          ],
          [
           0.75,
           "rgb(43,140,190)"
          ],
          [
           0.875,
           "rgb(8,104,172)"
          ],
          [
           1,
           "rgb(8,64,129)"
          ]
         ]
        },
        "height": 800,
        "hoverlabel": {
         "bgcolor": "white",
         "font": {
          "family": "Rockwell",
          "size": 16
         }
        },
        "legend": {
         "title": {
          "text": "Trend"
         }
        },
        "margin": {
         "t": 60
        },
        "showlegend": true,
        "template": {
         "data": {
          "bar": [
           {
            "error_x": {
             "color": "#2a3f5f"
            },
            "error_y": {
             "color": "#2a3f5f"
            },
            "marker": {
             "line": {
              "color": "#E5ECF6",
              "width": 0.5
             },
             "pattern": {
              "fillmode": "overlay",
              "size": 10,
              "solidity": 0.2
             }
            },
            "type": "bar"
           }
          ],
          "barpolar": [
           {
            "marker": {
             "line": {
              "color": "#E5ECF6",
              "width": 0.5
             },
             "pattern": {
              "fillmode": "overlay",
              "size": 10,
              "solidity": 0.2
             }
            },
            "type": "barpolar"
           }
          ],
          "carpet": [
           {
            "aaxis": {
             "endlinecolor": "#2a3f5f",
             "gridcolor": "white",
             "linecolor": "white",
             "minorgridcolor": "white",
             "startlinecolor": "#2a3f5f"
            },
            "baxis": {
             "endlinecolor": "#2a3f5f",
             "gridcolor": "white",
             "linecolor": "white",
             "minorgridcolor": "white",
             "startlinecolor": "#2a3f5f"
            },
            "type": "carpet"
           }
          ],
          "choropleth": [
           {
            "colorbar": {
             "outlinewidth": 0,
             "ticks": ""
            },
            "type": "choropleth"
           }
          ],
          "contour": [
           {
            "colorbar": {
             "outlinewidth": 0,
             "ticks": ""
            },
            "colorscale": [
             [
              0,
              "#0d0887"
             ],
             [
              0.1111111111111111,
              "#46039f"
             ],
             [
              0.2222222222222222,
              "#7201a8"
             ],
             [
              0.3333333333333333,
              "#9c179e"
             ],
             [
              0.4444444444444444,
              "#bd3786"
             ],
             [
              0.5555555555555556,
              "#d8576b"
             ],
             [
              0.6666666666666666,
              "#ed7953"
             ],
             [
              0.7777777777777778,
              "#fb9f3a"
             ],
             [
              0.8888888888888888,
              "#fdca26"
             ],
             [
              1,
              "#f0f921"
             ]
            ],
            "type": "contour"
           }
          ],
          "contourcarpet": [
           {
            "colorbar": {
             "outlinewidth": 0,
             "ticks": ""
            },
            "type": "contourcarpet"
           }
          ],
          "heatmap": [
           {
            "colorbar": {
             "outlinewidth": 0,
             "ticks": ""
            },
            "colorscale": [
             [
              0,
              "#0d0887"
             ],
             [
              0.1111111111111111,
              "#46039f"
             ],
             [
              0.2222222222222222,
              "#7201a8"
             ],
             [
              0.3333333333333333,
              "#9c179e"
             ],
             [
              0.4444444444444444,
              "#bd3786"
             ],
             [
              0.5555555555555556,
              "#d8576b"
             ],
             [
              0.6666666666666666,
              "#ed7953"
             ],
             [
              0.7777777777777778,
              "#fb9f3a"
             ],
             [
              0.8888888888888888,
              "#fdca26"
             ],
             [
              1,
              "#f0f921"
             ]
            ],
            "type": "heatmap"
           }
          ],
          "heatmapgl": [
           {
            "colorbar": {
             "outlinewidth": 0,
             "ticks": ""
            },
            "colorscale": [
             [
              0,
              "#0d0887"
             ],
             [
              0.1111111111111111,
              "#46039f"
             ],
             [
              0.2222222222222222,
              "#7201a8"
             ],
             [
              0.3333333333333333,
              "#9c179e"
             ],
             [
              0.4444444444444444,
              "#bd3786"
             ],
             [
              0.5555555555555556,
              "#d8576b"
             ],
             [
              0.6666666666666666,
              "#ed7953"
             ],
             [
              0.7777777777777778,
              "#fb9f3a"
             ],
             [
              0.8888888888888888,
              "#fdca26"
             ],
             [
              1,
              "#f0f921"
             ]
            ],
            "type": "heatmapgl"
           }
          ],
          "histogram": [
           {
            "marker": {
             "pattern": {
              "fillmode": "overlay",
              "size": 10,
              "solidity": 0.2
             }
            },
            "type": "histogram"
           }
          ],
          "histogram2d": [
           {
            "colorbar": {
             "outlinewidth": 0,
             "ticks": ""
            },
            "colorscale": [
             [
              0,
              "#0d0887"
             ],
             [
              0.1111111111111111,
              "#46039f"
             ],
             [
              0.2222222222222222,
              "#7201a8"
             ],
             [
              0.3333333333333333,
              "#9c179e"
             ],
             [
              0.4444444444444444,
              "#bd3786"
             ],
             [
              0.5555555555555556,
              "#d8576b"
             ],
             [
              0.6666666666666666,
              "#ed7953"
             ],
             [
              0.7777777777777778,
              "#fb9f3a"
             ],
             [
              0.8888888888888888,
              "#fdca26"
             ],
             [
              1,
              "#f0f921"
             ]
            ],
            "type": "histogram2d"
           }
          ],
          "histogram2dcontour": [
           {
            "colorbar": {
             "outlinewidth": 0,
             "ticks": ""
            },
            "colorscale": [
             [
              0,
              "#0d0887"
             ],
             [
              0.1111111111111111,
              "#46039f"
             ],
             [
              0.2222222222222222,
              "#7201a8"
             ],
             [
              0.3333333333333333,
              "#9c179e"
             ],
             [
              0.4444444444444444,
              "#bd3786"
             ],
             [
              0.5555555555555556,
              "#d8576b"
             ],
             [
              0.6666666666666666,
              "#ed7953"
             ],
             [
              0.7777777777777778,
              "#fb9f3a"
             ],
             [
              0.8888888888888888,
              "#fdca26"
             ],
             [
              1,
              "#f0f921"
             ]
            ],
            "type": "histogram2dcontour"
           }
          ],
          "mesh3d": [
           {
            "colorbar": {
             "outlinewidth": 0,
             "ticks": ""
            },
            "type": "mesh3d"
           }
          ],
          "parcoords": [
           {
            "line": {
             "colorbar": {
              "outlinewidth": 0,
              "ticks": ""
             }
            },
            "type": "parcoords"
           }
          ],
          "pie": [
           {
            "automargin": true,
            "type": "pie"
           }
          ],
          "scatter": [
           {
            "fillpattern": {
             "fillmode": "overlay",
             "size": 10,
             "solidity": 0.2
            },
            "type": "scatter"
           }
          ],
          "scatter3d": [
           {
            "line": {
             "colorbar": {
              "outlinewidth": 0,
              "ticks": ""
             }
            },
            "marker": {
             "colorbar": {
              "outlinewidth": 0,
              "ticks": ""
             }
            },
            "type": "scatter3d"
           }
          ],
          "scattercarpet": [
           {
            "marker": {
             "colorbar": {
              "outlinewidth": 0,
              "ticks": ""
             }
            },
            "type": "scattercarpet"
           }
          ],
          "scattergeo": [
           {
            "marker": {
             "colorbar": {
              "outlinewidth": 0,
              "ticks": ""
             }
            },
            "type": "scattergeo"
           }
          ],
          "scattergl": [
           {
            "marker": {
             "colorbar": {
              "outlinewidth": 0,
              "ticks": ""
             }
            },
            "type": "scattergl"
           }
          ],
          "scattermapbox": [
           {
            "marker": {
             "colorbar": {
              "outlinewidth": 0,
              "ticks": ""
             }
            },
            "type": "scattermapbox"
           }
          ],
          "scatterpolar": [
           {
            "marker": {
             "colorbar": {
              "outlinewidth": 0,
              "ticks": ""
             }
            },
            "type": "scatterpolar"
           }
          ],
          "scatterpolargl": [
           {
            "marker": {
             "colorbar": {
              "outlinewidth": 0,
              "ticks": ""
             }
            },
            "type": "scatterpolargl"
           }
          ],
          "scatterternary": [
           {
            "marker": {
             "colorbar": {
              "outlinewidth": 0,
              "ticks": ""
             }
            },
            "type": "scatterternary"
           }
          ],
          "surface": [
           {
            "colorbar": {
             "outlinewidth": 0,
             "ticks": ""
            },
            "colorscale": [
             [
              0,
              "#0d0887"
             ],
             [
              0.1111111111111111,
              "#46039f"
             ],
             [
              0.2222222222222222,
              "#7201a8"
             ],
             [
              0.3333333333333333,
              "#9c179e"
             ],
             [
              0.4444444444444444,
              "#bd3786"
             ],
             [
              0.5555555555555556,
              "#d8576b"
             ],
             [
              0.6666666666666666,
              "#ed7953"
             ],
             [
              0.7777777777777778,
              "#fb9f3a"
             ],
             [
              0.8888888888888888,
              "#fdca26"
             ],
             [
              1,
              "#f0f921"
             ]
            ],
            "type": "surface"
           }
          ],
          "table": [
           {
            "cells": {
             "fill": {
              "color": "#EBF0F8"
             },
             "line": {
              "color": "white"
             }
            },
            "header": {
             "fill": {
              "color": "#C8D4E3"
             },
             "line": {
              "color": "white"
             }
            },
            "type": "table"
           }
          ]
         },
         "layout": {
          "annotationdefaults": {
           "arrowcolor": "#2a3f5f",
           "arrowhead": 0,
           "arrowwidth": 1
          },
          "autotypenumbers": "strict",
          "coloraxis": {
           "colorbar": {
            "outlinewidth": 0,
            "ticks": ""
           }
          },
          "colorscale": {
           "diverging": [
            [
             0,
             "#8e0152"
            ],
            [
             0.1,
             "#c51b7d"
            ],
            [
             0.2,
             "#de77ae"
            ],
            [
             0.3,
             "#f1b6da"
            ],
            [
             0.4,
             "#fde0ef"
            ],
            [
             0.5,
             "#f7f7f7"
            ],
            [
             0.6,
             "#e6f5d0"
            ],
            [
             0.7,
             "#b8e186"
            ],
            [
             0.8,
             "#7fbc41"
            ],
            [
             0.9,
             "#4d9221"
            ],
            [
             1,
             "#276419"
            ]
           ],
           "sequential": [
            [
             0,
             "#0d0887"
            ],
            [
             0.1111111111111111,
             "#46039f"
            ],
            [
             0.2222222222222222,
             "#7201a8"
            ],
            [
             0.3333333333333333,
             "#9c179e"
            ],
            [
             0.4444444444444444,
             "#bd3786"
            ],
            [
             0.5555555555555556,
             "#d8576b"
            ],
            [
             0.6666666666666666,
             "#ed7953"
            ],
            [
             0.7777777777777778,
             "#fb9f3a"
            ],
            [
             0.8888888888888888,
             "#fdca26"
            ],
            [
             1,
             "#f0f921"
            ]
           ],
           "sequentialminus": [
            [
             0,
             "#0d0887"
            ],
            [
             0.1111111111111111,
             "#46039f"
            ],
            [
             0.2222222222222222,
             "#7201a8"
            ],
            [
             0.3333333333333333,
             "#9c179e"
            ],
            [
             0.4444444444444444,
             "#bd3786"
            ],
            [
             0.5555555555555556,
             "#d8576b"
            ],
            [
             0.6666666666666666,
             "#ed7953"
            ],
            [
             0.7777777777777778,
             "#fb9f3a"
            ],
            [
             0.8888888888888888,
             "#fdca26"
            ],
            [
             1,
             "#f0f921"
            ]
           ]
          },
          "colorway": [
           "#636efa",
           "#EF553B",
           "#00cc96",
           "#ab63fa",
           "#FFA15A",
           "#19d3f3",
           "#FF6692",
           "#B6E880",
           "#FF97FF",
           "#FECB52"
          ],
          "font": {
           "color": "#2a3f5f"
          },
          "geo": {
           "bgcolor": "white",
           "lakecolor": "white",
           "landcolor": "#E5ECF6",
           "showlakes": true,
           "showland": true,
           "subunitcolor": "white"
          },
          "hoverlabel": {
           "align": "left"
          },
          "hovermode": "closest",
          "mapbox": {
           "style": "light"
          },
          "paper_bgcolor": "white",
          "plot_bgcolor": "#E5ECF6",
          "polar": {
           "angularaxis": {
            "gridcolor": "white",
            "linecolor": "white",
            "ticks": ""
           },
           "bgcolor": "#E5ECF6",
           "radialaxis": {
            "gridcolor": "white",
            "linecolor": "white",
            "ticks": ""
           }
          },
          "scene": {
           "xaxis": {
            "backgroundcolor": "#E5ECF6",
            "gridcolor": "white",
            "gridwidth": 2,
            "linecolor": "white",
            "showbackground": true,
            "ticks": "",
            "zerolinecolor": "white"
           },
           "yaxis": {
            "backgroundcolor": "#E5ECF6",
            "gridcolor": "white",
            "gridwidth": 2,
            "linecolor": "white",
            "showbackground": true,
            "ticks": "",
            "zerolinecolor": "white"
           },
           "zaxis": {
            "backgroundcolor": "#E5ECF6",
            "gridcolor": "white",
            "gridwidth": 2,
            "linecolor": "white",
            "showbackground": true,
            "ticks": "",
            "zerolinecolor": "white"
           }
          },
          "shapedefaults": {
           "line": {
            "color": "#2a3f5f"
           }
          },
          "ternary": {
           "aaxis": {
            "gridcolor": "white",
            "linecolor": "white",
            "ticks": ""
           },
           "baxis": {
            "gridcolor": "white",
            "linecolor": "white",
            "ticks": ""
           },
           "bgcolor": "#E5ECF6",
           "caxis": {
            "gridcolor": "white",
            "linecolor": "white",
            "ticks": ""
           }
          },
          "title": {
           "x": 0.05
          },
          "xaxis": {
           "automargin": true,
           "gridcolor": "white",
           "linecolor": "white",
           "ticks": "",
           "title": {
            "standoff": 15
           },
           "zerolinecolor": "white",
           "zerolinewidth": 2
          },
          "yaxis": {
           "automargin": true,
           "gridcolor": "white",
           "linecolor": "white",
           "ticks": "",
           "title": {
            "standoff": 15
           },
           "zerolinecolor": "white",
           "zerolinewidth": 2
          }
         }
        },
        "title": {
         "font": {
          "color": "Black",
          "size": 22
         },
         "text": "<b>Similarity Matrix",
         "x": 0.55,
         "xanchor": "center",
         "y": 0.95,
         "yanchor": "top"
        },
        "width": 800,
        "xaxis": {
         "anchor": "y",
         "constrain": "domain",
         "domain": [
          0,
          1
         ],
         "scaleanchor": "y"
        },
        "yaxis": {
         "anchor": "x",
         "autorange": "reversed",
         "constrain": "domain",
         "domain": [
          0,
          1
         ]
        }
       }
      },
      "text/html": [
       "<div>                            <div id=\"5208575c-3402-401c-beba-694a6fbb1556\" class=\"plotly-graph-div\" style=\"height:800px; width:800px;\"></div>            <script type=\"text/javascript\">                require([\"plotly\"], function(Plotly) {                    window.PLOTLYENV=window.PLOTLYENV || {};                                    if (document.getElementById(\"5208575c-3402-401c-beba-694a6fbb1556\")) {                    Plotly.newPlot(                        \"5208575c-3402-401c-beba-694a6fbb1556\",                        [{\"coloraxis\":\"coloraxis\",\"name\":\"0\",\"x\":[\"0_\\u0686\\u0627\\u067e_\\u06a9\\u0627\\u0631_\\u062f\\u0648\\u0631\\u06a9\\u0627\\u0631\\u06cc\",\"1_\\u0646\\u0645\\u06cc_\\u062e\\u0648\\u0646\\u0647_\\u062f\\u0648\\u0631\\u06a9\\u0627\\u0631\\u06cc\",\"2_\\u0642\\u0631\\u0646\\u0637\\u06cc\\u0646\\u0647_\\u062e\\u0648\\u0646\\u0647_\\u062f\\u0648\\u0631\\u06a9\\u0627\\u0631\\u06cc\",\"3_\\u0648\\u0627\\u06a9\\u0633\\u0646_\\u0648\\u0627\\u06a9\\u0633\\u06cc\\u0646\\u0627\\u0633\\u06cc\\u0648\\u0646_\\u0648\\u0627\\u06a9\\u0633\\u06cc\\u0646\\u0647\",\"4_\\u062e\\u0648\\u0627\\u0628_\\u062e\\u0648\\u0627\\u0628\\u0645_\\u0628\\u062e\\u0648\\u0627\\u0628\\u0645\",\"5_\\u062a\\u0631\\u0627\\u0641\\u06cc\\u06a9_\\u06a9\\u0627\\u0647\\u0634_\\u062a\\u0627\\u06a9\\u0633\\u06cc\",\"6_\\u0648\\u06cc\\u0631\\u0648\\u0633_\\u0634\\u06cc\\u0648\\u0639_coronavirus\",\"7_\\u062a\\u0648\\u06cc\\u06cc\\u062a\\u0631_\\u062a\\u0648\\u06cc\\u06cc\\u062a_\\u062a\\u0648\\u0626\\u06cc\\u062a\",\"8_\\u0622\\u0644\\u0645\\u0627\\u0646_\\u06cc\\u0648\\u0631\\u0648_\\u0633\\u0648\\u0626\\u062f\",\"9_\\u0627\\u06cc\\u0646\\u0633\\u062a\\u0627\\u06af\\u0631\\u0627\\u0645_\\u0627\\u062f\\u0645\\u06cc\\u0646_\\u067e\\u0631\\u0648\\u0698\\u0647\",\"10_\\u0627\\u0633\\u062a\\u0631\\u0633_\\u0627\\u0641\\u0633\\u0631\\u062f\\u06af\\u06cc_\\u0627\\u0636\\u0637\\u0631\\u0627\\u0628\",\"11_\\u0627\\u0645\\u0646\\u06cc\\u062a_\\u0627\\u0645\\u0646\\u06cc\\u062a\\u06cc_\\u0633\\u0627\\u06cc\\u0628\\u0631\\u06cc\",\"12_\\u0627\\u0633\\u06a9\\u0627\\u06cc\\u067e_\\u0627\\u0633\\u06a9\\u0627\\u06cc\\u067e\\u06cc_\\u062c\\u0644\\u0633\\u0647\",\"13_\\u0628\\u06cc\\u0645\\u0647_\\u0631\\u062f_\\u062d\\u0642\\u0648\\u0642\",\"14_\\u062f\\u06a9\\u062a\\u0631_\\u062f\\u0646\\u062f\\u0648\\u0646\\u067e\\u0632\\u0634\\u06a9\\u06cc_\\u0628\\u06cc\\u0645\\u0627\\u0631\\u0633\\u062a\\u0627\\u0646\",\"15_\\u06a9\\u0627\\u0646\\u0627\\u062f\\u0627_\\u06a9\\u0627\\u0646\\u0627\\u062f\\u0627\\u06cc\\u06cc_\\u062a\\u0648\\u0631\\u0646\\u062a\\u0648\",\"16_\\u0627\\u0633\\u062a\\u0639\\u0641\\u0627_\\u0628\\u062f\\u0645_\\u0645\\u06cc\\u062f\\u0645\",\"17_\\u0628\\u0631\\u0641_\\u0628\\u0631\\u0641\\u06cc_\\u067e\\u0646\\u062c\\u0631\\u0647\",\"18_\\u062f\\u0631\\u0635\\u062f_\\u062f\\u0631\\u0635\\u062f\\u06cc_\\u06f5\\u06f5\",\"19_\\u0645\\u062a\\u0646\\u0641\\u0631\\u0645_\\u0645\\u062a\\u0646\\u0641\\u0631_\\u0631\\u0645\\u0636\\u0648\\u0646\",\"20_\\u062e\\u0635\\u0648\\u0635\\u06cc_\\u0634\\u0631\\u06a9\\u062a_\\u062f\\u0648\\u0644\\u062a\\u06cc\",\"21_\\u06cc\\u0648\\u062a\\u06cc\\u0648\\u0628_\\u0648\\u06cc\\u062f\\u0626\\u0648_\\u06cc\\u0648\\u062a\\u0648\\u0628\",\"22_\\u0645\\u0631\\u06af_\\u062e\\u0648\\u062f\\u06a9\\u0634\\u06cc_\\u0628\\u0645\\u06cc\\u0631\\u0645\",\"23_\\u0622\\u0634\\u067e\\u0632\\u06cc_\\u067e\\u06cc\\u062a\\u0632\\u0627_\\u0633\\u06cc\\u0631\",\"24_\\u062a\\u0644\\u06af\\u0631\\u0627\\u0645_\\u06a9\\u0627\\u0646\\u0627\\u0644_\\u062a\\u0644\\u06af\\u0631\\u0627\\u0645\\u06cc\",\"25_\\u0633\\u06af_\\u0633\\u06af\\u0645_\\u062a\\u0648\\u0634\",\"26_\\u0635\\u0628\\u062d\\u0627\\u0646\\u0647_\\u0635\\u0628\\u062d\\u0648\\u0646\\u0647_\\u062e\\u0648\\u0631\\u0645\",\"27_\\u0633\\u06cc\\u06af\\u0627\\u0631_\\u0628\\u06a9\\u0634\\u0645_\\u0628\\u06a9\\u0634\\u06cc\",\"28_\\u0648\\u0632\\u0646_\\u06a9\\u06cc\\u0644\\u0648_\\u0648\\u0632\\u0646\\u0645\",\"29_\\u0645\\u062a\\u0631\\u0648_\\u0642\\u0637\\u0627\\u0631_\\u0627\\u062a\\u0648\\u0628\\u0648\\u0633\",\"30_\\u0635\\u0646\\u062f\\u0644\\u06cc_\\u0645\\u06cc\\u0632_\\u0627\\u0631\\u06af\\u0648\\u0646\\u0648\\u0645\\u06cc\\u06a9\",\"31_\\u062a\\u0631\\u06a9\\u06cc\\u0647_\\u0627\\u0633\\u062a\\u0627\\u0646\\u0628\\u0648\\u0644_\\u0631\\u06cc\\u0645\\u0648\\u062a\",\"32_\\u0628\\u0627\\u0646\\u06a9_\\u0628\\u0627\\u0646\\u06a9\\u0647\\u0627_\\u062e\\u0635\\u0648\\u0635\\u06cc\",\"33_\\u0633\\u0631\\u0628\\u0627\\u0632\\u06cc_\\u0633\\u0631\\u0628\\u0627\\u0632_\\u0627\\u0645\\u0631\\u06cc\\u0647\",\"34_\\u0634\\u06cc\\u0631\\u0627\\u0632_\\u0646\\u06cc\\u0631\\u0648\\u06cc_\\u0645\\u0648\\u0645\\u06cc\\u0627\\u06cc\\u06cc\",\"35_php_\\u0628\\u0631\\u0646\\u0627\\u0645\\u0647_\\u0646\\u0648\\u06cc\\u0633\",\"36_\\u062f\\u0633\\u062a\\u0634\\u0648\\u06cc\\u06cc_\\u062a\\u0648\\u0627\\u0644\\u062a_\\u062d\\u0645\\u0627\\u0645\",\"37_\\u0627\\u067e\\u0644_\\u06af\\u06cc\\u0631\\u0627\\u0646\\u0647_\\u06a9\\u0627\\u0631\\u0645\\u0646\\u062f\\u0627\\u0646\",\"38_\\u0645\\u063a\\u0632\\u0645_\\u0633\\u0631\\u062f\\u0631\\u062f_\\u0646\\u06cc\",\"39_\\u0646\\u0627\\u0647\\u0627\\u0631_\\u0634\\u0627\\u0645_\\u063a\\u0630\\u0627\",\"40_\\u062a\\u0646\\u0647\\u0627\\u06cc\\u06cc_\\u0645\\u06cc\\u0628\\u0631\\u0645_\\u0636\\u062f\\u0627\\u062c\\u062a\\u0645\\u0627\\u0639\\u06cc\",\"41_html_css_\\u0645\\u0633\\u0644\\u0637\",\"42_\\u0632\\u0646\\u062f\\u0627\\u0646_\\u0632\\u0646\\u062f\\u0627\\u0646\\u06cc_\\u0628\\u062f\\u0647\",\"43_\\u0642\\u0647\\u0648\\u0647_\\u06a9\\u0627\\u0641\\u0647_\\u0645\\u0635\\u0631\\u0641\",\"44_\\u06af\\u0631\\u0628\\u0647_\\u0645\\u062e\\u0644\\u0648\\u0642\\u0627\\u062a_\\u0627\\u0634\\u0631\\u0641\",\"45_\\u0646\\u0627\\u0633\\u0627_\\u0645\\u0631\\u06cc\\u062e_\\u0647\\u062f\\u0627\\u06cc\\u062a\",\"46_\\u0631\\u0645\\u0636\\u0627\\u0646_\\u062a\\u0631\\u06a9\\u06cc\\u0628_\\u0628\\u0648\\u0633\\u06cc\\u062f\",\"47_\\u0622\\u0645\\u0627\\u0632\\u0648\\u0646_\\u06a9\\u0627\\u0631\\u0645\\u0646\\u062f\\u0627\\u0646\\u0634_\\u062a\\u0645\\u062f\\u06cc\\u062f\",\"48_\\u0645\\u0639\\u0644\\u0648\\u0644\\u06cc\\u062a_\\u0645\\u0639\\u0644\\u0648\\u0644\\u0627\\u0646\\u06cc_\\u0628\\u0641\\u0631\\u0633\\u062a\\u0646\\u062f\",\"49_\\u0627\\u0633\\u067e\\u0627\\u0646\\u06cc\\u0627_\\u06a9\\u0634\\u0648\\u0631_\\u0642\\u0627\\u0646\\u0648\\u0646\",\"50_\\u0646\\u06cc\\u0633\\u062a\\u06cc_\\u062f\\u0648\\u0631\\u06a9\\u0627\\u0631_\\u0628\\u0645\\u0648\\u0646\"],\"y\":[\"0_\\u0686\\u0627\\u067e_\\u06a9\\u0627\\u0631_\\u062f\\u0648\\u0631\\u06a9\\u0627\\u0631\\u06cc\",\"1_\\u0646\\u0645\\u06cc_\\u062e\\u0648\\u0646\\u0647_\\u062f\\u0648\\u0631\\u06a9\\u0627\\u0631\\u06cc\",\"2_\\u0642\\u0631\\u0646\\u0637\\u06cc\\u0646\\u0647_\\u062e\\u0648\\u0646\\u0647_\\u062f\\u0648\\u0631\\u06a9\\u0627\\u0631\\u06cc\",\"3_\\u0648\\u0627\\u06a9\\u0633\\u0646_\\u0648\\u0627\\u06a9\\u0633\\u06cc\\u0646\\u0627\\u0633\\u06cc\\u0648\\u0646_\\u0648\\u0627\\u06a9\\u0633\\u06cc\\u0646\\u0647\",\"4_\\u062e\\u0648\\u0627\\u0628_\\u062e\\u0648\\u0627\\u0628\\u0645_\\u0628\\u062e\\u0648\\u0627\\u0628\\u0645\",\"5_\\u062a\\u0631\\u0627\\u0641\\u06cc\\u06a9_\\u06a9\\u0627\\u0647\\u0634_\\u062a\\u0627\\u06a9\\u0633\\u06cc\",\"6_\\u0648\\u06cc\\u0631\\u0648\\u0633_\\u0634\\u06cc\\u0648\\u0639_coronavirus\",\"7_\\u062a\\u0648\\u06cc\\u06cc\\u062a\\u0631_\\u062a\\u0648\\u06cc\\u06cc\\u062a_\\u062a\\u0648\\u0626\\u06cc\\u062a\",\"8_\\u0622\\u0644\\u0645\\u0627\\u0646_\\u06cc\\u0648\\u0631\\u0648_\\u0633\\u0648\\u0626\\u062f\",\"9_\\u0627\\u06cc\\u0646\\u0633\\u062a\\u0627\\u06af\\u0631\\u0627\\u0645_\\u0627\\u062f\\u0645\\u06cc\\u0646_\\u067e\\u0631\\u0648\\u0698\\u0647\",\"10_\\u0627\\u0633\\u062a\\u0631\\u0633_\\u0627\\u0641\\u0633\\u0631\\u062f\\u06af\\u06cc_\\u0627\\u0636\\u0637\\u0631\\u0627\\u0628\",\"11_\\u0627\\u0645\\u0646\\u06cc\\u062a_\\u0627\\u0645\\u0646\\u06cc\\u062a\\u06cc_\\u0633\\u0627\\u06cc\\u0628\\u0631\\u06cc\",\"12_\\u0627\\u0633\\u06a9\\u0627\\u06cc\\u067e_\\u0627\\u0633\\u06a9\\u0627\\u06cc\\u067e\\u06cc_\\u062c\\u0644\\u0633\\u0647\",\"13_\\u0628\\u06cc\\u0645\\u0647_\\u0631\\u062f_\\u062d\\u0642\\u0648\\u0642\",\"14_\\u062f\\u06a9\\u062a\\u0631_\\u062f\\u0646\\u062f\\u0648\\u0646\\u067e\\u0632\\u0634\\u06a9\\u06cc_\\u0628\\u06cc\\u0645\\u0627\\u0631\\u0633\\u062a\\u0627\\u0646\",\"15_\\u06a9\\u0627\\u0646\\u0627\\u062f\\u0627_\\u06a9\\u0627\\u0646\\u0627\\u062f\\u0627\\u06cc\\u06cc_\\u062a\\u0648\\u0631\\u0646\\u062a\\u0648\",\"16_\\u0627\\u0633\\u062a\\u0639\\u0641\\u0627_\\u0628\\u062f\\u0645_\\u0645\\u06cc\\u062f\\u0645\",\"17_\\u0628\\u0631\\u0641_\\u0628\\u0631\\u0641\\u06cc_\\u067e\\u0646\\u062c\\u0631\\u0647\",\"18_\\u062f\\u0631\\u0635\\u062f_\\u062f\\u0631\\u0635\\u062f\\u06cc_\\u06f5\\u06f5\",\"19_\\u0645\\u062a\\u0646\\u0641\\u0631\\u0645_\\u0645\\u062a\\u0646\\u0641\\u0631_\\u0631\\u0645\\u0636\\u0648\\u0646\",\"20_\\u062e\\u0635\\u0648\\u0635\\u06cc_\\u0634\\u0631\\u06a9\\u062a_\\u062f\\u0648\\u0644\\u062a\\u06cc\",\"21_\\u06cc\\u0648\\u062a\\u06cc\\u0648\\u0628_\\u0648\\u06cc\\u062f\\u0626\\u0648_\\u06cc\\u0648\\u062a\\u0648\\u0628\",\"22_\\u0645\\u0631\\u06af_\\u062e\\u0648\\u062f\\u06a9\\u0634\\u06cc_\\u0628\\u0645\\u06cc\\u0631\\u0645\",\"23_\\u0622\\u0634\\u067e\\u0632\\u06cc_\\u067e\\u06cc\\u062a\\u0632\\u0627_\\u0633\\u06cc\\u0631\",\"24_\\u062a\\u0644\\u06af\\u0631\\u0627\\u0645_\\u06a9\\u0627\\u0646\\u0627\\u0644_\\u062a\\u0644\\u06af\\u0631\\u0627\\u0645\\u06cc\",\"25_\\u0633\\u06af_\\u0633\\u06af\\u0645_\\u062a\\u0648\\u0634\",\"26_\\u0635\\u0628\\u062d\\u0627\\u0646\\u0647_\\u0635\\u0628\\u062d\\u0648\\u0646\\u0647_\\u062e\\u0648\\u0631\\u0645\",\"27_\\u0633\\u06cc\\u06af\\u0627\\u0631_\\u0628\\u06a9\\u0634\\u0645_\\u0628\\u06a9\\u0634\\u06cc\",\"28_\\u0648\\u0632\\u0646_\\u06a9\\u06cc\\u0644\\u0648_\\u0648\\u0632\\u0646\\u0645\",\"29_\\u0645\\u062a\\u0631\\u0648_\\u0642\\u0637\\u0627\\u0631_\\u0627\\u062a\\u0648\\u0628\\u0648\\u0633\",\"30_\\u0635\\u0646\\u062f\\u0644\\u06cc_\\u0645\\u06cc\\u0632_\\u0627\\u0631\\u06af\\u0648\\u0646\\u0648\\u0645\\u06cc\\u06a9\",\"31_\\u062a\\u0631\\u06a9\\u06cc\\u0647_\\u0627\\u0633\\u062a\\u0627\\u0646\\u0628\\u0648\\u0644_\\u0631\\u06cc\\u0645\\u0648\\u062a\",\"32_\\u0628\\u0627\\u0646\\u06a9_\\u0628\\u0627\\u0646\\u06a9\\u0647\\u0627_\\u062e\\u0635\\u0648\\u0635\\u06cc\",\"33_\\u0633\\u0631\\u0628\\u0627\\u0632\\u06cc_\\u0633\\u0631\\u0628\\u0627\\u0632_\\u0627\\u0645\\u0631\\u06cc\\u0647\",\"34_\\u0634\\u06cc\\u0631\\u0627\\u0632_\\u0646\\u06cc\\u0631\\u0648\\u06cc_\\u0645\\u0648\\u0645\\u06cc\\u0627\\u06cc\\u06cc\",\"35_php_\\u0628\\u0631\\u0646\\u0627\\u0645\\u0647_\\u0646\\u0648\\u06cc\\u0633\",\"36_\\u062f\\u0633\\u062a\\u0634\\u0648\\u06cc\\u06cc_\\u062a\\u0648\\u0627\\u0644\\u062a_\\u062d\\u0645\\u0627\\u0645\",\"37_\\u0627\\u067e\\u0644_\\u06af\\u06cc\\u0631\\u0627\\u0646\\u0647_\\u06a9\\u0627\\u0631\\u0645\\u0646\\u062f\\u0627\\u0646\",\"38_\\u0645\\u063a\\u0632\\u0645_\\u0633\\u0631\\u062f\\u0631\\u062f_\\u0646\\u06cc\",\"39_\\u0646\\u0627\\u0647\\u0627\\u0631_\\u0634\\u0627\\u0645_\\u063a\\u0630\\u0627\",\"40_\\u062a\\u0646\\u0647\\u0627\\u06cc\\u06cc_\\u0645\\u06cc\\u0628\\u0631\\u0645_\\u0636\\u062f\\u0627\\u062c\\u062a\\u0645\\u0627\\u0639\\u06cc\",\"41_html_css_\\u0645\\u0633\\u0644\\u0637\",\"42_\\u0632\\u0646\\u062f\\u0627\\u0646_\\u0632\\u0646\\u062f\\u0627\\u0646\\u06cc_\\u0628\\u062f\\u0647\",\"43_\\u0642\\u0647\\u0648\\u0647_\\u06a9\\u0627\\u0641\\u0647_\\u0645\\u0635\\u0631\\u0641\",\"44_\\u06af\\u0631\\u0628\\u0647_\\u0645\\u062e\\u0644\\u0648\\u0642\\u0627\\u062a_\\u0627\\u0634\\u0631\\u0641\",\"45_\\u0646\\u0627\\u0633\\u0627_\\u0645\\u0631\\u06cc\\u062e_\\u0647\\u062f\\u0627\\u06cc\\u062a\",\"46_\\u0631\\u0645\\u0636\\u0627\\u0646_\\u062a\\u0631\\u06a9\\u06cc\\u0628_\\u0628\\u0648\\u0633\\u06cc\\u062f\",\"47_\\u0622\\u0645\\u0627\\u0632\\u0648\\u0646_\\u06a9\\u0627\\u0631\\u0645\\u0646\\u062f\\u0627\\u0646\\u0634_\\u062a\\u0645\\u062f\\u06cc\\u062f\",\"48_\\u0645\\u0639\\u0644\\u0648\\u0644\\u06cc\\u062a_\\u0645\\u0639\\u0644\\u0648\\u0644\\u0627\\u0646\\u06cc_\\u0628\\u0641\\u0631\\u0633\\u062a\\u0646\\u062f\",\"49_\\u0627\\u0633\\u067e\\u0627\\u0646\\u06cc\\u0627_\\u06a9\\u0634\\u0648\\u0631_\\u0642\\u0627\\u0646\\u0648\\u0646\",\"50_\\u0646\\u06cc\\u0633\\u062a\\u06cc_\\u062f\\u0648\\u0631\\u06a9\\u0627\\u0631_\\u0628\\u0645\\u0648\\u0646\"],\"z\":[[1.0000000000000002,0.9350184331346312,0.8697405197020099,0.7238837339861628,0.41533259440948844,0.4901372570360784,0.5693680479552402,0.6403677880139865,0.6800577926173801,0.5507897607862087,0.6228234781948054,0.5923322635534176,0.7144624795350749,0.5495351840748811,0.6024960418662606,0.7041145698285827,0.5166676223436704,0.7396577058753565,0.49142794165462156,0.6703916880710249,0.23983899376448567,0.6781232393616674,0.5405445234122837,0.6458407929082485,0.6730939667797867,0.6122998550042111,0.5939840153038283,0.4831066970028455,0.6025856009274166,0.5911668157791485,0.5864245632328857,0.6214348634975424,0.5263252820481741,0.6795301075461829,0.6652444913454049,0.6374878980200696,0.6944541435337168,0.5585722889129044,0.7241871017945543,0.6622489970728677,0.542083775504828,0.6125029225574081,0.7295960504490097,0.673025014144147,0.6297823873859538,0.5802207221436132,0.6948758994191493,0.5163147952958971,0.6762773198392755,0.7061401817046077,0.6938174246934303],[0.9350184331346312,1.0000000000000004,0.7969526543890957,0.7003379089383525,0.39811041114750495,0.44673888348315155,0.5356265146820711,0.6406437543154696,0.62461389417863,0.5649769434875211,0.6516247995749209,0.570700610146981,0.6990740240992525,0.5530904813585514,0.6041153890758713,0.6533770654173828,0.5469114487078864,0.6579481080612279,0.4680242438356321,0.6466088900468809,0.2273934214793847,0.666744252561666,0.5275017650434799,0.6163216658400326,0.6692176266259903,0.5935964585823179,0.5421501874394261,0.4541683187018588,0.5723487664552298,0.5665579332633763,0.571149715081049,0.62694336058575,0.5205889769093777,0.6849521318368029,0.5558296225828123,0.6308531476725059,0.6987199179941039,0.533346724202183,0.7163057306707981,0.6232321127258573,0.5316204113280303,0.5957475232894537,0.7370862938620636,0.6055272310458316,0.6317144657992957,0.5591195204401608,0.7085993316383142,0.5120540188212543,0.6485283640160228,0.6865565474251727,0.6982406302267397],[0.8697405197020099,0.7969526543890957,1.0000000000000009,0.6548923087414753,0.3931309855585629,0.5072490317353581,0.5206901095238116,0.5721914731227083,0.6533094434980222,0.48034903410392993,0.5161029108221977,0.5514594230877277,0.609471205610631,0.4786191887325757,0.5381169525319118,0.6357137864508209,0.5016058172844186,0.7171774994144522,0.4701356789412231,0.5532415969320917,0.4080128660884216,0.6061583711481829,0.4691312033242987,0.6558592944275682,0.5999357234352651,0.5712526392284782,0.5733446997447981,0.4605331619378239,0.5432786982114002,0.5419793869868132,0.5122827574488642,0.579951529137118,0.45341419591824683,0.5912805507608115,0.592248981970586,0.5405902855282627,0.5814554499505779,0.5181018934286593,0.6418899786039861,0.6572802643875069,0.5284851249623761,0.6365438518560947,0.6358034280459536,0.6422562219872796,0.5471745628200153,0.5433109503082469,0.6171334366955004,0.47296453620172224,0.5838552457115391,0.6795876458489197,0.5929957256356326],[0.7238837339861628,0.7003379089383525,0.6548923087414753,1.0,0.5608076003677809,0.34170613259783156,0.44514095268910264,0.626251419373781,0.5226461652467129,0.46690178427359547,0.5000166406109458,0.4860265398688436,0.756003696976763,0.5154546083643216,0.5904552315727795,0.5653807900543104,0.5504726309337575,0.5164710922711454,0.36644960516281905,0.5225535160651796,0.13407682588093559,0.6318293626568834,0.37954416610315145,0.5391394124463764,0.49910307611114146,0.55291461077134,0.4699551115024727,0.2873665759184714,0.4763298284904649,0.36660766316432714,0.4034059433497337,0.4717821289027484,0.4788706895990228,0.6309442544498427,0.5465583972599675,0.508911770503685,0.47273804345988324,0.3811050132396923,0.5585079655859363,0.4598964472023304,0.37552041921803647,0.5155580255505376,0.5162832020964974,0.654373817464441,0.4499911119002543,0.5242973013208161,0.605438630045075,0.44142586862917066,0.4990092016849015,0.6030691514744998,0.602483722100847],[0.41533259440948844,0.39811041114750495,0.3931309855585629,0.5608076003677809,0.9999999999999998,0.25474345626268036,0.21527754097412408,0.6244143483416595,0.3893148677288923,0.34296827884826525,0.3640075546314569,0.2766862383873597,0.4561748432246996,0.43464932262230416,0.4119743305759471,0.5342947284105537,0.3296223159695337,0.2780552605234242,0.37276084367875795,0.27078967942222704,0.258116382863589,0.33161636872190353,0.26238672722968787,0.3946400440778859,0.3574989216755192,0.39772441157394123,0.3700298398971653,0.19473065186119629,0.363309348999612,0.2785146179886286,0.24783118183740055,0.38967773409079987,0.42837215793949635,0.3152034454651686,0.37460974878082687,0.31939999212007286,0.32015129064789605,0.33102403818203263,0.329799444651933,0.36675284636619543,0.24578512288729187,0.24658148992475215,0.369544397083991,0.386329725335405,0.29360591075159237,0.34706497517475177,0.3882730069838681,0.29413432590199884,0.24775290493106156,0.3408315575812614,0.3171182084693249],[0.4901372570360784,0.44673888348315155,0.5072490317353581,0.34170613259783156,0.25474345626268036,1.0,0.3909033688985624,0.38547539694200617,0.39059570060005344,0.26269984080323083,0.36688243994681724,0.4581919209657761,0.388007211458561,0.3133357419945635,0.30553701559222896,0.44285511934137345,0.3051898987800235,0.4535000201962138,0.3825146866057809,0.31145112096571115,0.3338587453712617,0.3092826963449064,0.3035361639760059,0.5336551437517432,0.4149748326874668,0.3788529383867485,0.3409119998625829,0.6087526440871645,0.3657678660120215,0.4336244808653452,0.36630230683159043,0.38126385877575875,0.2898405621827287,0.3125319659788049,0.355211369658952,0.33763928518147374,0.3641123004713805,0.333771042784489,0.44309029867737804,0.571952029647627,0.40667336652001046,0.4273063193834663,0.34965204761977886,0.4414384598436344,0.47120623021584174,0.3817479255608978,0.3327539955575877,0.43891622221110904,0.3231105975159423,0.3822832048701017,0.3351727065300143],[0.5693680479552402,0.5356265146820711,0.5206901095238116,0.44514095268910264,0.21527754097412408,0.3909033688985624,1.0,0.4826009857233717,0.38524205266355216,0.39762449749195694,0.38558984931205414,0.4720286618867722,0.5680506388100763,0.3624929563225888,0.3967262925770607,0.39356373941307904,0.3851896771251301,0.4234699747474675,0.37832318171837864,0.4606697482764573,0.22620032258145018,0.39404145811467534,0.38300929303641673,0.3991929733564548,0.3591132671619648,0.4452679034700759,0.34839273982148306,0.26656453971713134,0.41672386893885505,0.3126078780352157,0.6407901660730144,0.356780237910724,0.3264745422817445,0.4289553362557772,0.40117484091766537,0.4327234803814437,0.36695223115125447,0.30331640917462627,0.447369906594527,0.42970643690936455,0.2755359110100921,0.4099173645364695,0.4240114535488463,0.5145683178697237,0.39308103215966933,0.39415478712918545,0.4217784116021154,0.2787497694885769,0.4336290540751567,0.4600684057049539,0.4914312096826434],[0.6403677880139865,0.6406437543154696,0.5721914731227083,0.626251419373781,0.6244143483416595,0.38547539694200617,0.4826009857233717,0.9999999999999996,0.5224243765089194,0.45444585539346904,0.5712893438652766,0.5121885790066991,0.664520365428113,0.510117712151642,0.5053345912368198,0.5947752767967025,0.45183176418142035,0.4552221314075292,0.46403145664388257,0.4681525334641349,0.30793032610961857,0.4238518216862458,0.5277757115093854,0.5351133481981103,0.5096263753867426,0.4971266860668937,0.4849673881802302,0.28762868754426685,0.5299832702023011,0.388187743552743,0.4100232669567516,0.4283321249109897,0.5364241762368822,0.5137272016643673,0.45922644693567133,0.5805766410133548,0.4952119318022574,0.44507535091121625,0.6194632879669943,0.5620243633534489,0.3400081267556223,0.42420960833086296,0.5446435969634579,0.5757926376859646,0.4511317503915202,0.6347288095372874,0.6044377389552019,0.4790422780135919,0.5198115497731699,0.4950601240876054,0.5675770323137103],[0.6800577926173801,0.62461389417863,0.6533094434980222,0.5226461652467129,0.3893148677288923,0.39059570060005344,0.38524205266355216,0.5224243765089194,0.9999999999999999,0.44845410766866506,0.7432875824057086,0.4890053049161105,0.5664804896123378,0.5133303281473821,0.4720419333244196,0.5196536386456496,0.5013617501381827,0.5013469551127703,0.36306044181205116,0.5041315221265796,0.1887259770859615,0.47475857141873395,0.6080165302914471,0.5377990217210784,0.4980281859876635,0.7312160215064246,0.4628682949161738,0.307235842311535,0.4782250486155195,0.5276231155349067,0.4626687109770894,0.42324404141278665,0.45068638206519035,0.4556116911683994,0.5118065512682178,0.45785564064311135,0.6037407588185125,0.4663079501025838,0.551812055082044,0.47774133893529414,0.4294744322981267,0.5002690505082843,0.632702841220681,0.4993928955395453,0.4767495607557982,0.4950444143898085,0.4958781413689475,0.4164976693546938,0.5221717865845301,0.5788284932007897,0.5191890461993771],[0.5507897607862087,0.5649769434875211,0.48034903410392993,0.46690178427359547,0.34296827884826525,0.26269984080323083,0.39762449749195694,0.45444585539346904,0.44845410766866506,0.9999999999999998,0.48703262960429394,0.35650005519625716,0.4716052256479326,0.37921907671160077,0.4058223381959367,0.3787828068580812,0.3603192230340145,0.4207978154798506,0.3911922646630286,0.49420347864086994,0.2255043737418884,0.4055956053214099,0.36868559148110996,0.42865244673366354,0.47707306376239855,0.44315127869548043,0.4452061278573075,0.29290066858506386,0.4031345853469459,0.4209413078847319,0.4294278254169153,0.37038089526678597,0.4507896301717683,0.4946583161188797,0.39868461806069216,0.37441595164149727,0.4510902373762916,0.3284033243294793,0.44665967914379534,0.4261488397275017,0.36585444374715276,0.366308812528089,0.5441373108272032,0.4035180992053974,0.3935062080006567,0.3306550615211792,0.46982626934719746,0.2965725921549793,0.4909005320400479,0.3984714251274788,0.7164755131304629],[0.6228234781948054,0.6516247995749209,0.5161029108221977,0.5000166406109458,0.3640075546314569,0.36688243994681724,0.38558984931205414,0.5712893438652766,0.7432875824057086,0.48703262960429394,1.0000000000000004,0.4926959434368895,0.6353489444552447,0.5344060620472341,0.5643245502378771,0.4625244646752612,0.4364931489491944,0.41688959308619283,0.3585093766333702,0.5101929872522462,0.19011550719912468,0.5080719691701445,0.7246910398090859,0.5069059113919313,0.5264565337491435,0.6297357611405321,0.4256878178209995,0.27393167111339434,0.476056481179142,0.5163890846591129,0.4223665521780063,0.4136475493123708,0.4499428363213901,0.503171237653552,0.4706810788119586,0.5033235386978272,0.6384793913557287,0.4876324109639141,0.5859845192193432,0.4524458349189254,0.37455323709494465,0.48347315769549926,0.6840453598144696,0.4842568210975349,0.42742541164167913,0.48066104398296405,0.5147069604780413,0.42094005025324593,0.5629042734854072,0.5243826421937351,0.5563168448722817],[0.5923322635534176,0.570700610146981,0.5514594230877277,0.4860265398688436,0.2766862383873597,0.4581919209657761,0.4720286618867722,0.5121885790066991,0.4890053049161105,0.35650005519625716,0.4926959434368895,1.000000000000001,0.5150145795403285,0.39763150029596905,0.4459855645254426,0.5551604013020286,0.38402748422005784,0.46727587313974606,0.38344861286033594,0.44786028756023616,0.27694682034024093,0.4177659329278197,0.4403083115877676,0.5724113598220898,0.43582042402008325,0.4796981182842678,0.39006988375836604,0.351747452994966,0.45397671522467814,0.4997336137329077,0.44413820756667455,0.427900192988604,0.37982995310965373,0.4389788488900697,0.4235682566468813,0.4650995694709863,0.4727345326673173,0.4296868827838018,0.5142527858600355,0.6726729446559464,0.3762845781735332,0.6337220474117577,0.5153858787578494,0.526103155184852,0.4489343897743443,0.4108282844977297,0.4746374194535933,0.48363161759726625,0.3984607847916184,0.5924082525262226,0.4811525792428911],[0.7144624795350749,0.6990740240992525,0.609471205610631,0.756003696976763,0.4561748432246996,0.388007211458561,0.5680506388100763,0.664520365428113,0.5664804896123378,0.4716052256479326,0.6353489444552447,0.5150145795403285,1.0000000000000013,0.4767507201175751,0.6413180567459392,0.5458847807903227,0.42689021614723816,0.4904302275235066,0.40608427228454125,0.5554160474438296,0.23740721045367172,0.6712224678116783,0.47488694114452457,0.4783485910201324,0.49419190511408273,0.61125522804109,0.47902468810891896,0.28500422990493285,0.490897113187045,0.3966170980436376,0.4921331378667625,0.4039890583406558,0.4680089361312937,0.6322774467996968,0.6034925780751863,0.5426985782800378,0.5838595808230856,0.42413305232476367,0.632805238044559,0.5326858883596131,0.30274641410564745,0.44254614237094425,0.5913147141353818,0.678889804828713,0.43259182831620513,0.5037303232474575,0.614907240208479,0.4387928479713248,0.5607977079022131,0.5879321762664734,0.5625318048443737],[0.5495351840748811,0.5530904813585514,0.4786191887325757,0.5154546083643216,0.43464932262230416,0.3133357419945635,0.3624929563225888,0.510117712151642,0.5133303281473821,0.37921907671160077,0.5344060620472341,0.39763150029596905,0.4767507201175751,1.0000000000000002,0.35230750437981045,0.46152246741194525,0.3614953965001491,0.42327707276504106,0.39262166153187783,0.39023104436661865,0.07802110614490573,0.4089543075904942,0.5035396929930519,0.4099738173929822,0.3822085471209159,0.6078793862674479,0.3744124396605001,0.3118513456819909,0.43579844097771814,0.32298290097769633,0.26717585513199865,0.41774000932099475,0.4663520795745287,0.4737308550533561,0.37608157525055397,0.5083189258698892,0.4585482547799167,0.31903524576203557,0.4561035242393345,0.4015988031690585,0.4058491075087285,0.4073323614577238,0.46792888023107715,0.431970184088739,0.42889648186244744,0.40180241682503104,0.5299019190176076,0.35613362670788995,0.45276643559358987,0.4422658619766838,0.4165669349373426],[0.6024960418662606,0.6041153890758713,0.5381169525319118,0.5904552315727795,0.4119743305759471,0.30553701559222896,0.3967262925770607,0.5053345912368198,0.4720419333244196,0.4058223381959367,0.5643245502378771,0.4459855645254426,0.6413180567459392,0.35230750437981045,0.9999999999999999,0.6169396047434209,0.4002069890608954,0.4225477606111228,0.29497499835168317,0.5624735955303944,0.19208248209848897,0.5949247581314804,0.31831039968528296,0.4745197473368993,0.42226389602762915,0.45167545967534684,0.4353771373616029,0.23101491140366492,0.5218125111544051,0.4309485972960986,0.3443844743615147,0.4248817316264373,0.33235137503004647,0.617240612539071,0.4163925644302056,0.4180068788278635,0.49126981723822327,0.3720078097103384,0.44749103196283346,0.43800058148385124,0.26368082765635187,0.4031051898284403,0.5083880902946533,0.4859153949255716,0.424046314567561,0.42032514951091093,0.4199116150004382,0.32454345339159674,0.43749474673753974,0.5445977610043695,0.46723496461924113],[0.7041145698285827,0.6533770654173828,0.6357137864508209,0.5653807900543104,0.5342947284105537,0.44285511934137345,0.39356373941307904,0.5947752767967025,0.5196536386456496,0.3787828068580812,0.4625244646752612,0.5551604013020286,0.5458847807903227,0.46152246741194525,0.6169396047434209,0.9999999999999999,0.4006374734965389,0.5312506709627371,0.3974212300982476,0.49073602230220925,0.2383480528012348,0.5016282871855482,0.4152529605269911,0.5770176111220581,0.49695583379229535,0.4600577254750191,0.5301866072676479,0.4048379513843485,0.4940194466337171,0.49176563562888465,0.3631231859694909,0.5853840977212523,0.41715191910942817,0.528365458829209,0.5435607319432931,0.4967224591702527,0.5075758994408506,0.5968086035577443,0.5252166748968412,0.6458356105822738,0.43690323803429154,0.5006693003295936,0.4932501479975543,0.6063687091329801,0.5480053890548994,0.4614749881366445,0.5383048885636326,0.44403846503340094,0.48927435760882887,0.6905919559087093,0.4712726130144174],[0.5166676223436704,0.5469114487078864,0.5016058172844186,0.5504726309337575,0.3296223159695337,0.3051898987800235,0.3851896771251301,0.45183176418142035,0.5013617501381827,0.3603192230340145,0.4364931489491944,0.38402748422005784,0.42689021614723816,0.3614953965001491,0.4002069890608954,0.4006374734965389,0.9999999999999994,0.33231324742787094,0.34231703174577677,0.41877252040976387,0.14276531050168675,0.3964765656576672,0.3784637257927507,0.37718580858423617,0.4224407311570893,0.4777552603247903,0.29489899992622626,0.2867253555747809,0.31223823615869994,0.3643509082351251,0.4024809812456752,0.33952428601139933,0.3948239489875535,0.4084860420303533,0.3440848874330329,0.3218118379524895,0.4491177492329435,0.3008586478512979,0.48757450397565766,0.35290868750886145,0.355801376112187,0.3893094289875777,0.46654317524799743,0.4054511845991658,0.3726649084036122,0.4430814090918269,0.43798876068714865,0.3043043913464485,0.4617462897933037,0.5018566787122285,0.5117257569093644],[0.7396577058753565,0.6579481080612279,0.7171774994144522,0.5164710922711454,0.2780552605234242,0.4535000201962138,0.4234699747474675,0.4552221314075292,0.5013469551127703,0.4207978154798506,0.41688959308619283,0.46727587313974606,0.4904302275235066,0.42327707276504106,0.4225477606111228,0.5312506709627371,0.33231324742787094,1.0000000000000004,0.42251601551325824,0.47549671956255546,0.30875116575181905,0.4600747569860877,0.38371967360369946,0.6089781295443413,0.4711911893570499,0.45323920775400284,0.4167707157924845,0.3521974196495313,0.44972914919301465,0.43587250663443333,0.44682032060259186,0.45127344071099257,0.35825408921532803,0.46840983191332175,0.500786447224403,0.48160141436396847,0.43650966898624843,0.4445333179073474,0.588872629574496,0.5282599552268095,0.40445835946839315,0.5403193856768862,0.4727688886882988,0.5498744383397882,0.4790476850584109,0.3957516046803753,0.4884277446429586,0.3728324651261701,0.5044912375893329,0.5929426931353808,0.5135203848871731],[0.49142794165462156,0.4680242438356321,0.4701356789412231,0.36644960516281905,0.37276084367875795,0.3825146866057809,0.37832318171837864,0.46403145664388257,0.36306044181205116,0.3911922646630286,0.3585093766333702,0.38344861286033594,0.40608427228454125,0.39262166153187783,0.29497499835168317,0.3974212300982476,0.34231703174577677,0.42251601551325824,1.0000000000000002,0.2833120006503566,0.24673054528465563,0.3051997610573013,0.33323528002865777,0.38618541690936714,0.41868036232209754,0.32465664705329783,0.35663979487787945,0.4104936364465087,0.40267836354592296,0.44422679598152104,0.3801219968545163,0.2997496946624249,0.33872832010033077,0.31528706523007843,0.34735870155882465,0.40632115031913774,0.31782685534967803,0.3088225247478242,0.43554518208191007,0.4262418678072797,0.34026377492947,0.36926559816849963,0.42265155037259317,0.3945913029246515,0.38061609886807946,0.3775816973732594,0.45436793466765346,0.3135686431873399,0.4262788624468932,0.389389734721506,0.37974177823448524],[0.6703916880710249,0.6466088900468809,0.5532415969320917,0.5225535160651796,0.27078967942222704,0.31145112096571115,0.4606697482764573,0.4681525334641349,0.5041315221265796,0.49420347864086994,0.5101929872522462,0.44786028756023616,0.5554160474438296,0.39023104436661865,0.5624735955303944,0.49073602230220925,0.41877252040976387,0.47549671956255546,0.2833120006503566,1.0000000000000007,0.14299678300548077,0.5070577989223696,0.4007996205188657,0.4567362944884378,0.4522150120852052,0.4373594251609769,0.3986307229077536,0.3143434777664514,0.3820117673721902,0.5204776469863498,0.40039861484771555,0.41746754451591817,0.38609476585392133,0.5751960960282182,0.4523174434832356,0.4389053161791132,0.49037713071394695,0.39417091055761616,0.5164304831071524,0.4914527516723982,0.3312238564524437,0.3663400124859733,0.4749122163749968,0.4907974364976053,0.438189905345436,0.45017217579457747,0.47813293174745863,0.36550204850044005,0.49017483043717636,0.48215302897318235,0.5225859385604952],[0.23983899376448567,0.2273934214793847,0.4080128660884216,0.13407682588093559,0.258116382863589,0.3338587453712617,0.22620032258145018,0.30793032610961857,0.1887259770859615,0.2255043737418884,0.19011550719912468,0.27694682034024093,0.23740721045367172,0.07802110614490573,0.19208248209848897,0.2383480528012348,0.14276531050168675,0.30875116575181905,0.24673054528465563,0.14299678300548077,0.9999999999999994,0.21207494201175153,0.165037845793058,0.37827021513754855,0.25987713159529274,0.185140229926461,0.27935329660833,0.21552780449973236,0.23419889670147895,0.2605678539137507,0.18563274614709185,0.15757950114483887,0.16296618803684737,0.20164615861882892,0.19537520848958886,0.2178096959736341,0.1874596423825198,0.23416307430249717,0.24962655477500534,0.3784028337460457,0.20642240235984222,0.32452626763768294,0.23644662077878847,0.27574400002010147,0.18383694544688065,0.16722082014568876,0.19479047114181852,0.14348330296947454,0.1622777869617542,0.29292009271760683,0.20327102709122638],[0.6781232393616674,0.666744252561666,0.6061583711481829,0.6318293626568834,0.33161636872190353,0.3092826963449064,0.39404145811467534,0.4238518216862458,0.47475857141873395,0.4055956053214099,0.5080719691701445,0.4177659329278197,0.6712224678116783,0.4089543075904942,0.5949247581314804,0.5016282871855482,0.3964765656576672,0.4600747569860877,0.3051997610573013,0.5070577989223696,0.21207494201175153,1.0,0.4096116644576551,0.4408513873397536,0.498414715219779,0.49568522854413233,0.44799572535487914,0.3330921415357616,0.45896111780665955,0.37853456445372213,0.39153705063771205,0.4701127200913614,0.38077151074937593,0.6971441770821603,0.48294155704967323,0.48775780000945,0.5388871240898598,0.42327657736931845,0.5133735435418905,0.4403766625480937,0.33718259322167565,0.5808091082493951,0.546002464937078,0.5244638297773196,0.4597966643904198,0.36483089320596196,0.5025104003927217,0.3174661290806809,0.5115336896362161,0.5583778834129842,0.5354221655620889],[0.5405445234122837,0.5275017650434799,0.4691312033242987,0.37954416610315145,0.26238672722968787,0.3035361639760059,0.38300929303641673,0.5277757115093854,0.6080165302914471,0.36868559148110996,0.7246910398090859,0.4403083115877676,0.47488694114452457,0.5035396929930519,0.31831039968528296,0.4152529605269911,0.3784637257927507,0.38371967360369946,0.33323528002865777,0.4007996205188657,0.165037845793058,0.4096116644576551,1.0000000000000002,0.48993510093752035,0.45197204674741753,0.5473348907777491,0.383361976159883,0.2591886131549742,0.3487684673890841,0.4753064925471322,0.3332754129436411,0.31036495730081154,0.3739733848728226,0.38760129719645203,0.415726642064303,0.458117645142052,0.5873625131347752,0.4545963854313918,0.4725871535182268,0.3413055280300471,0.34843683127388464,0.4164204172204734,0.6437452525267948,0.4849252907206968,0.4219516903952155,0.38616937336664015,0.4761720873181512,0.3831011318058137,0.5161690190130567,0.5143450546247399,0.46397861403182955],[0.6458407929082485,0.6163216658400326,0.6558592944275682,0.5391394124463764,0.3946400440778859,0.5336551437517432,0.3991929733564548,0.5351133481981103,0.5377990217210784,0.42865244673366354,0.5069059113919313,0.5724113598220898,0.4783485910201324,0.4099738173929822,0.4745197473368993,0.5770176111220581,0.37718580858423617,0.6089781295443413,0.38618541690936714,0.4567362944884378,0.37827021513754855,0.4408513873397536,0.48993510093752035,1.0,0.5073155910468458,0.4747000611165788,0.46696178600645644,0.33723981210472104,0.4922898566608776,0.5132780298502738,0.3795838338251918,0.4306204091052309,0.43015441938161436,0.45684122255978343,0.47857317227420726,0.48095491980870597,0.505208060101124,0.44789060789452817,0.5122238268983125,0.6024278781535848,0.4246043517278105,0.6439730213305637,0.5819089208186872,0.5930009366410363,0.39209975060343044,0.453595665707567,0.5100440999245346,0.4371367029680814,0.4645916594402555,0.6316129529260975,0.5099304533024871],[0.6730939667797867,0.6692176266259903,0.5999357234352651,0.49910307611114146,0.3574989216755192,0.4149748326874668,0.3591132671619648,0.5096263753867426,0.4980281859876635,0.47707306376239855,0.5264565337491435,0.43582042402008325,0.49419190511408273,0.3822085471209159,0.42226389602762915,0.49695583379229535,0.4224407311570893,0.4711911893570499,0.41868036232209754,0.4522150120852052,0.25987713159529274,0.498414715219779,0.45197204674741753,0.5073155910468458,0.9999999999999988,0.42746105963164005,0.45820030634825176,0.5861927720591248,0.52057684508734,0.6206703780648217,0.3730116849980234,0.4966317589349742,0.5027456327096688,0.49865274147475935,0.36732464145167104,0.5942391388835976,0.5192807058018908,0.43251945556551535,0.5851786635962546,0.5667494342958856,0.7315277994816698,0.4843346146386387,0.5407398596763203,0.42171615098051773,0.64316675818555,0.4890599754552347,0.4677015298377043,0.5483289250833544,0.5018983863327263,0.4707301795293398,0.5872746244270556],[0.6122998550042111,0.5935964585823179,0.5712526392284782,0.55291461077134,0.39772441157394123,0.3788529383867485,0.4452679034700759,0.4971266860668937,0.7312160215064246,0.44315127869548043,0.6297357611405321,0.4796981182842678,0.61125522804109,0.6078793862674479,0.45167545967534684,0.4600577254750191,0.4777552603247903,0.45323920775400284,0.32465664705329783,0.4373594251609769,0.185140229926461,0.49568522854413233,0.5473348907777491,0.4747000611165788,0.42746105963164005,1.0000000000000002,0.43736993841290805,0.31365427132566065,0.38041615455046407,0.3928858997482789,0.5243348162891971,0.34216020631524874,0.4908477303828416,0.5486734800106688,0.47669733037001505,0.42596093981099675,0.6499161609726292,0.43136107457135014,0.5162415268158455,0.46415638597880615,0.40923174875992974,0.46885781053452524,0.5808923002036528,0.47831669705589297,0.49193179557315414,0.4411960898137919,0.514984942217592,0.40966655262846663,0.4668134670465556,0.5063437807632178,0.5373275245815874],[0.5939840153038283,0.5421501874394261,0.5733446997447981,0.4699551115024727,0.3700298398971653,0.3409119998625829,0.34839273982148306,0.4849673881802302,0.4628682949161738,0.4452061278573075,0.4256878178209995,0.39006988375836604,0.47902468810891896,0.3744124396605001,0.4353771373616029,0.5301866072676479,0.29489899992622626,0.4167707157924845,0.35663979487787945,0.3986307229077536,0.27935329660833,0.44799572535487914,0.383361976159883,0.46696178600645644,0.45820030634825176,0.43736993841290805,1.0,0.2994110223486914,0.5062654645581813,0.44698201645416225,0.3911959306441998,0.42894287082868277,0.4381377372428542,0.4037513975655564,0.44721129187104014,0.4591010675284959,0.4364526527656924,0.454663576515672,0.49468033185718646,0.5159333735600903,0.3875721691162348,0.46612008360012525,0.5084642660157239,0.4404126409339193,0.43420672328394955,0.5323177005609696,0.47405015665770184,0.3337799268934289,0.46629456800085295,0.4489118067732241,0.4301095943750488],[0.4831066970028455,0.4541683187018588,0.4605331619378239,0.2873665759184714,0.19473065186119629,0.6087526440871645,0.26656453971713134,0.28762868754426685,0.307235842311535,0.29290066858506386,0.27393167111339434,0.351747452994966,0.28500422990493285,0.3118513456819909,0.23101491140366492,0.4048379513843485,0.2867253555747809,0.3521974196495313,0.4104936364465087,0.3143434777664514,0.21552780449973236,0.3330921415357616,0.2591886131549742,0.33723981210472104,0.5861927720591248,0.31365427132566065,0.2994110223486914,0.9999999999999993,0.25110772762293404,0.46437747730177015,0.31318058983490804,0.3687685226599253,0.3354485719803522,0.33236959046441605,0.2730969127964419,0.32496892542289557,0.3518947188054923,0.3119572793150693,0.4634042529601019,0.48868413176571834,0.7208849257693761,0.38858471114555565,0.3349568031004784,0.2787248277084018,0.6230977929558653,0.28777983465407686,0.3381147067709126,0.45270150827716205,0.3448058905396158,0.3271007038805611,0.33384683429500406],[0.6025856009274166,0.5723487664552298,0.5432786982114002,0.4763298284904649,0.363309348999612,0.3657678660120215,0.41672386893885505,0.5299832702023011,0.4782250486155195,0.4031345853469459,0.476056481179142,0.45397671522467814,0.490897113187045,0.43579844097771814,0.5218125111544051,0.4940194466337171,0.31223823615869994,0.44972914919301465,0.40267836354592296,0.3820117673721902,0.23419889670147895,0.45896111780665955,0.3487684673890841,0.4922898566608776,0.52057684508734,0.38041615455046407,0.5062654645581813,0.25110772762293404,0.9999999999999996,0.40704542029149615,0.3551120381236744,0.47474206099741073,0.33735151460407575,0.41925363852144304,0.40023444824744336,0.5700408445144596,0.3948057389956361,0.3793812230805501,0.4966222838735845,0.4554767507778462,0.3093337506591295,0.4927899840542187,0.491263198900296,0.47433579196614906,0.5611865600376851,0.4974813668414161,0.3825218979716359,0.30928955537137515,0.5174544606201928,0.4538772748704259,0.5834183298479458],[0.5911668157791485,0.5665579332633763,0.5419793869868132,0.36660766316432714,0.2785146179886286,0.4336244808653452,0.3126078780352157,0.388187743552743,0.5276231155349067,0.4209413078847319,0.5163890846591129,0.4997336137329077,0.3966170980436376,0.32298290097769633,0.4309485972960986,0.49176563562888465,0.3643509082351251,0.43587250663443333,0.44422679598152104,0.5204776469863498,0.2605678539137507,0.37853456445372213,0.4753064925471322,0.5132780298502738,0.6206703780648217,0.3928858997482789,0.44698201645416225,0.46437747730177015,0.40704542029149615,0.9999999999999999,0.3659318273717824,0.41742269797378523,0.3690513216211528,0.44798010731157045,0.4020284278358355,0.42983425737960945,0.47523507276306987,0.42305591356109057,0.48651776368969946,0.5058579758009316,0.5705973832894439,0.4654115198640586,0.5457655640733018,0.4625274313619798,0.4802287686934201,0.4009770269439749,0.45617341512792,0.4889139507178344,0.4434992703117132,0.5299985826506735,0.45246527824767757],[0.5864245632328857,0.571149715081049,0.5122827574488642,0.4034059433497337,0.24783118183740055,0.36630230683159043,0.6407901660730144,0.4100232669567516,0.4626687109770894,0.4294278254169153,0.4223665521780063,0.44413820756667455,0.4921331378667625,0.26717585513199865,0.3443844743615147,0.3631231859694909,0.4024809812456752,0.44682032060259186,0.3801219968545163,0.40039861484771555,0.18563274614709185,0.39153705063771205,0.3332754129436411,0.3795838338251918,0.3730116849980234,0.5243348162891971,0.3911959306441998,0.31318058983490804,0.3551120381236744,0.3659318273717824,0.9999999999999998,0.3619066241053644,0.33633748651151396,0.37956919972833714,0.4249303072535052,0.34675744948715376,0.3777770752488242,0.3212510447122611,0.5005952108087672,0.4621459633301967,0.3314823605800472,0.4479637907398838,0.46829184932050544,0.44193422742254307,0.41832330798908474,0.38775725555250873,0.5421634496906542,0.23180314888540754,0.4279474881533503,0.45435069296504965,0.46592222460168936],[0.6214348634975424,0.62694336058575,0.579951529137118,0.4717821289027484,0.38967773409079987,0.38126385877575875,0.356780237910724,0.4283321249109897,0.42324404141278665,0.37038089526678597,0.4136475493123708,0.427900192988604,0.4039890583406558,0.41774000932099475,0.4248817316264373,0.5853840977212523,0.33952428601139933,0.45127344071099257,0.2997496946624249,0.41746754451591817,0.15757950114483887,0.4701127200913614,0.31036495730081154,0.4306204091052309,0.4966317589349742,0.34216020631524874,0.42894287082868277,0.3687685226599253,0.47474206099741073,0.41742269797378523,0.3619066241053644,0.9999999999999998,0.48928787139796814,0.4545402963296302,0.33027819963201593,0.39468176605097816,0.47703446944815336,0.4316932261460651,0.4620637049325277,0.5656095987729938,0.5247206553274681,0.5023052965681228,0.5252146757191158,0.45023698850343286,0.5558216271001776,0.42751813537686606,0.464845142643896,0.3672307785655708,0.43560412902340695,0.5124873902549076,0.4918875203398242],[0.5263252820481741,0.5205889769093777,0.45341419591824683,0.4788706895990228,0.42837215793949635,0.2898405621827287,0.3264745422817445,0.5364241762368822,0.45068638206519035,0.4507896301717683,0.4499428363213901,0.37982995310965373,0.4680089361312937,0.4663520795745287,0.33235137503004647,0.41715191910942817,0.3948239489875535,0.35825408921532803,0.33872832010033077,0.38609476585392133,0.16296618803684737,0.38077151074937593,0.3739733848728226,0.43015441938161436,0.5027456327096688,0.4908477303828416,0.4381377372428542,0.3354485719803522,0.33735151460407575,0.3690513216211528,0.33633748651151396,0.48928787139796814,1.0,0.49709660827934754,0.3466652198530618,0.3793114262197432,0.5483909319634312,0.3121156674528238,0.4522131956816211,0.43753150678747366,0.46177646051032883,0.3599464258069068,0.4563499034476849,0.4903915273915104,0.407381564886123,0.4629894524201277,0.5294009358858762,0.44018539402116275,0.5065487111518026,0.35140054151929057,0.4790969562483576],[0.6795301075461829,0.6849521318368029,0.5912805507608115,0.6309442544498427,0.3152034454651686,0.3125319659788049,0.4289553362557772,0.5137272016643673,0.4556116911683994,0.4946583161188797,0.503171237653552,0.4389788488900697,0.6322774467996968,0.4737308550533561,0.617240612539071,0.528365458829209,0.4084860420303533,0.46840983191332175,0.31528706523007843,0.5751960960282182,0.20164615861882892,0.6971441770821603,0.38760129719645203,0.45684122255978343,0.49865274147475935,0.5486734800106688,0.4037513975655564,0.33236959046441605,0.41925363852144304,0.44798010731157045,0.37956919972833714,0.4545402963296302,0.49709660827934754,0.9999999999999998,0.4416778902255245,0.4479118291242813,0.5507934851472504,0.4147273104806352,0.5302957429916371,0.475010812746963,0.4345519622546312,0.44726889527299435,0.5207176510738392,0.6671580242748082,0.4834999408446048,0.4468654007769731,0.5502236120814875,0.430284476632843,0.5273474028620653,0.5404698638391303,0.6040671593983734],[0.6652444913454049,0.5558296225828123,0.592248981970586,0.5465583972599675,0.37460974878082687,0.355211369658952,0.40117484091766537,0.45922644693567133,0.5118065512682178,0.39868461806069216,0.4706810788119586,0.4235682566468813,0.6034925780751863,0.37608157525055397,0.4163925644302056,0.5435607319432931,0.3440848874330329,0.500786447224403,0.34735870155882465,0.4523174434832356,0.19537520848958886,0.48294155704967323,0.415726642064303,0.47857317227420726,0.36732464145167104,0.47669733037001505,0.44721129187104014,0.2730969127964419,0.40023444824744336,0.4020284278358355,0.4249303072535052,0.33027819963201593,0.3466652198530618,0.4416778902255245,1.0000000000000007,0.42004407271370536,0.4623533707413353,0.38260387929215606,0.5000944107063422,0.4428898249451199,0.2738224943729772,0.39104078667632636,0.48834353017155163,0.6053027083794567,0.3011397236844489,0.360713936373063,0.6157960491070946,0.34284698643547035,0.43275823299147403,0.5231486267277109,0.49169432683722125],[0.6374878980200696,0.6308531476725059,0.5405902855282627,0.508911770503685,0.31939999212007286,0.33763928518147374,0.4327234803814437,0.5805766410133548,0.45785564064311135,0.37441595164149727,0.5033235386978272,0.4650995694709863,0.5426985782800378,0.5083189258698892,0.4180068788278635,0.4967224591702527,0.3218118379524895,0.48160141436396847,0.40632115031913774,0.4389053161791132,0.2178096959736341,0.48775780000945,0.458117645142052,0.48095491980870597,0.5942391388835976,0.42596093981099675,0.4591010675284959,0.32496892542289557,0.5700408445144596,0.42983425737960945,0.34675744948715376,0.39468176605097816,0.3793114262197432,0.4479118291242813,0.42004407271370536,0.9999999999999996,0.4591045034516634,0.425417896352821,0.5640851439856474,0.4587140738154428,0.42400237728871243,0.5125357115503981,0.49978112258231844,0.48338581802569663,0.43928271698560106,0.5205644623926696,0.5070902298593933,0.6618127880422863,0.44928333116745994,0.5268453794541323,0.5680481617237094],[0.6944541435337168,0.6987199179941039,0.5814554499505779,0.47273804345988324,0.32015129064789605,0.3641123004713805,0.36695223115125447,0.4952119318022574,0.6037407588185125,0.4510902373762916,0.6384793913557287,0.4727345326673173,0.5838595808230856,0.4585482547799167,0.49126981723822327,0.5075758994408506,0.4491177492329435,0.43650966898624843,0.31782685534967803,0.49037713071394695,0.1874596423825198,0.5388871240898598,0.5873625131347752,0.505208060101124,0.5192807058018908,0.6499161609726292,0.4364526527656924,0.3518947188054923,0.3948057389956361,0.47523507276306987,0.3777770752488242,0.47703446944815336,0.5483909319634312,0.5507934851472504,0.4623533707413353,0.4591045034516634,1.0000000000000009,0.4401675787132814,0.5068238090400362,0.5005057056058131,0.4088443899158243,0.459300697579467,0.8217602783434745,0.5012143071666922,0.5534631451634658,0.41640101279383435,0.516180579231149,0.4650774651400653,0.5588553935415673,0.5683503328773938,0.5772743982536099],[0.5585722889129044,0.533346724202183,0.5181018934286593,0.3811050132396923,0.33102403818203263,0.333771042784489,0.30331640917462627,0.44507535091121625,0.4663079501025838,0.3284033243294793,0.4876324109639141,0.4296868827838018,0.42413305232476367,0.31903524576203557,0.3720078097103384,0.5968086035577443,0.3008586478512979,0.4445333179073474,0.3088225247478242,0.39417091055761616,0.23416307430249717,0.42327657736931845,0.4545963854313918,0.44789060789452817,0.43251945556551535,0.43136107457135014,0.454663576515672,0.3119572793150693,0.3793812230805501,0.42305591356109057,0.3212510447122611,0.4316932261460651,0.3121156674528238,0.4147273104806352,0.38260387929215606,0.425417896352821,0.4401675787132814,0.9999999999999998,0.38310188638231957,0.44576796053012147,0.4018492668834862,0.4061586842828114,0.4187764765750809,0.4989459402643833,0.4472972457706048,0.309563080212178,0.4691458320277606,0.39819998413571067,0.47377297524618683,0.4912651527713645,0.34852644483425194],[0.7241871017945543,0.7163057306707981,0.6418899786039861,0.5585079655859363,0.329799444651933,0.44309029867737804,0.447369906594527,0.6194632879669943,0.551812055082044,0.44665967914379534,0.5859845192193432,0.5142527858600355,0.632805238044559,0.4561035242393345,0.44749103196283346,0.5252166748968412,0.48757450397565766,0.588872629574496,0.43554518208191007,0.5164304831071524,0.24962655477500534,0.5133735435418905,0.4725871535182268,0.5122238268983125,0.5851786635962546,0.5162415268158455,0.49468033185718646,0.4634042529601019,0.4966222838735845,0.48651776368969946,0.5005952108087672,0.4620637049325277,0.4522131956816211,0.5302957429916371,0.5000944107063422,0.5640851439856474,0.5068238090400362,0.38310188638231957,1.0000000000000004,0.5549189722782462,0.5046442350062348,0.4768067043000628,0.5231356487600086,0.5331694843431147,0.5088493655939023,0.6162538445150583,0.5963978258017437,0.448544333603722,0.6406941891982496,0.5527858724049597,0.5688672920992633],[0.6622489970728677,0.6232321127258573,0.6572802643875069,0.4598964472023304,0.36675284636619543,0.571952029647627,0.42970643690936455,0.5620243633534489,0.47774133893529414,0.4261488397275017,0.4524458349189254,0.6726729446559464,0.5326858883596131,0.4015988031690585,0.43800058148385124,0.6458356105822738,0.35290868750886145,0.5282599552268095,0.4262418678072797,0.4914527516723982,0.3784028337460457,0.4403766625480937,0.3413055280300471,0.6024278781535848,0.5667494342958856,0.46415638597880615,0.5159333735600903,0.48868413176571834,0.4554767507778462,0.5058579758009316,0.4621459633301967,0.5656095987729938,0.43753150678747366,0.475010812746963,0.4428898249451199,0.4587140738154428,0.5005057056058131,0.44576796053012147,0.5549189722782462,1.0000000000000002,0.484177237200878,0.5855063974140942,0.5222045914808178,0.5463502268115694,0.5186949709575684,0.48199812193924224,0.5559027144820666,0.530994814983538,0.4671416817999864,0.5518853966831991,0.4758480255912293],[0.542083775504828,0.5316204113280303,0.5284851249623761,0.37552041921803647,0.24578512288729187,0.40667336652001046,0.2755359110100921,0.3400081267556223,0.4294744322981267,0.36585444374715276,0.37455323709494465,0.3762845781735332,0.30274641410564745,0.4058491075087285,0.26368082765635187,0.43690323803429154,0.355801376112187,0.40445835946839315,0.34026377492947,0.3312238564524437,0.20642240235984222,0.33718259322167565,0.34843683127388464,0.4246043517278105,0.7315277994816698,0.40923174875992974,0.3875721691162348,0.7208849257693761,0.3093337506591295,0.5705973832894439,0.3314823605800472,0.5247206553274681,0.46177646051032883,0.4345519622546312,0.2738224943729772,0.42400237728871243,0.4088443899158243,0.4018492668834862,0.5046442350062348,0.484177237200878,0.9999999999999997,0.45196851438176866,0.4002465511294112,0.3782864609300835,0.6057816874781357,0.3817162665241668,0.3798965291446549,0.5050349902926877,0.4075429637244413,0.3968797013854488,0.4229728994868488],[0.6125029225574081,0.5957475232894537,0.6365438518560947,0.5155580255505376,0.24658148992475215,0.4273063193834663,0.4099173645364695,0.42420960833086296,0.5002690505082843,0.366308812528089,0.48347315769549926,0.6337220474117577,0.44254614237094425,0.4073323614577238,0.4031051898284403,0.5006693003295936,0.3893094289875777,0.5403193856768862,0.36926559816849963,0.3663400124859733,0.32452626763768294,0.5808091082493951,0.4164204172204734,0.6439730213305637,0.4843346146386387,0.46885781053452524,0.46612008360012525,0.38858471114555565,0.4927899840542187,0.4654115198640586,0.4479637907398838,0.5023052965681228,0.3599464258069068,0.44726889527299435,0.39104078667632636,0.5125357115503981,0.459300697579467,0.4061586842828114,0.4768067043000628,0.5855063974140942,0.45196851438176866,0.9999999999999996,0.5556152499072887,0.5299083055720519,0.48088724962777907,0.4311878160554081,0.45043568897247077,0.41595670695453135,0.41463855975694636,0.6547571270529182,0.4968476179159968],[0.7295960504490097,0.7370862938620636,0.6358034280459536,0.5162832020964974,0.369544397083991,0.34965204761977886,0.4240114535488463,0.5446435969634579,0.632702841220681,0.5441373108272032,0.6840453598144696,0.5153858787578494,0.5913147141353818,0.46792888023107715,0.5083880902946533,0.4932501479975543,0.46654317524799743,0.4727688886882988,0.42265155037259317,0.4749122163749968,0.23644662077878847,0.546002464937078,0.6437452525267948,0.5819089208186872,0.5407398596763203,0.5808923002036528,0.5084642660157239,0.3349568031004784,0.491263198900296,0.5457655640733018,0.46829184932050544,0.5252146757191158,0.4563499034476849,0.5207176510738392,0.48834353017155163,0.49978112258231844,0.8217602783434745,0.4187764765750809,0.5231356487600086,0.5222045914808178,0.4002465511294112,0.5556152499072887,1.0000000000000002,0.5035268654086577,0.5485801980374112,0.467281291986471,0.586057873484835,0.39698504372516064,0.5551579801397739,0.6326956901072752,0.6314665954358165],[0.673025014144147,0.6055272310458316,0.6422562219872796,0.654373817464441,0.386329725335405,0.4414384598436344,0.5145683178697237,0.5757926376859646,0.4993928955395453,0.4035180992053974,0.4842568210975349,0.526103155184852,0.678889804828713,0.431970184088739,0.4859153949255716,0.6063687091329801,0.4054511845991658,0.5498744383397882,0.3945913029246515,0.4907974364976053,0.27574400002010147,0.5244638297773196,0.4849252907206968,0.5930009366410363,0.42171615098051773,0.47831669705589297,0.4404126409339193,0.2787248277084018,0.47433579196614906,0.4625274313619798,0.44193422742254307,0.45023698850343286,0.4903915273915104,0.6671580242748082,0.6053027083794567,0.48338581802569663,0.5012143071666922,0.4989459402643833,0.5331694843431147,0.5463502268115694,0.3782864609300835,0.5299083055720519,0.5035268654086577,1.0000000000000004,0.3795772257121285,0.47987241327189323,0.5489018620264566,0.49117839033363964,0.48506155392232564,0.6435345036034932,0.5161901922404661],[0.6297823873859538,0.6317144657992957,0.5471745628200153,0.4499911119002543,0.29360591075159237,0.47120623021584174,0.39308103215966933,0.4511317503915202,0.4767495607557982,0.3935062080006567,0.42742541164167913,0.4489343897743443,0.43259182831620513,0.42889648186244744,0.424046314567561,0.5480053890548994,0.3726649084036122,0.4790476850584109,0.38061609886807946,0.438189905345436,0.18383694544688065,0.4597966643904198,0.4219516903952155,0.39209975060343044,0.64316675818555,0.49193179557315414,0.43420672328394955,0.6230977929558653,0.5611865600376851,0.4802287686934201,0.41832330798908474,0.5558216271001776,0.407381564886123,0.4834999408446048,0.3011397236844489,0.43928271698560106,0.5534631451634658,0.4472972457706048,0.5088493655939023,0.5186949709575684,0.6057816874781357,0.48088724962777907,0.5485801980374112,0.3795772257121285,0.9999999999999999,0.438599796248477,0.4181812437275858,0.3871227872420201,0.5070668542795715,0.48299211099353023,0.49460227644310506],[0.5802207221436132,0.5591195204401608,0.5433109503082469,0.5242973013208161,0.34706497517475177,0.3817479255608978,0.39415478712918545,0.6347288095372874,0.4950444143898085,0.3306550615211792,0.48066104398296405,0.4108282844977297,0.5037303232474575,0.40180241682503104,0.42032514951091093,0.4614749881366445,0.4430814090918269,0.3957516046803753,0.3775816973732594,0.45017217579457747,0.16722082014568876,0.36483089320596196,0.38616937336664015,0.453595665707567,0.4890599754552347,0.4411960898137919,0.5323177005609696,0.28777983465407686,0.4974813668414161,0.4009770269439749,0.38775725555250873,0.42751813537686606,0.4629894524201277,0.4468654007769731,0.360713936373063,0.5205644623926696,0.41640101279383435,0.309563080212178,0.6162538445150583,0.48199812193924224,0.3817162665241668,0.4311878160554081,0.467281291986471,0.47987241327189323,0.438599796248477,0.9999999999999989,0.4965517703325901,0.394006103225475,0.4486045016740249,0.4102507692755105,0.4574782528400705],[0.6948758994191493,0.7085993316383142,0.6171334366955004,0.605438630045075,0.3882730069838681,0.3327539955575877,0.4217784116021154,0.6044377389552019,0.4958781413689475,0.46982626934719746,0.5147069604780413,0.4746374194535933,0.614907240208479,0.5299019190176076,0.4199116150004382,0.5383048885636326,0.43798876068714865,0.4884277446429586,0.45436793466765346,0.47813293174745863,0.19479047114181852,0.5025104003927217,0.4761720873181512,0.5100440999245346,0.4677015298377043,0.514984942217592,0.47405015665770184,0.3381147067709126,0.3825218979716359,0.45617341512792,0.5421634496906542,0.464845142643896,0.5294009358858762,0.5502236120814875,0.6157960491070946,0.5070902298593933,0.516180579231149,0.4691458320277606,0.5963978258017437,0.5559027144820666,0.3798965291446549,0.45043568897247077,0.586057873484835,0.5489018620264566,0.4181812437275858,0.4965517703325901,0.9999999999999991,0.40912683282788664,0.6716472217381395,0.5687100881636695,0.540076556359436],[0.5163147952958971,0.5120540188212543,0.47296453620172224,0.44142586862917066,0.29413432590199884,0.43891622221110904,0.2787497694885769,0.4790422780135919,0.4164976693546938,0.2965725921549793,0.42094005025324593,0.48363161759726625,0.4387928479713248,0.35613362670788995,0.32454345339159674,0.44403846503340094,0.3043043913464485,0.3728324651261701,0.3135686431873399,0.36550204850044005,0.14348330296947454,0.3174661290806809,0.3831011318058137,0.4371367029680814,0.5483289250833544,0.40966655262846663,0.3337799268934289,0.45270150827716205,0.30928955537137515,0.4889139507178344,0.23180314888540754,0.3672307785655708,0.44018539402116275,0.430284476632843,0.34284698643547035,0.6618127880422863,0.4650774651400653,0.39819998413571067,0.448544333603722,0.530994814983538,0.5050349902926877,0.41595670695453135,0.39698504372516064,0.49117839033363964,0.3871227872420201,0.394006103225475,0.40912683282788664,1.000000000000001,0.3002809480330847,0.446167142916468,0.39455816040956715],[0.6762773198392755,0.6485283640160228,0.5838552457115391,0.4990092016849015,0.24775290493106156,0.3231105975159423,0.4336290540751567,0.5198115497731699,0.5221717865845301,0.4909005320400479,0.5629042734854072,0.3984607847916184,0.5607977079022131,0.45276643559358987,0.43749474673753974,0.48927435760882887,0.4617462897933037,0.5044912375893329,0.4262788624468932,0.49017483043717636,0.1622777869617542,0.5115336896362161,0.5161690190130567,0.4645916594402555,0.5018983863327263,0.4668134670465556,0.46629456800085295,0.3448058905396158,0.5174544606201928,0.4434992703117132,0.4279474881533503,0.43560412902340695,0.5065487111518026,0.5273474028620653,0.43275823299147403,0.44928333116745994,0.5588553935415673,0.47377297524618683,0.6406941891982496,0.4671416817999864,0.4075429637244413,0.41463855975694636,0.5551579801397739,0.48506155392232564,0.5070668542795715,0.4486045016740249,0.6716472217381395,0.3002809480330847,0.9999999999999997,0.5251466966572522,0.5671774879345262],[0.7061401817046077,0.6865565474251727,0.6795876458489197,0.6030691514744998,0.3408315575812614,0.3822832048701017,0.4600684057049539,0.4950601240876054,0.5788284932007897,0.3984714251274788,0.5243826421937351,0.5924082525262226,0.5879321762664734,0.4422658619766838,0.5445977610043695,0.6905919559087093,0.5018566787122285,0.5929426931353808,0.389389734721506,0.48215302897318235,0.29292009271760683,0.5583778834129842,0.5143450546247399,0.6316129529260975,0.4707301795293398,0.5063437807632178,0.4489118067732241,0.3271007038805611,0.4538772748704259,0.5299985826506735,0.45435069296504965,0.5124873902549076,0.35140054151929057,0.5404698638391303,0.5231486267277109,0.5268453794541323,0.5683503328773938,0.4912651527713645,0.5527858724049597,0.5518853966831991,0.3968797013854488,0.6547571270529182,0.6326956901072752,0.6435345036034932,0.48299211099353023,0.4102507692755105,0.5687100881636695,0.446167142916468,0.5251466966572522,0.9999999999999991,0.5242425439654519],[0.6938174246934303,0.6982406302267397,0.5929957256356326,0.602483722100847,0.3171182084693249,0.3351727065300143,0.4914312096826434,0.5675770323137103,0.5191890461993771,0.7164755131304629,0.5563168448722817,0.4811525792428911,0.5625318048443737,0.4165669349373426,0.46723496461924113,0.4712726130144174,0.5117257569093644,0.5135203848871731,0.37974177823448524,0.5225859385604952,0.20327102709122638,0.5354221655620889,0.46397861403182955,0.5099304533024871,0.5872746244270556,0.5373275245815874,0.4301095943750488,0.33384683429500406,0.5834183298479458,0.45246527824767757,0.46592222460168936,0.4918875203398242,0.4790969562483576,0.6040671593983734,0.49169432683722125,0.5680481617237094,0.5772743982536099,0.34852644483425194,0.5688672920992633,0.4758480255912293,0.4229728994868488,0.4968476179159968,0.6314665954358165,0.5161901922404661,0.49460227644310506,0.4574782528400705,0.540076556359436,0.39455816040956715,0.5671774879345262,0.5242425439654519,0.9999999999999997]],\"type\":\"heatmap\",\"xaxis\":\"x\",\"yaxis\":\"y\",\"hovertemplate\":\"x: %{x}<br>y: %{y}<br>Similarity Score: %{z}<extra></extra>\"}],                        {\"template\":{\"data\":{\"histogram2dcontour\":[{\"type\":\"histogram2dcontour\",\"colorbar\":{\"outlinewidth\":0,\"ticks\":\"\"},\"colorscale\":[[0.0,\"#0d0887\"],[0.1111111111111111,\"#46039f\"],[0.2222222222222222,\"#7201a8\"],[0.3333333333333333,\"#9c179e\"],[0.4444444444444444,\"#bd3786\"],[0.5555555555555556,\"#d8576b\"],[0.6666666666666666,\"#ed7953\"],[0.7777777777777778,\"#fb9f3a\"],[0.8888888888888888,\"#fdca26\"],[1.0,\"#f0f921\"]]}],\"choropleth\":[{\"type\":\"choropleth\",\"colorbar\":{\"outlinewidth\":0,\"ticks\":\"\"}}],\"histogram2d\":[{\"type\":\"histogram2d\",\"colorbar\":{\"outlinewidth\":0,\"ticks\":\"\"},\"colorscale\":[[0.0,\"#0d0887\"],[0.1111111111111111,\"#46039f\"],[0.2222222222222222,\"#7201a8\"],[0.3333333333333333,\"#9c179e\"],[0.4444444444444444,\"#bd3786\"],[0.5555555555555556,\"#d8576b\"],[0.6666666666666666,\"#ed7953\"],[0.7777777777777778,\"#fb9f3a\"],[0.8888888888888888,\"#fdca26\"],[1.0,\"#f0f921\"]]}],\"heatmap\":[{\"type\":\"heatmap\",\"colorbar\":{\"outlinewidth\":0,\"ticks\":\"\"},\"colorscale\":[[0.0,\"#0d0887\"],[0.1111111111111111,\"#46039f\"],[0.2222222222222222,\"#7201a8\"],[0.3333333333333333,\"#9c179e\"],[0.4444444444444444,\"#bd3786\"],[0.5555555555555556,\"#d8576b\"],[0.6666666666666666,\"#ed7953\"],[0.7777777777777778,\"#fb9f3a\"],[0.8888888888888888,\"#fdca26\"],[1.0,\"#f0f921\"]]}],\"heatmapgl\":[{\"type\":\"heatmapgl\",\"colorbar\":{\"outlinewidth\":0,\"ticks\":\"\"},\"colorscale\":[[0.0,\"#0d0887\"],[0.1111111111111111,\"#46039f\"],[0.2222222222222222,\"#7201a8\"],[0.3333333333333333,\"#9c179e\"],[0.4444444444444444,\"#bd3786\"],[0.5555555555555556,\"#d8576b\"],[0.6666666666666666,\"#ed7953\"],[0.7777777777777778,\"#fb9f3a\"],[0.8888888888888888,\"#fdca26\"],[1.0,\"#f0f921\"]]}],\"contourcarpet\":[{\"type\":\"contourcarpet\",\"colorbar\":{\"outlinewidth\":0,\"ticks\":\"\"}}],\"contour\":[{\"type\":\"contour\",\"colorbar\":{\"outlinewidth\":0,\"ticks\":\"\"},\"colorscale\":[[0.0,\"#0d0887\"],[0.1111111111111111,\"#46039f\"],[0.2222222222222222,\"#7201a8\"],[0.3333333333333333,\"#9c179e\"],[0.4444444444444444,\"#bd3786\"],[0.5555555555555556,\"#d8576b\"],[0.6666666666666666,\"#ed7953\"],[0.7777777777777778,\"#fb9f3a\"],[0.8888888888888888,\"#fdca26\"],[1.0,\"#f0f921\"]]}],\"surface\":[{\"type\":\"surface\",\"colorbar\":{\"outlinewidth\":0,\"ticks\":\"\"},\"colorscale\":[[0.0,\"#0d0887\"],[0.1111111111111111,\"#46039f\"],[0.2222222222222222,\"#7201a8\"],[0.3333333333333333,\"#9c179e\"],[0.4444444444444444,\"#bd3786\"],[0.5555555555555556,\"#d8576b\"],[0.6666666666666666,\"#ed7953\"],[0.7777777777777778,\"#fb9f3a\"],[0.8888888888888888,\"#fdca26\"],[1.0,\"#f0f921\"]]}],\"mesh3d\":[{\"type\":\"mesh3d\",\"colorbar\":{\"outlinewidth\":0,\"ticks\":\"\"}}],\"scatter\":[{\"fillpattern\":{\"fillmode\":\"overlay\",\"size\":10,\"solidity\":0.2},\"type\":\"scatter\"}],\"parcoords\":[{\"type\":\"parcoords\",\"line\":{\"colorbar\":{\"outlinewidth\":0,\"ticks\":\"\"}}}],\"scatterpolargl\":[{\"type\":\"scatterpolargl\",\"marker\":{\"colorbar\":{\"outlinewidth\":0,\"ticks\":\"\"}}}],\"bar\":[{\"error_x\":{\"color\":\"#2a3f5f\"},\"error_y\":{\"color\":\"#2a3f5f\"},\"marker\":{\"line\":{\"color\":\"#E5ECF6\",\"width\":0.5},\"pattern\":{\"fillmode\":\"overlay\",\"size\":10,\"solidity\":0.2}},\"type\":\"bar\"}],\"scattergeo\":[{\"type\":\"scattergeo\",\"marker\":{\"colorbar\":{\"outlinewidth\":0,\"ticks\":\"\"}}}],\"scatterpolar\":[{\"type\":\"scatterpolar\",\"marker\":{\"colorbar\":{\"outlinewidth\":0,\"ticks\":\"\"}}}],\"histogram\":[{\"marker\":{\"pattern\":{\"fillmode\":\"overlay\",\"size\":10,\"solidity\":0.2}},\"type\":\"histogram\"}],\"scattergl\":[{\"type\":\"scattergl\",\"marker\":{\"colorbar\":{\"outlinewidth\":0,\"ticks\":\"\"}}}],\"scatter3d\":[{\"type\":\"scatter3d\",\"line\":{\"colorbar\":{\"outlinewidth\":0,\"ticks\":\"\"}},\"marker\":{\"colorbar\":{\"outlinewidth\":0,\"ticks\":\"\"}}}],\"scattermapbox\":[{\"type\":\"scattermapbox\",\"marker\":{\"colorbar\":{\"outlinewidth\":0,\"ticks\":\"\"}}}],\"scatterternary\":[{\"type\":\"scatterternary\",\"marker\":{\"colorbar\":{\"outlinewidth\":0,\"ticks\":\"\"}}}],\"scattercarpet\":[{\"type\":\"scattercarpet\",\"marker\":{\"colorbar\":{\"outlinewidth\":0,\"ticks\":\"\"}}}],\"carpet\":[{\"aaxis\":{\"endlinecolor\":\"#2a3f5f\",\"gridcolor\":\"white\",\"linecolor\":\"white\",\"minorgridcolor\":\"white\",\"startlinecolor\":\"#2a3f5f\"},\"baxis\":{\"endlinecolor\":\"#2a3f5f\",\"gridcolor\":\"white\",\"linecolor\":\"white\",\"minorgridcolor\":\"white\",\"startlinecolor\":\"#2a3f5f\"},\"type\":\"carpet\"}],\"table\":[{\"cells\":{\"fill\":{\"color\":\"#EBF0F8\"},\"line\":{\"color\":\"white\"}},\"header\":{\"fill\":{\"color\":\"#C8D4E3\"},\"line\":{\"color\":\"white\"}},\"type\":\"table\"}],\"barpolar\":[{\"marker\":{\"line\":{\"color\":\"#E5ECF6\",\"width\":0.5},\"pattern\":{\"fillmode\":\"overlay\",\"size\":10,\"solidity\":0.2}},\"type\":\"barpolar\"}],\"pie\":[{\"automargin\":true,\"type\":\"pie\"}]},\"layout\":{\"autotypenumbers\":\"strict\",\"colorway\":[\"#636efa\",\"#EF553B\",\"#00cc96\",\"#ab63fa\",\"#FFA15A\",\"#19d3f3\",\"#FF6692\",\"#B6E880\",\"#FF97FF\",\"#FECB52\"],\"font\":{\"color\":\"#2a3f5f\"},\"hovermode\":\"closest\",\"hoverlabel\":{\"align\":\"left\"},\"paper_bgcolor\":\"white\",\"plot_bgcolor\":\"#E5ECF6\",\"polar\":{\"bgcolor\":\"#E5ECF6\",\"angularaxis\":{\"gridcolor\":\"white\",\"linecolor\":\"white\",\"ticks\":\"\"},\"radialaxis\":{\"gridcolor\":\"white\",\"linecolor\":\"white\",\"ticks\":\"\"}},\"ternary\":{\"bgcolor\":\"#E5ECF6\",\"aaxis\":{\"gridcolor\":\"white\",\"linecolor\":\"white\",\"ticks\":\"\"},\"baxis\":{\"gridcolor\":\"white\",\"linecolor\":\"white\",\"ticks\":\"\"},\"caxis\":{\"gridcolor\":\"white\",\"linecolor\":\"white\",\"ticks\":\"\"}},\"coloraxis\":{\"colorbar\":{\"outlinewidth\":0,\"ticks\":\"\"}},\"colorscale\":{\"sequential\":[[0.0,\"#0d0887\"],[0.1111111111111111,\"#46039f\"],[0.2222222222222222,\"#7201a8\"],[0.3333333333333333,\"#9c179e\"],[0.4444444444444444,\"#bd3786\"],[0.5555555555555556,\"#d8576b\"],[0.6666666666666666,\"#ed7953\"],[0.7777777777777778,\"#fb9f3a\"],[0.8888888888888888,\"#fdca26\"],[1.0,\"#f0f921\"]],\"sequentialminus\":[[0.0,\"#0d0887\"],[0.1111111111111111,\"#46039f\"],[0.2222222222222222,\"#7201a8\"],[0.3333333333333333,\"#9c179e\"],[0.4444444444444444,\"#bd3786\"],[0.5555555555555556,\"#d8576b\"],[0.6666666666666666,\"#ed7953\"],[0.7777777777777778,\"#fb9f3a\"],[0.8888888888888888,\"#fdca26\"],[1.0,\"#f0f921\"]],\"diverging\":[[0,\"#8e0152\"],[0.1,\"#c51b7d\"],[0.2,\"#de77ae\"],[0.3,\"#f1b6da\"],[0.4,\"#fde0ef\"],[0.5,\"#f7f7f7\"],[0.6,\"#e6f5d0\"],[0.7,\"#b8e186\"],[0.8,\"#7fbc41\"],[0.9,\"#4d9221\"],[1,\"#276419\"]]},\"xaxis\":{\"gridcolor\":\"white\",\"linecolor\":\"white\",\"ticks\":\"\",\"title\":{\"standoff\":15},\"zerolinecolor\":\"white\",\"automargin\":true,\"zerolinewidth\":2},\"yaxis\":{\"gridcolor\":\"white\",\"linecolor\":\"white\",\"ticks\":\"\",\"title\":{\"standoff\":15},\"zerolinecolor\":\"white\",\"automargin\":true,\"zerolinewidth\":2},\"scene\":{\"xaxis\":{\"backgroundcolor\":\"#E5ECF6\",\"gridcolor\":\"white\",\"linecolor\":\"white\",\"showbackground\":true,\"ticks\":\"\",\"zerolinecolor\":\"white\",\"gridwidth\":2},\"yaxis\":{\"backgroundcolor\":\"#E5ECF6\",\"gridcolor\":\"white\",\"linecolor\":\"white\",\"showbackground\":true,\"ticks\":\"\",\"zerolinecolor\":\"white\",\"gridwidth\":2},\"zaxis\":{\"backgroundcolor\":\"#E5ECF6\",\"gridcolor\":\"white\",\"linecolor\":\"white\",\"showbackground\":true,\"ticks\":\"\",\"zerolinecolor\":\"white\",\"gridwidth\":2}},\"shapedefaults\":{\"line\":{\"color\":\"#2a3f5f\"}},\"annotationdefaults\":{\"arrowcolor\":\"#2a3f5f\",\"arrowhead\":0,\"arrowwidth\":1},\"geo\":{\"bgcolor\":\"white\",\"landcolor\":\"#E5ECF6\",\"subunitcolor\":\"white\",\"showland\":true,\"showlakes\":true,\"lakecolor\":\"white\"},\"title\":{\"x\":0.05},\"mapbox\":{\"style\":\"light\"}}},\"xaxis\":{\"anchor\":\"y\",\"domain\":[0.0,1.0],\"scaleanchor\":\"y\",\"constrain\":\"domain\"},\"yaxis\":{\"anchor\":\"x\",\"domain\":[0.0,1.0],\"autorange\":\"reversed\",\"constrain\":\"domain\"},\"coloraxis\":{\"colorbar\":{\"title\":{\"text\":\"Similarity Score\"}},\"colorscale\":[[0.0,\"rgb(247,252,240)\"],[0.125,\"rgb(224,243,219)\"],[0.25,\"rgb(204,235,197)\"],[0.375,\"rgb(168,221,181)\"],[0.5,\"rgb(123,204,196)\"],[0.625,\"rgb(78,179,211)\"],[0.75,\"rgb(43,140,190)\"],[0.875,\"rgb(8,104,172)\"],[1.0,\"rgb(8,64,129)\"]]},\"margin\":{\"t\":60},\"title\":{\"font\":{\"size\":22,\"color\":\"Black\"},\"text\":\"<b>Similarity Matrix\",\"y\":0.95,\"x\":0.55,\"xanchor\":\"center\",\"yanchor\":\"top\"},\"hoverlabel\":{\"font\":{\"size\":16,\"family\":\"Rockwell\"},\"bgcolor\":\"white\"},\"width\":800,\"height\":800,\"showlegend\":true,\"legend\":{\"title\":{\"text\":\"Trend\"}}},                        {\"responsive\": true}                    ).then(function(){\n",
       "                            \n",
       "var gd = document.getElementById('5208575c-3402-401c-beba-694a6fbb1556');\n",
       "var x = new MutationObserver(function (mutations, observer) {{\n",
       "        var display = window.getComputedStyle(gd).display;\n",
       "        if (!display || display === 'none') {{\n",
       "            console.log([gd, 'removed!']);\n",
       "            Plotly.purge(gd);\n",
       "            observer.disconnect();\n",
       "        }}\n",
       "}});\n",
       "\n",
       "// Listen for the removal of the full notebook cells\n",
       "var notebookContainer = gd.closest('#notebook-container');\n",
       "if (notebookContainer) {{\n",
       "    x.observe(notebookContainer, {childList: true});\n",
       "}}\n",
       "\n",
       "// Listen for the clearing of the current output cell\n",
       "var outputEl = gd.closest('.output');\n",
       "if (outputEl) {{\n",
       "    x.observe(outputEl, {childList: true});\n",
       "}}\n",
       "\n",
       "                        })                };                });            </script>        </div>"
      ]
     },
     "metadata": {},
     "output_type": "display_data"
    }
   ],
   "source": [
    "topic_model.visualize_heatmap()"
   ]
  },
  {
   "cell_type": "code",
   "execution_count": 18,
   "id": "8eb1a5dd",
   "metadata": {},
   "outputs": [
    {
     "data": {
      "text/plain": [
       "[('خواب', 0.09559486619029868),\n",
       " ('خوابم', 0.07206880840207146),\n",
       " ('بخوابم', 0.05380682545213605),\n",
       " ('صبح', 0.04787970658537198),\n",
       " ('بیدار', 0.04287943660089377),\n",
       " ('شب', 0.039177020434651724),\n",
       " ('میخوابم', 0.03301651588086282),\n",
       " ('خوابیدم', 0.028168516213682968),\n",
       " ('خوابی', 0.024710713726117443),\n",
       " ('دورکاری', 0.020285529974733624)]"
      ]
     },
     "execution_count": 18,
     "metadata": {},
     "output_type": "execute_result"
    }
   ],
   "source": [
    "topic_model.get_topic(4)"
   ]
  },
  {
   "cell_type": "markdown",
   "id": "efc1cb28",
   "metadata": {},
   "source": [
    "## language=\"multilingual\", nr_topics=10"
   ]
  },
  {
   "cell_type": "code",
   "execution_count": 19,
   "id": "07b7ea20",
   "metadata": {},
   "outputs": [
    {
     "name": "stdout",
     "output_type": "stream",
     "text": [
      "huggingface/tokenizers: The current process just got forked, after parallelism has already been used. Disabling parallelism to avoid deadlocks...\n",
      "To disable this warning, you can either:\n",
      "\t- Avoid using `tokenizers` before the fork if possible\n",
      "\t- Explicitly set the environment variable TOKENIZERS_PARALLELISM=(true | false)\n",
      "huggingface/tokenizers: The current process just got forked, after parallelism has already been used. Disabling parallelism to avoid deadlocks...\n",
      "To disable this warning, you can either:\n",
      "\t- Avoid using `tokenizers` before the fork if possible\n",
      "\t- Explicitly set the environment variable TOKENIZERS_PARALLELISM=(true | false)\n",
      "huggingface/tokenizers: The current process just got forked, after parallelism has already been used. Disabling parallelism to avoid deadlocks...\n",
      "To disable this warning, you can either:\n",
      "\t- Avoid using `tokenizers` before the fork if possible\n",
      "\t- Explicitly set the environment variable TOKENIZERS_PARALLELISM=(true | false)\n",
      "huggingface/tokenizers: The current process just got forked, after parallelism has already been used. Disabling parallelism to avoid deadlocks...\n",
      "To disable this warning, you can either:\n",
      "\t- Avoid using `tokenizers` before the fork if possible\n",
      "\t- Explicitly set the environment variable TOKENIZERS_PARALLELISM=(true | false)\n"
     ]
    }
   ],
   "source": [
    "topic_model = BERTopic(language=\"multilingual\", nr_topics=10)\n",
    "topics, probs = topic_model.fit_transform(tweets)"
   ]
  },
  {
   "cell_type": "code",
   "execution_count": 20,
   "id": "82e9c42e",
   "metadata": {},
   "outputs": [
    {
     "data": {
      "text/html": [
       "<div>\n",
       "<style scoped>\n",
       "    .dataframe tbody tr th:only-of-type {\n",
       "        vertical-align: middle;\n",
       "    }\n",
       "\n",
       "    .dataframe tbody tr th {\n",
       "        vertical-align: top;\n",
       "    }\n",
       "\n",
       "    .dataframe thead th {\n",
       "        text-align: right;\n",
       "    }\n",
       "</style>\n",
       "<table border=\"1\" class=\"dataframe\">\n",
       "  <thead>\n",
       "    <tr style=\"text-align: right;\">\n",
       "      <th></th>\n",
       "      <th>Topic</th>\n",
       "      <th>Count</th>\n",
       "      <th>Name</th>\n",
       "    </tr>\n",
       "  </thead>\n",
       "  <tbody>\n",
       "    <tr>\n",
       "      <th>0</th>\n",
       "      <td>-1</td>\n",
       "      <td>36074</td>\n",
       "      <td>-1_دورکاری_کار_می_خونه</td>\n",
       "    </tr>\n",
       "    <tr>\n",
       "      <th>1</th>\n",
       "      <td>0</td>\n",
       "      <td>2725</td>\n",
       "      <td>0_دورکاری_تهران_کارمندان_کار</td>\n",
       "    </tr>\n",
       "    <tr>\n",
       "      <th>2</th>\n",
       "      <td>1</td>\n",
       "      <td>1497</td>\n",
       "      <td>1_چاپ_خانگی_سیلک_شغل</td>\n",
       "    </tr>\n",
       "    <tr>\n",
       "      <th>3</th>\n",
       "      <td>2</td>\n",
       "      <td>880</td>\n",
       "      <td>2_اینترنت_کار_دورکاری_اینترنتی</td>\n",
       "    </tr>\n",
       "    <tr>\n",
       "      <th>4</th>\n",
       "      <td>3</td>\n",
       "      <td>768</td>\n",
       "      <td>3_ریموت_کار_ایران_دلار</td>\n",
       "    </tr>\n",
       "    <tr>\n",
       "      <th>5</th>\n",
       "      <td>4</td>\n",
       "      <td>602</td>\n",
       "      <td>4_پروژه_بازارکار_توضیحات_نمایید</td>\n",
       "    </tr>\n",
       "    <tr>\n",
       "      <th>6</th>\n",
       "      <td>5</td>\n",
       "      <td>600</td>\n",
       "      <td>5_زنگ_دورکاری_می_خونه</td>\n",
       "    </tr>\n",
       "    <tr>\n",
       "      <th>7</th>\n",
       "      <td>6</td>\n",
       "      <td>585</td>\n",
       "      <td>6_دورکاری_خر_سرپرستیتو_شراط</td>\n",
       "    </tr>\n",
       "    <tr>\n",
       "      <th>8</th>\n",
       "      <td>7</td>\n",
       "      <td>554</td>\n",
       "      <td>7_دورکار_حضوری_سرکار_دورکاری</td>\n",
       "    </tr>\n",
       "    <tr>\n",
       "      <th>9</th>\n",
       "      <td>8</td>\n",
       "      <td>538</td>\n",
       "      <td>8_زن_زنان_خانه_کار</td>\n",
       "    </tr>\n",
       "    <tr>\n",
       "      <th>10</th>\n",
       "      <td>9</td>\n",
       "      <td>536</td>\n",
       "      <td>9_دورکاری_نمی_دورکار_قبول</td>\n",
       "    </tr>\n",
       "  </tbody>\n",
       "</table>\n",
       "</div>"
      ],
      "text/plain": [
       "    Topic  Count                             Name\n",
       "0      -1  36074           -1_دورکاری_کار_می_خونه\n",
       "1       0   2725     0_دورکاری_تهران_کارمندان_کار\n",
       "2       1   1497             1_چاپ_خانگی_سیلک_شغل\n",
       "3       2    880   2_اینترنت_کار_دورکاری_اینترنتی\n",
       "4       3    768           3_ریموت_کار_ایران_دلار\n",
       "5       4    602  4_پروژه_بازارکار_توضیحات_نمایید\n",
       "6       5    600            5_زنگ_دورکاری_می_خونه\n",
       "7       6    585      6_دورکاری_خر_سرپرستیتو_شراط\n",
       "8       7    554     7_دورکار_حضوری_سرکار_دورکاری\n",
       "9       8    538               8_زن_زنان_خانه_کار\n",
       "10      9    536        9_دورکاری_نمی_دورکار_قبول"
      ]
     },
     "execution_count": 20,
     "metadata": {},
     "output_type": "execute_result"
    }
   ],
   "source": [
    "res_df = topic_model.get_topic_info()\n",
    "res_df"
   ]
  },
  {
   "cell_type": "code",
   "execution_count": 21,
   "id": "93c512da",
   "metadata": {},
   "outputs": [
    {
     "data": {
      "application/vnd.plotly.v1+json": {
       "config": {
        "plotlyServerURL": "https://plot.ly"
       },
       "data": [
        {
         "customdata": [
          [
           0,
           "دورکاری | تهران | کارمندان | کار | کرونا",
           2725
          ],
          [
           1,
           "چاپ | خانگی | سیلک | شغل | دستگاه",
           1497
          ],
          [
           2,
           "اینترنت | کار | دورکاری | اینترنتی | سرعت",
           880
          ],
          [
           3,
           "ریموت | کار | ایران | دلار | شرکت",
           768
          ],
          [
           4,
           "پروژه | بازارکار | توضیحات | نمایید | ارسال",
           602
          ],
          [
           5,
           "زنگ | دورکاری | می | خونه | جواب",
           600
          ],
          [
           6,
           "دورکاری | خر | سرپرستیتو | شراط | زیباتره",
           585
          ],
          [
           7,
           "دورکار | حضوری | سرکار | دورکاری | حضور",
           554
          ],
          [
           8,
           "زن | زنان | خانه | کار | مرد",
           538
          ],
          [
           9,
           "دورکاری | نمی | دورکار | قبول | نیستی",
           536
          ]
         ],
         "hovertemplate": "<b>Topic %{customdata[0]}</b><br>Words: %{customdata[1]}<br>Size: %{customdata[2]}",
         "legendgroup": "",
         "marker": {
          "color": "#B0BEC5",
          "line": {
           "color": "DarkSlateGrey",
           "width": 2
          },
          "size": [
           2725,
           1497,
           880,
           768,
           602,
           600,
           585,
           554,
           538,
           536
          ],
          "sizemode": "area",
          "sizeref": 1.703125,
          "symbol": "circle"
         },
         "mode": "markers",
         "name": "",
         "orientation": "v",
         "showlegend": false,
         "type": "scatter",
         "x": [
          1.572528600692749,
          1.4569841623306274,
          2.246108055114746,
          2.899484395980835,
          2.438985586166382,
          3.3124003410339355,
          2.0959277153015137,
          2.6863510608673096,
          1.8930155038833618,
          3.5717554092407227
         ],
         "xaxis": "x",
         "y": [
          8.296425819396973,
          9.521903038024902,
          8.499074935913086,
          7.4045209884643555,
          7.118103981018066,
          3.44415020942688,
          3.9908063411712646,
          3.6440796852111816,
          9.223586082458496,
          3.829008102416992
         ],
         "yaxis": "y"
        }
       ],
       "layout": {
        "annotations": [
         {
          "showarrow": false,
          "text": "D1",
          "x": 1.2384365379810334,
          "y": 6.938858085870743,
          "yshift": 10
         },
         {
          "showarrow": false,
          "text": "D2",
          "x": 2.672977629303932,
          "xshift": 10,
          "y": 10.950188493728637
         }
        ],
        "height": 650,
        "hoverlabel": {
         "bgcolor": "white",
         "font": {
          "family": "Rockwell",
          "size": 16
         }
        },
        "legend": {
         "itemsizing": "constant",
         "tracegroupgap": 0
        },
        "margin": {
         "t": 60
        },
        "shapes": [
         {
          "line": {
           "color": "#CFD8DC",
           "width": 2
          },
          "type": "line",
          "x0": 2.672977629303932,
          "x1": 2.672977629303932,
          "y0": 2.927527678012848,
          "y1": 10.950188493728637
         },
         {
          "line": {
           "color": "#9E9E9E",
           "width": 2
          },
          "type": "line",
          "x0": 1.2384365379810334,
          "x1": 4.107518720626831,
          "y0": 6.938858085870743,
          "y1": 6.938858085870743
         }
        ],
        "sliders": [
         {
          "active": 0,
          "pad": {
           "t": 50
          },
          "steps": [
           {
            "args": [
             {
              "marker.color": [
               [
                "red",
                "#B0BEC5",
                "#B0BEC5",
                "#B0BEC5",
                "#B0BEC5",
                "#B0BEC5",
                "#B0BEC5",
                "#B0BEC5",
                "#B0BEC5",
                "#B0BEC5"
               ]
              ]
             }
            ],
            "label": "Topic 0",
            "method": "update"
           },
           {
            "args": [
             {
              "marker.color": [
               [
                "#B0BEC5",
                "red",
                "#B0BEC5",
                "#B0BEC5",
                "#B0BEC5",
                "#B0BEC5",
                "#B0BEC5",
                "#B0BEC5",
                "#B0BEC5",
                "#B0BEC5"
               ]
              ]
             }
            ],
            "label": "Topic 1",
            "method": "update"
           },
           {
            "args": [
             {
              "marker.color": [
               [
                "#B0BEC5",
                "#B0BEC5",
                "red",
                "#B0BEC5",
                "#B0BEC5",
                "#B0BEC5",
                "#B0BEC5",
                "#B0BEC5",
                "#B0BEC5",
                "#B0BEC5"
               ]
              ]
             }
            ],
            "label": "Topic 2",
            "method": "update"
           },
           {
            "args": [
             {
              "marker.color": [
               [
                "#B0BEC5",
                "#B0BEC5",
                "#B0BEC5",
                "red",
                "#B0BEC5",
                "#B0BEC5",
                "#B0BEC5",
                "#B0BEC5",
                "#B0BEC5",
                "#B0BEC5"
               ]
              ]
             }
            ],
            "label": "Topic 3",
            "method": "update"
           },
           {
            "args": [
             {
              "marker.color": [
               [
                "#B0BEC5",
                "#B0BEC5",
                "#B0BEC5",
                "#B0BEC5",
                "red",
                "#B0BEC5",
                "#B0BEC5",
                "#B0BEC5",
                "#B0BEC5",
                "#B0BEC5"
               ]
              ]
             }
            ],
            "label": "Topic 4",
            "method": "update"
           },
           {
            "args": [
             {
              "marker.color": [
               [
                "#B0BEC5",
                "#B0BEC5",
                "#B0BEC5",
                "#B0BEC5",
                "#B0BEC5",
                "red",
                "#B0BEC5",
                "#B0BEC5",
                "#B0BEC5",
                "#B0BEC5"
               ]
              ]
             }
            ],
            "label": "Topic 5",
            "method": "update"
           },
           {
            "args": [
             {
              "marker.color": [
               [
                "#B0BEC5",
                "#B0BEC5",
                "#B0BEC5",
                "#B0BEC5",
                "#B0BEC5",
                "#B0BEC5",
                "red",
                "#B0BEC5",
                "#B0BEC5",
                "#B0BEC5"
               ]
              ]
             }
            ],
            "label": "Topic 6",
            "method": "update"
           },
           {
            "args": [
             {
              "marker.color": [
               [
                "#B0BEC5",
                "#B0BEC5",
                "#B0BEC5",
                "#B0BEC5",
                "#B0BEC5",
                "#B0BEC5",
                "#B0BEC5",
                "red",
                "#B0BEC5",
                "#B0BEC5"
               ]
              ]
             }
            ],
            "label": "Topic 7",
            "method": "update"
           },
           {
            "args": [
             {
              "marker.color": [
               [
                "#B0BEC5",
                "#B0BEC5",
                "#B0BEC5",
                "#B0BEC5",
                "#B0BEC5",
                "#B0BEC5",
                "#B0BEC5",
                "#B0BEC5",
                "red",
                "#B0BEC5"
               ]
              ]
             }
            ],
            "label": "Topic 8",
            "method": "update"
           },
           {
            "args": [
             {
              "marker.color": [
               [
                "#B0BEC5",
                "#B0BEC5",
                "#B0BEC5",
                "#B0BEC5",
                "#B0BEC5",
                "#B0BEC5",
                "#B0BEC5",
                "#B0BEC5",
                "#B0BEC5",
                "red"
               ]
              ]
             }
            ],
            "label": "Topic 9",
            "method": "update"
           }
          ]
         }
        ],
        "template": {
         "data": {
          "bar": [
           {
            "error_x": {
             "color": "rgb(36,36,36)"
            },
            "error_y": {
             "color": "rgb(36,36,36)"
            },
            "marker": {
             "line": {
              "color": "white",
              "width": 0.5
             },
             "pattern": {
              "fillmode": "overlay",
              "size": 10,
              "solidity": 0.2
             }
            },
            "type": "bar"
           }
          ],
          "barpolar": [
           {
            "marker": {
             "line": {
              "color": "white",
              "width": 0.5
             },
             "pattern": {
              "fillmode": "overlay",
              "size": 10,
              "solidity": 0.2
             }
            },
            "type": "barpolar"
           }
          ],
          "carpet": [
           {
            "aaxis": {
             "endlinecolor": "rgb(36,36,36)",
             "gridcolor": "white",
             "linecolor": "white",
             "minorgridcolor": "white",
             "startlinecolor": "rgb(36,36,36)"
            },
            "baxis": {
             "endlinecolor": "rgb(36,36,36)",
             "gridcolor": "white",
             "linecolor": "white",
             "minorgridcolor": "white",
             "startlinecolor": "rgb(36,36,36)"
            },
            "type": "carpet"
           }
          ],
          "choropleth": [
           {
            "colorbar": {
             "outlinewidth": 1,
             "tickcolor": "rgb(36,36,36)",
             "ticks": "outside"
            },
            "type": "choropleth"
           }
          ],
          "contour": [
           {
            "colorbar": {
             "outlinewidth": 1,
             "tickcolor": "rgb(36,36,36)",
             "ticks": "outside"
            },
            "colorscale": [
             [
              0,
              "#440154"
             ],
             [
              0.1111111111111111,
              "#482878"
             ],
             [
              0.2222222222222222,
              "#3e4989"
             ],
             [
              0.3333333333333333,
              "#31688e"
             ],
             [
              0.4444444444444444,
              "#26828e"
             ],
             [
              0.5555555555555556,
              "#1f9e89"
             ],
             [
              0.6666666666666666,
              "#35b779"
             ],
             [
              0.7777777777777778,
              "#6ece58"
             ],
             [
              0.8888888888888888,
              "#b5de2b"
             ],
             [
              1,
              "#fde725"
             ]
            ],
            "type": "contour"
           }
          ],
          "contourcarpet": [
           {
            "colorbar": {
             "outlinewidth": 1,
             "tickcolor": "rgb(36,36,36)",
             "ticks": "outside"
            },
            "type": "contourcarpet"
           }
          ],
          "heatmap": [
           {
            "colorbar": {
             "outlinewidth": 1,
             "tickcolor": "rgb(36,36,36)",
             "ticks": "outside"
            },
            "colorscale": [
             [
              0,
              "#440154"
             ],
             [
              0.1111111111111111,
              "#482878"
             ],
             [
              0.2222222222222222,
              "#3e4989"
             ],
             [
              0.3333333333333333,
              "#31688e"
             ],
             [
              0.4444444444444444,
              "#26828e"
             ],
             [
              0.5555555555555556,
              "#1f9e89"
             ],
             [
              0.6666666666666666,
              "#35b779"
             ],
             [
              0.7777777777777778,
              "#6ece58"
             ],
             [
              0.8888888888888888,
              "#b5de2b"
             ],
             [
              1,
              "#fde725"
             ]
            ],
            "type": "heatmap"
           }
          ],
          "heatmapgl": [
           {
            "colorbar": {
             "outlinewidth": 1,
             "tickcolor": "rgb(36,36,36)",
             "ticks": "outside"
            },
            "colorscale": [
             [
              0,
              "#440154"
             ],
             [
              0.1111111111111111,
              "#482878"
             ],
             [
              0.2222222222222222,
              "#3e4989"
             ],
             [
              0.3333333333333333,
              "#31688e"
             ],
             [
              0.4444444444444444,
              "#26828e"
             ],
             [
              0.5555555555555556,
              "#1f9e89"
             ],
             [
              0.6666666666666666,
              "#35b779"
             ],
             [
              0.7777777777777778,
              "#6ece58"
             ],
             [
              0.8888888888888888,
              "#b5de2b"
             ],
             [
              1,
              "#fde725"
             ]
            ],
            "type": "heatmapgl"
           }
          ],
          "histogram": [
           {
            "marker": {
             "line": {
              "color": "white",
              "width": 0.6
             }
            },
            "type": "histogram"
           }
          ],
          "histogram2d": [
           {
            "colorbar": {
             "outlinewidth": 1,
             "tickcolor": "rgb(36,36,36)",
             "ticks": "outside"
            },
            "colorscale": [
             [
              0,
              "#440154"
             ],
             [
              0.1111111111111111,
              "#482878"
             ],
             [
              0.2222222222222222,
              "#3e4989"
             ],
             [
              0.3333333333333333,
              "#31688e"
             ],
             [
              0.4444444444444444,
              "#26828e"
             ],
             [
              0.5555555555555556,
              "#1f9e89"
             ],
             [
              0.6666666666666666,
              "#35b779"
             ],
             [
              0.7777777777777778,
              "#6ece58"
             ],
             [
              0.8888888888888888,
              "#b5de2b"
             ],
             [
              1,
              "#fde725"
             ]
            ],
            "type": "histogram2d"
           }
          ],
          "histogram2dcontour": [
           {
            "colorbar": {
             "outlinewidth": 1,
             "tickcolor": "rgb(36,36,36)",
             "ticks": "outside"
            },
            "colorscale": [
             [
              0,
              "#440154"
             ],
             [
              0.1111111111111111,
              "#482878"
             ],
             [
              0.2222222222222222,
              "#3e4989"
             ],
             [
              0.3333333333333333,
              "#31688e"
             ],
             [
              0.4444444444444444,
              "#26828e"
             ],
             [
              0.5555555555555556,
              "#1f9e89"
             ],
             [
              0.6666666666666666,
              "#35b779"
             ],
             [
              0.7777777777777778,
              "#6ece58"
             ],
             [
              0.8888888888888888,
              "#b5de2b"
             ],
             [
              1,
              "#fde725"
             ]
            ],
            "type": "histogram2dcontour"
           }
          ],
          "mesh3d": [
           {
            "colorbar": {
             "outlinewidth": 1,
             "tickcolor": "rgb(36,36,36)",
             "ticks": "outside"
            },
            "type": "mesh3d"
           }
          ],
          "parcoords": [
           {
            "line": {
             "colorbar": {
              "outlinewidth": 1,
              "tickcolor": "rgb(36,36,36)",
              "ticks": "outside"
             }
            },
            "type": "parcoords"
           }
          ],
          "pie": [
           {
            "automargin": true,
            "type": "pie"
           }
          ],
          "scatter": [
           {
            "fillpattern": {
             "fillmode": "overlay",
             "size": 10,
             "solidity": 0.2
            },
            "type": "scatter"
           }
          ],
          "scatter3d": [
           {
            "line": {
             "colorbar": {
              "outlinewidth": 1,
              "tickcolor": "rgb(36,36,36)",
              "ticks": "outside"
             }
            },
            "marker": {
             "colorbar": {
              "outlinewidth": 1,
              "tickcolor": "rgb(36,36,36)",
              "ticks": "outside"
             }
            },
            "type": "scatter3d"
           }
          ],
          "scattercarpet": [
           {
            "marker": {
             "colorbar": {
              "outlinewidth": 1,
              "tickcolor": "rgb(36,36,36)",
              "ticks": "outside"
             }
            },
            "type": "scattercarpet"
           }
          ],
          "scattergeo": [
           {
            "marker": {
             "colorbar": {
              "outlinewidth": 1,
              "tickcolor": "rgb(36,36,36)",
              "ticks": "outside"
             }
            },
            "type": "scattergeo"
           }
          ],
          "scattergl": [
           {
            "marker": {
             "colorbar": {
              "outlinewidth": 1,
              "tickcolor": "rgb(36,36,36)",
              "ticks": "outside"
             }
            },
            "type": "scattergl"
           }
          ],
          "scattermapbox": [
           {
            "marker": {
             "colorbar": {
              "outlinewidth": 1,
              "tickcolor": "rgb(36,36,36)",
              "ticks": "outside"
             }
            },
            "type": "scattermapbox"
           }
          ],
          "scatterpolar": [
           {
            "marker": {
             "colorbar": {
              "outlinewidth": 1,
              "tickcolor": "rgb(36,36,36)",
              "ticks": "outside"
             }
            },
            "type": "scatterpolar"
           }
          ],
          "scatterpolargl": [
           {
            "marker": {
             "colorbar": {
              "outlinewidth": 1,
              "tickcolor": "rgb(36,36,36)",
              "ticks": "outside"
             }
            },
            "type": "scatterpolargl"
           }
          ],
          "scatterternary": [
           {
            "marker": {
             "colorbar": {
              "outlinewidth": 1,
              "tickcolor": "rgb(36,36,36)",
              "ticks": "outside"
             }
            },
            "type": "scatterternary"
           }
          ],
          "surface": [
           {
            "colorbar": {
             "outlinewidth": 1,
             "tickcolor": "rgb(36,36,36)",
             "ticks": "outside"
            },
            "colorscale": [
             [
              0,
              "#440154"
             ],
             [
              0.1111111111111111,
              "#482878"
             ],
             [
              0.2222222222222222,
              "#3e4989"
             ],
             [
              0.3333333333333333,
              "#31688e"
             ],
             [
              0.4444444444444444,
              "#26828e"
             ],
             [
              0.5555555555555556,
              "#1f9e89"
             ],
             [
              0.6666666666666666,
              "#35b779"
             ],
             [
              0.7777777777777778,
              "#6ece58"
             ],
             [
              0.8888888888888888,
              "#b5de2b"
             ],
             [
              1,
              "#fde725"
             ]
            ],
            "type": "surface"
           }
          ],
          "table": [
           {
            "cells": {
             "fill": {
              "color": "rgb(237,237,237)"
             },
             "line": {
              "color": "white"
             }
            },
            "header": {
             "fill": {
              "color": "rgb(217,217,217)"
             },
             "line": {
              "color": "white"
             }
            },
            "type": "table"
           }
          ]
         },
         "layout": {
          "annotationdefaults": {
           "arrowhead": 0,
           "arrowwidth": 1
          },
          "autotypenumbers": "strict",
          "coloraxis": {
           "colorbar": {
            "outlinewidth": 1,
            "tickcolor": "rgb(36,36,36)",
            "ticks": "outside"
           }
          },
          "colorscale": {
           "diverging": [
            [
             0,
             "rgb(103,0,31)"
            ],
            [
             0.1,
             "rgb(178,24,43)"
            ],
            [
             0.2,
             "rgb(214,96,77)"
            ],
            [
             0.3,
             "rgb(244,165,130)"
            ],
            [
             0.4,
             "rgb(253,219,199)"
            ],
            [
             0.5,
             "rgb(247,247,247)"
            ],
            [
             0.6,
             "rgb(209,229,240)"
            ],
            [
             0.7,
             "rgb(146,197,222)"
            ],
            [
             0.8,
             "rgb(67,147,195)"
            ],
            [
             0.9,
             "rgb(33,102,172)"
            ],
            [
             1,
             "rgb(5,48,97)"
            ]
           ],
           "sequential": [
            [
             0,
             "#440154"
            ],
            [
             0.1111111111111111,
             "#482878"
            ],
            [
             0.2222222222222222,
             "#3e4989"
            ],
            [
             0.3333333333333333,
             "#31688e"
            ],
            [
             0.4444444444444444,
             "#26828e"
            ],
            [
             0.5555555555555556,
             "#1f9e89"
            ],
            [
             0.6666666666666666,
             "#35b779"
            ],
            [
             0.7777777777777778,
             "#6ece58"
            ],
            [
             0.8888888888888888,
             "#b5de2b"
            ],
            [
             1,
             "#fde725"
            ]
           ],
           "sequentialminus": [
            [
             0,
             "#440154"
            ],
            [
             0.1111111111111111,
             "#482878"
            ],
            [
             0.2222222222222222,
             "#3e4989"
            ],
            [
             0.3333333333333333,
             "#31688e"
            ],
            [
             0.4444444444444444,
             "#26828e"
            ],
            [
             0.5555555555555556,
             "#1f9e89"
            ],
            [
             0.6666666666666666,
             "#35b779"
            ],
            [
             0.7777777777777778,
             "#6ece58"
            ],
            [
             0.8888888888888888,
             "#b5de2b"
            ],
            [
             1,
             "#fde725"
            ]
           ]
          },
          "colorway": [
           "#1F77B4",
           "#FF7F0E",
           "#2CA02C",
           "#D62728",
           "#9467BD",
           "#8C564B",
           "#E377C2",
           "#7F7F7F",
           "#BCBD22",
           "#17BECF"
          ],
          "font": {
           "color": "rgb(36,36,36)"
          },
          "geo": {
           "bgcolor": "white",
           "lakecolor": "white",
           "landcolor": "white",
           "showlakes": true,
           "showland": true,
           "subunitcolor": "white"
          },
          "hoverlabel": {
           "align": "left"
          },
          "hovermode": "closest",
          "mapbox": {
           "style": "light"
          },
          "paper_bgcolor": "white",
          "plot_bgcolor": "white",
          "polar": {
           "angularaxis": {
            "gridcolor": "rgb(232,232,232)",
            "linecolor": "rgb(36,36,36)",
            "showgrid": false,
            "showline": true,
            "ticks": "outside"
           },
           "bgcolor": "white",
           "radialaxis": {
            "gridcolor": "rgb(232,232,232)",
            "linecolor": "rgb(36,36,36)",
            "showgrid": false,
            "showline": true,
            "ticks": "outside"
           }
          },
          "scene": {
           "xaxis": {
            "backgroundcolor": "white",
            "gridcolor": "rgb(232,232,232)",
            "gridwidth": 2,
            "linecolor": "rgb(36,36,36)",
            "showbackground": true,
            "showgrid": false,
            "showline": true,
            "ticks": "outside",
            "zeroline": false,
            "zerolinecolor": "rgb(36,36,36)"
           },
           "yaxis": {
            "backgroundcolor": "white",
            "gridcolor": "rgb(232,232,232)",
            "gridwidth": 2,
            "linecolor": "rgb(36,36,36)",
            "showbackground": true,
            "showgrid": false,
            "showline": true,
            "ticks": "outside",
            "zeroline": false,
            "zerolinecolor": "rgb(36,36,36)"
           },
           "zaxis": {
            "backgroundcolor": "white",
            "gridcolor": "rgb(232,232,232)",
            "gridwidth": 2,
            "linecolor": "rgb(36,36,36)",
            "showbackground": true,
            "showgrid": false,
            "showline": true,
            "ticks": "outside",
            "zeroline": false,
            "zerolinecolor": "rgb(36,36,36)"
           }
          },
          "shapedefaults": {
           "fillcolor": "black",
           "line": {
            "width": 0
           },
           "opacity": 0.3
          },
          "ternary": {
           "aaxis": {
            "gridcolor": "rgb(232,232,232)",
            "linecolor": "rgb(36,36,36)",
            "showgrid": false,
            "showline": true,
            "ticks": "outside"
           },
           "baxis": {
            "gridcolor": "rgb(232,232,232)",
            "linecolor": "rgb(36,36,36)",
            "showgrid": false,
            "showline": true,
            "ticks": "outside"
           },
           "bgcolor": "white",
           "caxis": {
            "gridcolor": "rgb(232,232,232)",
            "linecolor": "rgb(36,36,36)",
            "showgrid": false,
            "showline": true,
            "ticks": "outside"
           }
          },
          "title": {
           "x": 0.05
          },
          "xaxis": {
           "automargin": true,
           "gridcolor": "rgb(232,232,232)",
           "linecolor": "rgb(36,36,36)",
           "showgrid": false,
           "showline": true,
           "ticks": "outside",
           "title": {
            "standoff": 15
           },
           "zeroline": false,
           "zerolinecolor": "rgb(36,36,36)"
          },
          "yaxis": {
           "automargin": true,
           "gridcolor": "rgb(232,232,232)",
           "linecolor": "rgb(36,36,36)",
           "showgrid": false,
           "showline": true,
           "ticks": "outside",
           "title": {
            "standoff": 15
           },
           "zeroline": false,
           "zerolinecolor": "rgb(36,36,36)"
          }
         }
        },
        "title": {
         "font": {
          "color": "Black",
          "size": 22
         },
         "text": "<b>Intertopic Distance Map",
         "x": 0.5,
         "xanchor": "center",
         "y": 0.95,
         "yanchor": "top"
        },
        "width": 650,
        "xaxis": {
         "anchor": "y",
         "domain": [
          0,
          1
         ],
         "range": [
          1.2384365379810334,
          4.107518720626831
         ],
         "title": {
          "text": ""
         },
         "visible": false
        },
        "yaxis": {
         "anchor": "x",
         "domain": [
          0,
          1
         ],
         "range": [
          2.927527678012848,
          10.950188493728637
         ],
         "title": {
          "text": ""
         },
         "visible": false
        }
       }
      },
      "text/html": [
       "<div>                            <div id=\"dc3e7725-939f-400c-b1da-a038841e1811\" class=\"plotly-graph-div\" style=\"height:650px; width:650px;\"></div>            <script type=\"text/javascript\">                require([\"plotly\"], function(Plotly) {                    window.PLOTLYENV=window.PLOTLYENV || {};                                    if (document.getElementById(\"dc3e7725-939f-400c-b1da-a038841e1811\")) {                    Plotly.newPlot(                        \"dc3e7725-939f-400c-b1da-a038841e1811\",                        [{\"customdata\":[[0,\"\\u062f\\u0648\\u0631\\u06a9\\u0627\\u0631\\u06cc | \\u062a\\u0647\\u0631\\u0627\\u0646 | \\u06a9\\u0627\\u0631\\u0645\\u0646\\u062f\\u0627\\u0646 | \\u06a9\\u0627\\u0631 | \\u06a9\\u0631\\u0648\\u0646\\u0627\",2725],[1,\"\\u0686\\u0627\\u067e | \\u062e\\u0627\\u0646\\u06af\\u06cc | \\u0633\\u06cc\\u0644\\u06a9 | \\u0634\\u063a\\u0644 | \\u062f\\u0633\\u062a\\u06af\\u0627\\u0647\",1497],[2,\"\\u0627\\u06cc\\u0646\\u062a\\u0631\\u0646\\u062a | \\u06a9\\u0627\\u0631 | \\u062f\\u0648\\u0631\\u06a9\\u0627\\u0631\\u06cc | \\u0627\\u06cc\\u0646\\u062a\\u0631\\u0646\\u062a\\u06cc | \\u0633\\u0631\\u0639\\u062a\",880],[3,\"\\u0631\\u06cc\\u0645\\u0648\\u062a | \\u06a9\\u0627\\u0631 | \\u0627\\u06cc\\u0631\\u0627\\u0646 | \\u062f\\u0644\\u0627\\u0631 | \\u0634\\u0631\\u06a9\\u062a\",768],[4,\"\\u067e\\u0631\\u0648\\u0698\\u0647 | \\u0628\\u0627\\u0632\\u0627\\u0631\\u06a9\\u0627\\u0631 | \\u062a\\u0648\\u0636\\u06cc\\u062d\\u0627\\u062a | \\u0646\\u0645\\u0627\\u06cc\\u06cc\\u062f | \\u0627\\u0631\\u0633\\u0627\\u0644\",602],[5,\"\\u0632\\u0646\\u06af | \\u062f\\u0648\\u0631\\u06a9\\u0627\\u0631\\u06cc | \\u0645\\u06cc | \\u062e\\u0648\\u0646\\u0647 | \\u062c\\u0648\\u0627\\u0628\",600],[6,\"\\u062f\\u0648\\u0631\\u06a9\\u0627\\u0631\\u06cc | \\u062e\\u0631 | \\u0633\\u0631\\u067e\\u0631\\u0633\\u062a\\u06cc\\u062a\\u0648 | \\u0634\\u0631\\u0627\\u0637 | \\u0632\\u06cc\\u0628\\u0627\\u062a\\u0631\\u0647\",585],[7,\"\\u062f\\u0648\\u0631\\u06a9\\u0627\\u0631 | \\u062d\\u0636\\u0648\\u0631\\u06cc | \\u0633\\u0631\\u06a9\\u0627\\u0631 | \\u062f\\u0648\\u0631\\u06a9\\u0627\\u0631\\u06cc | \\u062d\\u0636\\u0648\\u0631\",554],[8,\"\\u0632\\u0646 | \\u0632\\u0646\\u0627\\u0646 | \\u062e\\u0627\\u0646\\u0647 | \\u06a9\\u0627\\u0631 | \\u0645\\u0631\\u062f\",538],[9,\"\\u062f\\u0648\\u0631\\u06a9\\u0627\\u0631\\u06cc | \\u0646\\u0645\\u06cc | \\u062f\\u0648\\u0631\\u06a9\\u0627\\u0631 | \\u0642\\u0628\\u0648\\u0644 | \\u0646\\u06cc\\u0633\\u062a\\u06cc\",536]],\"hovertemplate\":\"<b>Topic %{customdata[0]}</b><br>Words: %{customdata[1]}<br>Size: %{customdata[2]}\",\"legendgroup\":\"\",\"marker\":{\"color\":\"#B0BEC5\",\"size\":[2725,1497,880,768,602,600,585,554,538,536],\"sizemode\":\"area\",\"sizeref\":1.703125,\"symbol\":\"circle\",\"line\":{\"color\":\"DarkSlateGrey\",\"width\":2}},\"mode\":\"markers\",\"name\":\"\",\"orientation\":\"v\",\"showlegend\":false,\"x\":[1.572528600692749,1.4569841623306274,2.246108055114746,2.899484395980835,2.438985586166382,3.3124003410339355,2.0959277153015137,2.6863510608673096,1.8930155038833618,3.5717554092407227],\"xaxis\":\"x\",\"y\":[8.296425819396973,9.521903038024902,8.499074935913086,7.4045209884643555,7.118103981018066,3.44415020942688,3.9908063411712646,3.6440796852111816,9.223586082458496,3.829008102416992],\"yaxis\":\"y\",\"type\":\"scatter\"}],                        {\"template\":{\"data\":{\"barpolar\":[{\"marker\":{\"line\":{\"color\":\"white\",\"width\":0.5},\"pattern\":{\"fillmode\":\"overlay\",\"size\":10,\"solidity\":0.2}},\"type\":\"barpolar\"}],\"bar\":[{\"error_x\":{\"color\":\"rgb(36,36,36)\"},\"error_y\":{\"color\":\"rgb(36,36,36)\"},\"marker\":{\"line\":{\"color\":\"white\",\"width\":0.5},\"pattern\":{\"fillmode\":\"overlay\",\"size\":10,\"solidity\":0.2}},\"type\":\"bar\"}],\"carpet\":[{\"aaxis\":{\"endlinecolor\":\"rgb(36,36,36)\",\"gridcolor\":\"white\",\"linecolor\":\"white\",\"minorgridcolor\":\"white\",\"startlinecolor\":\"rgb(36,36,36)\"},\"baxis\":{\"endlinecolor\":\"rgb(36,36,36)\",\"gridcolor\":\"white\",\"linecolor\":\"white\",\"minorgridcolor\":\"white\",\"startlinecolor\":\"rgb(36,36,36)\"},\"type\":\"carpet\"}],\"choropleth\":[{\"colorbar\":{\"outlinewidth\":1,\"tickcolor\":\"rgb(36,36,36)\",\"ticks\":\"outside\"},\"type\":\"choropleth\"}],\"contourcarpet\":[{\"colorbar\":{\"outlinewidth\":1,\"tickcolor\":\"rgb(36,36,36)\",\"ticks\":\"outside\"},\"type\":\"contourcarpet\"}],\"contour\":[{\"colorbar\":{\"outlinewidth\":1,\"tickcolor\":\"rgb(36,36,36)\",\"ticks\":\"outside\"},\"colorscale\":[[0.0,\"#440154\"],[0.1111111111111111,\"#482878\"],[0.2222222222222222,\"#3e4989\"],[0.3333333333333333,\"#31688e\"],[0.4444444444444444,\"#26828e\"],[0.5555555555555556,\"#1f9e89\"],[0.6666666666666666,\"#35b779\"],[0.7777777777777778,\"#6ece58\"],[0.8888888888888888,\"#b5de2b\"],[1.0,\"#fde725\"]],\"type\":\"contour\"}],\"heatmapgl\":[{\"colorbar\":{\"outlinewidth\":1,\"tickcolor\":\"rgb(36,36,36)\",\"ticks\":\"outside\"},\"colorscale\":[[0.0,\"#440154\"],[0.1111111111111111,\"#482878\"],[0.2222222222222222,\"#3e4989\"],[0.3333333333333333,\"#31688e\"],[0.4444444444444444,\"#26828e\"],[0.5555555555555556,\"#1f9e89\"],[0.6666666666666666,\"#35b779\"],[0.7777777777777778,\"#6ece58\"],[0.8888888888888888,\"#b5de2b\"],[1.0,\"#fde725\"]],\"type\":\"heatmapgl\"}],\"heatmap\":[{\"colorbar\":{\"outlinewidth\":1,\"tickcolor\":\"rgb(36,36,36)\",\"ticks\":\"outside\"},\"colorscale\":[[0.0,\"#440154\"],[0.1111111111111111,\"#482878\"],[0.2222222222222222,\"#3e4989\"],[0.3333333333333333,\"#31688e\"],[0.4444444444444444,\"#26828e\"],[0.5555555555555556,\"#1f9e89\"],[0.6666666666666666,\"#35b779\"],[0.7777777777777778,\"#6ece58\"],[0.8888888888888888,\"#b5de2b\"],[1.0,\"#fde725\"]],\"type\":\"heatmap\"}],\"histogram2dcontour\":[{\"colorbar\":{\"outlinewidth\":1,\"tickcolor\":\"rgb(36,36,36)\",\"ticks\":\"outside\"},\"colorscale\":[[0.0,\"#440154\"],[0.1111111111111111,\"#482878\"],[0.2222222222222222,\"#3e4989\"],[0.3333333333333333,\"#31688e\"],[0.4444444444444444,\"#26828e\"],[0.5555555555555556,\"#1f9e89\"],[0.6666666666666666,\"#35b779\"],[0.7777777777777778,\"#6ece58\"],[0.8888888888888888,\"#b5de2b\"],[1.0,\"#fde725\"]],\"type\":\"histogram2dcontour\"}],\"histogram2d\":[{\"colorbar\":{\"outlinewidth\":1,\"tickcolor\":\"rgb(36,36,36)\",\"ticks\":\"outside\"},\"colorscale\":[[0.0,\"#440154\"],[0.1111111111111111,\"#482878\"],[0.2222222222222222,\"#3e4989\"],[0.3333333333333333,\"#31688e\"],[0.4444444444444444,\"#26828e\"],[0.5555555555555556,\"#1f9e89\"],[0.6666666666666666,\"#35b779\"],[0.7777777777777778,\"#6ece58\"],[0.8888888888888888,\"#b5de2b\"],[1.0,\"#fde725\"]],\"type\":\"histogram2d\"}],\"histogram\":[{\"marker\":{\"line\":{\"color\":\"white\",\"width\":0.6}},\"type\":\"histogram\"}],\"mesh3d\":[{\"colorbar\":{\"outlinewidth\":1,\"tickcolor\":\"rgb(36,36,36)\",\"ticks\":\"outside\"},\"type\":\"mesh3d\"}],\"parcoords\":[{\"line\":{\"colorbar\":{\"outlinewidth\":1,\"tickcolor\":\"rgb(36,36,36)\",\"ticks\":\"outside\"}},\"type\":\"parcoords\"}],\"pie\":[{\"automargin\":true,\"type\":\"pie\"}],\"scatter3d\":[{\"line\":{\"colorbar\":{\"outlinewidth\":1,\"tickcolor\":\"rgb(36,36,36)\",\"ticks\":\"outside\"}},\"marker\":{\"colorbar\":{\"outlinewidth\":1,\"tickcolor\":\"rgb(36,36,36)\",\"ticks\":\"outside\"}},\"type\":\"scatter3d\"}],\"scattercarpet\":[{\"marker\":{\"colorbar\":{\"outlinewidth\":1,\"tickcolor\":\"rgb(36,36,36)\",\"ticks\":\"outside\"}},\"type\":\"scattercarpet\"}],\"scattergeo\":[{\"marker\":{\"colorbar\":{\"outlinewidth\":1,\"tickcolor\":\"rgb(36,36,36)\",\"ticks\":\"outside\"}},\"type\":\"scattergeo\"}],\"scattergl\":[{\"marker\":{\"colorbar\":{\"outlinewidth\":1,\"tickcolor\":\"rgb(36,36,36)\",\"ticks\":\"outside\"}},\"type\":\"scattergl\"}],\"scattermapbox\":[{\"marker\":{\"colorbar\":{\"outlinewidth\":1,\"tickcolor\":\"rgb(36,36,36)\",\"ticks\":\"outside\"}},\"type\":\"scattermapbox\"}],\"scatterpolargl\":[{\"marker\":{\"colorbar\":{\"outlinewidth\":1,\"tickcolor\":\"rgb(36,36,36)\",\"ticks\":\"outside\"}},\"type\":\"scatterpolargl\"}],\"scatterpolar\":[{\"marker\":{\"colorbar\":{\"outlinewidth\":1,\"tickcolor\":\"rgb(36,36,36)\",\"ticks\":\"outside\"}},\"type\":\"scatterpolar\"}],\"scatter\":[{\"fillpattern\":{\"fillmode\":\"overlay\",\"size\":10,\"solidity\":0.2},\"type\":\"scatter\"}],\"scatterternary\":[{\"marker\":{\"colorbar\":{\"outlinewidth\":1,\"tickcolor\":\"rgb(36,36,36)\",\"ticks\":\"outside\"}},\"type\":\"scatterternary\"}],\"surface\":[{\"colorbar\":{\"outlinewidth\":1,\"tickcolor\":\"rgb(36,36,36)\",\"ticks\":\"outside\"},\"colorscale\":[[0.0,\"#440154\"],[0.1111111111111111,\"#482878\"],[0.2222222222222222,\"#3e4989\"],[0.3333333333333333,\"#31688e\"],[0.4444444444444444,\"#26828e\"],[0.5555555555555556,\"#1f9e89\"],[0.6666666666666666,\"#35b779\"],[0.7777777777777778,\"#6ece58\"],[0.8888888888888888,\"#b5de2b\"],[1.0,\"#fde725\"]],\"type\":\"surface\"}],\"table\":[{\"cells\":{\"fill\":{\"color\":\"rgb(237,237,237)\"},\"line\":{\"color\":\"white\"}},\"header\":{\"fill\":{\"color\":\"rgb(217,217,217)\"},\"line\":{\"color\":\"white\"}},\"type\":\"table\"}]},\"layout\":{\"annotationdefaults\":{\"arrowhead\":0,\"arrowwidth\":1},\"autotypenumbers\":\"strict\",\"coloraxis\":{\"colorbar\":{\"outlinewidth\":1,\"tickcolor\":\"rgb(36,36,36)\",\"ticks\":\"outside\"}},\"colorscale\":{\"diverging\":[[0.0,\"rgb(103,0,31)\"],[0.1,\"rgb(178,24,43)\"],[0.2,\"rgb(214,96,77)\"],[0.3,\"rgb(244,165,130)\"],[0.4,\"rgb(253,219,199)\"],[0.5,\"rgb(247,247,247)\"],[0.6,\"rgb(209,229,240)\"],[0.7,\"rgb(146,197,222)\"],[0.8,\"rgb(67,147,195)\"],[0.9,\"rgb(33,102,172)\"],[1.0,\"rgb(5,48,97)\"]],\"sequential\":[[0.0,\"#440154\"],[0.1111111111111111,\"#482878\"],[0.2222222222222222,\"#3e4989\"],[0.3333333333333333,\"#31688e\"],[0.4444444444444444,\"#26828e\"],[0.5555555555555556,\"#1f9e89\"],[0.6666666666666666,\"#35b779\"],[0.7777777777777778,\"#6ece58\"],[0.8888888888888888,\"#b5de2b\"],[1.0,\"#fde725\"]],\"sequentialminus\":[[0.0,\"#440154\"],[0.1111111111111111,\"#482878\"],[0.2222222222222222,\"#3e4989\"],[0.3333333333333333,\"#31688e\"],[0.4444444444444444,\"#26828e\"],[0.5555555555555556,\"#1f9e89\"],[0.6666666666666666,\"#35b779\"],[0.7777777777777778,\"#6ece58\"],[0.8888888888888888,\"#b5de2b\"],[1.0,\"#fde725\"]]},\"colorway\":[\"#1F77B4\",\"#FF7F0E\",\"#2CA02C\",\"#D62728\",\"#9467BD\",\"#8C564B\",\"#E377C2\",\"#7F7F7F\",\"#BCBD22\",\"#17BECF\"],\"font\":{\"color\":\"rgb(36,36,36)\"},\"geo\":{\"bgcolor\":\"white\",\"lakecolor\":\"white\",\"landcolor\":\"white\",\"showlakes\":true,\"showland\":true,\"subunitcolor\":\"white\"},\"hoverlabel\":{\"align\":\"left\"},\"hovermode\":\"closest\",\"mapbox\":{\"style\":\"light\"},\"paper_bgcolor\":\"white\",\"plot_bgcolor\":\"white\",\"polar\":{\"angularaxis\":{\"gridcolor\":\"rgb(232,232,232)\",\"linecolor\":\"rgb(36,36,36)\",\"showgrid\":false,\"showline\":true,\"ticks\":\"outside\"},\"bgcolor\":\"white\",\"radialaxis\":{\"gridcolor\":\"rgb(232,232,232)\",\"linecolor\":\"rgb(36,36,36)\",\"showgrid\":false,\"showline\":true,\"ticks\":\"outside\"}},\"scene\":{\"xaxis\":{\"backgroundcolor\":\"white\",\"gridcolor\":\"rgb(232,232,232)\",\"gridwidth\":2,\"linecolor\":\"rgb(36,36,36)\",\"showbackground\":true,\"showgrid\":false,\"showline\":true,\"ticks\":\"outside\",\"zeroline\":false,\"zerolinecolor\":\"rgb(36,36,36)\"},\"yaxis\":{\"backgroundcolor\":\"white\",\"gridcolor\":\"rgb(232,232,232)\",\"gridwidth\":2,\"linecolor\":\"rgb(36,36,36)\",\"showbackground\":true,\"showgrid\":false,\"showline\":true,\"ticks\":\"outside\",\"zeroline\":false,\"zerolinecolor\":\"rgb(36,36,36)\"},\"zaxis\":{\"backgroundcolor\":\"white\",\"gridcolor\":\"rgb(232,232,232)\",\"gridwidth\":2,\"linecolor\":\"rgb(36,36,36)\",\"showbackground\":true,\"showgrid\":false,\"showline\":true,\"ticks\":\"outside\",\"zeroline\":false,\"zerolinecolor\":\"rgb(36,36,36)\"}},\"shapedefaults\":{\"fillcolor\":\"black\",\"line\":{\"width\":0},\"opacity\":0.3},\"ternary\":{\"aaxis\":{\"gridcolor\":\"rgb(232,232,232)\",\"linecolor\":\"rgb(36,36,36)\",\"showgrid\":false,\"showline\":true,\"ticks\":\"outside\"},\"baxis\":{\"gridcolor\":\"rgb(232,232,232)\",\"linecolor\":\"rgb(36,36,36)\",\"showgrid\":false,\"showline\":true,\"ticks\":\"outside\"},\"bgcolor\":\"white\",\"caxis\":{\"gridcolor\":\"rgb(232,232,232)\",\"linecolor\":\"rgb(36,36,36)\",\"showgrid\":false,\"showline\":true,\"ticks\":\"outside\"}},\"title\":{\"x\":0.05},\"xaxis\":{\"automargin\":true,\"gridcolor\":\"rgb(232,232,232)\",\"linecolor\":\"rgb(36,36,36)\",\"showgrid\":false,\"showline\":true,\"ticks\":\"outside\",\"title\":{\"standoff\":15},\"zeroline\":false,\"zerolinecolor\":\"rgb(36,36,36)\"},\"yaxis\":{\"automargin\":true,\"gridcolor\":\"rgb(232,232,232)\",\"linecolor\":\"rgb(36,36,36)\",\"showgrid\":false,\"showline\":true,\"ticks\":\"outside\",\"title\":{\"standoff\":15},\"zeroline\":false,\"zerolinecolor\":\"rgb(36,36,36)\"}}},\"xaxis\":{\"anchor\":\"y\",\"domain\":[0.0,1.0],\"title\":{\"text\":\"\"},\"visible\":false,\"range\":[1.2384365379810334,4.107518720626831]},\"yaxis\":{\"anchor\":\"x\",\"domain\":[0.0,1.0],\"title\":{\"text\":\"\"},\"visible\":false,\"range\":[2.927527678012848,10.950188493728637]},\"legend\":{\"tracegroupgap\":0,\"itemsizing\":\"constant\"},\"margin\":{\"t\":60},\"title\":{\"font\":{\"size\":22,\"color\":\"Black\"},\"text\":\"<b>Intertopic Distance Map\",\"y\":0.95,\"x\":0.5,\"xanchor\":\"center\",\"yanchor\":\"top\"},\"hoverlabel\":{\"font\":{\"size\":16,\"family\":\"Rockwell\"},\"bgcolor\":\"white\"},\"width\":650,\"height\":650,\"sliders\":[{\"active\":0,\"pad\":{\"t\":50},\"steps\":[{\"args\":[{\"marker.color\":[[\"red\",\"#B0BEC5\",\"#B0BEC5\",\"#B0BEC5\",\"#B0BEC5\",\"#B0BEC5\",\"#B0BEC5\",\"#B0BEC5\",\"#B0BEC5\",\"#B0BEC5\"]]}],\"label\":\"Topic 0\",\"method\":\"update\"},{\"args\":[{\"marker.color\":[[\"#B0BEC5\",\"red\",\"#B0BEC5\",\"#B0BEC5\",\"#B0BEC5\",\"#B0BEC5\",\"#B0BEC5\",\"#B0BEC5\",\"#B0BEC5\",\"#B0BEC5\"]]}],\"label\":\"Topic 1\",\"method\":\"update\"},{\"args\":[{\"marker.color\":[[\"#B0BEC5\",\"#B0BEC5\",\"red\",\"#B0BEC5\",\"#B0BEC5\",\"#B0BEC5\",\"#B0BEC5\",\"#B0BEC5\",\"#B0BEC5\",\"#B0BEC5\"]]}],\"label\":\"Topic 2\",\"method\":\"update\"},{\"args\":[{\"marker.color\":[[\"#B0BEC5\",\"#B0BEC5\",\"#B0BEC5\",\"red\",\"#B0BEC5\",\"#B0BEC5\",\"#B0BEC5\",\"#B0BEC5\",\"#B0BEC5\",\"#B0BEC5\"]]}],\"label\":\"Topic 3\",\"method\":\"update\"},{\"args\":[{\"marker.color\":[[\"#B0BEC5\",\"#B0BEC5\",\"#B0BEC5\",\"#B0BEC5\",\"red\",\"#B0BEC5\",\"#B0BEC5\",\"#B0BEC5\",\"#B0BEC5\",\"#B0BEC5\"]]}],\"label\":\"Topic 4\",\"method\":\"update\"},{\"args\":[{\"marker.color\":[[\"#B0BEC5\",\"#B0BEC5\",\"#B0BEC5\",\"#B0BEC5\",\"#B0BEC5\",\"red\",\"#B0BEC5\",\"#B0BEC5\",\"#B0BEC5\",\"#B0BEC5\"]]}],\"label\":\"Topic 5\",\"method\":\"update\"},{\"args\":[{\"marker.color\":[[\"#B0BEC5\",\"#B0BEC5\",\"#B0BEC5\",\"#B0BEC5\",\"#B0BEC5\",\"#B0BEC5\",\"red\",\"#B0BEC5\",\"#B0BEC5\",\"#B0BEC5\"]]}],\"label\":\"Topic 6\",\"method\":\"update\"},{\"args\":[{\"marker.color\":[[\"#B0BEC5\",\"#B0BEC5\",\"#B0BEC5\",\"#B0BEC5\",\"#B0BEC5\",\"#B0BEC5\",\"#B0BEC5\",\"red\",\"#B0BEC5\",\"#B0BEC5\"]]}],\"label\":\"Topic 7\",\"method\":\"update\"},{\"args\":[{\"marker.color\":[[\"#B0BEC5\",\"#B0BEC5\",\"#B0BEC5\",\"#B0BEC5\",\"#B0BEC5\",\"#B0BEC5\",\"#B0BEC5\",\"#B0BEC5\",\"red\",\"#B0BEC5\"]]}],\"label\":\"Topic 8\",\"method\":\"update\"},{\"args\":[{\"marker.color\":[[\"#B0BEC5\",\"#B0BEC5\",\"#B0BEC5\",\"#B0BEC5\",\"#B0BEC5\",\"#B0BEC5\",\"#B0BEC5\",\"#B0BEC5\",\"#B0BEC5\",\"red\"]]}],\"label\":\"Topic 9\",\"method\":\"update\"}]}],\"shapes\":[{\"line\":{\"color\":\"#CFD8DC\",\"width\":2},\"type\":\"line\",\"x0\":2.672977629303932,\"x1\":2.672977629303932,\"y0\":2.927527678012848,\"y1\":10.950188493728637},{\"line\":{\"color\":\"#9E9E9E\",\"width\":2},\"type\":\"line\",\"x0\":1.2384365379810334,\"x1\":4.107518720626831,\"y0\":6.938858085870743,\"y1\":6.938858085870743}],\"annotations\":[{\"showarrow\":false,\"text\":\"D1\",\"x\":1.2384365379810334,\"y\":6.938858085870743,\"yshift\":10},{\"showarrow\":false,\"text\":\"D2\",\"x\":2.672977629303932,\"xshift\":10,\"y\":10.950188493728637}]},                        {\"responsive\": true}                    ).then(function(){\n",
       "                            \n",
       "var gd = document.getElementById('dc3e7725-939f-400c-b1da-a038841e1811');\n",
       "var x = new MutationObserver(function (mutations, observer) {{\n",
       "        var display = window.getComputedStyle(gd).display;\n",
       "        if (!display || display === 'none') {{\n",
       "            console.log([gd, 'removed!']);\n",
       "            Plotly.purge(gd);\n",
       "            observer.disconnect();\n",
       "        }}\n",
       "}});\n",
       "\n",
       "// Listen for the removal of the full notebook cells\n",
       "var notebookContainer = gd.closest('#notebook-container');\n",
       "if (notebookContainer) {{\n",
       "    x.observe(notebookContainer, {childList: true});\n",
       "}}\n",
       "\n",
       "// Listen for the clearing of the current output cell\n",
       "var outputEl = gd.closest('.output');\n",
       "if (outputEl) {{\n",
       "    x.observe(outputEl, {childList: true});\n",
       "}}\n",
       "\n",
       "                        })                };                });            </script>        </div>"
      ]
     },
     "metadata": {},
     "output_type": "display_data"
    }
   ],
   "source": [
    "topic_model.visualize_topics()"
   ]
  },
  {
   "cell_type": "code",
   "execution_count": 22,
   "id": "5b8a8348",
   "metadata": {},
   "outputs": [
    {
     "data": {
      "application/vnd.plotly.v1+json": {
       "config": {
        "plotlyServerURL": "https://plot.ly"
       },
       "data": [
        {
         "marker": {
          "color": "#D55E00"
         },
         "orientation": "h",
         "type": "bar",
         "x": [
          0.026547627858273935,
          0.03223202618603453,
          0.035239847455060244,
          0.04537429200731398,
          0.04998708014098975
         ],
         "xaxis": "x",
         "y": [
          "کرونا  ",
          "کار  ",
          "کارمندان  ",
          "تهران  ",
          "دورکاری  "
         ],
         "yaxis": "y"
        },
        {
         "marker": {
          "color": "#0072B2"
         },
         "orientation": "h",
         "type": "bar",
         "x": [
          0.17406041099338623,
          0.19544634254927962,
          0.19697592751659662,
          0.23288839031669897,
          0.340421610715473
         ],
         "xaxis": "x2",
         "y": [
          "دستگاه  ",
          "شغل  ",
          "سیلک  ",
          "خانگی  ",
          "چاپ  "
         ],
         "yaxis": "y2"
        },
        {
         "marker": {
          "color": "#CC79A7"
         },
         "orientation": "h",
         "type": "bar",
         "x": [
          0.040807228971435155,
          0.04218945691443545,
          0.044262509830732065,
          0.04882747855866737,
          0.1543509751773434
         ],
         "xaxis": "x3",
         "y": [
          "سرعت  ",
          "اینترنتی  ",
          "دورکاری  ",
          "کار  ",
          "اینترنت  "
         ],
         "yaxis": "y3"
        },
        {
         "marker": {
          "color": "#E69F00"
         },
         "orientation": "h",
         "type": "bar",
         "x": [
          0.02447245832905382,
          0.02483971157787219,
          0.02897809417964885,
          0.13626243546596692,
          0.313080675262892
         ],
         "xaxis": "x4",
         "y": [
          "شرکت  ",
          "دلار  ",
          "ایران  ",
          "کار  ",
          "ریموت  "
         ],
         "yaxis": "y4"
        },
        {
         "marker": {
          "color": "#56B4E9"
         },
         "orientation": "h",
         "type": "bar",
         "x": [
          0.12061311310465132,
          0.12216065077996822,
          0.12300935846237712,
          0.1310306619339323,
          0.25413250494919465
         ],
         "xaxis": "x5",
         "y": [
          "ارسال  ",
          "نمایید  ",
          "توضیحات  ",
          "بازارکار  ",
          "پروژه  "
         ],
         "yaxis": "y5"
        },
        {
         "marker": {
          "color": "#009E73"
         },
         "orientation": "h",
         "type": "bar",
         "x": [
          0.033217943814473794,
          0.033509898277079515,
          0.03568168510670679,
          0.044122661507132635,
          0.07504193975843818
         ],
         "xaxis": "x6",
         "y": [
          "جواب  ",
          "خونه  ",
          "می  ",
          "دورکاری  ",
          "زنگ  "
         ],
         "yaxis": "y6"
        },
        {
         "marker": {
          "color": "#F0E442"
         },
         "orientation": "h",
         "type": "bar",
         "x": [
          0.017394565065556155,
          0.017394565065556155,
          0.017394565065556155,
          0.050300720954414326,
          0.9209939190115817
         ],
         "xaxis": "x7",
         "y": [
          "زیباتره  ",
          "شراط  ",
          "سرپرستیتو  ",
          "خر  ",
          "دورکاری  "
         ],
         "yaxis": "y7"
        },
        {
         "marker": {
          "color": "#D55E00"
         },
         "orientation": "h",
         "type": "bar",
         "x": [
          0.04563911299743697,
          0.08604610740830076,
          0.12040056912066871,
          0.13672913204914247,
          0.44506457621388557
         ],
         "xaxis": "x8",
         "y": [
          "حضور  ",
          "دورکاری  ",
          "سرکار  ",
          "حضوری  ",
          "دورکار  "
         ],
         "yaxis": "y8"
        }
       ],
       "layout": {
        "annotations": [
         {
          "font": {
           "size": 16
          },
          "showarrow": false,
          "text": "Topic 0",
          "x": 0.0875,
          "xanchor": "center",
          "xref": "paper",
          "y": 1,
          "yanchor": "bottom",
          "yref": "paper"
         },
         {
          "font": {
           "size": 16
          },
          "showarrow": false,
          "text": "Topic 1",
          "x": 0.36250000000000004,
          "xanchor": "center",
          "xref": "paper",
          "y": 1,
          "yanchor": "bottom",
          "yref": "paper"
         },
         {
          "font": {
           "size": 16
          },
          "showarrow": false,
          "text": "Topic 2",
          "x": 0.6375000000000001,
          "xanchor": "center",
          "xref": "paper",
          "y": 1,
          "yanchor": "bottom",
          "yref": "paper"
         },
         {
          "font": {
           "size": 16
          },
          "showarrow": false,
          "text": "Topic 3",
          "x": 0.9125,
          "xanchor": "center",
          "xref": "paper",
          "y": 1,
          "yanchor": "bottom",
          "yref": "paper"
         },
         {
          "font": {
           "size": 16
          },
          "showarrow": false,
          "text": "Topic 4",
          "x": 0.0875,
          "xanchor": "center",
          "xref": "paper",
          "y": 0.4,
          "yanchor": "bottom",
          "yref": "paper"
         },
         {
          "font": {
           "size": 16
          },
          "showarrow": false,
          "text": "Topic 5",
          "x": 0.36250000000000004,
          "xanchor": "center",
          "xref": "paper",
          "y": 0.4,
          "yanchor": "bottom",
          "yref": "paper"
         },
         {
          "font": {
           "size": 16
          },
          "showarrow": false,
          "text": "Topic 6",
          "x": 0.6375000000000001,
          "xanchor": "center",
          "xref": "paper",
          "y": 0.4,
          "yanchor": "bottom",
          "yref": "paper"
         },
         {
          "font": {
           "size": 16
          },
          "showarrow": false,
          "text": "Topic 7",
          "x": 0.9125,
          "xanchor": "center",
          "xref": "paper",
          "y": 0.4,
          "yanchor": "bottom",
          "yref": "paper"
         }
        ],
        "height": 500,
        "hoverlabel": {
         "bgcolor": "white",
         "font": {
          "family": "Rockwell",
          "size": 16
         }
        },
        "showlegend": false,
        "template": {
         "data": {
          "bar": [
           {
            "error_x": {
             "color": "#2a3f5f"
            },
            "error_y": {
             "color": "#2a3f5f"
            },
            "marker": {
             "line": {
              "color": "white",
              "width": 0.5
             },
             "pattern": {
              "fillmode": "overlay",
              "size": 10,
              "solidity": 0.2
             }
            },
            "type": "bar"
           }
          ],
          "barpolar": [
           {
            "marker": {
             "line": {
              "color": "white",
              "width": 0.5
             },
             "pattern": {
              "fillmode": "overlay",
              "size": 10,
              "solidity": 0.2
             }
            },
            "type": "barpolar"
           }
          ],
          "carpet": [
           {
            "aaxis": {
             "endlinecolor": "#2a3f5f",
             "gridcolor": "#C8D4E3",
             "linecolor": "#C8D4E3",
             "minorgridcolor": "#C8D4E3",
             "startlinecolor": "#2a3f5f"
            },
            "baxis": {
             "endlinecolor": "#2a3f5f",
             "gridcolor": "#C8D4E3",
             "linecolor": "#C8D4E3",
             "minorgridcolor": "#C8D4E3",
             "startlinecolor": "#2a3f5f"
            },
            "type": "carpet"
           }
          ],
          "choropleth": [
           {
            "colorbar": {
             "outlinewidth": 0,
             "ticks": ""
            },
            "type": "choropleth"
           }
          ],
          "contour": [
           {
            "colorbar": {
             "outlinewidth": 0,
             "ticks": ""
            },
            "colorscale": [
             [
              0,
              "#0d0887"
             ],
             [
              0.1111111111111111,
              "#46039f"
             ],
             [
              0.2222222222222222,
              "#7201a8"
             ],
             [
              0.3333333333333333,
              "#9c179e"
             ],
             [
              0.4444444444444444,
              "#bd3786"
             ],
             [
              0.5555555555555556,
              "#d8576b"
             ],
             [
              0.6666666666666666,
              "#ed7953"
             ],
             [
              0.7777777777777778,
              "#fb9f3a"
             ],
             [
              0.8888888888888888,
              "#fdca26"
             ],
             [
              1,
              "#f0f921"
             ]
            ],
            "type": "contour"
           }
          ],
          "contourcarpet": [
           {
            "colorbar": {
             "outlinewidth": 0,
             "ticks": ""
            },
            "type": "contourcarpet"
           }
          ],
          "heatmap": [
           {
            "colorbar": {
             "outlinewidth": 0,
             "ticks": ""
            },
            "colorscale": [
             [
              0,
              "#0d0887"
             ],
             [
              0.1111111111111111,
              "#46039f"
             ],
             [
              0.2222222222222222,
              "#7201a8"
             ],
             [
              0.3333333333333333,
              "#9c179e"
             ],
             [
              0.4444444444444444,
              "#bd3786"
             ],
             [
              0.5555555555555556,
              "#d8576b"
             ],
             [
              0.6666666666666666,
              "#ed7953"
             ],
             [
              0.7777777777777778,
              "#fb9f3a"
             ],
             [
              0.8888888888888888,
              "#fdca26"
             ],
             [
              1,
              "#f0f921"
             ]
            ],
            "type": "heatmap"
           }
          ],
          "heatmapgl": [
           {
            "colorbar": {
             "outlinewidth": 0,
             "ticks": ""
            },
            "colorscale": [
             [
              0,
              "#0d0887"
             ],
             [
              0.1111111111111111,
              "#46039f"
             ],
             [
              0.2222222222222222,
              "#7201a8"
             ],
             [
              0.3333333333333333,
              "#9c179e"
             ],
             [
              0.4444444444444444,
              "#bd3786"
             ],
             [
              0.5555555555555556,
              "#d8576b"
             ],
             [
              0.6666666666666666,
              "#ed7953"
             ],
             [
              0.7777777777777778,
              "#fb9f3a"
             ],
             [
              0.8888888888888888,
              "#fdca26"
             ],
             [
              1,
              "#f0f921"
             ]
            ],
            "type": "heatmapgl"
           }
          ],
          "histogram": [
           {
            "marker": {
             "pattern": {
              "fillmode": "overlay",
              "size": 10,
              "solidity": 0.2
             }
            },
            "type": "histogram"
           }
          ],
          "histogram2d": [
           {
            "colorbar": {
             "outlinewidth": 0,
             "ticks": ""
            },
            "colorscale": [
             [
              0,
              "#0d0887"
             ],
             [
              0.1111111111111111,
              "#46039f"
             ],
             [
              0.2222222222222222,
              "#7201a8"
             ],
             [
              0.3333333333333333,
              "#9c179e"
             ],
             [
              0.4444444444444444,
              "#bd3786"
             ],
             [
              0.5555555555555556,
              "#d8576b"
             ],
             [
              0.6666666666666666,
              "#ed7953"
             ],
             [
              0.7777777777777778,
              "#fb9f3a"
             ],
             [
              0.8888888888888888,
              "#fdca26"
             ],
             [
              1,
              "#f0f921"
             ]
            ],
            "type": "histogram2d"
           }
          ],
          "histogram2dcontour": [
           {
            "colorbar": {
             "outlinewidth": 0,
             "ticks": ""
            },
            "colorscale": [
             [
              0,
              "#0d0887"
             ],
             [
              0.1111111111111111,
              "#46039f"
             ],
             [
              0.2222222222222222,
              "#7201a8"
             ],
             [
              0.3333333333333333,
              "#9c179e"
             ],
             [
              0.4444444444444444,
              "#bd3786"
             ],
             [
              0.5555555555555556,
              "#d8576b"
             ],
             [
              0.6666666666666666,
              "#ed7953"
             ],
             [
              0.7777777777777778,
              "#fb9f3a"
             ],
             [
              0.8888888888888888,
              "#fdca26"
             ],
             [
              1,
              "#f0f921"
             ]
            ],
            "type": "histogram2dcontour"
           }
          ],
          "mesh3d": [
           {
            "colorbar": {
             "outlinewidth": 0,
             "ticks": ""
            },
            "type": "mesh3d"
           }
          ],
          "parcoords": [
           {
            "line": {
             "colorbar": {
              "outlinewidth": 0,
              "ticks": ""
             }
            },
            "type": "parcoords"
           }
          ],
          "pie": [
           {
            "automargin": true,
            "type": "pie"
           }
          ],
          "scatter": [
           {
            "fillpattern": {
             "fillmode": "overlay",
             "size": 10,
             "solidity": 0.2
            },
            "type": "scatter"
           }
          ],
          "scatter3d": [
           {
            "line": {
             "colorbar": {
              "outlinewidth": 0,
              "ticks": ""
             }
            },
            "marker": {
             "colorbar": {
              "outlinewidth": 0,
              "ticks": ""
             }
            },
            "type": "scatter3d"
           }
          ],
          "scattercarpet": [
           {
            "marker": {
             "colorbar": {
              "outlinewidth": 0,
              "ticks": ""
             }
            },
            "type": "scattercarpet"
           }
          ],
          "scattergeo": [
           {
            "marker": {
             "colorbar": {
              "outlinewidth": 0,
              "ticks": ""
             }
            },
            "type": "scattergeo"
           }
          ],
          "scattergl": [
           {
            "marker": {
             "colorbar": {
              "outlinewidth": 0,
              "ticks": ""
             }
            },
            "type": "scattergl"
           }
          ],
          "scattermapbox": [
           {
            "marker": {
             "colorbar": {
              "outlinewidth": 0,
              "ticks": ""
             }
            },
            "type": "scattermapbox"
           }
          ],
          "scatterpolar": [
           {
            "marker": {
             "colorbar": {
              "outlinewidth": 0,
              "ticks": ""
             }
            },
            "type": "scatterpolar"
           }
          ],
          "scatterpolargl": [
           {
            "marker": {
             "colorbar": {
              "outlinewidth": 0,
              "ticks": ""
             }
            },
            "type": "scatterpolargl"
           }
          ],
          "scatterternary": [
           {
            "marker": {
             "colorbar": {
              "outlinewidth": 0,
              "ticks": ""
             }
            },
            "type": "scatterternary"
           }
          ],
          "surface": [
           {
            "colorbar": {
             "outlinewidth": 0,
             "ticks": ""
            },
            "colorscale": [
             [
              0,
              "#0d0887"
             ],
             [
              0.1111111111111111,
              "#46039f"
             ],
             [
              0.2222222222222222,
              "#7201a8"
             ],
             [
              0.3333333333333333,
              "#9c179e"
             ],
             [
              0.4444444444444444,
              "#bd3786"
             ],
             [
              0.5555555555555556,
              "#d8576b"
             ],
             [
              0.6666666666666666,
              "#ed7953"
             ],
             [
              0.7777777777777778,
              "#fb9f3a"
             ],
             [
              0.8888888888888888,
              "#fdca26"
             ],
             [
              1,
              "#f0f921"
             ]
            ],
            "type": "surface"
           }
          ],
          "table": [
           {
            "cells": {
             "fill": {
              "color": "#EBF0F8"
             },
             "line": {
              "color": "white"
             }
            },
            "header": {
             "fill": {
              "color": "#C8D4E3"
             },
             "line": {
              "color": "white"
             }
            },
            "type": "table"
           }
          ]
         },
         "layout": {
          "annotationdefaults": {
           "arrowcolor": "#2a3f5f",
           "arrowhead": 0,
           "arrowwidth": 1
          },
          "autotypenumbers": "strict",
          "coloraxis": {
           "colorbar": {
            "outlinewidth": 0,
            "ticks": ""
           }
          },
          "colorscale": {
           "diverging": [
            [
             0,
             "#8e0152"
            ],
            [
             0.1,
             "#c51b7d"
            ],
            [
             0.2,
             "#de77ae"
            ],
            [
             0.3,
             "#f1b6da"
            ],
            [
             0.4,
             "#fde0ef"
            ],
            [
             0.5,
             "#f7f7f7"
            ],
            [
             0.6,
             "#e6f5d0"
            ],
            [
             0.7,
             "#b8e186"
            ],
            [
             0.8,
             "#7fbc41"
            ],
            [
             0.9,
             "#4d9221"
            ],
            [
             1,
             "#276419"
            ]
           ],
           "sequential": [
            [
             0,
             "#0d0887"
            ],
            [
             0.1111111111111111,
             "#46039f"
            ],
            [
             0.2222222222222222,
             "#7201a8"
            ],
            [
             0.3333333333333333,
             "#9c179e"
            ],
            [
             0.4444444444444444,
             "#bd3786"
            ],
            [
             0.5555555555555556,
             "#d8576b"
            ],
            [
             0.6666666666666666,
             "#ed7953"
            ],
            [
             0.7777777777777778,
             "#fb9f3a"
            ],
            [
             0.8888888888888888,
             "#fdca26"
            ],
            [
             1,
             "#f0f921"
            ]
           ],
           "sequentialminus": [
            [
             0,
             "#0d0887"
            ],
            [
             0.1111111111111111,
             "#46039f"
            ],
            [
             0.2222222222222222,
             "#7201a8"
            ],
            [
             0.3333333333333333,
             "#9c179e"
            ],
            [
             0.4444444444444444,
             "#bd3786"
            ],
            [
             0.5555555555555556,
             "#d8576b"
            ],
            [
             0.6666666666666666,
             "#ed7953"
            ],
            [
             0.7777777777777778,
             "#fb9f3a"
            ],
            [
             0.8888888888888888,
             "#fdca26"
            ],
            [
             1,
             "#f0f921"
            ]
           ]
          },
          "colorway": [
           "#636efa",
           "#EF553B",
           "#00cc96",
           "#ab63fa",
           "#FFA15A",
           "#19d3f3",
           "#FF6692",
           "#B6E880",
           "#FF97FF",
           "#FECB52"
          ],
          "font": {
           "color": "#2a3f5f"
          },
          "geo": {
           "bgcolor": "white",
           "lakecolor": "white",
           "landcolor": "white",
           "showlakes": true,
           "showland": true,
           "subunitcolor": "#C8D4E3"
          },
          "hoverlabel": {
           "align": "left"
          },
          "hovermode": "closest",
          "mapbox": {
           "style": "light"
          },
          "paper_bgcolor": "white",
          "plot_bgcolor": "white",
          "polar": {
           "angularaxis": {
            "gridcolor": "#EBF0F8",
            "linecolor": "#EBF0F8",
            "ticks": ""
           },
           "bgcolor": "white",
           "radialaxis": {
            "gridcolor": "#EBF0F8",
            "linecolor": "#EBF0F8",
            "ticks": ""
           }
          },
          "scene": {
           "xaxis": {
            "backgroundcolor": "white",
            "gridcolor": "#DFE8F3",
            "gridwidth": 2,
            "linecolor": "#EBF0F8",
            "showbackground": true,
            "ticks": "",
            "zerolinecolor": "#EBF0F8"
           },
           "yaxis": {
            "backgroundcolor": "white",
            "gridcolor": "#DFE8F3",
            "gridwidth": 2,
            "linecolor": "#EBF0F8",
            "showbackground": true,
            "ticks": "",
            "zerolinecolor": "#EBF0F8"
           },
           "zaxis": {
            "backgroundcolor": "white",
            "gridcolor": "#DFE8F3",
            "gridwidth": 2,
            "linecolor": "#EBF0F8",
            "showbackground": true,
            "ticks": "",
            "zerolinecolor": "#EBF0F8"
           }
          },
          "shapedefaults": {
           "line": {
            "color": "#2a3f5f"
           }
          },
          "ternary": {
           "aaxis": {
            "gridcolor": "#DFE8F3",
            "linecolor": "#A2B1C6",
            "ticks": ""
           },
           "baxis": {
            "gridcolor": "#DFE8F3",
            "linecolor": "#A2B1C6",
            "ticks": ""
           },
           "bgcolor": "white",
           "caxis": {
            "gridcolor": "#DFE8F3",
            "linecolor": "#A2B1C6",
            "ticks": ""
           }
          },
          "title": {
           "x": 0.05
          },
          "xaxis": {
           "automargin": true,
           "gridcolor": "#EBF0F8",
           "linecolor": "#EBF0F8",
           "ticks": "",
           "title": {
            "standoff": 15
           },
           "zerolinecolor": "#EBF0F8",
           "zerolinewidth": 2
          },
          "yaxis": {
           "automargin": true,
           "gridcolor": "#EBF0F8",
           "linecolor": "#EBF0F8",
           "ticks": "",
           "title": {
            "standoff": 15
           },
           "zerolinecolor": "#EBF0F8",
           "zerolinewidth": 2
          }
         }
        },
        "title": {
         "font": {
          "color": "Black",
          "size": 22
         },
         "text": "<b>Topic Word Scores",
         "x": 0.5,
         "xanchor": "center",
         "yanchor": "top"
        },
        "width": 1000,
        "xaxis": {
         "anchor": "y",
         "domain": [
          0,
          0.175
         ],
         "showgrid": true
        },
        "xaxis2": {
         "anchor": "y2",
         "domain": [
          0.275,
          0.45
         ],
         "showgrid": true
        },
        "xaxis3": {
         "anchor": "y3",
         "domain": [
          0.55,
          0.7250000000000001
         ],
         "showgrid": true
        },
        "xaxis4": {
         "anchor": "y4",
         "domain": [
          0.825,
          1
         ],
         "showgrid": true
        },
        "xaxis5": {
         "anchor": "y5",
         "domain": [
          0,
          0.175
         ],
         "showgrid": true
        },
        "xaxis6": {
         "anchor": "y6",
         "domain": [
          0.275,
          0.45
         ],
         "showgrid": true
        },
        "xaxis7": {
         "anchor": "y7",
         "domain": [
          0.55,
          0.7250000000000001
         ],
         "showgrid": true
        },
        "xaxis8": {
         "anchor": "y8",
         "domain": [
          0.825,
          1
         ],
         "showgrid": true
        },
        "yaxis": {
         "anchor": "x",
         "domain": [
          0.6000000000000001,
          1
         ],
         "showgrid": true
        },
        "yaxis2": {
         "anchor": "x2",
         "domain": [
          0.6000000000000001,
          1
         ],
         "showgrid": true
        },
        "yaxis3": {
         "anchor": "x3",
         "domain": [
          0.6000000000000001,
          1
         ],
         "showgrid": true
        },
        "yaxis4": {
         "anchor": "x4",
         "domain": [
          0.6000000000000001,
          1
         ],
         "showgrid": true
        },
        "yaxis5": {
         "anchor": "x5",
         "domain": [
          0,
          0.4
         ],
         "showgrid": true
        },
        "yaxis6": {
         "anchor": "x6",
         "domain": [
          0,
          0.4
         ],
         "showgrid": true
        },
        "yaxis7": {
         "anchor": "x7",
         "domain": [
          0,
          0.4
         ],
         "showgrid": true
        },
        "yaxis8": {
         "anchor": "x8",
         "domain": [
          0,
          0.4
         ],
         "showgrid": true
        }
       }
      },
      "text/html": [
       "<div>                            <div id=\"e5a77aa6-785a-4a0a-b1a5-697512444d9b\" class=\"plotly-graph-div\" style=\"height:500px; width:1000px;\"></div>            <script type=\"text/javascript\">                require([\"plotly\"], function(Plotly) {                    window.PLOTLYENV=window.PLOTLYENV || {};                                    if (document.getElementById(\"e5a77aa6-785a-4a0a-b1a5-697512444d9b\")) {                    Plotly.newPlot(                        \"e5a77aa6-785a-4a0a-b1a5-697512444d9b\",                        [{\"marker\":{\"color\":\"#D55E00\"},\"orientation\":\"h\",\"x\":[0.026547627858273935,0.03223202618603453,0.035239847455060244,0.04537429200731398,0.04998708014098975],\"y\":[\"\\u06a9\\u0631\\u0648\\u0646\\u0627  \",\"\\u06a9\\u0627\\u0631  \",\"\\u06a9\\u0627\\u0631\\u0645\\u0646\\u062f\\u0627\\u0646  \",\"\\u062a\\u0647\\u0631\\u0627\\u0646  \",\"\\u062f\\u0648\\u0631\\u06a9\\u0627\\u0631\\u06cc  \"],\"type\":\"bar\",\"xaxis\":\"x\",\"yaxis\":\"y\"},{\"marker\":{\"color\":\"#0072B2\"},\"orientation\":\"h\",\"x\":[0.17406041099338623,0.19544634254927962,0.19697592751659662,0.23288839031669897,0.340421610715473],\"y\":[\"\\u062f\\u0633\\u062a\\u06af\\u0627\\u0647  \",\"\\u0634\\u063a\\u0644  \",\"\\u0633\\u06cc\\u0644\\u06a9  \",\"\\u062e\\u0627\\u0646\\u06af\\u06cc  \",\"\\u0686\\u0627\\u067e  \"],\"type\":\"bar\",\"xaxis\":\"x2\",\"yaxis\":\"y2\"},{\"marker\":{\"color\":\"#CC79A7\"},\"orientation\":\"h\",\"x\":[0.040807228971435155,0.04218945691443545,0.044262509830732065,0.04882747855866737,0.1543509751773434],\"y\":[\"\\u0633\\u0631\\u0639\\u062a  \",\"\\u0627\\u06cc\\u0646\\u062a\\u0631\\u0646\\u062a\\u06cc  \",\"\\u062f\\u0648\\u0631\\u06a9\\u0627\\u0631\\u06cc  \",\"\\u06a9\\u0627\\u0631  \",\"\\u0627\\u06cc\\u0646\\u062a\\u0631\\u0646\\u062a  \"],\"type\":\"bar\",\"xaxis\":\"x3\",\"yaxis\":\"y3\"},{\"marker\":{\"color\":\"#E69F00\"},\"orientation\":\"h\",\"x\":[0.02447245832905382,0.02483971157787219,0.02897809417964885,0.13626243546596692,0.313080675262892],\"y\":[\"\\u0634\\u0631\\u06a9\\u062a  \",\"\\u062f\\u0644\\u0627\\u0631  \",\"\\u0627\\u06cc\\u0631\\u0627\\u0646  \",\"\\u06a9\\u0627\\u0631  \",\"\\u0631\\u06cc\\u0645\\u0648\\u062a  \"],\"type\":\"bar\",\"xaxis\":\"x4\",\"yaxis\":\"y4\"},{\"marker\":{\"color\":\"#56B4E9\"},\"orientation\":\"h\",\"x\":[0.12061311310465132,0.12216065077996822,0.12300935846237712,0.1310306619339323,0.25413250494919465],\"y\":[\"\\u0627\\u0631\\u0633\\u0627\\u0644  \",\"\\u0646\\u0645\\u0627\\u06cc\\u06cc\\u062f  \",\"\\u062a\\u0648\\u0636\\u06cc\\u062d\\u0627\\u062a  \",\"\\u0628\\u0627\\u0632\\u0627\\u0631\\u06a9\\u0627\\u0631  \",\"\\u067e\\u0631\\u0648\\u0698\\u0647  \"],\"type\":\"bar\",\"xaxis\":\"x5\",\"yaxis\":\"y5\"},{\"marker\":{\"color\":\"#009E73\"},\"orientation\":\"h\",\"x\":[0.033217943814473794,0.033509898277079515,0.03568168510670679,0.044122661507132635,0.07504193975843818],\"y\":[\"\\u062c\\u0648\\u0627\\u0628  \",\"\\u062e\\u0648\\u0646\\u0647  \",\"\\u0645\\u06cc  \",\"\\u062f\\u0648\\u0631\\u06a9\\u0627\\u0631\\u06cc  \",\"\\u0632\\u0646\\u06af  \"],\"type\":\"bar\",\"xaxis\":\"x6\",\"yaxis\":\"y6\"},{\"marker\":{\"color\":\"#F0E442\"},\"orientation\":\"h\",\"x\":[0.017394565065556155,0.017394565065556155,0.017394565065556155,0.050300720954414326,0.9209939190115817],\"y\":[\"\\u0632\\u06cc\\u0628\\u0627\\u062a\\u0631\\u0647  \",\"\\u0634\\u0631\\u0627\\u0637  \",\"\\u0633\\u0631\\u067e\\u0631\\u0633\\u062a\\u06cc\\u062a\\u0648  \",\"\\u062e\\u0631  \",\"\\u062f\\u0648\\u0631\\u06a9\\u0627\\u0631\\u06cc  \"],\"type\":\"bar\",\"xaxis\":\"x7\",\"yaxis\":\"y7\"},{\"marker\":{\"color\":\"#D55E00\"},\"orientation\":\"h\",\"x\":[0.04563911299743697,0.08604610740830076,0.12040056912066871,0.13672913204914247,0.44506457621388557],\"y\":[\"\\u062d\\u0636\\u0648\\u0631  \",\"\\u062f\\u0648\\u0631\\u06a9\\u0627\\u0631\\u06cc  \",\"\\u0633\\u0631\\u06a9\\u0627\\u0631  \",\"\\u062d\\u0636\\u0648\\u0631\\u06cc  \",\"\\u062f\\u0648\\u0631\\u06a9\\u0627\\u0631  \"],\"type\":\"bar\",\"xaxis\":\"x8\",\"yaxis\":\"y8\"}],                        {\"template\":{\"data\":{\"barpolar\":[{\"marker\":{\"line\":{\"color\":\"white\",\"width\":0.5},\"pattern\":{\"fillmode\":\"overlay\",\"size\":10,\"solidity\":0.2}},\"type\":\"barpolar\"}],\"bar\":[{\"error_x\":{\"color\":\"#2a3f5f\"},\"error_y\":{\"color\":\"#2a3f5f\"},\"marker\":{\"line\":{\"color\":\"white\",\"width\":0.5},\"pattern\":{\"fillmode\":\"overlay\",\"size\":10,\"solidity\":0.2}},\"type\":\"bar\"}],\"carpet\":[{\"aaxis\":{\"endlinecolor\":\"#2a3f5f\",\"gridcolor\":\"#C8D4E3\",\"linecolor\":\"#C8D4E3\",\"minorgridcolor\":\"#C8D4E3\",\"startlinecolor\":\"#2a3f5f\"},\"baxis\":{\"endlinecolor\":\"#2a3f5f\",\"gridcolor\":\"#C8D4E3\",\"linecolor\":\"#C8D4E3\",\"minorgridcolor\":\"#C8D4E3\",\"startlinecolor\":\"#2a3f5f\"},\"type\":\"carpet\"}],\"choropleth\":[{\"colorbar\":{\"outlinewidth\":0,\"ticks\":\"\"},\"type\":\"choropleth\"}],\"contourcarpet\":[{\"colorbar\":{\"outlinewidth\":0,\"ticks\":\"\"},\"type\":\"contourcarpet\"}],\"contour\":[{\"colorbar\":{\"outlinewidth\":0,\"ticks\":\"\"},\"colorscale\":[[0.0,\"#0d0887\"],[0.1111111111111111,\"#46039f\"],[0.2222222222222222,\"#7201a8\"],[0.3333333333333333,\"#9c179e\"],[0.4444444444444444,\"#bd3786\"],[0.5555555555555556,\"#d8576b\"],[0.6666666666666666,\"#ed7953\"],[0.7777777777777778,\"#fb9f3a\"],[0.8888888888888888,\"#fdca26\"],[1.0,\"#f0f921\"]],\"type\":\"contour\"}],\"heatmapgl\":[{\"colorbar\":{\"outlinewidth\":0,\"ticks\":\"\"},\"colorscale\":[[0.0,\"#0d0887\"],[0.1111111111111111,\"#46039f\"],[0.2222222222222222,\"#7201a8\"],[0.3333333333333333,\"#9c179e\"],[0.4444444444444444,\"#bd3786\"],[0.5555555555555556,\"#d8576b\"],[0.6666666666666666,\"#ed7953\"],[0.7777777777777778,\"#fb9f3a\"],[0.8888888888888888,\"#fdca26\"],[1.0,\"#f0f921\"]],\"type\":\"heatmapgl\"}],\"heatmap\":[{\"colorbar\":{\"outlinewidth\":0,\"ticks\":\"\"},\"colorscale\":[[0.0,\"#0d0887\"],[0.1111111111111111,\"#46039f\"],[0.2222222222222222,\"#7201a8\"],[0.3333333333333333,\"#9c179e\"],[0.4444444444444444,\"#bd3786\"],[0.5555555555555556,\"#d8576b\"],[0.6666666666666666,\"#ed7953\"],[0.7777777777777778,\"#fb9f3a\"],[0.8888888888888888,\"#fdca26\"],[1.0,\"#f0f921\"]],\"type\":\"heatmap\"}],\"histogram2dcontour\":[{\"colorbar\":{\"outlinewidth\":0,\"ticks\":\"\"},\"colorscale\":[[0.0,\"#0d0887\"],[0.1111111111111111,\"#46039f\"],[0.2222222222222222,\"#7201a8\"],[0.3333333333333333,\"#9c179e\"],[0.4444444444444444,\"#bd3786\"],[0.5555555555555556,\"#d8576b\"],[0.6666666666666666,\"#ed7953\"],[0.7777777777777778,\"#fb9f3a\"],[0.8888888888888888,\"#fdca26\"],[1.0,\"#f0f921\"]],\"type\":\"histogram2dcontour\"}],\"histogram2d\":[{\"colorbar\":{\"outlinewidth\":0,\"ticks\":\"\"},\"colorscale\":[[0.0,\"#0d0887\"],[0.1111111111111111,\"#46039f\"],[0.2222222222222222,\"#7201a8\"],[0.3333333333333333,\"#9c179e\"],[0.4444444444444444,\"#bd3786\"],[0.5555555555555556,\"#d8576b\"],[0.6666666666666666,\"#ed7953\"],[0.7777777777777778,\"#fb9f3a\"],[0.8888888888888888,\"#fdca26\"],[1.0,\"#f0f921\"]],\"type\":\"histogram2d\"}],\"histogram\":[{\"marker\":{\"pattern\":{\"fillmode\":\"overlay\",\"size\":10,\"solidity\":0.2}},\"type\":\"histogram\"}],\"mesh3d\":[{\"colorbar\":{\"outlinewidth\":0,\"ticks\":\"\"},\"type\":\"mesh3d\"}],\"parcoords\":[{\"line\":{\"colorbar\":{\"outlinewidth\":0,\"ticks\":\"\"}},\"type\":\"parcoords\"}],\"pie\":[{\"automargin\":true,\"type\":\"pie\"}],\"scatter3d\":[{\"line\":{\"colorbar\":{\"outlinewidth\":0,\"ticks\":\"\"}},\"marker\":{\"colorbar\":{\"outlinewidth\":0,\"ticks\":\"\"}},\"type\":\"scatter3d\"}],\"scattercarpet\":[{\"marker\":{\"colorbar\":{\"outlinewidth\":0,\"ticks\":\"\"}},\"type\":\"scattercarpet\"}],\"scattergeo\":[{\"marker\":{\"colorbar\":{\"outlinewidth\":0,\"ticks\":\"\"}},\"type\":\"scattergeo\"}],\"scattergl\":[{\"marker\":{\"colorbar\":{\"outlinewidth\":0,\"ticks\":\"\"}},\"type\":\"scattergl\"}],\"scattermapbox\":[{\"marker\":{\"colorbar\":{\"outlinewidth\":0,\"ticks\":\"\"}},\"type\":\"scattermapbox\"}],\"scatterpolargl\":[{\"marker\":{\"colorbar\":{\"outlinewidth\":0,\"ticks\":\"\"}},\"type\":\"scatterpolargl\"}],\"scatterpolar\":[{\"marker\":{\"colorbar\":{\"outlinewidth\":0,\"ticks\":\"\"}},\"type\":\"scatterpolar\"}],\"scatter\":[{\"fillpattern\":{\"fillmode\":\"overlay\",\"size\":10,\"solidity\":0.2},\"type\":\"scatter\"}],\"scatterternary\":[{\"marker\":{\"colorbar\":{\"outlinewidth\":0,\"ticks\":\"\"}},\"type\":\"scatterternary\"}],\"surface\":[{\"colorbar\":{\"outlinewidth\":0,\"ticks\":\"\"},\"colorscale\":[[0.0,\"#0d0887\"],[0.1111111111111111,\"#46039f\"],[0.2222222222222222,\"#7201a8\"],[0.3333333333333333,\"#9c179e\"],[0.4444444444444444,\"#bd3786\"],[0.5555555555555556,\"#d8576b\"],[0.6666666666666666,\"#ed7953\"],[0.7777777777777778,\"#fb9f3a\"],[0.8888888888888888,\"#fdca26\"],[1.0,\"#f0f921\"]],\"type\":\"surface\"}],\"table\":[{\"cells\":{\"fill\":{\"color\":\"#EBF0F8\"},\"line\":{\"color\":\"white\"}},\"header\":{\"fill\":{\"color\":\"#C8D4E3\"},\"line\":{\"color\":\"white\"}},\"type\":\"table\"}]},\"layout\":{\"annotationdefaults\":{\"arrowcolor\":\"#2a3f5f\",\"arrowhead\":0,\"arrowwidth\":1},\"autotypenumbers\":\"strict\",\"coloraxis\":{\"colorbar\":{\"outlinewidth\":0,\"ticks\":\"\"}},\"colorscale\":{\"diverging\":[[0,\"#8e0152\"],[0.1,\"#c51b7d\"],[0.2,\"#de77ae\"],[0.3,\"#f1b6da\"],[0.4,\"#fde0ef\"],[0.5,\"#f7f7f7\"],[0.6,\"#e6f5d0\"],[0.7,\"#b8e186\"],[0.8,\"#7fbc41\"],[0.9,\"#4d9221\"],[1,\"#276419\"]],\"sequential\":[[0.0,\"#0d0887\"],[0.1111111111111111,\"#46039f\"],[0.2222222222222222,\"#7201a8\"],[0.3333333333333333,\"#9c179e\"],[0.4444444444444444,\"#bd3786\"],[0.5555555555555556,\"#d8576b\"],[0.6666666666666666,\"#ed7953\"],[0.7777777777777778,\"#fb9f3a\"],[0.8888888888888888,\"#fdca26\"],[1.0,\"#f0f921\"]],\"sequentialminus\":[[0.0,\"#0d0887\"],[0.1111111111111111,\"#46039f\"],[0.2222222222222222,\"#7201a8\"],[0.3333333333333333,\"#9c179e\"],[0.4444444444444444,\"#bd3786\"],[0.5555555555555556,\"#d8576b\"],[0.6666666666666666,\"#ed7953\"],[0.7777777777777778,\"#fb9f3a\"],[0.8888888888888888,\"#fdca26\"],[1.0,\"#f0f921\"]]},\"colorway\":[\"#636efa\",\"#EF553B\",\"#00cc96\",\"#ab63fa\",\"#FFA15A\",\"#19d3f3\",\"#FF6692\",\"#B6E880\",\"#FF97FF\",\"#FECB52\"],\"font\":{\"color\":\"#2a3f5f\"},\"geo\":{\"bgcolor\":\"white\",\"lakecolor\":\"white\",\"landcolor\":\"white\",\"showlakes\":true,\"showland\":true,\"subunitcolor\":\"#C8D4E3\"},\"hoverlabel\":{\"align\":\"left\"},\"hovermode\":\"closest\",\"mapbox\":{\"style\":\"light\"},\"paper_bgcolor\":\"white\",\"plot_bgcolor\":\"white\",\"polar\":{\"angularaxis\":{\"gridcolor\":\"#EBF0F8\",\"linecolor\":\"#EBF0F8\",\"ticks\":\"\"},\"bgcolor\":\"white\",\"radialaxis\":{\"gridcolor\":\"#EBF0F8\",\"linecolor\":\"#EBF0F8\",\"ticks\":\"\"}},\"scene\":{\"xaxis\":{\"backgroundcolor\":\"white\",\"gridcolor\":\"#DFE8F3\",\"gridwidth\":2,\"linecolor\":\"#EBF0F8\",\"showbackground\":true,\"ticks\":\"\",\"zerolinecolor\":\"#EBF0F8\"},\"yaxis\":{\"backgroundcolor\":\"white\",\"gridcolor\":\"#DFE8F3\",\"gridwidth\":2,\"linecolor\":\"#EBF0F8\",\"showbackground\":true,\"ticks\":\"\",\"zerolinecolor\":\"#EBF0F8\"},\"zaxis\":{\"backgroundcolor\":\"white\",\"gridcolor\":\"#DFE8F3\",\"gridwidth\":2,\"linecolor\":\"#EBF0F8\",\"showbackground\":true,\"ticks\":\"\",\"zerolinecolor\":\"#EBF0F8\"}},\"shapedefaults\":{\"line\":{\"color\":\"#2a3f5f\"}},\"ternary\":{\"aaxis\":{\"gridcolor\":\"#DFE8F3\",\"linecolor\":\"#A2B1C6\",\"ticks\":\"\"},\"baxis\":{\"gridcolor\":\"#DFE8F3\",\"linecolor\":\"#A2B1C6\",\"ticks\":\"\"},\"bgcolor\":\"white\",\"caxis\":{\"gridcolor\":\"#DFE8F3\",\"linecolor\":\"#A2B1C6\",\"ticks\":\"\"}},\"title\":{\"x\":0.05},\"xaxis\":{\"automargin\":true,\"gridcolor\":\"#EBF0F8\",\"linecolor\":\"#EBF0F8\",\"ticks\":\"\",\"title\":{\"standoff\":15},\"zerolinecolor\":\"#EBF0F8\",\"zerolinewidth\":2},\"yaxis\":{\"automargin\":true,\"gridcolor\":\"#EBF0F8\",\"linecolor\":\"#EBF0F8\",\"ticks\":\"\",\"title\":{\"standoff\":15},\"zerolinecolor\":\"#EBF0F8\",\"zerolinewidth\":2}}},\"xaxis\":{\"anchor\":\"y\",\"domain\":[0.0,0.175],\"showgrid\":true},\"yaxis\":{\"anchor\":\"x\",\"domain\":[0.6000000000000001,1.0],\"showgrid\":true},\"xaxis2\":{\"anchor\":\"y2\",\"domain\":[0.275,0.45],\"showgrid\":true},\"yaxis2\":{\"anchor\":\"x2\",\"domain\":[0.6000000000000001,1.0],\"showgrid\":true},\"xaxis3\":{\"anchor\":\"y3\",\"domain\":[0.55,0.7250000000000001],\"showgrid\":true},\"yaxis3\":{\"anchor\":\"x3\",\"domain\":[0.6000000000000001,1.0],\"showgrid\":true},\"xaxis4\":{\"anchor\":\"y4\",\"domain\":[0.825,1.0],\"showgrid\":true},\"yaxis4\":{\"anchor\":\"x4\",\"domain\":[0.6000000000000001,1.0],\"showgrid\":true},\"xaxis5\":{\"anchor\":\"y5\",\"domain\":[0.0,0.175],\"showgrid\":true},\"yaxis5\":{\"anchor\":\"x5\",\"domain\":[0.0,0.4],\"showgrid\":true},\"xaxis6\":{\"anchor\":\"y6\",\"domain\":[0.275,0.45],\"showgrid\":true},\"yaxis6\":{\"anchor\":\"x6\",\"domain\":[0.0,0.4],\"showgrid\":true},\"xaxis7\":{\"anchor\":\"y7\",\"domain\":[0.55,0.7250000000000001],\"showgrid\":true},\"yaxis7\":{\"anchor\":\"x7\",\"domain\":[0.0,0.4],\"showgrid\":true},\"xaxis8\":{\"anchor\":\"y8\",\"domain\":[0.825,1.0],\"showgrid\":true},\"yaxis8\":{\"anchor\":\"x8\",\"domain\":[0.0,0.4],\"showgrid\":true},\"annotations\":[{\"font\":{\"size\":16},\"showarrow\":false,\"text\":\"Topic 0\",\"x\":0.0875,\"xanchor\":\"center\",\"xref\":\"paper\",\"y\":1.0,\"yanchor\":\"bottom\",\"yref\":\"paper\"},{\"font\":{\"size\":16},\"showarrow\":false,\"text\":\"Topic 1\",\"x\":0.36250000000000004,\"xanchor\":\"center\",\"xref\":\"paper\",\"y\":1.0,\"yanchor\":\"bottom\",\"yref\":\"paper\"},{\"font\":{\"size\":16},\"showarrow\":false,\"text\":\"Topic 2\",\"x\":0.6375000000000001,\"xanchor\":\"center\",\"xref\":\"paper\",\"y\":1.0,\"yanchor\":\"bottom\",\"yref\":\"paper\"},{\"font\":{\"size\":16},\"showarrow\":false,\"text\":\"Topic 3\",\"x\":0.9125,\"xanchor\":\"center\",\"xref\":\"paper\",\"y\":1.0,\"yanchor\":\"bottom\",\"yref\":\"paper\"},{\"font\":{\"size\":16},\"showarrow\":false,\"text\":\"Topic 4\",\"x\":0.0875,\"xanchor\":\"center\",\"xref\":\"paper\",\"y\":0.4,\"yanchor\":\"bottom\",\"yref\":\"paper\"},{\"font\":{\"size\":16},\"showarrow\":false,\"text\":\"Topic 5\",\"x\":0.36250000000000004,\"xanchor\":\"center\",\"xref\":\"paper\",\"y\":0.4,\"yanchor\":\"bottom\",\"yref\":\"paper\"},{\"font\":{\"size\":16},\"showarrow\":false,\"text\":\"Topic 6\",\"x\":0.6375000000000001,\"xanchor\":\"center\",\"xref\":\"paper\",\"y\":0.4,\"yanchor\":\"bottom\",\"yref\":\"paper\"},{\"font\":{\"size\":16},\"showarrow\":false,\"text\":\"Topic 7\",\"x\":0.9125,\"xanchor\":\"center\",\"xref\":\"paper\",\"y\":0.4,\"yanchor\":\"bottom\",\"yref\":\"paper\"}],\"title\":{\"font\":{\"size\":22,\"color\":\"Black\"},\"text\":\"<b>Topic Word Scores\",\"x\":0.5,\"xanchor\":\"center\",\"yanchor\":\"top\"},\"hoverlabel\":{\"font\":{\"size\":16,\"family\":\"Rockwell\"},\"bgcolor\":\"white\"},\"showlegend\":false,\"width\":1000,\"height\":500},                        {\"responsive\": true}                    ).then(function(){\n",
       "                            \n",
       "var gd = document.getElementById('e5a77aa6-785a-4a0a-b1a5-697512444d9b');\n",
       "var x = new MutationObserver(function (mutations, observer) {{\n",
       "        var display = window.getComputedStyle(gd).display;\n",
       "        if (!display || display === 'none') {{\n",
       "            console.log([gd, 'removed!']);\n",
       "            Plotly.purge(gd);\n",
       "            observer.disconnect();\n",
       "        }}\n",
       "}});\n",
       "\n",
       "// Listen for the removal of the full notebook cells\n",
       "var notebookContainer = gd.closest('#notebook-container');\n",
       "if (notebookContainer) {{\n",
       "    x.observe(notebookContainer, {childList: true});\n",
       "}}\n",
       "\n",
       "// Listen for the clearing of the current output cell\n",
       "var outputEl = gd.closest('.output');\n",
       "if (outputEl) {{\n",
       "    x.observe(outputEl, {childList: true});\n",
       "}}\n",
       "\n",
       "                        })                };                });            </script>        </div>"
      ]
     },
     "metadata": {},
     "output_type": "display_data"
    }
   ],
   "source": [
    "topic_model.visualize_barchart()"
   ]
  },
  {
   "cell_type": "code",
   "execution_count": 23,
   "id": "e096b928",
   "metadata": {},
   "outputs": [
    {
     "data": {
      "application/vnd.plotly.v1+json": {
       "config": {
        "plotlyServerURL": "https://plot.ly"
       },
       "data": [
        {
         "coloraxis": "coloraxis",
         "hovertemplate": "x: %{x}<br>y: %{y}<br>Similarity Score: %{z}<extra></extra>",
         "name": "0",
         "type": "heatmap",
         "x": [
          "0_دورکاری_تهران_کارمندان",
          "1_چاپ_خانگی_سیلک",
          "2_اینترنت_کار_دورکاری",
          "3_ریموت_کار_ایران",
          "4_پروژه_بازارکار_توضیحات",
          "5_زنگ_دورکاری_می",
          "6_دورکاری_خر_سرپرستیتو",
          "7_دورکار_حضوری_سرکار",
          "8_زن_زنان_خانه",
          "9_دورکاری_نمی_دورکار"
         ],
         "xaxis": "x",
         "y": [
          "0_دورکاری_تهران_کارمندان",
          "1_چاپ_خانگی_سیلک",
          "2_اینترنت_کار_دورکاری",
          "3_ریموت_کار_ایران",
          "4_پروژه_بازارکار_توضیحات",
          "5_زنگ_دورکاری_می",
          "6_دورکاری_خر_سرپرستیتو",
          "7_دورکار_حضوری_سرکار",
          "8_زن_زنان_خانه",
          "9_دورکاری_نمی_دورکار"
         ],
         "yaxis": "y",
         "z": [
          [
           1.0000000000000004,
           0.9354496396875244,
           0.9215577420709828,
           0.7724793308181375,
           0.7818557578736129,
           0.882798912997069,
           0.9602255444653935,
           0.8969154413180249,
           0.8243308185491599,
           0.8773648166738134
          ],
          [
           0.9354496396875244,
           0.9999999999999996,
           0.8783704167575488,
           0.7349070808782642,
           0.7737704123556097,
           0.8437475009902238,
           0.905374036534981,
           0.8488271884947063,
           0.7284395383077098,
           0.8411793015977929
          ],
          [
           0.9215577420709828,
           0.8783704167575488,
           1,
           0.8003787564088849,
           0.7612663898193215,
           0.8762343204453511,
           0.9082988324441632,
           0.8344293206284328,
           0.7061003070161065,
           0.8471905651968237
          ],
          [
           0.7724793308181375,
           0.7349070808782642,
           0.8003787564088849,
           1.0000000000000002,
           0.6450269270415832,
           0.8054209941940664,
           0.7950003489397152,
           0.6957877319703236,
           0.551551242852238,
           0.7212782022249675
          ],
          [
           0.7818557578736129,
           0.7737704123556097,
           0.7612663898193215,
           0.6450269270415832,
           1,
           0.7723568021641934,
           0.766223778985944,
           0.7416737346987801,
           0.5956080790855074,
           0.6703482350804342
          ],
          [
           0.882798912997069,
           0.8437475009902238,
           0.8762343204453511,
           0.8054209941940664,
           0.7723568021641934,
           1.0000000000000004,
           0.8739393935699418,
           0.8402358561381329,
           0.6584464335245771,
           0.8083934710282745
          ],
          [
           0.9602255444653935,
           0.905374036534981,
           0.9082988324441632,
           0.7950003489397152,
           0.766223778985944,
           0.8739393935699418,
           0.9999999999999989,
           0.8745775030097276,
           0.8146466747338212,
           0.8386399083837015
          ],
          [
           0.8969154413180249,
           0.8488271884947063,
           0.8344293206284328,
           0.6957877319703236,
           0.7416737346987801,
           0.8402358561381329,
           0.8745775030097276,
           0.9999999999999998,
           0.70772998216935,
           0.8015036743862863
          ],
          [
           0.8243308185491599,
           0.7284395383077098,
           0.7061003070161065,
           0.551551242852238,
           0.5956080790855074,
           0.6584464335245771,
           0.8146466747338212,
           0.70772998216935,
           1.0000000000000002,
           0.673622462615937
          ],
          [
           0.8773648166738134,
           0.8411793015977929,
           0.8471905651968237,
           0.7212782022249675,
           0.6703482350804342,
           0.8083934710282745,
           0.8386399083837015,
           0.8015036743862863,
           0.673622462615937,
           0.9999999999999997
          ]
         ]
        }
       ],
       "layout": {
        "coloraxis": {
         "colorbar": {
          "title": {
           "text": "Similarity Score"
          }
         },
         "colorscale": [
          [
           0,
           "rgb(247,252,240)"
          ],
          [
           0.125,
           "rgb(224,243,219)"
          ],
          [
           0.25,
           "rgb(204,235,197)"
          ],
          [
           0.375,
           "rgb(168,221,181)"
          ],
          [
           0.5,
           "rgb(123,204,196)"
          ],
          [
           0.625,
           "rgb(78,179,211)"
          ],
          [
           0.75,
           "rgb(43,140,190)"
          ],
          [
           0.875,
           "rgb(8,104,172)"
          ],
          [
           1,
           "rgb(8,64,129)"
          ]
         ]
        },
        "height": 800,
        "hoverlabel": {
         "bgcolor": "white",
         "font": {
          "family": "Rockwell",
          "size": 16
         }
        },
        "legend": {
         "title": {
          "text": "Trend"
         }
        },
        "margin": {
         "t": 60
        },
        "showlegend": true,
        "template": {
         "data": {
          "bar": [
           {
            "error_x": {
             "color": "#2a3f5f"
            },
            "error_y": {
             "color": "#2a3f5f"
            },
            "marker": {
             "line": {
              "color": "#E5ECF6",
              "width": 0.5
             },
             "pattern": {
              "fillmode": "overlay",
              "size": 10,
              "solidity": 0.2
             }
            },
            "type": "bar"
           }
          ],
          "barpolar": [
           {
            "marker": {
             "line": {
              "color": "#E5ECF6",
              "width": 0.5
             },
             "pattern": {
              "fillmode": "overlay",
              "size": 10,
              "solidity": 0.2
             }
            },
            "type": "barpolar"
           }
          ],
          "carpet": [
           {
            "aaxis": {
             "endlinecolor": "#2a3f5f",
             "gridcolor": "white",
             "linecolor": "white",
             "minorgridcolor": "white",
             "startlinecolor": "#2a3f5f"
            },
            "baxis": {
             "endlinecolor": "#2a3f5f",
             "gridcolor": "white",
             "linecolor": "white",
             "minorgridcolor": "white",
             "startlinecolor": "#2a3f5f"
            },
            "type": "carpet"
           }
          ],
          "choropleth": [
           {
            "colorbar": {
             "outlinewidth": 0,
             "ticks": ""
            },
            "type": "choropleth"
           }
          ],
          "contour": [
           {
            "colorbar": {
             "outlinewidth": 0,
             "ticks": ""
            },
            "colorscale": [
             [
              0,
              "#0d0887"
             ],
             [
              0.1111111111111111,
              "#46039f"
             ],
             [
              0.2222222222222222,
              "#7201a8"
             ],
             [
              0.3333333333333333,
              "#9c179e"
             ],
             [
              0.4444444444444444,
              "#bd3786"
             ],
             [
              0.5555555555555556,
              "#d8576b"
             ],
             [
              0.6666666666666666,
              "#ed7953"
             ],
             [
              0.7777777777777778,
              "#fb9f3a"
             ],
             [
              0.8888888888888888,
              "#fdca26"
             ],
             [
              1,
              "#f0f921"
             ]
            ],
            "type": "contour"
           }
          ],
          "contourcarpet": [
           {
            "colorbar": {
             "outlinewidth": 0,
             "ticks": ""
            },
            "type": "contourcarpet"
           }
          ],
          "heatmap": [
           {
            "colorbar": {
             "outlinewidth": 0,
             "ticks": ""
            },
            "colorscale": [
             [
              0,
              "#0d0887"
             ],
             [
              0.1111111111111111,
              "#46039f"
             ],
             [
              0.2222222222222222,
              "#7201a8"
             ],
             [
              0.3333333333333333,
              "#9c179e"
             ],
             [
              0.4444444444444444,
              "#bd3786"
             ],
             [
              0.5555555555555556,
              "#d8576b"
             ],
             [
              0.6666666666666666,
              "#ed7953"
             ],
             [
              0.7777777777777778,
              "#fb9f3a"
             ],
             [
              0.8888888888888888,
              "#fdca26"
             ],
             [
              1,
              "#f0f921"
             ]
            ],
            "type": "heatmap"
           }
          ],
          "heatmapgl": [
           {
            "colorbar": {
             "outlinewidth": 0,
             "ticks": ""
            },
            "colorscale": [
             [
              0,
              "#0d0887"
             ],
             [
              0.1111111111111111,
              "#46039f"
             ],
             [
              0.2222222222222222,
              "#7201a8"
             ],
             [
              0.3333333333333333,
              "#9c179e"
             ],
             [
              0.4444444444444444,
              "#bd3786"
             ],
             [
              0.5555555555555556,
              "#d8576b"
             ],
             [
              0.6666666666666666,
              "#ed7953"
             ],
             [
              0.7777777777777778,
              "#fb9f3a"
             ],
             [
              0.8888888888888888,
              "#fdca26"
             ],
             [
              1,
              "#f0f921"
             ]
            ],
            "type": "heatmapgl"
           }
          ],
          "histogram": [
           {
            "marker": {
             "pattern": {
              "fillmode": "overlay",
              "size": 10,
              "solidity": 0.2
             }
            },
            "type": "histogram"
           }
          ],
          "histogram2d": [
           {
            "colorbar": {
             "outlinewidth": 0,
             "ticks": ""
            },
            "colorscale": [
             [
              0,
              "#0d0887"
             ],
             [
              0.1111111111111111,
              "#46039f"
             ],
             [
              0.2222222222222222,
              "#7201a8"
             ],
             [
              0.3333333333333333,
              "#9c179e"
             ],
             [
              0.4444444444444444,
              "#bd3786"
             ],
             [
              0.5555555555555556,
              "#d8576b"
             ],
             [
              0.6666666666666666,
              "#ed7953"
             ],
             [
              0.7777777777777778,
              "#fb9f3a"
             ],
             [
              0.8888888888888888,
              "#fdca26"
             ],
             [
              1,
              "#f0f921"
             ]
            ],
            "type": "histogram2d"
           }
          ],
          "histogram2dcontour": [
           {
            "colorbar": {
             "outlinewidth": 0,
             "ticks": ""
            },
            "colorscale": [
             [
              0,
              "#0d0887"
             ],
             [
              0.1111111111111111,
              "#46039f"
             ],
             [
              0.2222222222222222,
              "#7201a8"
             ],
             [
              0.3333333333333333,
              "#9c179e"
             ],
             [
              0.4444444444444444,
              "#bd3786"
             ],
             [
              0.5555555555555556,
              "#d8576b"
             ],
             [
              0.6666666666666666,
              "#ed7953"
             ],
             [
              0.7777777777777778,
              "#fb9f3a"
             ],
             [
              0.8888888888888888,
              "#fdca26"
             ],
             [
              1,
              "#f0f921"
             ]
            ],
            "type": "histogram2dcontour"
           }
          ],
          "mesh3d": [
           {
            "colorbar": {
             "outlinewidth": 0,
             "ticks": ""
            },
            "type": "mesh3d"
           }
          ],
          "parcoords": [
           {
            "line": {
             "colorbar": {
              "outlinewidth": 0,
              "ticks": ""
             }
            },
            "type": "parcoords"
           }
          ],
          "pie": [
           {
            "automargin": true,
            "type": "pie"
           }
          ],
          "scatter": [
           {
            "fillpattern": {
             "fillmode": "overlay",
             "size": 10,
             "solidity": 0.2
            },
            "type": "scatter"
           }
          ],
          "scatter3d": [
           {
            "line": {
             "colorbar": {
              "outlinewidth": 0,
              "ticks": ""
             }
            },
            "marker": {
             "colorbar": {
              "outlinewidth": 0,
              "ticks": ""
             }
            },
            "type": "scatter3d"
           }
          ],
          "scattercarpet": [
           {
            "marker": {
             "colorbar": {
              "outlinewidth": 0,
              "ticks": ""
             }
            },
            "type": "scattercarpet"
           }
          ],
          "scattergeo": [
           {
            "marker": {
             "colorbar": {
              "outlinewidth": 0,
              "ticks": ""
             }
            },
            "type": "scattergeo"
           }
          ],
          "scattergl": [
           {
            "marker": {
             "colorbar": {
              "outlinewidth": 0,
              "ticks": ""
             }
            },
            "type": "scattergl"
           }
          ],
          "scattermapbox": [
           {
            "marker": {
             "colorbar": {
              "outlinewidth": 0,
              "ticks": ""
             }
            },
            "type": "scattermapbox"
           }
          ],
          "scatterpolar": [
           {
            "marker": {
             "colorbar": {
              "outlinewidth": 0,
              "ticks": ""
             }
            },
            "type": "scatterpolar"
           }
          ],
          "scatterpolargl": [
           {
            "marker": {
             "colorbar": {
              "outlinewidth": 0,
              "ticks": ""
             }
            },
            "type": "scatterpolargl"
           }
          ],
          "scatterternary": [
           {
            "marker": {
             "colorbar": {
              "outlinewidth": 0,
              "ticks": ""
             }
            },
            "type": "scatterternary"
           }
          ],
          "surface": [
           {
            "colorbar": {
             "outlinewidth": 0,
             "ticks": ""
            },
            "colorscale": [
             [
              0,
              "#0d0887"
             ],
             [
              0.1111111111111111,
              "#46039f"
             ],
             [
              0.2222222222222222,
              "#7201a8"
             ],
             [
              0.3333333333333333,
              "#9c179e"
             ],
             [
              0.4444444444444444,
              "#bd3786"
             ],
             [
              0.5555555555555556,
              "#d8576b"
             ],
             [
              0.6666666666666666,
              "#ed7953"
             ],
             [
              0.7777777777777778,
              "#fb9f3a"
             ],
             [
              0.8888888888888888,
              "#fdca26"
             ],
             [
              1,
              "#f0f921"
             ]
            ],
            "type": "surface"
           }
          ],
          "table": [
           {
            "cells": {
             "fill": {
              "color": "#EBF0F8"
             },
             "line": {
              "color": "white"
             }
            },
            "header": {
             "fill": {
              "color": "#C8D4E3"
             },
             "line": {
              "color": "white"
             }
            },
            "type": "table"
           }
          ]
         },
         "layout": {
          "annotationdefaults": {
           "arrowcolor": "#2a3f5f",
           "arrowhead": 0,
           "arrowwidth": 1
          },
          "autotypenumbers": "strict",
          "coloraxis": {
           "colorbar": {
            "outlinewidth": 0,
            "ticks": ""
           }
          },
          "colorscale": {
           "diverging": [
            [
             0,
             "#8e0152"
            ],
            [
             0.1,
             "#c51b7d"
            ],
            [
             0.2,
             "#de77ae"
            ],
            [
             0.3,
             "#f1b6da"
            ],
            [
             0.4,
             "#fde0ef"
            ],
            [
             0.5,
             "#f7f7f7"
            ],
            [
             0.6,
             "#e6f5d0"
            ],
            [
             0.7,
             "#b8e186"
            ],
            [
             0.8,
             "#7fbc41"
            ],
            [
             0.9,
             "#4d9221"
            ],
            [
             1,
             "#276419"
            ]
           ],
           "sequential": [
            [
             0,
             "#0d0887"
            ],
            [
             0.1111111111111111,
             "#46039f"
            ],
            [
             0.2222222222222222,
             "#7201a8"
            ],
            [
             0.3333333333333333,
             "#9c179e"
            ],
            [
             0.4444444444444444,
             "#bd3786"
            ],
            [
             0.5555555555555556,
             "#d8576b"
            ],
            [
             0.6666666666666666,
             "#ed7953"
            ],
            [
             0.7777777777777778,
             "#fb9f3a"
            ],
            [
             0.8888888888888888,
             "#fdca26"
            ],
            [
             1,
             "#f0f921"
            ]
           ],
           "sequentialminus": [
            [
             0,
             "#0d0887"
            ],
            [
             0.1111111111111111,
             "#46039f"
            ],
            [
             0.2222222222222222,
             "#7201a8"
            ],
            [
             0.3333333333333333,
             "#9c179e"
            ],
            [
             0.4444444444444444,
             "#bd3786"
            ],
            [
             0.5555555555555556,
             "#d8576b"
            ],
            [
             0.6666666666666666,
             "#ed7953"
            ],
            [
             0.7777777777777778,
             "#fb9f3a"
            ],
            [
             0.8888888888888888,
             "#fdca26"
            ],
            [
             1,
             "#f0f921"
            ]
           ]
          },
          "colorway": [
           "#636efa",
           "#EF553B",
           "#00cc96",
           "#ab63fa",
           "#FFA15A",
           "#19d3f3",
           "#FF6692",
           "#B6E880",
           "#FF97FF",
           "#FECB52"
          ],
          "font": {
           "color": "#2a3f5f"
          },
          "geo": {
           "bgcolor": "white",
           "lakecolor": "white",
           "landcolor": "#E5ECF6",
           "showlakes": true,
           "showland": true,
           "subunitcolor": "white"
          },
          "hoverlabel": {
           "align": "left"
          },
          "hovermode": "closest",
          "mapbox": {
           "style": "light"
          },
          "paper_bgcolor": "white",
          "plot_bgcolor": "#E5ECF6",
          "polar": {
           "angularaxis": {
            "gridcolor": "white",
            "linecolor": "white",
            "ticks": ""
           },
           "bgcolor": "#E5ECF6",
           "radialaxis": {
            "gridcolor": "white",
            "linecolor": "white",
            "ticks": ""
           }
          },
          "scene": {
           "xaxis": {
            "backgroundcolor": "#E5ECF6",
            "gridcolor": "white",
            "gridwidth": 2,
            "linecolor": "white",
            "showbackground": true,
            "ticks": "",
            "zerolinecolor": "white"
           },
           "yaxis": {
            "backgroundcolor": "#E5ECF6",
            "gridcolor": "white",
            "gridwidth": 2,
            "linecolor": "white",
            "showbackground": true,
            "ticks": "",
            "zerolinecolor": "white"
           },
           "zaxis": {
            "backgroundcolor": "#E5ECF6",
            "gridcolor": "white",
            "gridwidth": 2,
            "linecolor": "white",
            "showbackground": true,
            "ticks": "",
            "zerolinecolor": "white"
           }
          },
          "shapedefaults": {
           "line": {
            "color": "#2a3f5f"
           }
          },
          "ternary": {
           "aaxis": {
            "gridcolor": "white",
            "linecolor": "white",
            "ticks": ""
           },
           "baxis": {
            "gridcolor": "white",
            "linecolor": "white",
            "ticks": ""
           },
           "bgcolor": "#E5ECF6",
           "caxis": {
            "gridcolor": "white",
            "linecolor": "white",
            "ticks": ""
           }
          },
          "title": {
           "x": 0.05
          },
          "xaxis": {
           "automargin": true,
           "gridcolor": "white",
           "linecolor": "white",
           "ticks": "",
           "title": {
            "standoff": 15
           },
           "zerolinecolor": "white",
           "zerolinewidth": 2
          },
          "yaxis": {
           "automargin": true,
           "gridcolor": "white",
           "linecolor": "white",
           "ticks": "",
           "title": {
            "standoff": 15
           },
           "zerolinecolor": "white",
           "zerolinewidth": 2
          }
         }
        },
        "title": {
         "font": {
          "color": "Black",
          "size": 22
         },
         "text": "<b>Similarity Matrix",
         "x": 0.55,
         "xanchor": "center",
         "y": 0.95,
         "yanchor": "top"
        },
        "width": 800,
        "xaxis": {
         "anchor": "y",
         "constrain": "domain",
         "domain": [
          0,
          1
         ],
         "scaleanchor": "y"
        },
        "yaxis": {
         "anchor": "x",
         "autorange": "reversed",
         "constrain": "domain",
         "domain": [
          0,
          1
         ]
        }
       }
      },
      "text/html": [
       "<div>                            <div id=\"4b26efa6-7880-4d05-bf3b-5c3c1108e057\" class=\"plotly-graph-div\" style=\"height:800px; width:800px;\"></div>            <script type=\"text/javascript\">                require([\"plotly\"], function(Plotly) {                    window.PLOTLYENV=window.PLOTLYENV || {};                                    if (document.getElementById(\"4b26efa6-7880-4d05-bf3b-5c3c1108e057\")) {                    Plotly.newPlot(                        \"4b26efa6-7880-4d05-bf3b-5c3c1108e057\",                        [{\"coloraxis\":\"coloraxis\",\"name\":\"0\",\"x\":[\"0_\\u062f\\u0648\\u0631\\u06a9\\u0627\\u0631\\u06cc_\\u062a\\u0647\\u0631\\u0627\\u0646_\\u06a9\\u0627\\u0631\\u0645\\u0646\\u062f\\u0627\\u0646\",\"1_\\u0686\\u0627\\u067e_\\u062e\\u0627\\u0646\\u06af\\u06cc_\\u0633\\u06cc\\u0644\\u06a9\",\"2_\\u0627\\u06cc\\u0646\\u062a\\u0631\\u0646\\u062a_\\u06a9\\u0627\\u0631_\\u062f\\u0648\\u0631\\u06a9\\u0627\\u0631\\u06cc\",\"3_\\u0631\\u06cc\\u0645\\u0648\\u062a_\\u06a9\\u0627\\u0631_\\u0627\\u06cc\\u0631\\u0627\\u0646\",\"4_\\u067e\\u0631\\u0648\\u0698\\u0647_\\u0628\\u0627\\u0632\\u0627\\u0631\\u06a9\\u0627\\u0631_\\u062a\\u0648\\u0636\\u06cc\\u062d\\u0627\\u062a\",\"5_\\u0632\\u0646\\u06af_\\u062f\\u0648\\u0631\\u06a9\\u0627\\u0631\\u06cc_\\u0645\\u06cc\",\"6_\\u062f\\u0648\\u0631\\u06a9\\u0627\\u0631\\u06cc_\\u062e\\u0631_\\u0633\\u0631\\u067e\\u0631\\u0633\\u062a\\u06cc\\u062a\\u0648\",\"7_\\u062f\\u0648\\u0631\\u06a9\\u0627\\u0631_\\u062d\\u0636\\u0648\\u0631\\u06cc_\\u0633\\u0631\\u06a9\\u0627\\u0631\",\"8_\\u0632\\u0646_\\u0632\\u0646\\u0627\\u0646_\\u062e\\u0627\\u0646\\u0647\",\"9_\\u062f\\u0648\\u0631\\u06a9\\u0627\\u0631\\u06cc_\\u0646\\u0645\\u06cc_\\u062f\\u0648\\u0631\\u06a9\\u0627\\u0631\"],\"y\":[\"0_\\u062f\\u0648\\u0631\\u06a9\\u0627\\u0631\\u06cc_\\u062a\\u0647\\u0631\\u0627\\u0646_\\u06a9\\u0627\\u0631\\u0645\\u0646\\u062f\\u0627\\u0646\",\"1_\\u0686\\u0627\\u067e_\\u062e\\u0627\\u0646\\u06af\\u06cc_\\u0633\\u06cc\\u0644\\u06a9\",\"2_\\u0627\\u06cc\\u0646\\u062a\\u0631\\u0646\\u062a_\\u06a9\\u0627\\u0631_\\u062f\\u0648\\u0631\\u06a9\\u0627\\u0631\\u06cc\",\"3_\\u0631\\u06cc\\u0645\\u0648\\u062a_\\u06a9\\u0627\\u0631_\\u0627\\u06cc\\u0631\\u0627\\u0646\",\"4_\\u067e\\u0631\\u0648\\u0698\\u0647_\\u0628\\u0627\\u0632\\u0627\\u0631\\u06a9\\u0627\\u0631_\\u062a\\u0648\\u0636\\u06cc\\u062d\\u0627\\u062a\",\"5_\\u0632\\u0646\\u06af_\\u062f\\u0648\\u0631\\u06a9\\u0627\\u0631\\u06cc_\\u0645\\u06cc\",\"6_\\u062f\\u0648\\u0631\\u06a9\\u0627\\u0631\\u06cc_\\u062e\\u0631_\\u0633\\u0631\\u067e\\u0631\\u0633\\u062a\\u06cc\\u062a\\u0648\",\"7_\\u062f\\u0648\\u0631\\u06a9\\u0627\\u0631_\\u062d\\u0636\\u0648\\u0631\\u06cc_\\u0633\\u0631\\u06a9\\u0627\\u0631\",\"8_\\u0632\\u0646_\\u0632\\u0646\\u0627\\u0646_\\u062e\\u0627\\u0646\\u0647\",\"9_\\u062f\\u0648\\u0631\\u06a9\\u0627\\u0631\\u06cc_\\u0646\\u0645\\u06cc_\\u062f\\u0648\\u0631\\u06a9\\u0627\\u0631\"],\"z\":[[1.0000000000000004,0.9354496396875244,0.9215577420709828,0.7724793308181375,0.7818557578736129,0.882798912997069,0.9602255444653935,0.8969154413180249,0.8243308185491599,0.8773648166738134],[0.9354496396875244,0.9999999999999996,0.8783704167575488,0.7349070808782642,0.7737704123556097,0.8437475009902238,0.905374036534981,0.8488271884947063,0.7284395383077098,0.8411793015977929],[0.9215577420709828,0.8783704167575488,1.0,0.8003787564088849,0.7612663898193215,0.8762343204453511,0.9082988324441632,0.8344293206284328,0.7061003070161065,0.8471905651968237],[0.7724793308181375,0.7349070808782642,0.8003787564088849,1.0000000000000002,0.6450269270415832,0.8054209941940664,0.7950003489397152,0.6957877319703236,0.551551242852238,0.7212782022249675],[0.7818557578736129,0.7737704123556097,0.7612663898193215,0.6450269270415832,1.0,0.7723568021641934,0.766223778985944,0.7416737346987801,0.5956080790855074,0.6703482350804342],[0.882798912997069,0.8437475009902238,0.8762343204453511,0.8054209941940664,0.7723568021641934,1.0000000000000004,0.8739393935699418,0.8402358561381329,0.6584464335245771,0.8083934710282745],[0.9602255444653935,0.905374036534981,0.9082988324441632,0.7950003489397152,0.766223778985944,0.8739393935699418,0.9999999999999989,0.8745775030097276,0.8146466747338212,0.8386399083837015],[0.8969154413180249,0.8488271884947063,0.8344293206284328,0.6957877319703236,0.7416737346987801,0.8402358561381329,0.8745775030097276,0.9999999999999998,0.70772998216935,0.8015036743862863],[0.8243308185491599,0.7284395383077098,0.7061003070161065,0.551551242852238,0.5956080790855074,0.6584464335245771,0.8146466747338212,0.70772998216935,1.0000000000000002,0.673622462615937],[0.8773648166738134,0.8411793015977929,0.8471905651968237,0.7212782022249675,0.6703482350804342,0.8083934710282745,0.8386399083837015,0.8015036743862863,0.673622462615937,0.9999999999999997]],\"type\":\"heatmap\",\"xaxis\":\"x\",\"yaxis\":\"y\",\"hovertemplate\":\"x: %{x}<br>y: %{y}<br>Similarity Score: %{z}<extra></extra>\"}],                        {\"template\":{\"data\":{\"histogram2dcontour\":[{\"type\":\"histogram2dcontour\",\"colorbar\":{\"outlinewidth\":0,\"ticks\":\"\"},\"colorscale\":[[0.0,\"#0d0887\"],[0.1111111111111111,\"#46039f\"],[0.2222222222222222,\"#7201a8\"],[0.3333333333333333,\"#9c179e\"],[0.4444444444444444,\"#bd3786\"],[0.5555555555555556,\"#d8576b\"],[0.6666666666666666,\"#ed7953\"],[0.7777777777777778,\"#fb9f3a\"],[0.8888888888888888,\"#fdca26\"],[1.0,\"#f0f921\"]]}],\"choropleth\":[{\"type\":\"choropleth\",\"colorbar\":{\"outlinewidth\":0,\"ticks\":\"\"}}],\"histogram2d\":[{\"type\":\"histogram2d\",\"colorbar\":{\"outlinewidth\":0,\"ticks\":\"\"},\"colorscale\":[[0.0,\"#0d0887\"],[0.1111111111111111,\"#46039f\"],[0.2222222222222222,\"#7201a8\"],[0.3333333333333333,\"#9c179e\"],[0.4444444444444444,\"#bd3786\"],[0.5555555555555556,\"#d8576b\"],[0.6666666666666666,\"#ed7953\"],[0.7777777777777778,\"#fb9f3a\"],[0.8888888888888888,\"#fdca26\"],[1.0,\"#f0f921\"]]}],\"heatmap\":[{\"type\":\"heatmap\",\"colorbar\":{\"outlinewidth\":0,\"ticks\":\"\"},\"colorscale\":[[0.0,\"#0d0887\"],[0.1111111111111111,\"#46039f\"],[0.2222222222222222,\"#7201a8\"],[0.3333333333333333,\"#9c179e\"],[0.4444444444444444,\"#bd3786\"],[0.5555555555555556,\"#d8576b\"],[0.6666666666666666,\"#ed7953\"],[0.7777777777777778,\"#fb9f3a\"],[0.8888888888888888,\"#fdca26\"],[1.0,\"#f0f921\"]]}],\"heatmapgl\":[{\"type\":\"heatmapgl\",\"colorbar\":{\"outlinewidth\":0,\"ticks\":\"\"},\"colorscale\":[[0.0,\"#0d0887\"],[0.1111111111111111,\"#46039f\"],[0.2222222222222222,\"#7201a8\"],[0.3333333333333333,\"#9c179e\"],[0.4444444444444444,\"#bd3786\"],[0.5555555555555556,\"#d8576b\"],[0.6666666666666666,\"#ed7953\"],[0.7777777777777778,\"#fb9f3a\"],[0.8888888888888888,\"#fdca26\"],[1.0,\"#f0f921\"]]}],\"contourcarpet\":[{\"type\":\"contourcarpet\",\"colorbar\":{\"outlinewidth\":0,\"ticks\":\"\"}}],\"contour\":[{\"type\":\"contour\",\"colorbar\":{\"outlinewidth\":0,\"ticks\":\"\"},\"colorscale\":[[0.0,\"#0d0887\"],[0.1111111111111111,\"#46039f\"],[0.2222222222222222,\"#7201a8\"],[0.3333333333333333,\"#9c179e\"],[0.4444444444444444,\"#bd3786\"],[0.5555555555555556,\"#d8576b\"],[0.6666666666666666,\"#ed7953\"],[0.7777777777777778,\"#fb9f3a\"],[0.8888888888888888,\"#fdca26\"],[1.0,\"#f0f921\"]]}],\"surface\":[{\"type\":\"surface\",\"colorbar\":{\"outlinewidth\":0,\"ticks\":\"\"},\"colorscale\":[[0.0,\"#0d0887\"],[0.1111111111111111,\"#46039f\"],[0.2222222222222222,\"#7201a8\"],[0.3333333333333333,\"#9c179e\"],[0.4444444444444444,\"#bd3786\"],[0.5555555555555556,\"#d8576b\"],[0.6666666666666666,\"#ed7953\"],[0.7777777777777778,\"#fb9f3a\"],[0.8888888888888888,\"#fdca26\"],[1.0,\"#f0f921\"]]}],\"mesh3d\":[{\"type\":\"mesh3d\",\"colorbar\":{\"outlinewidth\":0,\"ticks\":\"\"}}],\"scatter\":[{\"fillpattern\":{\"fillmode\":\"overlay\",\"size\":10,\"solidity\":0.2},\"type\":\"scatter\"}],\"parcoords\":[{\"type\":\"parcoords\",\"line\":{\"colorbar\":{\"outlinewidth\":0,\"ticks\":\"\"}}}],\"scatterpolargl\":[{\"type\":\"scatterpolargl\",\"marker\":{\"colorbar\":{\"outlinewidth\":0,\"ticks\":\"\"}}}],\"bar\":[{\"error_x\":{\"color\":\"#2a3f5f\"},\"error_y\":{\"color\":\"#2a3f5f\"},\"marker\":{\"line\":{\"color\":\"#E5ECF6\",\"width\":0.5},\"pattern\":{\"fillmode\":\"overlay\",\"size\":10,\"solidity\":0.2}},\"type\":\"bar\"}],\"scattergeo\":[{\"type\":\"scattergeo\",\"marker\":{\"colorbar\":{\"outlinewidth\":0,\"ticks\":\"\"}}}],\"scatterpolar\":[{\"type\":\"scatterpolar\",\"marker\":{\"colorbar\":{\"outlinewidth\":0,\"ticks\":\"\"}}}],\"histogram\":[{\"marker\":{\"pattern\":{\"fillmode\":\"overlay\",\"size\":10,\"solidity\":0.2}},\"type\":\"histogram\"}],\"scattergl\":[{\"type\":\"scattergl\",\"marker\":{\"colorbar\":{\"outlinewidth\":0,\"ticks\":\"\"}}}],\"scatter3d\":[{\"type\":\"scatter3d\",\"line\":{\"colorbar\":{\"outlinewidth\":0,\"ticks\":\"\"}},\"marker\":{\"colorbar\":{\"outlinewidth\":0,\"ticks\":\"\"}}}],\"scattermapbox\":[{\"type\":\"scattermapbox\",\"marker\":{\"colorbar\":{\"outlinewidth\":0,\"ticks\":\"\"}}}],\"scatterternary\":[{\"type\":\"scatterternary\",\"marker\":{\"colorbar\":{\"outlinewidth\":0,\"ticks\":\"\"}}}],\"scattercarpet\":[{\"type\":\"scattercarpet\",\"marker\":{\"colorbar\":{\"outlinewidth\":0,\"ticks\":\"\"}}}],\"carpet\":[{\"aaxis\":{\"endlinecolor\":\"#2a3f5f\",\"gridcolor\":\"white\",\"linecolor\":\"white\",\"minorgridcolor\":\"white\",\"startlinecolor\":\"#2a3f5f\"},\"baxis\":{\"endlinecolor\":\"#2a3f5f\",\"gridcolor\":\"white\",\"linecolor\":\"white\",\"minorgridcolor\":\"white\",\"startlinecolor\":\"#2a3f5f\"},\"type\":\"carpet\"}],\"table\":[{\"cells\":{\"fill\":{\"color\":\"#EBF0F8\"},\"line\":{\"color\":\"white\"}},\"header\":{\"fill\":{\"color\":\"#C8D4E3\"},\"line\":{\"color\":\"white\"}},\"type\":\"table\"}],\"barpolar\":[{\"marker\":{\"line\":{\"color\":\"#E5ECF6\",\"width\":0.5},\"pattern\":{\"fillmode\":\"overlay\",\"size\":10,\"solidity\":0.2}},\"type\":\"barpolar\"}],\"pie\":[{\"automargin\":true,\"type\":\"pie\"}]},\"layout\":{\"autotypenumbers\":\"strict\",\"colorway\":[\"#636efa\",\"#EF553B\",\"#00cc96\",\"#ab63fa\",\"#FFA15A\",\"#19d3f3\",\"#FF6692\",\"#B6E880\",\"#FF97FF\",\"#FECB52\"],\"font\":{\"color\":\"#2a3f5f\"},\"hovermode\":\"closest\",\"hoverlabel\":{\"align\":\"left\"},\"paper_bgcolor\":\"white\",\"plot_bgcolor\":\"#E5ECF6\",\"polar\":{\"bgcolor\":\"#E5ECF6\",\"angularaxis\":{\"gridcolor\":\"white\",\"linecolor\":\"white\",\"ticks\":\"\"},\"radialaxis\":{\"gridcolor\":\"white\",\"linecolor\":\"white\",\"ticks\":\"\"}},\"ternary\":{\"bgcolor\":\"#E5ECF6\",\"aaxis\":{\"gridcolor\":\"white\",\"linecolor\":\"white\",\"ticks\":\"\"},\"baxis\":{\"gridcolor\":\"white\",\"linecolor\":\"white\",\"ticks\":\"\"},\"caxis\":{\"gridcolor\":\"white\",\"linecolor\":\"white\",\"ticks\":\"\"}},\"coloraxis\":{\"colorbar\":{\"outlinewidth\":0,\"ticks\":\"\"}},\"colorscale\":{\"sequential\":[[0.0,\"#0d0887\"],[0.1111111111111111,\"#46039f\"],[0.2222222222222222,\"#7201a8\"],[0.3333333333333333,\"#9c179e\"],[0.4444444444444444,\"#bd3786\"],[0.5555555555555556,\"#d8576b\"],[0.6666666666666666,\"#ed7953\"],[0.7777777777777778,\"#fb9f3a\"],[0.8888888888888888,\"#fdca26\"],[1.0,\"#f0f921\"]],\"sequentialminus\":[[0.0,\"#0d0887\"],[0.1111111111111111,\"#46039f\"],[0.2222222222222222,\"#7201a8\"],[0.3333333333333333,\"#9c179e\"],[0.4444444444444444,\"#bd3786\"],[0.5555555555555556,\"#d8576b\"],[0.6666666666666666,\"#ed7953\"],[0.7777777777777778,\"#fb9f3a\"],[0.8888888888888888,\"#fdca26\"],[1.0,\"#f0f921\"]],\"diverging\":[[0,\"#8e0152\"],[0.1,\"#c51b7d\"],[0.2,\"#de77ae\"],[0.3,\"#f1b6da\"],[0.4,\"#fde0ef\"],[0.5,\"#f7f7f7\"],[0.6,\"#e6f5d0\"],[0.7,\"#b8e186\"],[0.8,\"#7fbc41\"],[0.9,\"#4d9221\"],[1,\"#276419\"]]},\"xaxis\":{\"gridcolor\":\"white\",\"linecolor\":\"white\",\"ticks\":\"\",\"title\":{\"standoff\":15},\"zerolinecolor\":\"white\",\"automargin\":true,\"zerolinewidth\":2},\"yaxis\":{\"gridcolor\":\"white\",\"linecolor\":\"white\",\"ticks\":\"\",\"title\":{\"standoff\":15},\"zerolinecolor\":\"white\",\"automargin\":true,\"zerolinewidth\":2},\"scene\":{\"xaxis\":{\"backgroundcolor\":\"#E5ECF6\",\"gridcolor\":\"white\",\"linecolor\":\"white\",\"showbackground\":true,\"ticks\":\"\",\"zerolinecolor\":\"white\",\"gridwidth\":2},\"yaxis\":{\"backgroundcolor\":\"#E5ECF6\",\"gridcolor\":\"white\",\"linecolor\":\"white\",\"showbackground\":true,\"ticks\":\"\",\"zerolinecolor\":\"white\",\"gridwidth\":2},\"zaxis\":{\"backgroundcolor\":\"#E5ECF6\",\"gridcolor\":\"white\",\"linecolor\":\"white\",\"showbackground\":true,\"ticks\":\"\",\"zerolinecolor\":\"white\",\"gridwidth\":2}},\"shapedefaults\":{\"line\":{\"color\":\"#2a3f5f\"}},\"annotationdefaults\":{\"arrowcolor\":\"#2a3f5f\",\"arrowhead\":0,\"arrowwidth\":1},\"geo\":{\"bgcolor\":\"white\",\"landcolor\":\"#E5ECF6\",\"subunitcolor\":\"white\",\"showland\":true,\"showlakes\":true,\"lakecolor\":\"white\"},\"title\":{\"x\":0.05},\"mapbox\":{\"style\":\"light\"}}},\"xaxis\":{\"anchor\":\"y\",\"domain\":[0.0,1.0],\"scaleanchor\":\"y\",\"constrain\":\"domain\"},\"yaxis\":{\"anchor\":\"x\",\"domain\":[0.0,1.0],\"autorange\":\"reversed\",\"constrain\":\"domain\"},\"coloraxis\":{\"colorbar\":{\"title\":{\"text\":\"Similarity Score\"}},\"colorscale\":[[0.0,\"rgb(247,252,240)\"],[0.125,\"rgb(224,243,219)\"],[0.25,\"rgb(204,235,197)\"],[0.375,\"rgb(168,221,181)\"],[0.5,\"rgb(123,204,196)\"],[0.625,\"rgb(78,179,211)\"],[0.75,\"rgb(43,140,190)\"],[0.875,\"rgb(8,104,172)\"],[1.0,\"rgb(8,64,129)\"]]},\"margin\":{\"t\":60},\"title\":{\"font\":{\"size\":22,\"color\":\"Black\"},\"text\":\"<b>Similarity Matrix\",\"y\":0.95,\"x\":0.55,\"xanchor\":\"center\",\"yanchor\":\"top\"},\"hoverlabel\":{\"font\":{\"size\":16,\"family\":\"Rockwell\"},\"bgcolor\":\"white\"},\"width\":800,\"height\":800,\"showlegend\":true,\"legend\":{\"title\":{\"text\":\"Trend\"}}},                        {\"responsive\": true}                    ).then(function(){\n",
       "                            \n",
       "var gd = document.getElementById('4b26efa6-7880-4d05-bf3b-5c3c1108e057');\n",
       "var x = new MutationObserver(function (mutations, observer) {{\n",
       "        var display = window.getComputedStyle(gd).display;\n",
       "        if (!display || display === 'none') {{\n",
       "            console.log([gd, 'removed!']);\n",
       "            Plotly.purge(gd);\n",
       "            observer.disconnect();\n",
       "        }}\n",
       "}});\n",
       "\n",
       "// Listen for the removal of the full notebook cells\n",
       "var notebookContainer = gd.closest('#notebook-container');\n",
       "if (notebookContainer) {{\n",
       "    x.observe(notebookContainer, {childList: true});\n",
       "}}\n",
       "\n",
       "// Listen for the clearing of the current output cell\n",
       "var outputEl = gd.closest('.output');\n",
       "if (outputEl) {{\n",
       "    x.observe(outputEl, {childList: true});\n",
       "}}\n",
       "\n",
       "                        })                };                });            </script>        </div>"
      ]
     },
     "metadata": {},
     "output_type": "display_data"
    }
   ],
   "source": [
    "topic_model.visualize_heatmap()"
   ]
  },
  {
   "cell_type": "code",
   "execution_count": 24,
   "id": "b502a490",
   "metadata": {},
   "outputs": [
    {
     "data": {
      "text/plain": [
       "[('اینترنت', 0.1543509751773434),\n",
       " ('کار', 0.04882747855866737),\n",
       " ('دورکاری', 0.044262509830732065),\n",
       " ('اینترنتی', 0.04218945691443545),\n",
       " ('سرعت', 0.040807228971435155),\n",
       " ('منزل', 0.039506739846216866),\n",
       " ('برق', 0.039500227816458476),\n",
       " ('درآمد', 0.034873044765885625),\n",
       " ('قطع', 0.031909622902046),\n",
       " ('آنلاین', 0.031248609321333488)]"
      ]
     },
     "execution_count": 24,
     "metadata": {},
     "output_type": "execute_result"
    }
   ],
   "source": [
    "topic_model.get_topic(2)"
   ]
  },
  {
   "cell_type": "code",
   "execution_count": null,
   "id": "44f40ec5",
   "metadata": {},
   "outputs": [],
   "source": []
  }
 ],
 "metadata": {
  "kernelspec": {
   "display_name": "v_env",
   "language": "python",
   "name": "v_env"
  },
  "language_info": {
   "codemirror_mode": {
    "name": "ipython",
    "version": 3
   },
   "file_extension": ".py",
   "mimetype": "text/x-python",
   "name": "python",
   "nbconvert_exporter": "python",
   "pygments_lexer": "ipython3",
   "version": "3.10.4"
  }
 },
 "nbformat": 4,
 "nbformat_minor": 5
}
