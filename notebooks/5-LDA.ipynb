{
 "cells": [
  {
   "cell_type": "code",
   "execution_count": 4,
   "id": "fc5e7949",
   "metadata": {},
   "outputs": [
    {
     "name": "stdout",
     "output_type": "stream",
     "text": [
      "Collecting git+https://github.com/rwalk/gsdmm.git\n",
      "  Cloning https://github.com/rwalk/gsdmm.git to /tmp/pip-req-build-kpncet29\n",
      "  Running command git clone --filter=blob:none --quiet https://github.com/rwalk/gsdmm.git /tmp/pip-req-build-kpncet29\n",
      "  Resolved https://github.com/rwalk/gsdmm.git to commit 4ad1b6b6976743681ee4976b4573463d359214ee\n",
      "  Preparing metadata (setup.py) ... \u001b[?25ldone\n",
      "\u001b[?25hRequirement already satisfied: numpy in /mnt/c/Users/Parnian/Desktop/ELEARN/Research/v_env/lib/python3.10/site-packages (from gsdmm==0.1) (1.23.1)\n"
     ]
    }
   ],
   "source": [
    "!pip install git+https://github.com/rwalk/gsdmm.git"
   ]
  },
  {
   "cell_type": "code",
   "execution_count": 1,
   "id": "65861c4d",
   "metadata": {},
   "outputs": [
    {
     "name": "stderr",
     "output_type": "stream",
     "text": [
      "/mnt/c/Users/Parnian/Desktop/ELEARN/Research/v_env/lib/python3.10/site-packages/past/builtins/misc.py:45: DeprecationWarning: the imp module is deprecated in favour of importlib and slated for removal in Python 3.12; see the module's documentation for alternative uses\n",
      "  from imp import reload\n"
     ]
    }
   ],
   "source": [
    "import warnings\n",
    "import re\n",
    "import pandas as pd\n",
    "import numpy as np\n",
    "from tqdm import tqdm\n",
    "from matplotlib.pyplot import figure\n",
    "import ast\n",
    "import gensim\n",
    "from gensim import corpora, models\n",
    "from gensim.utils import simple_preprocess\n",
    "from gensim.models import CoherenceModel\n",
    "import matplotlib.pyplot as plt\n",
    "import seaborn as sns\n",
    "import matplotlib.colors as mcolors\n",
    "from wordcloud_fa import WordCloudFa\n",
    "from matplotlib.patches import Rectangle\n",
    "from matplotlib.ticker import FuncFormatter\n",
    "import time\n",
    "\n",
    "from sklearn.manifold import TSNE\n",
    "from bokeh.plotting import figure, output_file, show\n",
    "from bokeh.models import Label\n",
    "from bokeh.io import output_notebook\n",
    "\n",
    "from sklearn.model_selection import GridSearchCV\n",
    "\n",
    "import random\n",
    "import math\n",
    "\n",
    "# depend on pyLDAvis version import one of the followings\n",
    "import pyLDAvis.gensim_models\n",
    "# import pyLDAvis.gensim\n",
    "\n",
    "from gsdmm import MovieGroupProcess\n",
    "\n",
    "from pandas.core.common import SettingWithCopyWarning\n",
    "\n",
    "warnings.simplefilter(action=\"ignore\", category=SettingWithCopyWarning)"
   ]
  },
  {
   "cell_type": "code",
   "execution_count": 2,
   "id": "8fc86849",
   "metadata": {},
   "outputs": [],
   "source": [
    "base_path = \"../remote-work-twitter-analysis/data/\""
   ]
  },
  {
   "cell_type": "code",
   "execution_count": 3,
   "id": "995fb6d1",
   "metadata": {},
   "outputs": [
    {
     "name": "stderr",
     "output_type": "stream",
     "text": [
      "/tmp/ipykernel_23386/1282473635.py:3: DtypeWarning: Columns (12) have mixed types. Specify dtype option on import or set low_memory=False.\n",
      "  df = pd.read_csv(input_file)\n"
     ]
    },
    {
     "data": {
      "text/html": [
       "<div>\n",
       "<style scoped>\n",
       "    .dataframe tbody tr th:only-of-type {\n",
       "        vertical-align: middle;\n",
       "    }\n",
       "\n",
       "    .dataframe tbody tr th {\n",
       "        vertical-align: top;\n",
       "    }\n",
       "\n",
       "    .dataframe thead th {\n",
       "        text-align: right;\n",
       "    }\n",
       "</style>\n",
       "<table border=\"1\" class=\"dataframe\">\n",
       "  <thead>\n",
       "    <tr style=\"text-align: right;\">\n",
       "      <th></th>\n",
       "      <th>conversation_id</th>\n",
       "      <th>retweets_count</th>\n",
       "      <th>mentions</th>\n",
       "      <th>created_at</th>\n",
       "      <th>likes_count</th>\n",
       "      <th>in_reply_to_user_id</th>\n",
       "      <th>_id</th>\n",
       "      <th>source</th>\n",
       "      <th>user_id</th>\n",
       "      <th>in_reply_to_status_id</th>\n",
       "      <th>...</th>\n",
       "      <th>quoted_status_id</th>\n",
       "      <th>cashtags</th>\n",
       "      <th>urls</th>\n",
       "      <th>tweet</th>\n",
       "      <th>hashtags</th>\n",
       "      <th>tweet_tokens</th>\n",
       "      <th>lemmatized_tweet</th>\n",
       "      <th>lemmatized_tweet_token</th>\n",
       "      <th>tweet_size</th>\n",
       "      <th>lemmatized_tweet_size</th>\n",
       "    </tr>\n",
       "  </thead>\n",
       "  <tbody>\n",
       "    <tr>\n",
       "      <th>0</th>\n",
       "      <td>1375557622410149894</td>\n",
       "      <td>2</td>\n",
       "      <td>NaN</td>\n",
       "      <td>2021-03-26 21:23:21+00:00</td>\n",
       "      <td>111</td>\n",
       "      <td>5.720514e+08</td>\n",
       "      <td>1375559020451356674</td>\n",
       "      <td>Twitter for iPhone</td>\n",
       "      <td>572051429</td>\n",
       "      <td>1.375558e+18</td>\n",
       "      <td>...</td>\n",
       "      <td>NaN</td>\n",
       "      <td>NaN</td>\n",
       "      <td>NaN</td>\n",
       "      <td>گزارش حقوقش میدونم سالی ۸۵ همسرش دانشجو دکترا ...</td>\n",
       "      <td>[]</td>\n",
       "      <td>['گزارش', 'حقوقش', 'میدونم', 'سالی', '۸۵', 'هم...</td>\n",
       "      <td>گزارش حقوق میدونم ۸۵ همسر دانشجو دکترا شرکت اح...</td>\n",
       "      <td>['گزارش', 'حقوق', 'میدونم', '۸۵', 'همسر', 'دان...</td>\n",
       "      <td>32</td>\n",
       "      <td>30</td>\n",
       "    </tr>\n",
       "    <tr>\n",
       "      <th>1</th>\n",
       "      <td>1375559420176908296</td>\n",
       "      <td>3</td>\n",
       "      <td>NaN</td>\n",
       "      <td>2021-03-26 21:24:57+00:00</td>\n",
       "      <td>163</td>\n",
       "      <td>NaN</td>\n",
       "      <td>1375559420176908296</td>\n",
       "      <td>Twitter for iPhone</td>\n",
       "      <td>812764546012246017</td>\n",
       "      <td>NaN</td>\n",
       "      <td>...</td>\n",
       "      <td>NaN</td>\n",
       "      <td>NaN</td>\n",
       "      <td>NaN</td>\n",
       "      <td>اینایی سفر مهمونی پروتکلی رعایت نکردن سرکار خط...</td>\n",
       "      <td>[]</td>\n",
       "      <td>['اینایی', 'سفر', 'مهمونی', 'پروتکلی', 'رعایت'...</td>\n",
       "      <td>اینایی سفر مهمونی پروتکل رعایت نکردن سرکار خطر...</td>\n",
       "      <td>['اینایی', 'سفر', 'مهمونی', 'پروتکل', 'رعایت',...</td>\n",
       "      <td>11</td>\n",
       "      <td>11</td>\n",
       "    </tr>\n",
       "    <tr>\n",
       "      <th>2</th>\n",
       "      <td>1383828354197979136</td>\n",
       "      <td>2</td>\n",
       "      <td>NaN</td>\n",
       "      <td>2021-04-18 17:02:44+00:00</td>\n",
       "      <td>37</td>\n",
       "      <td>NaN</td>\n",
       "      <td>1383828354197979136</td>\n",
       "      <td>Twitter for Android</td>\n",
       "      <td>985101690536898565</td>\n",
       "      <td>NaN</td>\n",
       "      <td>...</td>\n",
       "      <td>NaN</td>\n",
       "      <td>NaN</td>\n",
       "      <td>NaN</td>\n",
       "      <td>خسته دورکاری شهرهای سروصدا شب ازصبح آزاردهنده ...</td>\n",
       "      <td>[]</td>\n",
       "      <td>['خسته', 'دورکاری', 'شهرهای', 'سروصدا', 'شب', ...</td>\n",
       "      <td>خسته دورکاری شهر سروصدا شب ازصبح آزاردهنده تره...</td>\n",
       "      <td>['خسته', 'دورکاری', 'شهر', 'سروصدا', 'شب', 'از...</td>\n",
       "      <td>26</td>\n",
       "      <td>26</td>\n",
       "    </tr>\n",
       "    <tr>\n",
       "      <th>3</th>\n",
       "      <td>1383840315031781385</td>\n",
       "      <td>0</td>\n",
       "      <td>NaN</td>\n",
       "      <td>2021-04-18 17:50:16+00:00</td>\n",
       "      <td>11</td>\n",
       "      <td>NaN</td>\n",
       "      <td>1383840315031781385</td>\n",
       "      <td>Twitter Web App</td>\n",
       "      <td>310871673</td>\n",
       "      <td>NaN</td>\n",
       "      <td>...</td>\n",
       "      <td>1.383657e+18</td>\n",
       "      <td>NaN</td>\n",
       "      <td>NaN</td>\n",
       "      <td>آبان ۹۸ دورکار</td>\n",
       "      <td>[]</td>\n",
       "      <td>['آبان', '۹۸', 'دورکار']</td>\n",
       "      <td>آبان ۹۸ دورکار</td>\n",
       "      <td>['آبان', '۹۸', 'دورکار']</td>\n",
       "      <td>3</td>\n",
       "      <td>3</td>\n",
       "    </tr>\n",
       "    <tr>\n",
       "      <th>4</th>\n",
       "      <td>1383820625354002439</td>\n",
       "      <td>1</td>\n",
       "      <td>['15782990']</td>\n",
       "      <td>2021-04-18 17:31:42+00:00</td>\n",
       "      <td>9</td>\n",
       "      <td>1.578299e+07</td>\n",
       "      <td>1383835643239747593</td>\n",
       "      <td>Twitter Web App</td>\n",
       "      <td>1271095835028307969</td>\n",
       "      <td>1.383821e+18</td>\n",
       "      <td>...</td>\n",
       "      <td>NaN</td>\n",
       "      <td>NaN</td>\n",
       "      <td>NaN</td>\n",
       "      <td>حتمن میرفتم شهری اقوام دوستام نزدیکتر خونه اجا...</td>\n",
       "      <td>[]</td>\n",
       "      <td>['حتمن', 'میرفتم', 'شهری', 'اقوام', 'دوستام', ...</td>\n",
       "      <td>حتمن میرفتم شهر اقوام دوستام خونه اجازه میکردم...</td>\n",
       "      <td>['حتمن', 'میرفتم', 'شهر', 'اقوام', 'دوستام', '...</td>\n",
       "      <td>16</td>\n",
       "      <td>15</td>\n",
       "    </tr>\n",
       "    <tr>\n",
       "      <th>...</th>\n",
       "      <td>...</td>\n",
       "      <td>...</td>\n",
       "      <td>...</td>\n",
       "      <td>...</td>\n",
       "      <td>...</td>\n",
       "      <td>...</td>\n",
       "      <td>...</td>\n",
       "      <td>...</td>\n",
       "      <td>...</td>\n",
       "      <td>...</td>\n",
       "      <td>...</td>\n",
       "      <td>...</td>\n",
       "      <td>...</td>\n",
       "      <td>...</td>\n",
       "      <td>...</td>\n",
       "      <td>...</td>\n",
       "      <td>...</td>\n",
       "      <td>...</td>\n",
       "      <td>...</td>\n",
       "      <td>...</td>\n",
       "      <td>...</td>\n",
       "    </tr>\n",
       "    <tr>\n",
       "      <th>45354</th>\n",
       "      <td>1434127275587428352</td>\n",
       "      <td>0</td>\n",
       "      <td>['1273546506012897281']</td>\n",
       "      <td>2021-09-04 12:46:01+00:00</td>\n",
       "      <td>3</td>\n",
       "      <td>1.273547e+18</td>\n",
       "      <td>1434135662396018689</td>\n",
       "      <td>Twitter for Android</td>\n",
       "      <td>1260775960267444225</td>\n",
       "      <td>1.434127e+18</td>\n",
       "      <td>...</td>\n",
       "      <td>NaN</td>\n",
       "      <td>NaN</td>\n",
       "      <td>NaN</td>\n",
       "      <td>لجم میگیره کثافت دورکاری سخت کار اداره ست ذهنا...</td>\n",
       "      <td>[]</td>\n",
       "      <td>['لجم', 'میگیره', 'کثافت', 'دورکاری', 'سخت', '...</td>\n",
       "      <td>لج میگیره کثافت دورکاری سخت کار اداره ست ذهنای...</td>\n",
       "      <td>['لج', 'میگیره', 'کثافت', 'دورکاری', 'سخت', 'ک...</td>\n",
       "      <td>15</td>\n",
       "      <td>15</td>\n",
       "    </tr>\n",
       "    <tr>\n",
       "      <th>45355</th>\n",
       "      <td>1434127961943326723</td>\n",
       "      <td>0</td>\n",
       "      <td>['1251428296589488129']</td>\n",
       "      <td>2021-09-04 12:21:54+00:00</td>\n",
       "      <td>2</td>\n",
       "      <td>1.251428e+18</td>\n",
       "      <td>1434129593036939267</td>\n",
       "      <td>Twitter for Android</td>\n",
       "      <td>1214804130096668672</td>\n",
       "      <td>1.434128e+18</td>\n",
       "      <td>...</td>\n",
       "      <td>NaN</td>\n",
       "      <td>NaN</td>\n",
       "      <td>NaN</td>\n",
       "      <td>اطلاع ماهه رزومه فرستادم جواب ندادن آگهی‌هاشون...</td>\n",
       "      <td>[]</td>\n",
       "      <td>['اطلاع', 'ماهه', 'رزومه', 'فرستادم', 'جواب', ...</td>\n",
       "      <td>اطلاع ماهه رزومه فرستاد#فرست جواب ندادن آگهی‌ه...</td>\n",
       "      <td>['اطلاع', 'ماهه', 'رزومه', 'فرستاد#فرست', 'جوا...</td>\n",
       "      <td>9</td>\n",
       "      <td>8</td>\n",
       "    </tr>\n",
       "    <tr>\n",
       "      <th>45356</th>\n",
       "      <td>1434138057071112194</td>\n",
       "      <td>0</td>\n",
       "      <td>NaN</td>\n",
       "      <td>2021-09-04 12:55:32+00:00</td>\n",
       "      <td>4</td>\n",
       "      <td>NaN</td>\n",
       "      <td>1434138057071112194</td>\n",
       "      <td>Twitter for iPhone</td>\n",
       "      <td>1147481863138811905</td>\n",
       "      <td>NaN</td>\n",
       "      <td>...</td>\n",
       "      <td>NaN</td>\n",
       "      <td>NaN</td>\n",
       "      <td>NaN</td>\n",
       "      <td>خواهرم کار استخدام بشه دورکاری الآن نخواهم_تون...</td>\n",
       "      <td>[]</td>\n",
       "      <td>['خواهرم', 'کار', 'استخدام', 'بشه', 'دورکاری',...</td>\n",
       "      <td>خواهر کار استخدام بشه دورکاری الآن نخواهم_تونس...</td>\n",
       "      <td>['خواهر', 'کار', 'استخدام', 'بشه', 'دورکاری', ...</td>\n",
       "      <td>15</td>\n",
       "      <td>15</td>\n",
       "    </tr>\n",
       "    <tr>\n",
       "      <th>45357</th>\n",
       "      <td>1434133064750338048</td>\n",
       "      <td>0</td>\n",
       "      <td>NaN</td>\n",
       "      <td>2021-09-04 12:35:42+00:00</td>\n",
       "      <td>18</td>\n",
       "      <td>NaN</td>\n",
       "      <td>1434133064750338048</td>\n",
       "      <td>Twitter for Android</td>\n",
       "      <td>1106832761216815104</td>\n",
       "      <td>NaN</td>\n",
       "      <td>...</td>\n",
       "      <td>NaN</td>\n",
       "      <td>NaN</td>\n",
       "      <td>NaN</td>\n",
       "      <td>دورکاری</td>\n",
       "      <td>[]</td>\n",
       "      <td>['دورکاری']</td>\n",
       "      <td>دورکاری</td>\n",
       "      <td>['دورکاری']</td>\n",
       "      <td>1</td>\n",
       "      <td>1</td>\n",
       "    </tr>\n",
       "    <tr>\n",
       "      <th>45358</th>\n",
       "      <td>1434121611561558016</td>\n",
       "      <td>0</td>\n",
       "      <td>['1307304359458418689']</td>\n",
       "      <td>2021-09-04 12:02:55+00:00</td>\n",
       "      <td>1</td>\n",
       "      <td>1.307304e+18</td>\n",
       "      <td>1434124815330418691</td>\n",
       "      <td>Twitter for Android</td>\n",
       "      <td>1405163447352975369</td>\n",
       "      <td>1.434122e+18</td>\n",
       "      <td>...</td>\n",
       "      <td>NaN</td>\n",
       "      <td>NaN</td>\n",
       "      <td>NaN</td>\n",
       "      <td>پونیشا انجام میدم سایت میشه توش دورکاری کار مخ...</td>\n",
       "      <td>[]</td>\n",
       "      <td>['پونیشا', 'انجام', 'میدم', 'سایت', 'میشه', 'ت...</td>\n",
       "      <td>پونیشا انجام میدم سایت میشه دورکاری کار میشه کار</td>\n",
       "      <td>['پونیشا', 'انجام', 'میدم', 'سایت', 'میشه', 'د...</td>\n",
       "      <td>12</td>\n",
       "      <td>9</td>\n",
       "    </tr>\n",
       "  </tbody>\n",
       "</table>\n",
       "<p>45359 rows × 21 columns</p>\n",
       "</div>"
      ],
      "text/plain": [
       "           conversation_id  retweets_count                 mentions  \\\n",
       "0      1375557622410149894               2                      NaN   \n",
       "1      1375559420176908296               3                      NaN   \n",
       "2      1383828354197979136               2                      NaN   \n",
       "3      1383840315031781385               0                      NaN   \n",
       "4      1383820625354002439               1             ['15782990']   \n",
       "...                    ...             ...                      ...   \n",
       "45354  1434127275587428352               0  ['1273546506012897281']   \n",
       "45355  1434127961943326723               0  ['1251428296589488129']   \n",
       "45356  1434138057071112194               0                      NaN   \n",
       "45357  1434133064750338048               0                      NaN   \n",
       "45358  1434121611561558016               0  ['1307304359458418689']   \n",
       "\n",
       "                      created_at  likes_count  in_reply_to_user_id  \\\n",
       "0      2021-03-26 21:23:21+00:00          111         5.720514e+08   \n",
       "1      2021-03-26 21:24:57+00:00          163                  NaN   \n",
       "2      2021-04-18 17:02:44+00:00           37                  NaN   \n",
       "3      2021-04-18 17:50:16+00:00           11                  NaN   \n",
       "4      2021-04-18 17:31:42+00:00            9         1.578299e+07   \n",
       "...                          ...          ...                  ...   \n",
       "45354  2021-09-04 12:46:01+00:00            3         1.273547e+18   \n",
       "45355  2021-09-04 12:21:54+00:00            2         1.251428e+18   \n",
       "45356  2021-09-04 12:55:32+00:00            4                  NaN   \n",
       "45357  2021-09-04 12:35:42+00:00           18                  NaN   \n",
       "45358  2021-09-04 12:02:55+00:00            1         1.307304e+18   \n",
       "\n",
       "                       _id               source              user_id  \\\n",
       "0      1375559020451356674   Twitter for iPhone            572051429   \n",
       "1      1375559420176908296   Twitter for iPhone   812764546012246017   \n",
       "2      1383828354197979136  Twitter for Android   985101690536898565   \n",
       "3      1383840315031781385      Twitter Web App            310871673   \n",
       "4      1383835643239747593      Twitter Web App  1271095835028307969   \n",
       "...                    ...                  ...                  ...   \n",
       "45354  1434135662396018689  Twitter for Android  1260775960267444225   \n",
       "45355  1434129593036939267  Twitter for Android  1214804130096668672   \n",
       "45356  1434138057071112194   Twitter for iPhone  1147481863138811905   \n",
       "45357  1434133064750338048  Twitter for Android  1106832761216815104   \n",
       "45358  1434124815330418691  Twitter for Android  1405163447352975369   \n",
       "\n",
       "       in_reply_to_status_id  ...  quoted_status_id  cashtags urls  \\\n",
       "0               1.375558e+18  ...               NaN       NaN  NaN   \n",
       "1                        NaN  ...               NaN       NaN  NaN   \n",
       "2                        NaN  ...               NaN       NaN  NaN   \n",
       "3                        NaN  ...      1.383657e+18       NaN  NaN   \n",
       "4               1.383821e+18  ...               NaN       NaN  NaN   \n",
       "...                      ...  ...               ...       ...  ...   \n",
       "45354           1.434127e+18  ...               NaN       NaN  NaN   \n",
       "45355           1.434128e+18  ...               NaN       NaN  NaN   \n",
       "45356                    NaN  ...               NaN       NaN  NaN   \n",
       "45357                    NaN  ...               NaN       NaN  NaN   \n",
       "45358           1.434122e+18  ...               NaN       NaN  NaN   \n",
       "\n",
       "                                                   tweet hashtags  \\\n",
       "0      گزارش حقوقش میدونم سالی ۸۵ همسرش دانشجو دکترا ...       []   \n",
       "1      اینایی سفر مهمونی پروتکلی رعایت نکردن سرکار خط...       []   \n",
       "2      خسته دورکاری شهرهای سروصدا شب ازصبح آزاردهنده ...       []   \n",
       "3                                         آبان ۹۸ دورکار       []   \n",
       "4      حتمن میرفتم شهری اقوام دوستام نزدیکتر خونه اجا...       []   \n",
       "...                                                  ...      ...   \n",
       "45354  لجم میگیره کثافت دورکاری سخت کار اداره ست ذهنا...       []   \n",
       "45355  اطلاع ماهه رزومه فرستادم جواب ندادن آگهی‌هاشون...       []   \n",
       "45356  خواهرم کار استخدام بشه دورکاری الآن نخواهم_تون...       []   \n",
       "45357                                            دورکاری       []   \n",
       "45358  پونیشا انجام میدم سایت میشه توش دورکاری کار مخ...       []   \n",
       "\n",
       "                                            tweet_tokens  \\\n",
       "0      ['گزارش', 'حقوقش', 'میدونم', 'سالی', '۸۵', 'هم...   \n",
       "1      ['اینایی', 'سفر', 'مهمونی', 'پروتکلی', 'رعایت'...   \n",
       "2      ['خسته', 'دورکاری', 'شهرهای', 'سروصدا', 'شب', ...   \n",
       "3                               ['آبان', '۹۸', 'دورکار']   \n",
       "4      ['حتمن', 'میرفتم', 'شهری', 'اقوام', 'دوستام', ...   \n",
       "...                                                  ...   \n",
       "45354  ['لجم', 'میگیره', 'کثافت', 'دورکاری', 'سخت', '...   \n",
       "45355  ['اطلاع', 'ماهه', 'رزومه', 'فرستادم', 'جواب', ...   \n",
       "45356  ['خواهرم', 'کار', 'استخدام', 'بشه', 'دورکاری',...   \n",
       "45357                                        ['دورکاری']   \n",
       "45358  ['پونیشا', 'انجام', 'میدم', 'سایت', 'میشه', 'ت...   \n",
       "\n",
       "                                        lemmatized_tweet  \\\n",
       "0      گزارش حقوق میدونم ۸۵ همسر دانشجو دکترا شرکت اح...   \n",
       "1      اینایی سفر مهمونی پروتکل رعایت نکردن سرکار خطر...   \n",
       "2      خسته دورکاری شهر سروصدا شب ازصبح آزاردهنده تره...   \n",
       "3                                         آبان ۹۸ دورکار   \n",
       "4      حتمن میرفتم شهر اقوام دوستام خونه اجازه میکردم...   \n",
       "...                                                  ...   \n",
       "45354  لج میگیره کثافت دورکاری سخت کار اداره ست ذهنای...   \n",
       "45355  اطلاع ماهه رزومه فرستاد#فرست جواب ندادن آگهی‌ه...   \n",
       "45356  خواهر کار استخدام بشه دورکاری الآن نخواهم_تونس...   \n",
       "45357                                            دورکاری   \n",
       "45358   پونیشا انجام میدم سایت میشه دورکاری کار میشه کار   \n",
       "\n",
       "                                  lemmatized_tweet_token tweet_size  \\\n",
       "0      ['گزارش', 'حقوق', 'میدونم', '۸۵', 'همسر', 'دان...         32   \n",
       "1      ['اینایی', 'سفر', 'مهمونی', 'پروتکل', 'رعایت',...         11   \n",
       "2      ['خسته', 'دورکاری', 'شهر', 'سروصدا', 'شب', 'از...         26   \n",
       "3                               ['آبان', '۹۸', 'دورکار']          3   \n",
       "4      ['حتمن', 'میرفتم', 'شهر', 'اقوام', 'دوستام', '...         16   \n",
       "...                                                  ...        ...   \n",
       "45354  ['لج', 'میگیره', 'کثافت', 'دورکاری', 'سخت', 'ک...         15   \n",
       "45355  ['اطلاع', 'ماهه', 'رزومه', 'فرستاد#فرست', 'جوا...          9   \n",
       "45356  ['خواهر', 'کار', 'استخدام', 'بشه', 'دورکاری', ...         15   \n",
       "45357                                        ['دورکاری']          1   \n",
       "45358  ['پونیشا', 'انجام', 'میدم', 'سایت', 'میشه', 'د...         12   \n",
       "\n",
       "       lemmatized_tweet_size  \n",
       "0                         30  \n",
       "1                         11  \n",
       "2                         26  \n",
       "3                          3  \n",
       "4                         15  \n",
       "...                      ...  \n",
       "45354                     15  \n",
       "45355                      8  \n",
       "45356                     15  \n",
       "45357                      1  \n",
       "45358                      9  \n",
       "\n",
       "[45359 rows x 21 columns]"
      ]
     },
     "execution_count": 3,
     "metadata": {},
     "output_type": "execute_result"
    }
   ],
   "source": [
    "input_file = base_path + 'prep1_tweets.csv'\n",
    "tqdm.pandas()\n",
    "df = pd.read_csv(input_file)\n",
    "df"
   ]
  },
  {
   "cell_type": "code",
   "execution_count": 4,
   "id": "b883aa9c",
   "metadata": {},
   "outputs": [],
   "source": [
    "# preprocessed = []\n",
    "# for record in tqdm(reader.iterrows()):\n",
    "#     record['tweet_tokens'] = record['tweet_tokens'].apply(lambda t: ast.literal_eval(t))\n",
    "#     record['lemmatized_tweet_token'] = record['lemmatized_tweet_token'].apply(lambda t: ast.literal_eval(t))\n",
    "#     preprocessed.append(record)"
   ]
  },
  {
   "cell_type": "code",
   "execution_count": 5,
   "id": "7ba084ea",
   "metadata": {},
   "outputs": [],
   "source": [
    "token_list_lemm = []\n",
    "token_list = []\n",
    "for ind in df.index:\n",
    "    # print(type(df['lemmatized_tweet_token'][ind]))\n",
    "    token_list_lemm += [ast.literal_eval(df['lemmatized_tweet_token'][ind])]\n",
    "    token_list += [ast.literal_eval(df['tweet_tokens'][ind])]"
   ]
  },
  {
   "cell_type": "code",
   "execution_count": 6,
   "id": "fa466d14",
   "metadata": {},
   "outputs": [],
   "source": [
    "def get_dictionary(tokens):\n",
    "    dictionary = corpora.Dictionary(tokens)\n",
    "    dictionary.filter_extremes(no_below=15, no_above=0.5, keep_n=100000)    \n",
    "    return dictionary"
   ]
  },
  {
   "cell_type": "code",
   "execution_count": 7,
   "id": "cbef4f47",
   "metadata": {},
   "outputs": [
    {
     "name": "stdout",
     "output_type": "stream",
     "text": [
      "0 ادامه\n",
      "1 براش\n",
      "2 تمدید\n",
      "3 جالب\n",
      "4 حقوق\n",
      "5 حقوقش\n"
     ]
    }
   ],
   "source": [
    "sample_dict = get_dictionary(token_list)\n",
    "count = 0\n",
    "for k, v in sample_dict.iteritems():\n",
    "    print(k, v)\n",
    "    count += 1\n",
    "    if count > 5:\n",
    "        break"
   ]
  },
  {
   "cell_type": "markdown",
   "id": "538dd079",
   "metadata": {},
   "source": [
    "## BOW"
   ]
  },
  {
   "cell_type": "code",
   "execution_count": 8,
   "id": "81e84020",
   "metadata": {},
   "outputs": [],
   "source": [
    "def get_bow_corpus(dictionary, tokens):\n",
    "    return [dictionary.doc2bow(doc) for doc in tokens]"
   ]
  },
  {
   "cell_type": "markdown",
   "id": "c9a86052",
   "metadata": {},
   "source": [
    "### N-Lem"
   ]
  },
  {
   "cell_type": "code",
   "execution_count": 26,
   "id": "1971f049",
   "metadata": {},
   "outputs": [
    {
     "name": "stderr",
     "output_type": "stream",
     "text": [
      "100%|██████████████████████████████████████████████████████████████████████████| 45359/45359 [00:01<00:00, 25478.62it/s]\n"
     ]
    }
   ],
   "source": [
    "from gensim.models.ldamodel import LdaModel\n",
    "\n",
    "all_tokens = token_list\n",
    "all_dictionary = get_dictionary(all_tokens)\n",
    "all_corpus = get_bow_corpus(all_dictionary, all_tokens)\n",
    "lda_topic_model = gensim.models.LdaMulticore(tqdm(all_corpus), num_topics=5, id2word=all_dictionary, passes=10, alpha=0.1)"
   ]
  },
  {
   "cell_type": "code",
   "execution_count": 27,
   "id": "908c01ca",
   "metadata": {},
   "outputs": [
    {
     "name": "stdout",
     "output_type": "stream",
     "text": [
      "[(0,\n",
      "  '0.034*\"کار\" + 0.018*\"پروژه\" + 0.014*\"دورکار\" + 0.012*\"بازارکار\" + '\n",
      "  '0.011*\"استخدام\" + 0.011*\"برنامه\" + 0.010*\"انجام\" + 0.009*\"صورت\" + '\n",
      "  '0.009*\"\\u2063\" + 0.007*\"ارسال\"'),\n",
      " (1,\n",
      "  '0.056*\"کار\" + 0.029*\"خونه\" + 0.017*\"دورکار\" + 0.010*\"میشه\" + 0.009*\"شرکت\" + '\n",
      "  '0.008*\"😂\" + 0.007*\"صبح\" + 0.007*\"کاری\" + 0.007*\"انجام\" + 0.006*\"سرکار\"'),\n",
      " (2,\n",
      "  '0.039*\"کار\" + 0.020*\"دورکار\" + 0.018*\"شرکت\" + 0.012*\"ریموت\" + 0.009*\"میشه\" '\n",
      "  '+ 0.007*\"کرونا\" + 0.005*\"واکسن\" + 0.005*\"کنن\" + 0.005*\"حقوق\" + '\n",
      "  '0.005*\"حضوری\"'),\n",
      " (3,\n",
      "  '0.037*\"کرونا\" + 0.020*\"کار\" + 0.010*\"خانه\" + 0.009*\"تهران\" + 0.009*\"ایران\" '\n",
      "  '+ 0.008*\"شرایط\" + 0.007*\"کارمندان\" + 0.007*\"دولت\" + 0.007*\"دورکار\" + '\n",
      "  '0.006*\"قرنطینه\"'),\n",
      " (4,\n",
      "  '0.076*\"کار\" + 0.062*\"منزل\" + 0.057*\"چاپ\" + 0.040*\"خانگی\" + 0.040*\"شغل\" + '\n",
      "  '0.026*\"سیلک\" + 0.025*\"دستگاه\" + 0.017*\"خانه\" + 0.016*\"پردرآمد\" + '\n",
      "  '0.013*\"نایلون\"')]\n"
     ]
    }
   ],
   "source": [
    "from pprint import pprint\n",
    "pprint(lda_topic_model.print_topics())\n",
    "docs_lda = lda_topic_model[all_corpus]"
   ]
  },
  {
   "cell_type": "code",
   "execution_count": 28,
   "id": "ca66ed66",
   "metadata": {},
   "outputs": [
    {
     "data": {
      "text/plain": [
       "0.5145017169926824"
      ]
     },
     "execution_count": 28,
     "metadata": {},
     "output_type": "execute_result"
    }
   ],
   "source": [
    "coherence_lda = CoherenceModel(model=lda_topic_model, texts=all_tokens, dictionary=all_dictionary, coherence='c_v')\n",
    "coherence_value = coherence_lda.get_coherence()\n",
    "coherence_value"
   ]
  },
  {
   "cell_type": "markdown",
   "id": "2e268313",
   "metadata": {},
   "source": [
    "### Lem"
   ]
  },
  {
   "cell_type": "code",
   "execution_count": 12,
   "id": "5cb57eb2",
   "metadata": {},
   "outputs": [
    {
     "name": "stderr",
     "output_type": "stream",
     "text": [
      "100%|██████████████████████████████████████████████████████████████████████████| 45359/45359 [00:01<00:00, 25519.01it/s]\n"
     ]
    }
   ],
   "source": [
    "all_tokens = token_list_lemm\n",
    "all_dictionary = get_dictionary(all_tokens)\n",
    "all_corpus = get_bow_corpus(all_dictionary, all_tokens)\n",
    "lda_topic_model = gensim.models.LdaMulticore(tqdm(all_corpus), num_topics=4, id2word=all_dictionary, passes=10, alpha=0.1)"
   ]
  },
  {
   "cell_type": "code",
   "execution_count": 13,
   "id": "36fc08c1",
   "metadata": {},
   "outputs": [
    {
     "name": "stdout",
     "output_type": "stream",
     "text": [
      "[(0,\n",
      "  '0.070*\"کار\" + 0.021*\"خونه\" + 0.012*\"شرکت\" + 0.012*\"ریموت\" + 0.011*\"میشه\" + '\n",
      "  '0.010*\"کاشت#کار\" + 0.009*\"دورکار\" + 0.007*\"کرونا\" + 0.006*\"گرفت#گیر\" + '\n",
      "  '0.006*\"زد#زن\"'),\n",
      " (1,\n",
      "  '0.091*\"کار\" + 0.066*\"چاپ\" + 0.066*\"منزل\" + 0.051*\"شغل\" + 0.046*\"خانگی\" + '\n",
      "  '0.031*\"خانه\" + 0.029*\"سیلک\" + 0.028*\"دستگاه\" + 0.023*\"زن\" + '\n",
      "  '0.019*\"پردرآمد\"'),\n",
      " (2,\n",
      "  '0.031*\"دورکار\" + 0.020*\"کار\" + 0.019*\"پروژه\" + 0.011*\"بازارکار\" + '\n",
      "  '0.011*\"شرکت\" + 0.011*\"برنامه\" + 0.010*\"استخدام\" + 0.009*\"همکار\" + '\n",
      "  '0.009*\"انجام\" + 0.009*\"صورت\"'),\n",
      " (3,\n",
      "  '0.024*\"کرونا\" + 0.015*\"کار\" + 0.014*\"کارمند\" + 0.014*\"تهران\" + 0.011*\"شرکت\" '\n",
      "  '+ 0.010*\"دورکار\" + 0.009*\"حضور\" + 0.009*\"دولت\" + 0.008*\"تعطیل\" + '\n",
      "  '0.008*\"شرایط\"')]\n"
     ]
    }
   ],
   "source": [
    "pprint(lda_topic_model.print_topics())\n",
    "docs_lda = lda_topic_model[all_corpus]"
   ]
  },
  {
   "cell_type": "code",
   "execution_count": 14,
   "id": "5e0fb4e7",
   "metadata": {},
   "outputs": [
    {
     "data": {
      "text/plain": [
       "0.549433686919246"
      ]
     },
     "execution_count": 14,
     "metadata": {},
     "output_type": "execute_result"
    }
   ],
   "source": [
    "coherence_model_lda = CoherenceModel(model=lda_topic_model, texts=all_tokens, dictionary=all_dictionary, coherence='c_v')\n",
    "coherence_value = coherence_model_lda.get_coherence()\n",
    "coherence_value"
   ]
  },
  {
   "cell_type": "markdown",
   "id": "38663bc3",
   "metadata": {},
   "source": [
    "## TF-IDF"
   ]
  },
  {
   "cell_type": "code",
   "execution_count": 15,
   "id": "4dce8a90",
   "metadata": {},
   "outputs": [],
   "source": [
    "def get_tf_idf_corpus(bow_corpus):\n",
    "    tfidf = models.TfidfModel(bow_corpus)\n",
    "    return tfidf[bow_corpus]"
   ]
  },
  {
   "cell_type": "markdown",
   "id": "25dfec65",
   "metadata": {},
   "source": [
    "### N-Lem"
   ]
  },
  {
   "cell_type": "code",
   "execution_count": 16,
   "id": "1fc53b6a",
   "metadata": {},
   "outputs": [
    {
     "name": "stderr",
     "output_type": "stream",
     "text": [
      "100%|███████████████████████████████████████████████████████████████████████████| 45359/45359 [00:04<00:00, 9748.81it/s]\n"
     ]
    }
   ],
   "source": [
    "all_tokens = token_list\n",
    "all_dictionary = get_dictionary(all_tokens)\n",
    "bow_corpus = get_bow_corpus(all_dictionary, all_tokens)\n",
    "corpus_tf_idf = get_tf_idf_corpus(bow_corpus)\n",
    "lda_topic_model = gensim.models.LdaMulticore(tqdm(corpus_tf_idf), num_topics=4, id2word=all_dictionary, passes=10, alpha=0.1)"
   ]
  },
  {
   "cell_type": "code",
   "execution_count": 17,
   "id": "88678bcb",
   "metadata": {},
   "outputs": [
    {
     "name": "stdout",
     "output_type": "stream",
     "text": [
      "[(0,\n",
      "  '0.012*\"کار\" + 0.012*\"استخدام\" + 0.010*\"پروژه\" + 0.009*\"بازارکار\" + '\n",
      "  '0.008*\"منزل\" + 0.008*\"صورت\" + 0.007*\"همکاری\" + 0.007*\"دورکار\" + '\n",
      "  '0.006*\"برنامه\" + 0.006*\"ریموت\"'),\n",
      " (1,\n",
      "  '0.010*\"خونه\" + 0.010*\"کار\" + 0.008*\"دورکار\" + 0.007*\"😂\" + 0.005*\"خوبه\" + '\n",
      "  '0.005*\"کرونا\" + 0.004*\"میشه\" + 0.004*\"شرکت\" + 0.004*\"ریموت\" + '\n",
      "  '0.004*\"میکنه\"'),\n",
      " (2,\n",
      "  '0.014*\"دورکار\" + 0.011*\"کار\" + 0.008*\"خونه\" + 0.007*\"شرکت\" + 0.006*\"میشه\" + '\n",
      "  '0.005*\"ریموت\" + 0.005*\"حضوری\" + 0.004*\"😁\" + 0.004*\"کاری\" + 0.004*\"صبح\"'),\n",
      " (3,\n",
      "  '0.017*\"چاپ\" + 0.016*\"منزل\" + 0.014*\"کار\" + 0.012*\"خانگی\" + 0.011*\"شغل\" + '\n",
      "  '0.009*\"خانه\" + 0.009*\"دستگاه\" + 0.008*\"کرونا\" + 0.008*\"سیلک\" + '\n",
      "  '0.007*\"کارمندان\"')]\n"
     ]
    }
   ],
   "source": [
    "pprint(lda_topic_model.print_topics())\n",
    "docs_lda = lda_topic_model[corpus_tf_idf]"
   ]
  },
  {
   "cell_type": "code",
   "execution_count": 18,
   "id": "dffd155e",
   "metadata": {},
   "outputs": [
    {
     "data": {
      "text/plain": [
       "0.37780787428720003"
      ]
     },
     "execution_count": 18,
     "metadata": {},
     "output_type": "execute_result"
    }
   ],
   "source": [
    "coherence_model_lda = CoherenceModel(model=lda_topic_model, texts=all_tokens, dictionary=all_dictionary, coherence='c_v')\n",
    "coherence_value = coherence_model_lda.get_coherence()\n",
    "coherence_value"
   ]
  },
  {
   "cell_type": "markdown",
   "id": "bc0c5efe",
   "metadata": {},
   "source": [
    "### Lem"
   ]
  },
  {
   "cell_type": "code",
   "execution_count": 19,
   "id": "d503f33a",
   "metadata": {},
   "outputs": [
    {
     "name": "stderr",
     "output_type": "stream",
     "text": [
      "100%|██████████████████████████████████████████████████████████████████████████| 45359/45359 [00:04<00:00, 10205.47it/s]\n"
     ]
    }
   ],
   "source": [
    "all_tokens = token_list_lemm\n",
    "all_dictionary = get_dictionary(all_tokens)\n",
    "bow_corpus = get_bow_corpus(all_dictionary, all_tokens)\n",
    "corpus_tf_idf = get_tf_idf_corpus(bow_corpus)\n",
    "lda_topic_model = gensim.models.LdaMulticore(tqdm(corpus_tf_idf), num_topics=4, id2word=all_dictionary, passes=10, alpha=0.1)"
   ]
  },
  {
   "cell_type": "code",
   "execution_count": 20,
   "id": "b8017bc9",
   "metadata": {},
   "outputs": [
    {
     "name": "stdout",
     "output_type": "stream",
     "text": [
      "[(0,\n",
      "  '0.025*\"منزل\" + 0.022*\"کار\" + 0.019*\"چاپ\" + 0.014*\"شغل\" + 0.014*\"استخدام\" + '\n",
      "  '0.013*\"خانگی\" + 0.009*\"دستگاه\" + 0.009*\"سیلک\" + 0.008*\"صورت\" + '\n",
      "  '0.007*\"خانه\"'),\n",
      " (1,\n",
      "  '0.010*\"کرونا\" + 0.008*\"کارمند\" + 0.007*\"تهران\" + 0.006*\"کار\" + 0.006*\"دولت\" '\n",
      "  '+ 0.005*\"کارکن\" + 0.005*\"شرکت\" + 0.005*\"پروژه\" + 0.005*\"خانه\" + '\n",
      "  '0.005*\"\\u2063\"'),\n",
      " (2,\n",
      "  '0.012*\"خونه\" + 0.011*\"کار\" + 0.008*\"دورکار\" + 0.006*\"😂\" + 0.006*\"شرکت\" + '\n",
      "  '0.006*\"کاشت#کار\" + 0.005*\"میشه\" + 0.005*\"صبح\" + 0.004*\"مرد#میر\" + '\n",
      "  '0.004*\"سرکار\"'),\n",
      " (3,\n",
      "  '0.015*\"دورکار\" + 0.010*\"کار\" + 0.007*\"خونه\" + 0.007*\"شرکت\" + 0.006*\"میشه\" + '\n",
      "  '0.005*\"ریموت\" + 0.005*\"خوبه\" + 0.005*\"کرونا\" + 0.004*\"گرفت#گیر\" + '\n",
      "  '0.004*\"میکنن\"')]\n"
     ]
    }
   ],
   "source": [
    "pprint(lda_topic_model.print_topics())\n",
    "docs_lda = lda_topic_model[corpus_tf_idf]"
   ]
  },
  {
   "cell_type": "code",
   "execution_count": 21,
   "id": "a0416ee6",
   "metadata": {},
   "outputs": [
    {
     "data": {
      "text/plain": [
       "0.35218238891271725"
      ]
     },
     "execution_count": 21,
     "metadata": {},
     "output_type": "execute_result"
    }
   ],
   "source": [
    "coherence_model_lda = CoherenceModel(model=lda_topic_model, texts=all_tokens, dictionary=all_dictionary, coherence='c_v')\n",
    "coherence_value = coherence_model_lda.get_coherence()\n",
    "coherence_value"
   ]
  },
  {
   "cell_type": "code",
   "execution_count": null,
   "id": "0ab70b22",
   "metadata": {},
   "outputs": [],
   "source": []
  }
 ],
 "metadata": {
  "kernelspec": {
   "display_name": "v_env",
   "language": "python",
   "name": "v_env"
  },
  "language_info": {
   "codemirror_mode": {
    "name": "ipython",
    "version": 3
   },
   "file_extension": ".py",
   "mimetype": "text/x-python",
   "name": "python",
   "nbconvert_exporter": "python",
   "pygments_lexer": "ipython3",
   "version": "3.10.4"
  }
 },
 "nbformat": 4,
 "nbformat_minor": 5
}
